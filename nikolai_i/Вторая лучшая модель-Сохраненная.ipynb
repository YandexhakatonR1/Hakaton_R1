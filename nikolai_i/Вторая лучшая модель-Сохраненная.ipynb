{
 "cells": [
  {
   "cell_type": "markdown",
   "metadata": {
    "toc": true
   },
   "source": [
    "<h1>Table of Contents<span class=\"tocSkip\"></span></h1>\n",
    "<div class=\"toc\"><ul class=\"toc-item\"></ul></div>"
   ]
  },
  {
   "cell_type": "code",
   "execution_count": null,
   "metadata": {
    "_cell_guid": "b1076dfc-b9ad-4769-8c92-a6c4dae69d19",
    "_uuid": "8f2839f25d086af736a60e9eeb907d3b93b6e0e5"
   },
   "outputs": [],
   "source": [
    "# This Python 3 environment comes with many helpful analytics libraries installed\n",
    "# It is defined by the kaggle/python Docker image: https://github.com/kaggle/docker-python\n",
    "# For example, here's several helpful packages to load\n",
    "\n",
    "import numpy as np # linear algebra\n",
    "import pandas as pd # data processing, CSV file I/O (e.g. pd.read_csv)\n",
    "\n",
    "# Input data files are available in the read-only \"../input/\" directory\n",
    "# For example, running this (by clicking run or pressing Shift+Enter) will list all files under the input directory\n",
    "\n",
    "import os\n",
    "for dirname, _, filenames in os.walk('/kaggle/input'):\n",
    "    for filename in filenames:\n",
    "        print(os.path.join(dirname, filename))\n",
    "\n",
    "# You can write up to 20GB to the current directory (/kaggle/working/) that gets preserved as output when you create a version using \"Save & Run All\" \n",
    "# You can also write temporary files to /kaggle/temp/, but they won't be saved outside of the current session"
   ]
  },
  {
   "cell_type": "code",
   "execution_count": 1,
   "metadata": {
    "execution": {
     "iopub.execute_input": "2023-10-08T18:08:29.473672Z",
     "iopub.status.busy": "2023-10-08T18:08:29.473211Z",
     "iopub.status.idle": "2023-10-08T18:08:31.839587Z",
     "shell.execute_reply": "2023-10-08T18:08:31.838378Z",
     "shell.execute_reply.started": "2023-10-08T18:08:29.473640Z"
    }
   },
   "outputs": [],
   "source": [
    "# Импортируем библиотеки\n",
    "import json\n",
    "import pandas as pd\n",
    "import numpy as np\n",
    "from tqdm import tqdm\n",
    "from sklearn.model_selection import train_test_split\n",
    "from matplotlib import pyplot as plt\n",
    "import seaborn as sns\n",
    "from sklearn.utils import shuffle\n",
    "\n",
    "RANDOM_STATE = 180723\n",
    "from sklearn.model_selection import train_test_split\n",
    "from sklearn.linear_model import LogisticRegression\n",
    "from sklearn.ensemble import RandomForestClassifier\n",
    "from catboost import CatBoostClassifier\n",
    "from sklearn.preprocessing import OneHotEncoder\n",
    "from sklearn.preprocessing import OrdinalEncoder\n",
    "from sklearn.preprocessing import StandardScaler\n",
    "from sklearn.pipeline import Pipeline\n",
    "from sklearn.model_selection import GridSearchCV\n",
    "from sklearn.metrics import accuracy_score, precision_score,\\\n",
    "recall_score, roc_curve, RocCurveDisplay, f1_score, roc_auc_score, r2_score, classification_report\n",
    "from sklearn.metrics import confusion_matrix, ConfusionMatrixDisplay\n",
    "\n",
    "# импорт библиотек Nikolay K\n",
    "from lightgbm import LGBMClassifier\n",
    "from sklearn.model_selection import (\n",
    "    train_test_split,\n",
    "    GridSearchCV,\n",
    "    cross_val_score\n",
    ")"
   ]
  },
  {
   "cell_type": "code",
   "execution_count": null,
   "metadata": {},
   "outputs": [],
   "source": [
    "pip install fastparquet"
   ]
  },
  {
   "cell_type": "code",
   "execution_count": null,
   "metadata": {},
   "outputs": [],
   "source": [
    "pip install shap"
   ]
  },
  {
   "cell_type": "code",
   "execution_count": 6,
   "metadata": {
    "execution": {
     "iopub.execute_input": "2023-10-08T18:08:32.166241Z",
     "iopub.status.busy": "2023-10-08T18:08:32.165446Z",
     "iopub.status.idle": "2023-10-08T18:08:32.176002Z",
     "shell.execute_reply": "2023-10-08T18:08:32.174907Z",
     "shell.execute_reply.started": "2023-10-08T18:08:32.166192Z"
    }
   },
   "outputs": [],
   "source": [
    "# Make corr function\n",
    "def corrFilter(x: pd.DataFrame, bound: float):\n",
    "    xCorr = x.corr()\n",
    "    xFiltered = xCorr[((xCorr >= bound) | (xCorr <= -bound)) & (xCorr !=1.000)]\n",
    "    xFlattened = xFiltered.unstack().sort_values().drop_duplicates()\n",
    "    return xFlattened\n",
    "\n",
    "# Dooing downsample function\n",
    "def downsample(features, target, fraction):\n",
    "    features_zeros = features[target == 0]\n",
    "    features_ones = features[target == 1]\n",
    "    target_zeros = target[target == 0]\n",
    "    target_ones = target[target == 1]\n",
    "\n",
    "    features_downsampled = pd.concat(\n",
    "        [features_zeros.sample(frac=fraction, random_state=12345)] + [features_ones])\n",
    "    target_downsampled = pd.concat(\n",
    "        [target_zeros.sample(frac=fraction, random_state=12345)] + [target_ones])\n",
    "    \n",
    "    features_downsampled, target_downsampled = shuffle(\n",
    "        features_downsampled, target_downsampled, random_state=12345)\n",
    "    \n",
    "    return features_downsampled, target_downsampled\n",
    "\n",
    "# Doing function for marking cat_features\n",
    "cat = ['ctg', 'flg','channel_name','src_id']\n",
    "def cat_columns(columns, cat):\n",
    "    cat_columns = []\n",
    "    for col in columns:\n",
    "        for c in cat:\n",
    "            if c in col:\n",
    "                cat_columns.append(col)\n",
    "    return cat_columns"
   ]
  },
  {
   "cell_type": "code",
   "execution_count": 92,
   "metadata": {},
   "outputs": [],
   "source": [
    "# Обработка выборки функциями upsample и downsample\n",
    "# Функция upsample, downsample\n",
    "def upsample(features, target, repeat):\n",
    "    features_zeros = features[target == 0]\n",
    "    features_ones = features[target == 1]\n",
    "    target_zeros = target[target == 0]\n",
    "    target_ones = target[target == 1]\n",
    "\n",
    "    features_upsampled = pd.concat([features_zeros] + [features_ones] * repeat)\n",
    "    target_upsampled = pd.concat([target_zeros] + [target_ones] * repeat)\n",
    "    \n",
    "    features_upsampled, target_upsampled = shuffle(\n",
    "        features_upsampled, target_upsampled, random_state=12345)\n",
    "    \n",
    "    return features_upsampled, target_upsampled\n",
    "def downsample(features, target, fraction):\n",
    "    features_zeros = features[target == 0]\n",
    "    features_ones = features[target == 1]\n",
    "    target_zeros = target[target == 0]\n",
    "    target_ones = target[target == 1]\n",
    "\n",
    "    features_downsampled = pd.concat(\n",
    "        [features_zeros.sample(frac=fraction, random_state=12345)] + [features_ones])\n",
    "    target_downsampled = pd.concat(\n",
    "        [target_zeros.sample(frac=fraction, random_state=12345)] + [target_ones])\n",
    "    \n",
    "    features_downsampled, target_downsampled = shuffle(\n",
    "        features_downsampled, target_downsampled, random_state=12345)\n",
    "    \n",
    "    return features_downsampled, target_downsampled"
   ]
  },
  {
   "cell_type": "code",
   "execution_count": 7,
   "metadata": {
    "execution": {
     "iopub.execute_input": "2023-10-08T18:08:33.039735Z",
     "iopub.status.busy": "2023-10-08T18:08:33.038990Z",
     "iopub.status.idle": "2023-10-08T18:08:33.055289Z",
     "shell.execute_reply": "2023-10-08T18:08:33.054391Z",
     "shell.execute_reply.started": "2023-10-08T18:08:33.039698Z"
    }
   },
   "outputs": [
    {
     "name": "stdout",
     "output_type": "stream",
     "text": [
      "{'markers_0_1_cnt': 'numeric', 'markers_1_1_cnt': 'numeric', 'markers_2_1_cnt': 'numeric', 'markers_3_1_cnt': 'numeric', 'markers_4_1_cnt': 'numeric', 'markers_5_1_cnt': 'numeric', 'markers_6_1_cnt': 'numeric', 'markers_7_1_cnt': 'numeric', 'markers_8_1_cnt': 'numeric', 'markers_9_1_cnt': 'numeric', 'markers_10_1_cnt': 'numeric', 'markers_11_1_cnt': 'numeric', 'markers_12_1_cnt': 'numeric', 'markers_13_1_cnt': 'numeric', 'markers_14_1_cnt': 'numeric', 'markers_15_1_cnt': 'numeric', 'markers_16_1_cnt': 'numeric', 'markers_17_1_cnt': 'numeric', 'markers_18_1_cnt': 'numeric', 'markers_19_1_cnt': 'numeric', 'markers_20_1_cnt': 'numeric', 'markers_21_1_cnt': 'numeric', 'markers_22_1_cnt': 'numeric', 'markers_23_1_cnt': 'numeric', 'markers_24_1_cnt': 'numeric', 'markers_25_1_cnt': 'numeric', 'markers_26_1_cnt': 'numeric', 'markers_27_1_cnt': 'numeric', 'markers_28_1_cnt': 'numeric', 'markers_29_1_cnt': 'numeric', 'markers_30_1_cnt': 'numeric', 'markers_31_1_cnt': 'numeric', 'markers_32_1_cnt': 'numeric', 'markers_33_1_cnt': 'numeric', 'markers_34_1_cnt': 'numeric', 'markers_35_1_cnt': 'numeric', 'markers_36_1_cnt': 'numeric', 'markers_37_1_cnt': 'numeric', 'markers_38_1_cnt': 'numeric', 'markers_39_1_cnt': 'numeric', 'markers_40_1_cnt': 'numeric', 'markers_41_1_cnt': 'numeric', 'markers_42_1_cnt': 'numeric', 'markers_43_1_cnt': 'numeric', 'markers_44_1_cnt': 'numeric', 'markers_45_1_cnt': 'numeric', 'markers_46_1_cnt': 'numeric', 'markers_47_1_cnt': 'numeric', 'markers_48_1_cnt': 'numeric', 'markers_49_1_cnt': 'numeric', 'markers_50_1_cnt': 'numeric', 'markers_51_1_cnt': 'numeric', 'markers_52_1_cnt': 'numeric', 'markers_53_1_cnt': 'numeric', 'markers_54_1_cnt': 'numeric', 'markers_55_1_cnt': 'numeric', 'markers_56_1_cnt': 'numeric', 'markers_57_1_cnt': 'numeric', 'markers_58_1_cnt': 'numeric', 'markers_59_1_cnt': 'numeric', 'markers_60_1_cnt': 'numeric', 'markers_61_1_cnt': 'numeric', 'markers_62_1_cnt': 'numeric', 'markers_63_1_cnt': 'numeric', 'markers_64_1_cnt': 'numeric', 'markers_65_1_cnt': 'numeric', 'markers_66_1_cnt': 'numeric', 'markers_67_1_cnt': 'numeric', 'markers_68_1_cnt': 'numeric', 'markers_69_1_cnt': 'numeric', 'markers_70_1_cnt': 'numeric', 'markers_71_1_cnt': 'numeric', 'markers_72_1_cnt': 'numeric', 'markers_73_1_cnt': 'numeric', 'markers_74_1_cnt': 'numeric', 'markers_75_1_cnt': 'numeric', 'markers_76_1_cnt': 'numeric', 'markers_77_1_cnt': 'numeric', 'markers_78_1_cnt': 'numeric', 'markers_79_1_cnt': 'numeric', 'markers_80_1_cnt': 'numeric', 'markers_81_1_cnt': 'numeric', 'markers_82_1_cnt': 'numeric', 'markers_83_1_cnt': 'numeric', 'markers_84_1_cnt': 'numeric', 'markers_85_1_cnt': 'numeric', 'markers_86_1_cnt': 'numeric', 'markers_87_1_cnt': 'numeric', 'markers_88_1_cnt': 'numeric', 'markers_89_1_cnt': 'numeric', 'markers_90_1_cnt': 'numeric', 'markers_91_1_cnt': 'numeric', 'markers_92_1_cnt': 'numeric', 'markers_93_1_cnt': 'numeric', 'markers_94_1_cnt': 'numeric', 'markers_95_1_cnt': 'numeric', 'markers_96_1_cnt': 'numeric', 'markers_97_1_cnt': 'numeric', 'markers_98_1_cnt': 'numeric', 'markers_99_1_cnt': 'numeric', 'markers_100_1_cnt': 'numeric', 'markers_101_1_cnt': 'numeric', 'markers_102_1_cnt': 'numeric', 'markers_103_1_cnt': 'numeric', 'markers_104_1_cnt': 'numeric', 'markers_105_1_cnt': 'numeric', 'markers_106_1_cnt': 'numeric', 'markers_107_1_cnt': 'numeric', 'markers_108_1_cnt': 'numeric', 'markers_109_1_cnt': 'numeric', 'markers_110_1_cnt': 'numeric', 'markers_111_1_cnt': 'numeric', 'markers_112_1_cnt': 'numeric', 'markers_113_1_cnt': 'numeric', 'markers_114_1_cnt': 'numeric', 'markers_115_1_cnt': 'numeric', 'markers_116_1_cnt': 'numeric', 'markers_117_1_cnt': 'numeric', 'markers_118_1_cnt': 'numeric', 'markers_119_1_cnt': 'numeric', 'markers_120_1_cnt': 'numeric', 'markers_121_1_cnt': 'numeric', 'markers_122_1_cnt': 'numeric', 'markers_123_1_cnt': 'numeric', 'markers_124_1_cnt': 'numeric', 'markers_125_1_cnt': 'numeric', 'markers_126_1_cnt': 'numeric', 'markers_128_1_cnt': 'numeric', 'markers_129_1_cnt': 'numeric', 'markers_131_1_cnt': 'numeric', 'markers_132_1_cnt': 'numeric', 'markers_133_1_cnt': 'numeric', 'markers_135_1_cnt': 'numeric', 'markers_136_1_cnt': 'numeric', 'markers_137_1_cnt': 'numeric', 'markers_138_1_cnt': 'numeric', 'markers_139_1_cnt': 'numeric', 'markers_140_1_cnt': 'numeric', 'markers_141_1_cnt': 'numeric', 'markers_142_1_cnt': 'numeric', 'markers_143_1_cnt': 'numeric', 'markers_145_1_cnt': 'numeric', 'markers_146_1_cnt': 'numeric', 'markers_147_1_cnt': 'numeric', 'markers_148_1_cnt': 'numeric', 'markers_149_1_cnt': 'numeric', 'markers_150_1_cnt': 'numeric', 'markers_151_1_cnt': 'numeric', 'markers_154_1_cnt': 'numeric', 'markers_155_1_cnt': 'numeric', 'markers_156_1_cnt': 'numeric', 'markers_157_1_cnt': 'numeric', 'markers_158_1_cnt': 'numeric', 'markers_159_1_cnt': 'numeric', 'markers_160_1_cnt': 'numeric', 'markers_161_1_cnt': 'numeric', 'markers_162_1_cnt': 'numeric', 'markers_163_1_cnt': 'numeric', 'markers_164_1_cnt': 'numeric', 'markers_165_1_cnt': 'numeric', 'markers_166_1_cnt': 'numeric', 'markers_167_1_cnt': 'numeric', 'markers_168_1_cnt': 'numeric', 'markers_169_1_cnt': 'numeric', 'markers_170_1_cnt': 'numeric', 'markers_171_1_cnt': 'numeric', 'markers_172_1_cnt': 'numeric', 'markers_173_1_cnt': 'numeric', 'markers_174_1_cnt': 'numeric', 'markers_175_1_cnt': 'numeric', 'markers_176_1_cnt': 'numeric', 'markers_177_1_cnt': 'numeric', 'markers_178_1_cnt': 'numeric', 'markers_179_1_cnt': 'numeric', 'markers_180_1_cnt': 'numeric', 'markers_181_1_cnt': 'numeric', 'markers_182_1_cnt': 'numeric', 'markers_183_1_cnt': 'numeric', 'markers_184_1_cnt': 'numeric', 'markers_185_1_cnt': 'numeric', 'markers_186_1_cnt': 'numeric', 'markers_187_1_cnt': 'numeric', 'markers_188_1_cnt': 'numeric', 'markers_189_1_cnt': 'numeric', 'markers_190_1_cnt': 'numeric', 'markers_191_1_cnt': 'numeric', 'markers_192_1_cnt': 'numeric', 'markers_193_1_cnt': 'numeric', 'markers_194_1_cnt': 'numeric', 'markers_195_1_cnt': 'numeric', 'markers_196_1_cnt': 'numeric', 'markers_198_1_cnt': 'numeric', 'markers_199_1_cnt': 'numeric', 'markers_201_1_cnt': 'numeric', 'markers_202_1_cnt': 'numeric', 'markers_203_1_cnt': 'numeric', 'markers_204_1_cnt': 'numeric', 'markers_205_1_cnt': 'numeric', 'markers_206_1_cnt': 'numeric', 'markers_207_1_cnt': 'numeric', 'markers_208_1_cnt': 'numeric', 'markers_209_1_cnt': 'numeric', 'markers_210_1_cnt': 'numeric', 'markers_211_1_cnt': 'numeric', 'markers_212_1_cnt': 'numeric', 'markers_213_1_cnt': 'numeric', 'markers_215_1_cnt': 'numeric', 'markers_216_1_cnt': 'numeric', 'markers_217_1_cnt': 'numeric', 'markers_218_1_cnt': 'numeric', 'markers_219_1_cnt': 'numeric', 'markers_220_1_cnt': 'numeric', 'markers_221_1_cnt': 'numeric', 'markers_222_1_cnt': 'numeric', 'markers_223_1_cnt': 'numeric', 'markers_224_1_cnt': 'numeric', 'markers_225_1_cnt': 'numeric', 'markers_226_1_cnt': 'numeric', 'markers_227_1_cnt': 'numeric', 'markers_228_1_cnt': 'numeric', 'markers_229_1_cnt': 'numeric', 'markers_230_1_cnt': 'numeric', 'markers_231_1_cnt': 'numeric', 'markers_232_1_cnt': 'numeric', 'markers_233_1_cnt': 'numeric', 'markers_234_1_cnt': 'numeric', 'markers_235_1_cnt': 'numeric', 'markers_236_1_cnt': 'numeric', 'markers_237_1_cnt': 'numeric', 'markers_238_1_cnt': 'numeric', 'markers_239_1_cnt': 'numeric', 'markers_240_1_cnt': 'numeric', 'markers_241_1_cnt': 'numeric', 'markers_242_1_cnt': 'numeric', 'markers_243_1_cnt': 'numeric', 'markers_244_1_cnt': 'numeric', 'markers_246_1_cnt': 'numeric', 'markers_247_1_cnt': 'numeric', 'markers_248_1_cnt': 'numeric', 'markers_249_1_cnt': 'numeric', 'markers_251_1_cnt': 'numeric', 'markers_252_1_cnt': 'numeric', 'markers_253_1_cnt': 'numeric', 'markers_254_1_cnt': 'numeric', 'markers_255_1_cnt': 'numeric', 'markers_256_1_cnt': 'numeric', 'markers_257_1_cnt': 'numeric', 'markers_258_1_cnt': 'numeric', 'markers_259_1_cnt': 'numeric', 'markers_260_1_cnt': 'numeric', 'markers_261_1_cnt': 'numeric', 'markers_262_1_cnt': 'numeric', 'markers_263_1_cnt': 'numeric', 'markers_264_1_cnt': 'numeric', 'markers_265_1_cnt': 'numeric', 'markers_266_1_cnt': 'numeric', 'markers_267_1_cnt': 'numeric', 'markers_268_1_cnt': 'numeric', 'markers_269_1_cnt': 'numeric', 'markers_270_1_cnt': 'numeric', 'markers_271_1_cnt': 'numeric', 'markers_272_1_cnt': 'numeric', 'markers_273_1_cnt': 'numeric', 'markers_274_1_cnt': 'numeric', 'markers_275_1_cnt': 'numeric', 'markers_276_1_cnt': 'numeric', 'markers_277_1_cnt': 'numeric', 'markers_279_1_cnt': 'numeric', 'markers_280_1_cnt': 'numeric', 'markers_281_1_cnt': 'numeric', 'markers_282_1_cnt': 'numeric', 'markers_283_1_cnt': 'numeric', 'markers_284_1_cnt': 'numeric', 'markers_285_1_cnt': 'numeric', 'markers_286_1_cnt': 'numeric', 'markers_287_1_cnt': 'numeric', 'markers_288_1_cnt': 'numeric', 'markers_289_1_cnt': 'numeric', 'markers_290_1_cnt': 'numeric', 'markers_291_1_cnt': 'numeric', 'markers_292_1_cnt': 'numeric', 'markers_293_1_cnt': 'numeric', 'markers_294_1_cnt': 'numeric', 'markers_295_1_cnt': 'numeric', 'markers_296_1_cnt': 'numeric', 'markers_297_1_cnt': 'numeric', 'markers_298_1_cnt': 'numeric', 'markers_299_1_cnt': 'numeric', 'markers_300_1_cnt': 'numeric', 'markers_301_1_cnt': 'numeric', 'markers_302_1_cnt': 'numeric', 'markers_303_1_cnt': 'numeric', 'markers_304_1_cnt': 'numeric', 'markers_305_1_cnt': 'numeric', 'markers_306_1_cnt': 'numeric', 'markers_307_1_cnt': 'numeric', 'markers_308_1_cnt': 'numeric', 'markers_309_1_cnt': 'numeric', 'markers_310_1_cnt': 'numeric', 'markers_312_1_cnt': 'numeric', 'markers_313_1_cnt': 'numeric', 'markers_314_1_cnt': 'numeric', 'markers_315_1_cnt': 'numeric', 'markers_316_1_cnt': 'numeric', 'markers_317_1_cnt': 'numeric', 'markers_318_1_cnt': 'numeric', 'markers_319_1_cnt': 'numeric', 'markers_320_1_cnt': 'numeric', 'markers_321_1_cnt': 'numeric', 'markers_322_1_cnt': 'numeric', 'markers_323_1_cnt': 'numeric', 'markers_324_1_cnt': 'numeric', 'markers_325_1_cnt': 'numeric', 'markers_326_1_cnt': 'numeric', 'markers_327_1_cnt': 'numeric', 'markers_328_1_cnt': 'numeric', 'markers_329_1_cnt': 'numeric', 'markers_330_1_cnt': 'numeric', 'markers_331_1_cnt': 'numeric', 'markers_332_1_cnt': 'numeric', 'markers_333_1_cnt': 'numeric', 'markers_334_1_cnt': 'numeric', 'markers_335_1_cnt': 'numeric', 'markers_336_1_cnt': 'numeric', 'markers_337_1_cnt': 'numeric', 'markers_338_1_cnt': 'numeric', 'markers_339_1_cnt': 'numeric', 'markers_340_1_cnt': 'numeric', 'markers_341_1_cnt': 'numeric', 'markers_342_1_cnt': 'numeric', 'markers_343_1_cnt': 'numeric', 'markers_344_1_cnt': 'numeric', 'markers_345_1_cnt': 'numeric', 'markers_346_1_cnt': 'numeric', 'markers_347_1_cnt': 'numeric', 'markers_348_1_cnt': 'numeric', 'markers_349_1_cnt': 'numeric', 'markers_350_1_cnt': 'numeric', 'markers_351_1_cnt': 'numeric', 'markers_352_1_cnt': 'numeric', 'markers_353_1_cnt': 'numeric', 'markers_354_1_cnt': 'numeric', 'markers_355_1_cnt': 'numeric', 'markers_356_1_cnt': 'numeric', 'markers_357_1_cnt': 'numeric', 'markers_358_1_cnt': 'numeric', 'markers_359_1_cnt': 'numeric', 'markers_360_1_cnt': 'numeric', 'markers_361_1_cnt': 'numeric', 'markers_362_1_cnt': 'numeric', 'markers_363_1_cnt': 'numeric', 'markers_364_1_cnt': 'numeric', 'markers_365_1_cnt': 'numeric', 'markers_366_1_cnt': 'numeric', 'markers_367_1_cnt': 'numeric', 'markers_368_1_cnt': 'numeric', 'markers_369_1_cnt': 'numeric', 'markers_370_1_cnt': 'numeric', 'markers_371_1_cnt': 'numeric', 'markers_372_1_cnt': 'numeric', 'markers_373_1_cnt': 'numeric', 'markers_374_1_cnt': 'numeric', 'markers_375_1_cnt': 'numeric', 'markers_376_1_cnt': 'numeric', 'markers_377_1_cnt': 'numeric', 'markers_378_1_cnt': 'numeric', 'markers_379_1_cnt': 'numeric', 'markers_380_1_cnt': 'numeric', 'markers_381_1_cnt': 'numeric', 'markers_382_1_cnt': 'numeric', 'markers_383_1_cnt': 'numeric', 'markers_384_1_cnt': 'numeric', 'markers_385_1_cnt': 'numeric', 'markers_386_1_cnt': 'numeric', 'markers_387_1_cnt': 'numeric', 'markers_388_1_cnt': 'numeric', 'markers_389_1_cnt': 'numeric', 'markers_390_1_cnt': 'numeric', 'markers_391_1_cnt': 'numeric', 'markers_392_1_cnt': 'numeric', 'markers_393_1_cnt': 'numeric', 'markers_394_1_cnt': 'numeric', 'markers_395_1_cnt': 'numeric', 'markers_396_1_cnt': 'numeric', 'markers_397_1_cnt': 'numeric', 'markers_398_1_cnt': 'numeric', 'markers_399_1_cnt': 'numeric', 'markers_400_1_cnt': 'numeric', 'markers_401_1_cnt': 'numeric', 'markers_402_1_cnt': 'numeric', 'markers_403_1_cnt': 'numeric', 'markers_404_1_cnt': 'numeric', 'markers_405_1_cnt': 'numeric', 'markers_406_1_cnt': 'numeric', 'markers_407_1_cnt': 'numeric', 'markers_408_1_cnt': 'numeric', 'markers_409_1_cnt': 'numeric', 'markers_410_1_cnt': 'numeric', 'markers_411_1_cnt': 'numeric', 'markers_412_1_cnt': 'numeric', 'markers_413_1_cnt': 'numeric', 'markers_414_1_cnt': 'numeric', 'markers_415_1_cnt': 'numeric', 'markers_416_1_cnt': 'numeric', 'markers_417_1_cnt': 'numeric', 'markers_418_1_cnt': 'numeric', 'markers_419_1_cnt': 'numeric', 'markers_420_1_cnt': 'numeric', 'markers_421_1_cnt': 'numeric', 'markers_422_1_cnt': 'numeric', 'markers_423_1_cnt': 'numeric', 'markers_424_1_cnt': 'numeric', 'markers_425_1_cnt': 'numeric', 'markers_426_1_cnt': 'numeric', 'markers_427_1_cnt': 'numeric', 'markers_428_1_cnt': 'numeric', 'markers_429_1_cnt': 'numeric', 'markers_430_1_cnt': 'numeric', 'markers_431_1_cnt': 'numeric', 'markers_432_1_cnt': 'numeric', 'markers_433_1_cnt': 'numeric', 'markers_434_1_cnt': 'numeric', 'markers_435_1_cnt': 'numeric', 'markers_436_1_cnt': 'numeric', 'markers_437_1_cnt': 'numeric', 'markers_438_1_cnt': 'numeric', 'markers_439_1_cnt': 'numeric', 'markers_440_1_cnt': 'numeric', 'markers_441_1_cnt': 'numeric', 'markers_442_1_cnt': 'numeric', 'markers_443_1_cnt': 'numeric', 'markers_444_1_cnt': 'numeric', 'markers_445_1_cnt': 'numeric', 'markers_446_1_cnt': 'numeric', 'markers_447_1_cnt': 'numeric', 'markers_449_1_cnt': 'numeric', 'markers_450_1_cnt': 'numeric', 'markers_451_1_cnt': 'numeric', 'markers_452_1_cnt': 'numeric', 'markers_453_1_cnt': 'numeric', 'markers_454_1_cnt': 'numeric', 'markers_455_1_cnt': 'numeric', 'markers_456_1_cnt': 'numeric', 'markers_457_1_cnt': 'numeric', 'markers_458_1_cnt': 'numeric', 'markers_459_1_cnt': 'numeric', 'markers_460_1_cnt': 'numeric', 'markers_461_1_cnt': 'numeric', 'markers_462_1_cnt': 'numeric', 'markers_463_1_cnt': 'numeric', 'markers_465_1_cnt': 'numeric', 'markers_466_1_cnt': 'numeric', 'markers_467_1_cnt': 'numeric', 'markers_468_1_cnt': 'numeric', 'markers_469_1_cnt': 'numeric', 'markers_470_1_cnt': 'numeric', 'markers_471_1_cnt': 'numeric', 'markers_472_1_cnt': 'numeric', 'markers_473_1_cnt': 'numeric', 'markers_474_1_cnt': 'numeric', 'markers_475_1_cnt': 'numeric', 'markers_476_1_cnt': 'numeric', 'markers_477_1_cnt': 'numeric', 'markers_478_1_cnt': 'numeric', 'markers_479_1_cnt': 'numeric', 'markers_480_1_cnt': 'numeric', 'markers_481_1_cnt': 'numeric', 'markers_482_1_cnt': 'numeric', 'markers_483_1_cnt': 'numeric', 'markers_484_1_cnt': 'numeric', 'markers_485_1_cnt': 'numeric', 'markers_486_1_cnt': 'numeric', 'markers_487_1_cnt': 'numeric', 'markers_488_1_cnt': 'numeric', 'markers_489_1_cnt': 'numeric', 'markers_490_1_cnt': 'numeric', 'markers_491_1_cnt': 'numeric', 'markers_493_1_cnt': 'numeric', 'markers_494_1_cnt': 'numeric', 'markers_495_1_cnt': 'numeric', 'markers_496_1_cnt': 'numeric', 'markers_497_1_cnt': 'numeric', 'markers_498_1_cnt': 'numeric', 'markers_499_1_cnt': 'numeric', 'markers_500_1_cnt': 'numeric', 'markers_501_1_cnt': 'numeric', 'markers_502_1_cnt': 'numeric', 'markers_503_1_cnt': 'numeric', 'markers_504_1_cnt': 'numeric', 'markers_505_1_cnt': 'numeric', 'markers_506_1_cnt': 'numeric', 'markers_507_1_cnt': 'numeric', 'markers_508_1_cnt': 'numeric', 'markers_509_1_cnt': 'numeric', 'markers_510_1_cnt': 'numeric', 'markers_511_1_cnt': 'numeric', 'markers_512_1_cnt': 'numeric', 'markers_513_1_cnt': 'numeric', 'markers_514_1_cnt': 'numeric', 'markers_515_1_cnt': 'numeric', 'markers_516_1_cnt': 'numeric', 'markers_517_1_cnt': 'numeric', 'markers_518_1_cnt': 'numeric', 'markers_519_1_cnt': 'numeric', 'markers_520_1_cnt': 'numeric', 'markers_521_1_cnt': 'numeric', 'markers_522_1_cnt': 'numeric', 'markers_523_1_cnt': 'numeric', 'markers_524_1_cnt': 'numeric', 'markers_525_1_cnt': 'numeric', 'markers_526_1_cnt': 'numeric', 'markers_527_1_cnt': 'numeric', 'markers_528_1_cnt': 'numeric', 'markers_529_1_cnt': 'numeric', 'markers_530_1_cnt': 'numeric', 'markers_531_1_cnt': 'numeric', 'markers_532_1_cnt': 'numeric', 'markers_533_1_cnt': 'numeric', 'markers_534_1_cnt': 'numeric', 'markers_535_1_cnt': 'numeric', 'markers_536_1_cnt': 'numeric', 'markers_537_1_cnt': 'numeric', 'markers_538_1_cnt': 'numeric', 'markers_539_1_cnt': 'numeric', 'markers_540_1_cnt': 'numeric', 'markers_541_1_cnt': 'numeric', 'markers_542_1_cnt': 'numeric', 'markers_543_1_cnt': 'numeric', 'markers_544_1_cnt': 'numeric', 'markers_545_1_cnt': 'numeric', 'markers_546_1_cnt': 'numeric', 'markers_547_1_cnt': 'numeric', 'markers_548_1_cnt': 'numeric', 'markers_549_1_cnt': 'numeric', 'markers_550_1_cnt': 'numeric', 'markers_551_1_cnt': 'numeric', 'markers_552_1_cnt': 'numeric', 'markers_553_1_cnt': 'numeric', 'markers_554_1_cnt': 'numeric', 'markers_555_1_cnt': 'numeric', 'markers_556_1_cnt': 'numeric', 'markers_557_1_cnt': 'numeric', 'markers_558_1_cnt': 'numeric', 'markers_559_1_cnt': 'numeric', 'markers_560_1_cnt': 'numeric', 'markers_561_1_cnt': 'numeric', 'markers_562_1_cnt': 'numeric', 'markers_563_1_cnt': 'numeric', 'markers_564_1_cnt': 'numeric', 'markers_565_1_cnt': 'numeric', 'markers_566_1_cnt': 'numeric', 'markers_567_1_cnt': 'numeric', 'markers_568_1_cnt': 'numeric', 'markers_569_1_cnt': 'numeric', 'markers_570_1_cnt': 'numeric', 'markers_571_1_cnt': 'numeric', 'markers_572_1_cnt': 'numeric', 'markers_573_1_cnt': 'numeric', 'markers_574_1_cnt': 'numeric', 'markers_575_1_cnt': 'numeric', 'markers_576_1_cnt': 'numeric', 'markers_577_1_cnt': 'numeric', 'markers_578_1_cnt': 'numeric', 'markers_579_1_cnt': 'numeric', 'markers_580_1_cnt': 'numeric', 'markers_581_1_cnt': 'numeric', 'markers_582_1_cnt': 'numeric', 'markers_583_1_cnt': 'numeric', 'markers_584_1_cnt': 'numeric', 'markers_585_1_cnt': 'numeric', 'markers_586_1_cnt': 'numeric', 'markers_587_1_cnt': 'numeric', 'markers_588_1_cnt': 'numeric', 'markers_589_1_cnt': 'numeric', 'markers_590_1_cnt': 'numeric', 'markers_591_1_cnt': 'numeric', 'markers_592_1_cnt': 'numeric', 'markers_593_1_cnt': 'numeric', 'markers_594_1_cnt': 'numeric', 'markers_595_1_cnt': 'numeric', 'markers_596_1_cnt': 'numeric', 'markers_597_1_cnt': 'numeric', 'markers_598_1_cnt': 'numeric', 'markers_599_1_cnt': 'numeric', 'markers_600_1_cnt': 'numeric', 'markers_601_1_cnt': 'numeric', 'markers_602_1_cnt': 'numeric', 'markers_603_1_cnt': 'numeric', 'markers_604_1_cnt': 'numeric', 'markers_605_1_cnt': 'numeric', 'markers_606_1_cnt': 'numeric', 'markers_607_1_cnt': 'numeric', 'markers_608_1_cnt': 'numeric', 'markers_609_1_cnt': 'numeric', 'markers_610_1_cnt': 'numeric', 'markers_611_1_cnt': 'numeric', 'markers_612_1_cnt': 'numeric', 'markers_613_1_cnt': 'numeric', 'markers_614_1_cnt': 'numeric', 'markers_615_1_cnt': 'numeric', 'markers_616_1_cnt': 'numeric', 'markers_617_1_cnt': 'numeric', 'markers_618_1_cnt': 'numeric', 'markers_619_1_cnt': 'numeric', 'markers_620_1_cnt': 'numeric', 'markers_621_1_cnt': 'numeric', 'markers_622_1_cnt': 'numeric', 'markers_623_1_cnt': 'numeric', 'markers_624_1_cnt': 'numeric', 'markers_626_1_cnt': 'numeric', 'markers_628_1_cnt': 'numeric', 'markers_629_1_cnt': 'numeric', 'markers_630_1_cnt': 'numeric', 'markers_631_1_cnt': 'numeric', 'markers_632_1_cnt': 'numeric', 'markers_633_1_cnt': 'numeric', 'markers_634_1_cnt': 'numeric', 'markers_635_1_cnt': 'numeric', 'markers_636_1_cnt': 'numeric', 'markers_637_1_cnt': 'numeric', 'markers_638_1_cnt': 'numeric', 'markers_639_1_cnt': 'numeric', 'markers_640_1_cnt': 'numeric', 'markers_641_1_cnt': 'numeric', 'markers_642_1_cnt': 'numeric', 'markers_643_1_cnt': 'numeric', 'markers_644_1_cnt': 'numeric', 'markers_645_1_cnt': 'numeric', 'markers_646_1_cnt': 'numeric', 'markers_647_1_cnt': 'numeric', 'markers_648_1_cnt': 'numeric', 'markers_649_1_cnt': 'numeric', 'markers_650_1_cnt': 'numeric', 'markers_651_1_cnt': 'numeric', 'markers_652_1_cnt': 'numeric', 'markers_653_1_cnt': 'numeric', 'markers_654_1_cnt': 'numeric', 'markers_655_1_cnt': 'numeric', 'markers_656_1_cnt': 'numeric', 'markers_657_1_cnt': 'numeric', 'markers_658_1_cnt': 'numeric', 'markers_659_1_cnt': 'numeric', 'markers_660_1_cnt': 'numeric', 'markers_661_1_cnt': 'numeric', 'markers_662_1_cnt': 'numeric', 'markers_663_1_cnt': 'numeric', 'markers_664_1_cnt': 'numeric', 'markers_665_1_cnt': 'numeric', 'markers_666_1_cnt': 'numeric', 'markers_667_1_cnt': 'numeric', 'markers_668_1_cnt': 'numeric', 'markers_669_1_cnt': 'numeric', 'markers_670_1_cnt': 'numeric', 'markers_671_1_cnt': 'numeric', 'markers_672_1_cnt': 'numeric', 'markers_673_1_cnt': 'numeric', 'markers_674_1_cnt': 'numeric', 'markers_675_1_cnt': 'numeric', 'markers_677_1_cnt': 'numeric', 'markers_678_1_cnt': 'numeric', 'markers_679_1_cnt': 'numeric', 'markers_680_1_cnt': 'numeric', 'markers_681_1_cnt': 'numeric', 'markers_682_1_cnt': 'numeric', 'markers_683_1_cnt': 'numeric', 'markers_684_1_cnt': 'numeric', 'markers_686_1_cnt': 'numeric', 'markers_687_1_cnt': 'numeric', 'markers_688_1_cnt': 'numeric', 'markers_689_1_cnt': 'numeric', 'markers_690_1_cnt': 'numeric', 'markers_691_1_cnt': 'numeric', 'markers_692_1_cnt': 'numeric', 'markers_693_1_cnt': 'numeric', 'markers_696_1_cnt': 'numeric', 'markers_697_1_cnt': 'numeric', 'markers_698_1_cnt': 'numeric', 'markers_699_1_cnt': 'numeric', 'markers_700_1_cnt': 'numeric', 'markers_701_1_cnt': 'numeric', 'markers_702_1_cnt': 'numeric', 'markers_703_1_cnt': 'numeric', 'markers_704_1_cnt': 'numeric', 'markers_705_1_cnt': 'numeric', 'markers_706_1_cnt': 'numeric', 'markers_707_1_cnt': 'numeric', 'markers_708_1_cnt': 'numeric', 'markers_709_1_cnt': 'numeric', 'markers_710_1_cnt': 'numeric', 'markers_711_1_cnt': 'numeric', 'markers_712_1_cnt': 'numeric', 'markers_713_1_cnt': 'numeric', 'markers_714_1_cnt': 'numeric', 'markers_715_1_cnt': 'numeric', 'markers_716_1_cnt': 'numeric', 'markers_717_1_cnt': 'numeric', 'markers_718_1_cnt': 'numeric', 'markers_719_1_cnt': 'numeric', 'markers_720_1_cnt': 'numeric', 'markers_721_1_cnt': 'numeric', 'markers_722_1_cnt': 'numeric', 'markers_723_1_cnt': 'numeric', 'markers_724_1_cnt': 'numeric', 'markers_725_1_cnt': 'numeric', 'markers_726_1_cnt': 'numeric', 'markers_727_1_cnt': 'numeric', 'markers_728_1_cnt': 'numeric', 'markers_729_1_cnt': 'numeric', 'markers_730_1_cnt': 'numeric', 'markers_731_1_cnt': 'numeric', 'markers_732_1_cnt': 'numeric', 'markers_733_1_cnt': 'numeric', 'markers_734_1_cnt': 'numeric', 'markers_735_1_cnt': 'numeric', 'markers_736_1_cnt': 'numeric', 'markers_737_1_cnt': 'numeric', 'markers_738_1_cnt': 'numeric', 'markers_739_1_cnt': 'numeric', 'markers_740_1_cnt': 'numeric', 'markers_741_1_cnt': 'numeric', 'markers_742_1_cnt': 'numeric', 'markers_743_1_cnt': 'numeric', 'markers_744_1_cnt': 'numeric', 'markers_745_1_cnt': 'numeric', 'markers_746_1_cnt': 'numeric', 'markers_747_1_cnt': 'numeric', 'markers_748_1_cnt': 'numeric', 'markers_749_1_cnt': 'numeric', 'markers_750_1_cnt': 'numeric', 'markers_751_1_cnt': 'numeric', 'markers_752_1_cnt': 'numeric', 'markers_753_1_cnt': 'numeric', 'markers_754_1_cnt': 'numeric', 'markers_755_1_cnt': 'numeric', 'markers_756_1_cnt': 'numeric', 'markers_757_1_cnt': 'numeric', 'markers_758_1_cnt': 'numeric', 'markers_759_1_cnt': 'numeric', 'markers_760_1_cnt': 'numeric', 'markers_761_1_cnt': 'numeric', 'markers_762_1_cnt': 'numeric', 'markers_763_1_cnt': 'numeric', 'markers_764_1_cnt': 'numeric', 'markers_765_1_cnt': 'numeric', 'markers_766_1_cnt': 'numeric', 'markers_767_1_cnt': 'numeric', 'markers_768_1_cnt': 'numeric', 'markers_769_1_cnt': 'numeric', 'markers_770_1_cnt': 'numeric', 'markers_771_1_cnt': 'numeric', 'markers_772_1_cnt': 'numeric', 'markers_773_1_cnt': 'numeric', 'markers_774_1_cnt': 'numeric', 'markers_775_1_cnt': 'numeric', 'markers_776_1_cnt': 'numeric', 'markers_777_1_cnt': 'numeric', 'markers_778_1_cnt': 'numeric', 'markers_779_1_cnt': 'numeric', 'markers_780_1_cnt': 'numeric', 'markers_781_1_cnt': 'numeric', 'markers_782_1_cnt': 'numeric', 'markers_783_1_cnt': 'numeric', 'markers_784_1_cnt': 'numeric', 'markers_785_1_cnt': 'numeric', 'markers_786_1_cnt': 'numeric', 'markers_787_1_cnt': 'numeric', 'markers_788_1_cnt': 'numeric', 'markers_789_1_cnt': 'numeric', 'markers_790_1_cnt': 'numeric', 'markers_791_1_cnt': 'numeric', 'markers_792_1_cnt': 'numeric', 'markers_793_1_cnt': 'numeric', 'markers_794_1_cnt': 'numeric', 'markers_795_1_cnt': 'numeric', 'markers_796_1_cnt': 'numeric', 'markers_797_1_cnt': 'numeric', 'markers_798_1_cnt': 'numeric', 'markers_799_1_cnt': 'numeric', 'markers_800_1_cnt': 'numeric', 'markers_801_1_cnt': 'numeric', 'markers_802_1_cnt': 'numeric', 'markers_803_1_cnt': 'numeric', 'markers_804_1_cnt': 'numeric', 'markers_805_1_cnt': 'numeric', 'spas_symptoms_agr_0_1_std': 'numeric', 'spas_symptoms_agr_1_1_sum': 'numeric', 'spas_symptoms_agr_2_3_avg': 'numeric', 'spas_symptoms_agr_3_3_std': 'numeric', 'spas_symptoms_agr_4_3_sum': 'numeric', 'spas_symptoms_agr_5_6_avg': 'numeric', 'spas_symptoms_agr_6_6_std': 'numeric', 'spas_symptoms_agr_7_6_sum': 'numeric', 'spas_symptoms_agr_8_12_avg': 'numeric', 'spas_symptoms_agr_9_12_std': 'numeric', 'spas_symptoms_agr_10_12_sum': 'numeric', 'spas_symptoms_agr_11_1_avg': 'numeric', 'spas_symptoms_agr_12_1_std': 'numeric', 'spas_symptoms_agr_13_1_sum': 'numeric', 'spas_symptoms_agr_14_3_avg': 'numeric', 'spas_symptoms_agr_15_3_std': 'numeric', 'spas_symptoms_agr_16_3_sum': 'numeric', 'spas_symptoms_agr_17_6_avg': 'numeric', 'spas_symptoms_agr_18_6_std': 'numeric', 'spas_symptoms_agr_19_6_sum': 'numeric', 'materials_details_0_1_ctg': 'categorical_str', 'communication_availability_0_1_flg': 'categorical_int', 'payments_details_0_1_cnt': 'numeric', 'payments_details_1_3_cnt': 'numeric', 'payments_details_2_6_cnt': 'numeric', 'payments_details_3_1_cnt': 'numeric', 'payments_details_4_3_cnt': 'numeric', 'payments_details_5_6_cnt': 'numeric', 'payments_details_6_1_cnt': 'numeric', 'payments_details_7_3_cnt': 'numeric', 'payments_details_8_6_cnt': 'numeric', 'payments_details_9_1_cnt': 'numeric', 'payments_details_10_3_cnt': 'numeric', 'payments_details_11_6_cnt': 'numeric', 'payments_details_12_1_cnt': 'numeric', 'payments_details_13_3_cnt': 'numeric', 'payments_details_14_6_cnt': 'numeric', 'payments_details_15_1_cnt': 'numeric', 'payments_details_16_1d3_avg': 'numeric', 'payments_details_17_1d3_cnt': 'numeric', 'payments_details_18_1d3_sum': 'numeric', 'payments_details_19_1d6_avg': 'numeric', 'payments_details_20_1d6_cnt': 'numeric', 'payments_details_21_1d6_sum': 'numeric', 'payments_details_22_3_cnt': 'numeric', 'payments_details_23_3d6_avg': 'numeric', 'payments_details_24_3d6_cnt': 'numeric', 'payments_details_25_3d6_sum': 'numeric', 'payments_details_26_6_cnt': 'numeric', 'payments_details_27_1_sumpct': 'numeric', 'payments_details_28_3_sumpct': 'numeric', 'payments_details_29_6_sumpct': 'numeric', 'user_devices_0_1_cnt': 'numeric', 'communication_availability_1_1_ctg': 'categorical_int', 'user_devices_1_1_cnt': 'numeric', 'communication_availability_2_1_flg': 'categorical_int', 'materials_details_1_1_ctg': 'categorical_str', 'user_lifetime_0_1_ctg': 'categorical_str', 'user_lifetime_1_1_flg': 'categorical_int', 'materials_details_2_1_cnt': 'numeric', 'communication_availability_3_1_flg': 'categorical_int', 'materials_details_3_1_dt': 'numeric', 'materials_details_4_1_dt': 'numeric', 'materials_details_5_1_flg': 'categorical_int', 'materials_details_6_1_num': 'numeric', 'materials_details_7_1_flg': 'categorical_int', 'materials_details_8_1_flg': 'categorical_int', 'user_devices_2_1_cnt': 'numeric', 'arpu_0_1_sum': 'numeric', 'arpu_1_3_avg': 'numeric', 'arpu_2_6_avg': 'numeric', 'balance_details_0_1_num': 'numeric', 'charges_details_0_1_sum': 'numeric', 'charges_details_1_3_avg': 'numeric', 'charges_details_2_6_avg': 'numeric', 'charges_details_3_1_sum': 'numeric', 'charges_details_4_3_avg': 'numeric', 'charges_details_5_6_avg': 'numeric', 'charges_details_6_1_sum': 'numeric', 'charges_details_7_3_avg': 'numeric', 'charges_details_8_6_avg': 'numeric', 'charges_details_9_1_sum': 'numeric', 'charges_details_10_3_avg': 'numeric', 'charges_details_11_6_avg': 'numeric', 'tariff_plans_0_1_num': 'numeric', 'tariff_plans_1_1_num': 'numeric', 'charges_details_12_1_sum': 'numeric', 'charges_details_13_3_avg': 'numeric', 'charges_details_14_6_avg': 'numeric', 'tariff_plans_2_1_num': 'numeric', 'tariff_plans_3_1_num': 'numeric', 'charges_details_15_1_sum': 'numeric', 'charges_details_16_3_avg': 'numeric', 'charges_details_17_6_avg': 'numeric', 'tariff_plans_4_1_num': 'numeric', 'tariff_plans_5_1_num': 'numeric', 'charges_details_18_1_sum': 'numeric', 'charges_details_19_3_avg': 'numeric', 'charges_details_20_6_avg': 'numeric', 'tariff_plans_6_1_num': 'numeric', 'tariff_plans_7_1_num': 'numeric', 'charges_details_21_1_sum': 'numeric', 'charges_details_22_3_avg': 'numeric', 'charges_details_23_6_avg': 'numeric', 'charges_details_24_1_sum': 'numeric', 'charges_details_25_3_avg': 'numeric', 'charges_details_26_6_avg': 'numeric', 'charges_details_27_1_sum': 'numeric', 'charges_details_28_3_avg': 'numeric', 'charges_details_29_6_avg': 'numeric', 'payments_details_30_1_sum': 'numeric', 'payments_details_31_3_sum': 'numeric', 'payments_details_32_6_sum': 'numeric', 'payments_details_33_1_sum': 'numeric', 'payments_details_34_3_sum': 'numeric', 'payments_details_35_6_sum': 'numeric', 'payments_details_36_1_sum': 'numeric', 'payments_details_37_3_sum': 'numeric', 'payments_details_38_6_sum': 'numeric', 'payments_details_39_1_sum': 'numeric', 'payments_details_40_3_sum': 'numeric', 'payments_details_41_6_sum': 'numeric', 'payments_details_42_1_sum': 'numeric', 'payments_details_43_3_sum': 'numeric', 'payments_details_44_6_sum': 'numeric', 'payments_details_45_1_avg': 'numeric', 'payments_details_46_1_sum': 'numeric', 'payments_details_47_3_avg': 'numeric', 'payments_details_48_3_sum': 'numeric', 'payments_details_49_6_avg': 'numeric', 'payments_details_50_6_sum': 'numeric', 'plan_costs_0_1_sum': 'numeric', 'plan_costs_1_3_avg': 'numeric', 'plan_costs_2_6_avg': 'numeric', 'plan_costs_3_1_sum': 'numeric', 'plan_costs_4_3_avg': 'numeric', 'plan_costs_5_6_avg': 'numeric', 'plan_costs_6_1_sum': 'numeric', 'plan_costs_7_3_avg': 'numeric', 'plan_costs_8_6_avg': 'numeric', 'charges_details_30_1_sum': 'numeric', 'charges_details_31_3_avg': 'numeric', 'charges_details_32_6_avg': 'numeric', 'tariff_plans_8_1_num': 'numeric', 'tariff_plans_9_1_num': 'numeric', 'vas_details_0_1_sum': 'numeric', 'vas_details_1_3_sum': 'numeric', 'vas_details_2_6_sum': 'numeric', 'vas_details_3_1_sum': 'numeric', 'vas_details_4_3_sum': 'numeric', 'vas_details_5_6_sum': 'numeric', 'vas_details_6_1_sum': 'numeric', 'vas_details_7_3_sum': 'numeric', 'vas_details_8_6_sum': 'numeric', 'vas_details_9_1_sum': 'numeric', 'vas_details_10_3_sum': 'numeric', 'vas_details_11_6_sum': 'numeric', 'vas_details_12_1_sum': 'numeric', 'vas_details_13_3_sum': 'numeric', 'vas_details_14_6_sum': 'numeric', 'vas_details_15_1_sum': 'numeric', 'vas_details_16_3_sum': 'numeric', 'vas_details_17_6_sum': 'numeric', 'vas_details_18_1_mean': 'numeric', 'vas_details_19_1d3_mean': 'numeric', 'vas_details_20_1d6_mean': 'numeric', 'vas_details_21_3_mean': 'numeric', 'vas_details_22_3d6_mean': 'numeric', 'vas_details_23_6_mean': 'numeric', 'vas_details_24_1_meanpct': 'numeric', 'vas_details_25_3_meanpct': 'numeric', 'vas_details_26_6_meanpct': 'numeric', 'vas_details_27_1_sum': 'numeric', 'vas_details_28_3_sum': 'numeric', 'vas_details_29_6_sum': 'numeric', 'vas_details_30_1_sum': 'numeric', 'vas_details_31_3_sum': 'numeric', 'vas_details_32_6_sum': 'numeric', 'vas_details_33_1_sum': 'numeric', 'vas_details_34_3_sum': 'numeric', 'vas_details_35_6_sum': 'numeric', 'vas_details_36_1_sum': 'numeric', 'vas_details_37_3_sum': 'numeric', 'vas_details_38_6_sum': 'numeric', 'vas_details_39_1_sum': 'numeric', 'vas_details_40_3_sum': 'numeric', 'vas_details_41_6_sum': 'numeric', 'vas_details_42_1_sum': 'numeric', 'vas_details_43_3_sum': 'numeric', 'vas_details_44_6_sum': 'numeric', 'communication_availability_4_1_flg': 'categorical_int', 'communication_availability_5_1_flg': 'categorical_int', 'communication_availability_6_1_flg': 'categorical_int', 'social_dem_0_0_flg': 'categorical_int', 'user_devices_3_1_cnt': 'numeric', 'user_devices_4_1_cnt': 'numeric', 'user_devices_5_1_cnt': 'numeric', 'user_devices_6_1_cnt': 'numeric', 'user_devices_7_1_cnt': 'numeric', 'smarttv_age_0_1_cnt': 'numeric', 'smarttv_age_1_1_avg': 'numeric', 'smarttv_age_2_1_max': 'numeric', 'communication_availability_7_1_ctg': 'categorical_int', 'communication_availability_8_1_flg': 'categorical_int', 'communication_availability_9_1_flg': 'categorical_int', 'spas_symptoms_int_0_1_cnt': 'numeric', 'spas_symptoms_int_1_1_cnt': 'numeric', 'spas_symptoms_int_2_1_cnt': 'numeric', 'spas_symptoms_int_3_1_cnt': 'numeric', 'spas_symptoms_int_4_1_cnt': 'numeric', 'spas_symptoms_int_5_1_cnt': 'numeric', 'spas_symptoms_int_6_1_cnt': 'numeric', 'spas_symptoms_int_7_1_cnt': 'numeric', 'spas_symptoms_int_8_1_cnt': 'numeric', 'spas_symptoms_int_9_1_cnt': 'numeric', 'spas_symptoms_int_10_1_cnt': 'numeric', 'spas_symptoms_int_11_1_cnt': 'numeric', 'spas_symptoms_int_12_1_cnt': 'numeric', 'spas_symptoms_int_13_1_cnt': 'numeric', 'spas_symptoms_int_14_1_cnt': 'numeric', 'spas_symptoms_int_15_1_cnt': 'numeric', 'spas_symptoms_int_16_1_cnt': 'numeric', 'spas_symptoms_int_17_1_cnt': 'numeric', 'spas_symptoms_int_18_1_cnt': 'numeric', 'spas_symptoms_int_19_1_cnt': 'numeric', 'spas_symptoms_int_20_1_cnt': 'numeric', 'spas_symptoms_int_21_1_cnt': 'numeric', 'spas_symptoms_int_22_1_cnt': 'numeric', 'spas_symptoms_int_23_1_cnt': 'numeric', 'spas_symptoms_int_24_1_cnt': 'numeric', 'spas_symptoms_int_25_1_cnt': 'numeric', 'spas_symptoms_int_26_1_cnt': 'numeric', 'spas_symptoms_int_27_1_cnt': 'numeric', 'spas_symptoms_int_28_1_cnt': 'numeric', 'spas_symptoms_int_29_1_cnt': 'numeric', 'spas_symptoms_int_30_1_cnt': 'numeric', 'spas_symptoms_int_31_1_cnt': 'numeric', 'spas_symptoms_int_32_1_cnt': 'numeric', 'spas_symptoms_int_33_1_cnt': 'numeric', 'spas_symptoms_int_34_1_cnt': 'numeric', 'spas_symptoms_int_35_1_cnt': 'numeric', 'spas_symptoms_int_42_1_cnt': 'numeric', 'spas_symptoms_int_43_1_cnt': 'numeric', 'spas_symptoms_int_44_1_cnt': 'numeric', 'spas_symptoms_int_45_1_cnt': 'numeric', 'spas_symptoms_int_46_1_cnt': 'numeric', 'spas_symptoms_int_47_1_cnt': 'numeric', 'spas_symptoms_int_48_1_cnt': 'numeric', 'spas_symptoms_int_49_1_cnt': 'numeric', 'spas_symptoms_int_50_1_cnt': 'numeric', 'spas_symptoms_int_51_1_cnt': 'numeric', 'spas_symptoms_int_52_1_cnt': 'numeric', 'spas_symptoms_int_53_1_cnt': 'numeric', 'spas_symptoms_int_54_1_cnt': 'numeric', 'spas_symptoms_int_55_1_cnt': 'numeric', 'spas_symptoms_int_56_1_cnt': 'numeric', 'spas_symptoms_int_57_1_cnt': 'numeric', 'spas_symptoms_int_58_1_cnt': 'numeric', 'spas_symptoms_int_59_1_cnt': 'numeric', 'spas_symptoms_int_60_1_cnt': 'numeric', 'spas_symptoms_int_61_1_cnt': 'numeric', 'spas_symptoms_int_62_1_cnt': 'numeric', 'spas_symptoms_int_63_1_cnt': 'numeric', 'spas_symptoms_int_64_1_cnt': 'numeric', 'spas_symptoms_int_65_1_cnt': 'numeric', 'spas_symptoms_int_66_1_cnt': 'numeric', 'spas_symptoms_int_67_1_cnt': 'numeric', 'spas_symptoms_int_68_1_cnt': 'numeric', 'spas_symptoms_int_69_1_cnt': 'numeric', 'spas_symptoms_int_70_1_cnt': 'numeric', 'spas_symptoms_int_71_1_cnt': 'numeric', 'spas_symptoms_int_72_1_cnt': 'numeric', 'spas_symptoms_int_73_1_cnt': 'numeric', 'spas_symptoms_int_74_1_cnt': 'numeric', 'spas_symptoms_int_75_1_cnt': 'numeric', 'spas_symptoms_int_76_1_cnt': 'numeric', 'spas_symptoms_int_77_1_cnt': 'numeric', 'spas_symptoms_int_78_1_cnt': 'numeric', 'spas_symptoms_int_79_1_cnt': 'numeric', 'spas_symptoms_int_80_1_cnt': 'numeric', 'spas_symptoms_int_81_1_cnt': 'numeric', 'spas_symptoms_int_82_1_cnt': 'numeric', 'spas_symptoms_int_83_1_cnt': 'numeric', 'spas_symptoms_int_84_1_cnt': 'numeric', 'spas_symptoms_int_85_1_cnt': 'numeric', 'spas_symptoms_int_86_1_cnt': 'numeric', 'spas_symptoms_int_87_1_cnt': 'numeric', 'spas_symptoms_int_88_1_cnt': 'numeric', 'spas_symptoms_int_89_1_cnt': 'numeric', 'spas_symptoms_int_90_1_cnt': 'numeric', 'spas_symptoms_int_91_1_cnt': 'numeric', 'spas_symptoms_int_92_1_cnt': 'numeric', 'spas_symptoms_int_93_1_cnt': 'numeric', 'spas_symptoms_int_94_1_cnt': 'numeric', 'spas_symptoms_int_95_1_cnt': 'numeric', 'spas_symptoms_int_96_1_cnt': 'numeric', 'spas_symptoms_int_97_1_cnt': 'numeric', 'spas_symptoms_int_98_1_cnt': 'numeric', 'spas_symptoms_int_99_1_cnt': 'numeric', 'spas_symptoms_int_100_1_cnt': 'numeric', 'spas_symptoms_int_101_1_cnt': 'numeric', 'spas_symptoms_int_102_1_cnt': 'numeric', 'spas_symptoms_int_103_1_cnt': 'numeric', 'spas_symptoms_int_104_1_cnt': 'numeric', 'spas_symptoms_int_105_1_cnt': 'numeric', 'spas_symptoms_int_106_1_cnt': 'numeric', 'spas_symptoms_int_107_1_cnt': 'numeric', 'spas_symptoms_int_108_1_cnt': 'numeric', 'spas_symptoms_int_109_1_cnt': 'numeric', 'spas_symptoms_int_110_1_cnt': 'numeric', 'spas_symptoms_int_111_1_cnt': 'numeric', 'spas_symptoms_int_112_1_cnt': 'numeric', 'spas_symptoms_int_113_1_cnt': 'numeric', 'spas_symptoms_int_114_1_cnt': 'numeric', 'spas_symptoms_int_115_1_cnt': 'numeric', 'spas_symptoms_int_116_1_cnt': 'numeric', 'spas_symptoms_int_117_1_cnt': 'numeric', 'spas_symptoms_int_118_1_cnt': 'numeric', 'spas_symptoms_int_119_1_cnt': 'numeric', 'spas_symptoms_int_120_1_cnt': 'numeric', 'spas_symptoms_int_121_1_cnt': 'numeric', 'spas_symptoms_int_122_1_cnt': 'numeric', 'spas_symptoms_int_123_1_cnt': 'numeric', 'spas_symptoms_int_124_1_cnt': 'numeric', 'spas_symptoms_int_125_1_cnt': 'numeric', 'spas_symptoms_int_126_1_cnt': 'numeric', 'spas_symptoms_int_127_1_cnt': 'numeric', 'spas_symptoms_int_128_1_cnt': 'numeric', 'spas_symptoms_int_129_1_cnt': 'numeric', 'spas_symptoms_int_130_1_cnt': 'numeric', 'spas_symptoms_int_131_1_cnt': 'numeric', 'spas_symptoms_int_132_1_cnt': 'numeric', 'spas_symptoms_int_133_1_cnt': 'numeric', 'spas_symptoms_int_134_1_cnt': 'numeric', 'spas_symptoms_int_135_1_cnt': 'numeric', 'spas_symptoms_int_136_1_cnt': 'numeric', 'spas_symptoms_int_137_1_cnt': 'numeric', 'spas_symptoms_int_138_1_cnt': 'numeric', 'spas_symptoms_int_139_1_cnt': 'numeric', 'spas_symptoms_int_148_1_cnt': 'numeric', 'spas_symptoms_int_149_1_cnt': 'numeric', 'spas_symptoms_int_150_1_cnt': 'numeric', 'spas_symptoms_int_151_1_cnt': 'numeric', 'spas_symptoms_int_152_1_cnt': 'numeric', 'spas_symptoms_int_153_1_cnt': 'numeric', 'spas_symptoms_int_154_1_cnt': 'numeric', 'spas_symptoms_int_155_1_cnt': 'numeric', 'spas_symptoms_int_156_1_cnt': 'numeric', 'spas_symptoms_int_157_1_cnt': 'numeric', 'spas_symptoms_int_158_1_cnt': 'numeric', 'spas_symptoms_int_159_1_cnt': 'numeric', 'spas_symptoms_int_160_1_cnt': 'numeric', 'spas_symptoms_int_161_1_cnt': 'numeric', 'spas_symptoms_int_162_1_cnt': 'numeric', 'spas_symptoms_int_163_1_cnt': 'numeric', 'spas_symptoms_iptv_0_1_cnt': 'numeric', 'spas_symptoms_iptv_1_1_cnt': 'numeric', 'spas_symptoms_iptv_2_1_cnt': 'numeric', 'spas_symptoms_iptv_3_1_cnt': 'numeric', 'spas_symptoms_iptv_4_1_cnt': 'numeric', 'spas_symptoms_iptv_5_1_cnt': 'numeric', 'spas_symptoms_iptv_6_1_cnt': 'numeric', 'spas_symptoms_iptv_7_1_cnt': 'numeric', 'spas_symptoms_iptv_8_1_cnt': 'numeric', 'spas_symptoms_iptv_9_1_cnt': 'numeric', 'spas_symptoms_iptv_10_1_cnt': 'numeric', 'spas_symptoms_iptv_11_1_cnt': 'numeric', 'spas_symptoms_iptv_12_1_cnt': 'numeric', 'spas_symptoms_iptv_13_1_cnt': 'numeric', 'spas_symptoms_iptv_14_1_cnt': 'numeric', 'spas_symptoms_iptv_15_1_cnt': 'numeric', 'spas_symptoms_iptv_16_1_cnt': 'numeric', 'spas_symptoms_tv_0_1_cnt': 'numeric', 'spas_symptoms_tv_1_1_cnt': 'numeric', 'spas_symptoms_tv_2_1_cnt': 'numeric', 'spas_symptoms_tv_3_1_cnt': 'numeric', 'spas_symptoms_tv_4_1_cnt': 'numeric', 'spas_symptoms_tv_5_1_cnt': 'numeric', 'spas_symptoms_tv_6_1_cnt': 'numeric', 'spas_symptoms_tv_7_1_cnt': 'numeric', 'spas_symptoms_tv_8_1_cnt': 'numeric', 'spas_symptoms_tv_9_1_cnt': 'numeric', 'spas_symptoms_tv_10_1_cnt': 'numeric', 'spas_symptoms_tv_11_1_cnt': 'numeric', 'spas_symptoms_tv_12_1_cnt': 'numeric', 'spas_symptoms_tv_13_1_cnt': 'numeric', 'spas_symptoms_tv_14_1_cnt': 'numeric', 'spas_symptoms_tv_15_1_cnt': 'numeric', 'spas_symptoms_tv_16_1_cnt': 'numeric', 'spas_symptoms_tv_17_1_cnt': 'numeric', 'spas_symptoms_tv_18_1_cnt': 'numeric', 'spas_symptoms_tv_19_1_cnt': 'numeric', 'spas_symptoms_tv_20_1_cnt': 'numeric', 'spas_symptoms_tv_21_1_cnt': 'numeric', 'spas_symptoms_tv_22_1_cnt': 'numeric', 'spas_symptoms_tv_23_1_cnt': 'numeric', 'spas_symptoms_ott_0_1_cnt': 'numeric', 'spas_symptoms_ott_1_1_cnt': 'numeric', 'spas_symptoms_ott_2_1_cnt': 'numeric', 'spas_symptoms_ott_3_1_cnt': 'numeric', 'spas_symptoms_ott_4_1_cnt': 'numeric', 'spas_symptoms_ott_5_1_cnt': 'numeric', 'spas_symptoms_ott_6_1_cnt': 'numeric', 'spas_symptoms_ott_7_1_cnt': 'numeric', 'spas_symptoms_ott_8_1_cnt': 'numeric', 'spas_symptoms_ott_9_1_cnt': 'numeric', 'spas_symptoms_ott_10_1_cnt': 'numeric', 'spas_symptoms_ott_11_1_cnt': 'numeric', 'spas_symptoms_ott_12_1_cnt': 'numeric', 'spas_symptoms_ott_13_1_cnt': 'numeric', 'spas_symptoms_ott_14_1_cnt': 'numeric', 'spas_symptoms_ott_15_1_cnt': 'numeric', 'spas_symptoms_ott_16_1_cnt': 'numeric', 'spas_symptoms_ott_17_1_cnt': 'numeric', 'spas_symptoms_ott_18_1_cnt': 'numeric', 'spas_symptoms_ott_19_1_cnt': 'numeric', 'spas_symptoms_ott_20_1_cnt': 'numeric', 'spas_symptoms_ott_21_1_cnt': 'numeric', 'spas_symptoms_ott_22_1_cnt': 'numeric', 'spas_symptoms_ott_23_1_cnt': 'numeric', 'spas_symptoms_ott_24_1_cnt': 'numeric', 'spas_symptoms_ott_25_1_cnt': 'numeric', 'spas_symptoms_ott_26_1_cnt': 'numeric', 'spas_symptoms_ott_27_1_cnt': 'numeric', 'spas_symptoms_ott_28_1_cnt': 'numeric', 'spas_symptoms_ott_29_1_cnt': 'numeric', 'spas_symptoms_ott_30_1_cnt': 'numeric', 'spas_symptoms_ott_31_1_cnt': 'numeric', 'spas_symptoms_ott_32_1_cnt': 'numeric', 'spas_symptoms_ott_33_1_cnt': 'numeric', 'spas_symptoms_ott_34_1_cnt': 'numeric', 'spas_symptoms_ott_35_1_cnt': 'numeric', 'spas_symptoms_ott_36_1_cnt': 'numeric', 'spas_symptoms_ott_37_1_cnt': 'numeric', 'spas_symptoms_ott_38_1_cnt': 'numeric', 'spas_symptoms_ott_39_1_cnt': 'numeric', 'spas_symptoms_ott_40_1_cnt': 'numeric', 'spas_symptoms_ott_41_1_cnt': 'numeric', 'spas_symptoms_ott_42_1_cnt': 'numeric', 'spas_symptoms_ott_43_1_cnt': 'numeric', 'spas_symptoms_ott_44_1_cnt': 'numeric', 'spas_symptoms_ott_45_1_cnt': 'numeric', 'spas_symptoms_ott_46_1_cnt': 'numeric', 'spas_symptoms_ott_47_1_cnt': 'numeric', 'spas_symptoms_ott_48_1_cnt': 'numeric', 'spas_symptoms_ott_49_1_cnt': 'numeric', 'spas_symptoms_ott_50_1_cnt': 'numeric', 'spas_symptoms_ott_51_1_cnt': 'numeric', 'spas_symptoms_ott_52_1_cnt': 'numeric', 'spas_symptoms_ott_53_1_cnt': 'numeric', 'spas_symptoms_ott_54_1_cnt': 'numeric', 'spas_symptoms_ott_55_1_cnt': 'numeric', 'spas_symptoms_ott_56_1_cnt': 'numeric', 'spas_symptoms_ott_57_1_cnt': 'numeric', 'spas_symptoms_ott_58_1_cnt': 'numeric', 'spas_symptoms_ott_59_1_cnt': 'numeric', 'spas_symptoms_ott_60_1_cnt': 'numeric', 'spas_symptoms_ott_61_1_cnt': 'numeric', 'spas_symptoms_ott_62_1_cnt': 'numeric', 'spas_symptoms_ott_63_1_cnt': 'numeric', 'spas_symptoms_ott_64_1_cnt': 'numeric', 'spas_symptoms_ott_65_1_cnt': 'numeric', 'spas_symptoms_ott_66_1_cnt': 'numeric', 'spas_symptoms_ott_67_1_cnt': 'numeric', 'spas_symptoms_ott_68_1_cnt': 'numeric', 'spas_symptoms_ott_69_1_cnt': 'numeric', 'spas_symptoms_ott_70_1_cnt': 'numeric', 'spas_symptoms_ott_71_1_cnt': 'numeric', 'spas_symptoms_ott_72_1_cnt': 'numeric', 'spas_symptoms_ott_73_1_cnt': 'numeric', 'spas_symptoms_ott_74_1_cnt': 'numeric', 'spas_symptoms_ott_75_1_cnt': 'numeric', 'spas_symptoms_ott_76_1_cnt': 'numeric', 'spas_symptoms_ott_77_1_cnt': 'numeric', 'spas_symptoms_ott_78_1_cnt': 'numeric', 'spas_symptoms_ott_79_1_cnt': 'numeric', 'spas_symptoms_ott_80_1_cnt': 'numeric', 'spas_symptoms_ott_81_1_cnt': 'numeric', 'spas_symptoms_ott_82_1_cnt': 'numeric', 'spas_symptoms_ott_83_1_cnt': 'numeric', 'spas_symptoms_ott_84_1_cnt': 'numeric', 'spas_symptoms_ott_85_1_cnt': 'numeric', 'spas_symptoms_ott_86_1_cnt': 'numeric', 'spas_symptoms_ott_87_1_cnt': 'numeric', 'spas_symptoms_ott_88_1_cnt': 'numeric', 'spas_symptoms_ott_89_1_cnt': 'numeric', 'spas_symptoms_ott_90_1_cnt': 'numeric', 'spas_symptoms_ott_91_1_cnt': 'numeric', 'spas_symptoms_ott_92_1_cnt': 'numeric', 'spas_symptoms_ott_93_1_cnt': 'numeric', 'spas_symptoms_ott_94_1_cnt': 'numeric', 'spas_symptoms_ott_95_1_cnt': 'numeric', 'spas_symptoms_ott_96_1_cnt': 'numeric', 'spas_symptoms_ott_97_1_cnt': 'numeric', 'spas_symptoms_ott_98_1_cnt': 'numeric', 'spas_symptoms_ott_99_1_cnt': 'numeric', 'spas_symptoms_ott_100_1_cnt': 'numeric', 'spas_symptoms_ott_101_1_cnt': 'numeric', 'spas_symptoms_ott_102_1_cnt': 'numeric', 'spas_symptoms_ott_103_1_cnt': 'numeric', 'spas_symptoms_ott_104_1_cnt': 'numeric', 'spas_symptoms_ott_105_1_cnt': 'numeric', 'spas_symptoms_ott_106_1_cnt': 'numeric', 'spas_symptoms_ott_107_1_cnt': 'numeric', 'spas_symptoms_ott_108_1_cnt': 'numeric', 'spas_symptoms_ott_109_1_cnt': 'numeric', 'spas_symptoms_ott_110_1_cnt': 'numeric', 'spas_symptoms_ott_111_1_cnt': 'numeric', 'spas_symptoms_ott_112_1_cnt': 'numeric', 'spas_symptoms_ott_113_1_cnt': 'numeric', 'spas_symptoms_ott_114_1_cnt': 'numeric', 'spas_symptoms_ott_115_1_cnt': 'numeric', 'spas_symptoms_ott_116_1_cnt': 'numeric', 'spas_symptoms_ott_117_1_cnt': 'numeric', 'spas_symptoms_ott_118_1_cnt': 'numeric', 'spas_symptoms_ott_119_1_cnt': 'numeric', 'communication_availability_10_1_ctg': 'categorical_int', 'communication_availability_11_1_flg': 'categorical_int', 'communication_availability_12_1_flg': 'categorical_int', 'communication_availability_13_1_flg': 'categorical_int', 'communication_availability_14_1_flg': 'categorical_int', 'communication_availability_15_1_flg': 'categorical_int', 'area_0_0_num': 'numeric', 'communication_availability_16_1_flg': 'categorical_int', 'communication_availability_17_1_flg': 'categorical_int', 'communication_availability_18_1_flg': 'categorical_int', 'communication_availability_19_1_flg': 'categorical_int', 'communication_availability_20_1_flg': 'categorical_int', 'communication_availability_21_1_flg': 'categorical_int', 'communication_availability_22_1_flg': 'categorical_int', 'communication_availability_23_1_flg': 'categorical_int', 'communication_availability_24_1_flg': 'categorical_int', 'communication_availability_25_1_flg': 'categorical_int', 'communication_availability_26_1_flg': 'categorical_int', 'communication_availability_27_1_flg': 'categorical_int', 'user_devices_8_1_cnt': 'numeric', 'communication_availability_28_1_flg': 'categorical_int', 'user_active_0_1_flg': 'categorical_int', 'tariff_plans_12_1_ctg': 'categorical_str', 'tariff_plans_13_src_id': 'categorical_int', 'traffic_details_0_1_cnt': 'numeric', 'traffic_details_1_3_cnt': 'numeric', 'traffic_details_2_6_cnt': 'numeric', 'traffic_details_3_1_cnt': 'numeric', 'traffic_details_4_1_part': 'numeric', 'traffic_details_5_1d3_part': 'numeric', 'traffic_details_6_1d6_part': 'numeric', 'traffic_details_7_3_cnt': 'numeric', 'traffic_details_8_3_part': 'numeric', 'traffic_details_9_3d6_part': 'numeric', 'traffic_details_10_6_cnt': 'numeric', 'traffic_details_11_6_part': 'numeric', 'traffic_details_12_1_avg': 'numeric', 'traffic_details_13_1_std': 'numeric', 'traffic_details_14_1_sum': 'numeric', 'traffic_details_15_1d3_avg': 'numeric', 'traffic_details_16_1d3_std': 'numeric', 'traffic_details_17_1d3_sum': 'numeric', 'traffic_details_18_1d6_avg': 'numeric', 'traffic_details_19_1d6_std': 'numeric', 'traffic_details_20_1d6_sum': 'numeric', 'traffic_details_21_3_avg': 'numeric', 'traffic_details_22_3_std': 'numeric', 'traffic_details_23_3_sum': 'numeric', 'traffic_details_24_3d6_avg': 'numeric', 'traffic_details_25_3d6_std': 'numeric', 'traffic_details_26_3d6_sum': 'numeric', 'traffic_details_27_6_avg': 'numeric', 'traffic_details_28_6_std': 'numeric', 'traffic_details_29_6_sum': 'numeric', 'traffic_details_30_1_avg': 'numeric', 'traffic_details_31_1_std': 'numeric', 'traffic_details_32_1d3_avg': 'numeric', 'traffic_details_33_1d3_std': 'numeric', 'traffic_details_34_1d6_avg': 'numeric', 'traffic_details_35_1d6_std': 'numeric', 'traffic_details_36_3_avg': 'numeric', 'traffic_details_37_3_std': 'numeric', 'traffic_details_38_3d6_avg': 'numeric', 'traffic_details_39_3d6_std': 'numeric', 'traffic_details_40_6_avg': 'numeric', 'traffic_details_41_6_std': 'numeric', 'traffic_details_42_1_avg': 'numeric', 'traffic_details_43_1_std': 'numeric', 'traffic_details_44_1_sum': 'numeric', 'traffic_details_45_3_avg': 'numeric', 'traffic_details_46_3_std': 'numeric', 'traffic_details_47_3_sum': 'numeric', 'traffic_details_48_6_avg': 'numeric', 'traffic_details_49_6_std': 'numeric', 'traffic_details_50_6_sum': 'numeric', 'traffic_details_51_1_avg': 'numeric', 'traffic_details_52_1_std': 'numeric', 'traffic_details_53_1_sum': 'numeric', 'traffic_details_54_3_avg': 'numeric', 'traffic_details_55_3_std': 'numeric', 'traffic_details_56_3_sum': 'numeric', 'traffic_details_57_6_avg': 'numeric', 'traffic_details_58_6_std': 'numeric', 'traffic_details_59_6_sum': 'numeric', 'traffic_details_60_1_avg': 'numeric', 'traffic_details_61_1_std': 'numeric', 'traffic_details_62_1_sum': 'numeric', 'traffic_details_63_3_avg': 'numeric', 'traffic_details_64_3_std': 'numeric', 'traffic_details_65_3_sum': 'numeric', 'traffic_details_66_6_avg': 'numeric', 'traffic_details_67_6_std': 'numeric', 'traffic_details_68_6_sum': 'numeric', 'communication_availability_29_1_flg': 'categorical_int', 'communication_availability_30_1_flg': 'categorical_int', 'communication_availability_31_1_flg': 'categorical_int', 'user_devices_9_1_cnt': 'numeric', 'communication_availability_32_1_ctg': 'categorical_str', 'user_devices_10_1_cnt': 'numeric', 'communication_availability_33_1_flg': 'categorical_int', 'user_devices_11_1_cnt': 'numeric', 'scheme_types_0_1_flg': 'categorical_int', 'scheme_types_1_1_flg': 'categorical_int', 'scheme_types_2_1_flg': 'categorical_int', 'scheme_types_3_1_flg': 'categorical_int', 'scheme_types_4_1_flg': 'categorical_int', 'user_lifetime_2_1_num': 'numeric', 'vas_details_45_1_cnt': 'numeric', 'vas_details_46_1_cnt': 'numeric', 'vas_details_47_3_cnt': 'numeric', 'vas_details_48_6_cnt': 'numeric', 'vas_details_49_3_cnt': 'numeric', 'vas_details_50_6_cnt': 'numeric', 'vas_details_51_1_cnt': 'numeric', 'vas_details_52_3_cnt': 'numeric', 'vas_details_53_6_cnt': 'numeric', 'vas_details_54_1d3_mean': 'numeric', 'vas_details_55_1d6_mean': 'numeric', 'vas_details_56_3_mean': 'numeric', 'vas_details_57_3d6_mean': 'numeric', 'vas_details_58_6_mean': 'numeric', 'communication_availability_34_1_flg': 'categorical_int', 'communication_availability_35_1_ctg': 'categorical_int', 'user_devices_12_1_cnt': 'numeric', 'communication_availability_36_1_flg': 'categorical_int', 'user_active_1_1_flg': 'categorical_int', 'communication_availability_37_1_flg': 'categorical_int', 'tariff_plans_14_1_ctg': 'categorical_str', 'tariff_plans_15_src_id': 'categorical_int', 'user_devices_13_1_cnt': 'numeric', 'movix_channels_0_1_avg': 'numeric', 'movix_channels_1_3_avg': 'numeric', 'movix_channels_2_6_avg': 'numeric', 'movix_channels_3_1_part': 'numeric', 'movix_channels_4_1d3_part': 'numeric', 'movix_channels_5_1d6_part': 'numeric', 'movix_channels_6_3_part': 'numeric', 'movix_channels_7_3d6_part': 'numeric', 'movix_channels_8_6_part': 'numeric', 'movix_channels_9_1_avg': 'numeric', 'movix_channels_10_3_avg': 'numeric', 'movix_channels_11_6_avg': 'numeric', 'movix_channels_12_1_avg': 'numeric', 'movix_channels_13_3_avg': 'numeric', 'movix_channels_14_6_avg': 'numeric', 'movix_channels_15_1_avg': 'numeric', 'movix_channels_16_3_avg': 'numeric', 'movix_channels_17_6_avg': 'numeric', 'movix_channels_18_1_avg': 'numeric', 'movix_channels_19_3_avg': 'numeric', 'movix_channels_20_6_avg': 'numeric', 'movix_channels_21_1_avg': 'numeric', 'movix_channels_22_3_avg': 'numeric', 'movix_channels_23_6_avg': 'numeric', 'movix_channels_24_1_avg': 'numeric', 'movix_channels_25_3_avg': 'numeric', 'movix_channels_26_6_avg': 'numeric', 'movix_channels_27_1_avg': 'numeric', 'movix_channels_28_3_avg': 'numeric', 'movix_channels_29_6_avg': 'numeric', 'movix_channels_30_1_avg': 'numeric', 'movix_channels_31_3_avg': 'numeric', 'movix_channels_32_6_avg': 'numeric', 'movix_channels_33_1_avg': 'numeric', 'movix_channels_34_3_avg': 'numeric', 'movix_channels_35_6_avg': 'numeric', 'movix_channels_36_1_avg': 'numeric', 'movix_channels_37_3_avg': 'numeric', 'movix_channels_38_6_avg': 'numeric', 'movix_channels_39_1_avg': 'numeric', 'movix_channels_40_3_avg': 'numeric', 'movix_channels_41_6_avg': 'numeric', 'movix_channels_42_1_avg': 'numeric', 'movix_channels_43_3_avg': 'numeric', 'movix_channels_44_6_avg': 'numeric', 'movix_channels_45_1_avg': 'numeric', 'movix_channels_46_3_avg': 'numeric', 'movix_channels_47_6_avg': 'numeric', 'movix_channels_48_1_avg': 'numeric', 'movix_channels_49_3_avg': 'numeric', 'movix_channels_50_6_avg': 'numeric', 'movix_channels_51_1_avg': 'numeric', 'movix_channels_52_1d3_avg': 'numeric', 'movix_channels_53_1d6_avg': 'numeric', 'movix_channels_54_3_avg': 'numeric', 'movix_channels_55_3d6_avg': 'numeric', 'movix_channels_56_6_avg': 'numeric', 'communication_availability_38_1_flg': 'categorical_int', 'user_devices_14_1_cnt': 'numeric', 'communication_availability_39_1_flg': 'categorical_int', 'spas_symptoms_agr_20_12_avg': 'numeric', 'spas_symptoms_agr_21_12_std': 'numeric', 'spas_symptoms_agr_22_12_sum': 'numeric', 'spas_symptoms_agr_23_1_avg': 'numeric', 'spas_symptoms_agr_24_1_std': 'numeric', 'spas_symptoms_agr_25_1_sum': 'numeric', 'spas_symptoms_agr_26_3_avg': 'numeric', 'spas_symptoms_agr_27_3_std': 'numeric', 'spas_symptoms_agr_28_3_sum': 'numeric', 'spas_symptoms_agr_29_6_avg': 'numeric', 'spas_symptoms_agr_30_6_std': 'numeric', 'spas_symptoms_agr_31_6_sum': 'numeric', 'spas_symptoms_agr_32_12_avg': 'numeric', 'spas_symptoms_agr_33_12_std': 'numeric', 'spas_symptoms_agr_34_12_sum': 'numeric', 'spas_symptoms_agr_35_1_avg': 'numeric', 'spas_symptoms_agr_36_1_std': 'numeric', 'spas_symptoms_agr_37_1_sum': 'numeric', 'spas_symptoms_agr_38_3_avg': 'numeric', 'spas_symptoms_agr_39_3_std': 'numeric', 'spas_symptoms_agr_40_3_sum': 'numeric', 'spas_symptoms_agr_41_6_avg': 'numeric', 'spas_symptoms_agr_42_6_std': 'numeric', 'spas_symptoms_agr_43_6_sum': 'numeric', 'spas_symptoms_agr_44_12_avg': 'numeric', 'spas_symptoms_agr_45_12_std': 'numeric', 'spas_symptoms_agr_46_12_sum': 'numeric', 'spas_symptoms_agr_47_1_avg': 'numeric', 'spas_symptoms_agr_48_1_std': 'numeric', 'spas_symptoms_agr_49_1_sum': 'numeric', 'spas_symptoms_agr_50_3_avg': 'numeric', 'spas_symptoms_agr_51_3_std': 'numeric', 'spas_symptoms_agr_52_3_sum': 'numeric', 'spas_symptoms_agr_53_6_avg': 'numeric', 'spas_symptoms_agr_54_6_std': 'numeric', 'spas_symptoms_agr_55_6_sum': 'numeric', 'spas_symptoms_agr_56_12_avg': 'numeric', 'spas_symptoms_agr_57_12_std': 'numeric', 'spas_symptoms_agr_58_12_sum': 'numeric', 'spas_symptoms_agr_59_1_avg': 'numeric', 'spas_symptoms_agr_60_1_std': 'numeric', 'spas_symptoms_agr_61_1_sum': 'numeric', 'spas_symptoms_agr_62_3_avg': 'numeric', 'spas_symptoms_agr_63_3_std': 'numeric', 'spas_symptoms_agr_64_3_sum': 'numeric', 'spas_symptoms_agr_65_6_avg': 'numeric', 'spas_symptoms_agr_66_6_std': 'numeric', 'spas_symptoms_agr_67_6_sum': 'numeric', 'spas_symptoms_agr_68_12_avg': 'numeric', 'spas_symptoms_agr_69_12_std': 'numeric', 'spas_symptoms_agr_70_12_sum': 'numeric', 'spas_symptoms_agr_71_1_avg': 'numeric', 'spas_symptoms_agr_72_1_std': 'numeric', 'spas_symptoms_agr_73_1_sum': 'numeric', 'spas_symptoms_agr_74_3_avg': 'numeric', 'spas_symptoms_agr_75_3_std': 'numeric', 'spas_symptoms_agr_76_3_sum': 'numeric', 'spas_symptoms_agr_77_6_avg': 'numeric', 'spas_symptoms_agr_78_6_std': 'numeric', 'spas_symptoms_agr_79_6_sum': 'numeric', 'spas_symptoms_agr_80_12_avg': 'numeric', 'spas_symptoms_agr_81_12_std': 'numeric', 'spas_symptoms_agr_82_12_sum': 'numeric', 'spas_symptoms_agr_83_1_avg': 'numeric', 'spas_symptoms_agr_84_1_std': 'numeric', 'spas_symptoms_agr_85_1_sum': 'numeric', 'spas_symptoms_agr_86_3_avg': 'numeric', 'spas_symptoms_agr_87_3_std': 'numeric', 'spas_symptoms_agr_88_3_sum': 'numeric', 'spas_symptoms_agr_89_6_avg': 'numeric', 'spas_symptoms_agr_90_6_std': 'numeric', 'spas_symptoms_agr_91_6_sum': 'numeric', 'movix_channels_57_1_sum': 'numeric', 'movix_channels_58_3_sum': 'numeric', 'movix_channels_59_6_sum': 'numeric', 'movix_channels_60_1_sum': 'numeric', 'movix_channels_61_3_sum': 'numeric', 'movix_channels_62_6_sum': 'numeric', 'movix_channels_63_1_sum': 'numeric', 'movix_channels_64_3_sum': 'numeric', 'movix_channels_65_6_sum': 'numeric', 'movix_channels_66_1_sum': 'numeric', 'movix_channels_67_3_sum': 'numeric', 'movix_channels_68_6_sum': 'numeric', 'movix_channels_69_1_sum': 'numeric', 'movix_channels_70_3_sum': 'numeric', 'movix_channels_71_6_sum': 'numeric', 'movix_channels_72_1_sum': 'numeric', 'movix_channels_73_3_sum': 'numeric', 'movix_channels_74_6_sum': 'numeric', 'movix_channels_75_1_sum': 'numeric', 'movix_channels_76_3_sum': 'numeric', 'movix_channels_77_6_sum': 'numeric', 'movix_channels_78_1_sum': 'numeric', 'movix_channels_79_3_sum': 'numeric', 'movix_channels_80_6_sum': 'numeric', 'movix_channels_81_1_sum': 'numeric', 'movix_channels_82_3_sum': 'numeric', 'movix_channels_83_6_sum': 'numeric', 'movix_channels_84_1_sum': 'numeric', 'movix_channels_85_3_sum': 'numeric', 'movix_channels_86_6_sum': 'numeric', 'movix_channels_87_1_sum': 'numeric', 'movix_channels_88_3_sum': 'numeric', 'movix_channels_89_6_sum': 'numeric', 'movix_channels_90_1_sum': 'numeric', 'movix_channels_91_3_sum': 'numeric', 'movix_channels_92_6_sum': 'numeric', 'movix_channels_93_1_sum': 'numeric', 'movix_channels_94_3_sum': 'numeric', 'movix_channels_95_6_sum': 'numeric', 'movix_channels_96_1_sum': 'numeric', 'movix_channels_97_3_sum': 'numeric', 'movix_channels_98_6_sum': 'numeric', 'movix_channels_99_1_sum': 'numeric', 'movix_channels_100_3_sum': 'numeric', 'movix_channels_101_6_sum': 'numeric', 'movix_channels_102_1_sum': 'numeric', 'movix_channels_103_3_sum': 'numeric', 'movix_channels_104_6_sum': 'numeric', 'movix_channels_105_1_sumpct': 'numeric', 'movix_channels_106_3_sumpct': 'numeric', 'movix_channels_107_6_sumpct': 'numeric', 'user_devices_15_1_cnt': 'numeric', 'user_devices_16_1_cnt': 'numeric', 'communication_availability_40_1_ctg': 'categorical_int', 'communication_availability_41_1_flg': 'categorical_int', 'communication_availability_42_1_ctg': 'categorical_int', 'communication_availability_43_1_flg': 'categorical_int', 'user_lifetime_3_0_dt': 'numeric', 'user_devices_17_1_cnt': 'numeric', 'communication_availability_44_1_flg': 'categorical_int', 'user_active_2_0_ctg': 'categorical_str', 'deact_react_0_1_ctg': 'categorical_int', 'materials_details_9_1_flg': 'categorical_int', 'materials_details_10_1_flg': 'categorical_int', 'materials_details_11_1_flg': 'categorical_int', 'materials_details_12_1_flg': 'categorical_int', 'user_devices_18_1_cnt': 'numeric', 'info_house_3_0_flg': 'categorical_int', 'info_house_4_0_flg': 'categorical_int', 'info_house_5_0_num': 'numeric', 'info_house_6_0_num': 'numeric', 'info_house_7_0_flg': 'categorical_int', 'info_house_8_0_flg': 'categorical_int', 'info_house_9_0_flg': 'categorical_int', 'user_active_3_1_flg': 'categorical_int', 'deact_react_2_1_ctg': 'categorical_str', 'exist_tariff_0_1_flg': 'categorical_int', 'deact_react_3_1_ctg': 'categorical_int', 'tariff_plans_16_1_ctg': 'categorical_str', 'tariff_plans_17_src_id': 'categorical_int', 'deact_react_5_1_ctg': 'categorical_str', 'communication_availability_45_1_flg': 'categorical_int', 'user_active_4_1_flg': 'categorical_int', 'deact_react_6_1_dt': 'numeric', 'deact_react_7_1_ctg': 'categorical_str', 'exist_tariff_1_1_flg': 'categorical_int', 'tariff_plans_18_1_ctg': 'categorical_str', 'tariff_plans_19_src_id': 'categorical_int', 'tariff_plans_20_1_ctg': 'numeric', 'tariff_plans_21_1_max': 'numeric', 'tariff_plans_22_1_min': 'numeric', 'deact_react_8_1_ctg': 'categorical_int', 'spas_symptoms_agr_92_12_avg': 'numeric', 'spas_symptoms_agr_93_12_std': 'numeric', 'spas_symptoms_agr_94_12_sum': 'numeric', 'spas_symptoms_agr_95_1_avg': 'numeric', 'spas_symptoms_agr_96_1_std': 'numeric', 'spas_symptoms_agr_97_1_sum': 'numeric', 'spas_symptoms_agr_98_3_avg': 'numeric', 'spas_symptoms_agr_99_3_std': 'numeric', 'spas_symptoms_agr_100_3_sum': 'numeric', 'spas_symptoms_agr_101_6_avg': 'numeric', 'spas_symptoms_agr_102_6_std': 'numeric', 'spas_symptoms_agr_103_6_sum': 'numeric', 'spas_symptoms_agr_104_12_avg': 'numeric', 'spas_symptoms_agr_105_12_std': 'numeric', 'spas_symptoms_agr_106_12_sum': 'numeric', 'spas_symptoms_agr_107_1_avg': 'numeric', 'spas_symptoms_agr_108_1_std': 'numeric', 'spas_symptoms_agr_109_1_sum': 'numeric', 'spas_symptoms_agr_110_3_avg': 'numeric', 'spas_symptoms_agr_111_3_std': 'numeric', 'spas_symptoms_agr_112_3_sum': 'numeric', 'spas_symptoms_agr_113_6_avg': 'numeric', 'spas_symptoms_agr_114_6_std': 'numeric', 'spas_symptoms_agr_115_6_sum': 'numeric', 'spas_symptoms_agr_116_12_avg': 'numeric', 'spas_symptoms_agr_117_12_std': 'numeric', 'spas_symptoms_agr_118_12_sum': 'numeric', 'spas_symptoms_agr_119_1_avg': 'numeric', 'spas_symptoms_agr_120_1_std': 'numeric', 'spas_symptoms_agr_121_1_sum': 'numeric', 'spas_symptoms_agr_122_3_avg': 'numeric', 'spas_symptoms_agr_123_3_std': 'numeric', 'spas_symptoms_agr_124_3_sum': 'numeric', 'spas_symptoms_agr_125_6_avg': 'numeric', 'spas_symptoms_agr_126_6_std': 'numeric', 'spas_symptoms_agr_127_6_sum': 'numeric', 'spas_symptoms_agr_128_12_avg': 'numeric', 'spas_symptoms_agr_129_12_std': 'numeric', 'spas_symptoms_agr_130_12_sum': 'numeric', 'spas_symptoms_agr_131_1_avg': 'numeric', 'spas_symptoms_agr_132_1_std': 'numeric', 'spas_symptoms_agr_133_1_sum': 'numeric', 'spas_symptoms_agr_134_3_avg': 'numeric', 'spas_symptoms_agr_135_3_std': 'numeric', 'spas_symptoms_agr_136_3_sum': 'numeric', 'spas_symptoms_agr_137_6_avg': 'numeric', 'spas_symptoms_agr_138_6_std': 'numeric', 'spas_symptoms_agr_139_6_sum': 'numeric', 'spas_symptoms_agr_140_12_avg': 'numeric', 'spas_symptoms_agr_141_12_std': 'numeric', 'spas_symptoms_agr_142_12_sum': 'numeric', 'spas_symptoms_agr_143_1_avg': 'numeric', 'spas_symptoms_agr_144_1_std': 'numeric', 'spas_symptoms_agr_145_1_sum': 'numeric', 'spas_symptoms_agr_146_3_avg': 'numeric', 'spas_symptoms_agr_147_3_std': 'numeric', 'spas_symptoms_agr_148_3_sum': 'numeric', 'spas_symptoms_agr_149_6_avg': 'numeric', 'spas_symptoms_agr_150_6_std': 'numeric', 'spas_symptoms_agr_151_6_sum': 'numeric', 'spas_symptoms_agr_152_12_avg': 'numeric', 'spas_symptoms_agr_153_12_std': 'numeric', 'spas_symptoms_agr_154_12_sum': 'numeric', 'spas_symptoms_agr_155_1_avg': 'numeric', 'spas_symptoms_agr_156_1_std': 'numeric', 'spas_symptoms_agr_157_1_sum': 'numeric', 'spas_symptoms_agr_158_3_avg': 'numeric', 'spas_symptoms_agr_159_3_std': 'numeric', 'spas_symptoms_agr_160_3_sum': 'numeric', 'spas_symptoms_agr_161_6_avg': 'numeric', 'spas_symptoms_agr_162_6_std': 'numeric', 'spas_symptoms_agr_163_6_sum': 'numeric', 'deact_react_9_1_dt': 'numeric', 'deact_react_10_1_ctg': 'categorical_str', 'user_devices_19_1_cnt': 'numeric', 'user_devices_20_1_cnt': 'numeric', 'user_devices_21_1_cnt': 'numeric', 'spas_symptoms_agr_164_12_avg': 'numeric', 'spas_symptoms_agr_165_12_std': 'numeric', 'spas_symptoms_agr_166_12_sum': 'numeric', 'spas_symptoms_agr_167_1_avg': 'numeric', 'spas_symptoms_agr_168_1_std': 'numeric', 'spas_symptoms_agr_169_1_sum': 'numeric', 'spas_symptoms_agr_170_3_avg': 'numeric', 'spas_symptoms_agr_171_3_std': 'numeric', 'spas_symptoms_agr_172_3_sum': 'numeric', 'spas_symptoms_agr_173_6_avg': 'numeric', 'spas_symptoms_agr_174_6_std': 'numeric', 'spas_symptoms_agr_175_6_sum': 'numeric', 'spas_symptoms_agr_176_12_avg': 'numeric', 'spas_symptoms_agr_177_12_std': 'numeric', 'spas_symptoms_agr_178_12_sum': 'numeric', 'spas_symptoms_agr_179_1_avg': 'numeric', 'spas_symptoms_agr_180_1_std': 'numeric', 'spas_symptoms_agr_181_1_sum': 'numeric', 'spas_symptoms_agr_182_3_avg': 'numeric', 'spas_symptoms_agr_183_3_std': 'numeric', 'spas_symptoms_agr_184_3_sum': 'numeric', 'spas_symptoms_agr_185_6_avg': 'numeric', 'spas_symptoms_agr_186_6_std': 'numeric', 'spas_symptoms_agr_187_6_sum': 'numeric', 'spas_symptoms_agr_188_12_avg': 'numeric', 'spas_symptoms_agr_189_12_std': 'numeric', 'spas_symptoms_agr_190_12_sum': 'numeric', 'spas_symptoms_agr_191_1_avg': 'numeric', 'spas_symptoms_agr_192_1_std': 'numeric', 'spas_symptoms_agr_193_1_sum': 'numeric', 'spas_symptoms_agr_194_3_avg': 'numeric', 'spas_symptoms_agr_195_3_std': 'numeric', 'spas_symptoms_agr_196_3_sum': 'numeric', 'spas_symptoms_agr_197_6_avg': 'numeric', 'spas_symptoms_agr_198_6_std': 'numeric', 'spas_symptoms_agr_199_6_sum': 'numeric', 'spas_symptoms_agr_200_12_avg': 'numeric', 'spas_symptoms_agr_201_12_std': 'numeric', 'spas_symptoms_agr_202_12_sum': 'numeric', 'spas_symptoms_agr_203_1_avg': 'numeric', 'spas_symptoms_agr_204_1_std': 'numeric', 'spas_symptoms_agr_205_1_sum': 'numeric', 'spas_symptoms_agr_206_3_avg': 'numeric', 'spas_symptoms_agr_207_3_std': 'numeric', 'spas_symptoms_agr_208_3_sum': 'numeric', 'spas_symptoms_agr_209_6_avg': 'numeric', 'spas_symptoms_agr_210_6_std': 'numeric', 'spas_symptoms_agr_211_6_sum': 'numeric', 'spas_symptoms_agr_212_12_avg': 'numeric', 'spas_symptoms_agr_213_12_std': 'numeric', 'spas_symptoms_agr_214_12_sum': 'numeric', 'spas_symptoms_agr_215_1_avg': 'numeric', 'spas_symptoms_agr_216_1_std': 'numeric', 'spas_symptoms_agr_217_1_sum': 'numeric', 'spas_symptoms_agr_218_3_avg': 'numeric', 'spas_symptoms_agr_219_3_std': 'numeric', 'spas_symptoms_agr_220_3_sum': 'numeric', 'spas_symptoms_agr_221_6_avg': 'numeric', 'spas_symptoms_agr_222_6_std': 'numeric', 'spas_symptoms_agr_223_6_sum': 'numeric', 'spas_symptoms_agr_224_12_avg': 'numeric', 'spas_symptoms_agr_225_12_std': 'numeric', 'spas_symptoms_agr_226_12_sum': 'numeric', 'spas_symptoms_agr_227_1_avg': 'numeric', 'spas_symptoms_agr_228_1_std': 'numeric', 'spas_symptoms_agr_229_1_sum': 'numeric', 'spas_symptoms_agr_230_3_avg': 'numeric', 'spas_symptoms_agr_231_3_std': 'numeric', 'spas_symptoms_agr_232_3_sum': 'numeric', 'spas_symptoms_agr_233_6_avg': 'numeric', 'spas_symptoms_agr_234_6_std': 'numeric', 'spas_symptoms_agr_235_6_sum': 'numeric', 'issues_0_1_sum': 'numeric', 'issues_1_3_sum': 'numeric', 'issues_2_6_sum': 'numeric', 'issues_3_1_sum': 'numeric', 'issues_4_3_sum': 'numeric', 'issues_5_6_sum': 'numeric', 'issues_6_1_sum': 'numeric', 'issues_7_3_sum': 'numeric', 'issues_8_6_sum': 'numeric', 'issues_9_1_sum': 'numeric', 'issues_10_3_sum': 'numeric', 'issues_11_6_sum': 'numeric', 'issues_12_1_sum': 'numeric', 'issues_13_3_sum': 'numeric', 'issues_14_6_sum': 'numeric', 'issues_15_1_sum': 'numeric', 'issues_16_3_sum': 'numeric', 'issues_17_6_sum': 'numeric', 'issues_18_1_sum': 'numeric', 'issues_19_3_sum': 'numeric', 'issues_20_6_sum': 'numeric', 'issues_21_1_sum': 'numeric', 'issues_22_3_sum': 'numeric', 'issues_23_6_sum': 'numeric', 'issues_24_1_sum': 'numeric', 'issues_25_3_sum': 'numeric', 'issues_26_6_sum': 'numeric', 'issues_27_1_sum': 'numeric', 'issues_28_3_sum': 'numeric', 'issues_29_6_sum': 'numeric', 'issues_30_1_sum': 'numeric', 'issues_31_3_sum': 'numeric', 'issues_32_6_sum': 'numeric', 'issues_33_1_sum': 'numeric', 'issues_34_3_sum': 'numeric', 'issues_35_6_sum': 'numeric', 'issues_36_1_sum': 'numeric', 'issues_37_3_sum': 'numeric', 'issues_38_6_sum': 'numeric', 'issues_39_1_sum': 'numeric', 'issues_40_3_sum': 'numeric', 'issues_41_6_sum': 'numeric', 'issues_42_1_sum': 'numeric', 'issues_43_3_sum': 'numeric', 'issues_44_6_sum': 'numeric', 'issues_45_1_sum': 'numeric', 'issues_46_3_sum': 'numeric', 'issues_47_6_sum': 'numeric', 'issues_48_1_sum': 'numeric', 'issues_49_3_sum': 'numeric', 'issues_50_6_sum': 'numeric', 'issues_51_1_sum': 'numeric', 'issues_52_3_sum': 'numeric', 'issues_53_6_sum': 'numeric', 'issues_54_1_sum': 'numeric', 'issues_55_3_sum': 'numeric', 'issues_56_6_sum': 'numeric', 'issues_57_1_sum': 'numeric', 'issues_58_3_sum': 'numeric', 'issues_59_6_sum': 'numeric', 'issues_60_1_sum': 'numeric', 'issues_61_3_sum': 'numeric', 'issues_62_6_sum': 'numeric', 'issues_63_1_sum': 'numeric', 'issues_64_1_sum': 'numeric', 'issues_65_1_sum': 'numeric', 'issues_66_1_sum': 'numeric', 'issues_67_1_sum': 'numeric', 'issues_68_1_sum': 'numeric', 'issues_69_1_sum': 'numeric', 'issues_70_1_sum': 'numeric', 'issues_71_1_sum': 'numeric', 'issues_72_1_sum': 'numeric', 'issues_73_1_sum': 'numeric', 'issues_74_3_sum': 'numeric', 'issues_75_6_sum': 'numeric', 'issues_76_1_sum': 'numeric', 'issues_77_1_sum': 'numeric', 'issues_78_1_sum': 'numeric', 'issues_79_1_sum': 'numeric', 'issues_80_1_sum': 'numeric', 'issues_81_1_sum': 'numeric', 'issues_82_1_sum': 'numeric', 'issues_83_1_sum': 'numeric', 'issues_84_1_sum': 'numeric', 'issues_85_1_sum': 'numeric', 'issues_86_1_sum': 'numeric', 'issues_87_3_sum': 'numeric', 'issues_88_6_sum': 'numeric', 'issues_89_1_sum': 'numeric', 'issues_90_1_sum': 'numeric', 'issues_91_1_sum': 'numeric', 'issues_92_1_sum': 'numeric', 'issues_93_1_sum': 'numeric', 'issues_94_1_sum': 'numeric', 'issues_95_1_sum': 'numeric', 'issues_96_1_sum': 'numeric', 'issues_97_1_sum': 'numeric', 'issues_98_1_sum': 'numeric', 'issues_99_1_sum': 'numeric', 'issues_100_3_sum': 'numeric', 'issues_101_6_sum': 'numeric', 'issues_102_1_sum': 'numeric', 'issues_103_1_sum': 'numeric', 'issues_104_1_sum': 'numeric', 'issues_105_1_sum': 'numeric', 'issues_106_1_sum': 'numeric', 'issues_107_1_sum': 'numeric', 'issues_108_1_sum': 'numeric', 'issues_109_1_sum': 'numeric', 'issues_110_1_sum': 'numeric', 'issues_111_1_sum': 'numeric', 'issues_112_1_sum': 'numeric', 'issues_113_3_sum': 'numeric', 'issues_114_6_sum': 'numeric', 'issues_115_1_sum': 'numeric', 'issues_116_3_sum': 'numeric', 'issues_117_6_sum': 'numeric', 'issues_118_1_sum': 'numeric', 'issues_119_3_sum': 'numeric', 'issues_120_6_sum': 'numeric', 'issues_121_1_sum': 'numeric', 'issues_122_3_sum': 'numeric', 'issues_123_6_sum': 'numeric', 'issues_124_1_sum': 'numeric', 'issues_125_1_sum': 'numeric', 'issues_126_1_sum': 'numeric', 'issues_127_1_sum': 'numeric', 'issues_128_1_sum': 'numeric', 'issues_129_1_sum': 'numeric', 'issues_130_1_sum': 'numeric', 'issues_131_1_sum': 'numeric', 'issues_132_1_sum': 'numeric', 'issues_133_1_sum': 'numeric', 'issues_134_1_sum': 'numeric', 'issues_135_1d3_sum': 'numeric', 'issues_136_1d6_sum': 'numeric', 'issues_137_3_sum': 'numeric', 'issues_138_3d6_sum': 'numeric', 'issues_139_6_sum': 'numeric', 'issues_140_1_avg': 'numeric', 'issues_141_1_std': 'numeric', 'issues_142_3_avg': 'numeric', 'issues_143_3_std': 'numeric', 'issues_144_6_avg': 'numeric', 'issues_145_6_std': 'numeric', 'issues_146_1_sum': 'numeric', 'issues_147_3_sum': 'numeric', 'issues_148_6_sum': 'numeric', 'issues_149_1_sum': 'numeric', 'issues_150_1_sum': 'numeric', 'issues_151_1_sum': 'numeric', 'issues_152_1_sum': 'numeric', 'issues_153_1_sum': 'numeric', 'issues_154_1_sum': 'numeric', 'issues_155_1_sum': 'numeric', 'issues_156_1_sum': 'numeric', 'issues_157_1_sum': 'numeric', 'issues_158_1_sum': 'numeric', 'communication_availability_46_1_flg': 'categorical_int', 'communication_availability_47_1_flg': 'categorical_int', 'online_cinema_201_1_cnt': 'numeric', 'online_cinema_213_1_cnt': 'numeric', 'online_cinema_224_1_cnt': 'numeric', 'communication_availability_48_1_flg': 'categorical_int', 'communication_availability_49_1_flg': 'categorical_int', 'communication_availability_50_1_flg': 'categorical_int', 'user_active_5_1_flg': 'categorical_int', 'deact_react_12_1_ctg': 'categorical_str', 'exist_tariff_2_1_flg': 'categorical_int', 'deact_react_13_1_ctg': 'categorical_int', 'tariff_plans_23_1_ctg': 'categorical_str', 'tariff_plans_24_src_id': 'categorical_int', 'deact_react_15_1_ctg': 'categorical_str', 'materials_details_13_1_ctg': 'categorical_str', 'user_devices_22_1_cnt': 'numeric', 'cities_0_0_ctg': 'categorical_str', 'cities_1_0_ctg': 'categorical_str', 'save_team_answers_1_1_cnt': 'numeric', 'save_team_answers_3_1_cnt': 'numeric', 'save_team_answers_5_1_cnt': 'numeric', 'save_team_answers_7_1_cnt': 'numeric', 'save_team_answers_9_1_cnt': 'numeric', 'save_team_answers_11_1_cnt': 'numeric', 'save_team_answers_13_1_cnt': 'numeric', 'save_team_answers_15_1_cnt': 'numeric', 'save_team_answers_17_1_cnt': 'numeric', 'save_team_answers_18_1_avg': 'numeric', 'save_team_answers_19_1_cnt': 'numeric', 'save_team_answers_21_1_cnt': 'numeric', 'save_team_answers_23_1_cnt': 'numeric', 'save_team_answers_25_1_cnt': 'numeric', 'save_team_answers_27_1_cnt': 'numeric', 'save_team_answers_29_1_cnt': 'numeric', 'save_team_answers_31_1_cnt': 'numeric', 'save_team_answers_33_1_cnt': 'numeric', 'save_team_answers_35_1_cnt': 'numeric', 'save_team_answers_37_1_cnt': 'numeric', 'save_team_answers_39_1_cnt': 'numeric', 'communication_availability_51_1_flg': 'categorical_int', 'communication_availability_52_1_flg': 'categorical_int', 'communication_availability_53_1_flg': 'categorical_int', 'materials_details_14_1_ctg': 'categorical_str', 'materials_details_15_1_ctg': 'categorical_str', 'materials_details_16_1_ctg': 'numeric', 'communication_availability_54_1_flg': 'categorical_int', 'migrant_0_1_flg': 'categorical_int', 'user_devices_23_1_cnt': 'numeric', 'communication_availability_55_1_flg': 'categorical_int', 'user_active_6_1_flg': 'categorical_int', 'user_devices_24_1_cnt': 'numeric', 'communication_availability_56_1_ctg': 'categorical_int', 'communication_availability_57_1_ctg': 'categorical_int', 'materials_details_17_1_cnt': 'numeric', 'movix_app_visits_0_1_cnt': 'numeric', 'movix_app_visits_1_1_part': 'numeric', 'movix_app_visits_2_1_cnt': 'numeric', 'movix_app_visits_3_1_cnt': 'numeric', 'movix_app_visits_4_1_part': 'numeric', 'movix_app_visits_5_1_cnt': 'numeric', 'movix_app_visits_6_1_part': 'numeric', 'movix_app_visits_7_1_cnt': 'numeric', 'movix_app_visits_8_1_part': 'numeric', 'movix_app_visits_9_1_cnt': 'numeric', 'movix_app_visits_10_1_cnt': 'numeric', 'movix_app_visits_11_1_cnt': 'numeric', 'movix_app_visits_12_1_part': 'numeric', 'movix_app_visits_13_1_cnt': 'numeric', 'movix_app_visits_14_1_cnt': 'numeric', 'movix_app_visits_15_1_cnt': 'numeric', 'movix_app_visits_16_1_part': 'numeric', 'movix_app_visits_17_1_cnt': 'numeric', 'movix_app_visits_18_1_cnt': 'numeric', 'movix_app_visits_19_1_part': 'numeric', 'movix_app_visits_20_1_cnt': 'numeric', 'movix_app_visits_21_1_cnt': 'numeric', 'movix_app_visits_22_1_cnt': 'numeric', 'movix_app_visits_23_1_cnt': 'numeric', 'movix_app_visits_24_1_cnt': 'numeric', 'movix_app_visits_25_1_cnt': 'numeric', 'movix_app_visits_26_1_cnt': 'numeric', 'movix_app_visits_27_1_cnt': 'numeric', 'movix_app_visits_28_1_part': 'numeric', 'movix_app_visits_29_1_cnt': 'numeric', 'movix_app_visits_30_1_cnt': 'numeric', 'movix_app_visits_31_1_part': 'numeric', 'movix_app_visits_32_1_cnt': 'numeric', 'movix_app_visits_33_1_cnt': 'numeric', 'movix_app_visits_34_1_part': 'numeric', 'movix_app_visits_35_1_cnt': 'numeric', 'movix_app_visits_36_1_cnt': 'numeric', 'movix_app_visits_37_1_cnt': 'numeric', 'movix_app_visits_38_1_cnt': 'numeric', 'movix_app_visits_39_1_cnt': 'numeric', 'movix_app_visits_40_1_part': 'numeric', 'movix_app_visits_41_1_cnt': 'numeric', 'movix_app_visits_42_1_cnt': 'numeric', 'movix_app_visits_43_1_part': 'numeric', 'movix_app_visits_44_1_cnt': 'numeric', 'movix_app_visits_45_1_cnt': 'numeric', 'movix_app_visits_46_1_cnt': 'numeric', 'movix_app_visits_47_1_part': 'numeric', 'movix_app_visits_48_1_cnt': 'numeric', 'movix_app_visits_49_1_cnt': 'numeric', 'movix_app_visits_50_1_cnt': 'numeric', 'movix_app_visits_51_1_cnt': 'numeric', 'movix_app_visits_52_1_part': 'numeric', 'movix_app_visits_53_1_cnt': 'numeric', 'movix_app_visits_54_1_cnt': 'numeric', 'movix_app_visits_55_1_cnt': 'numeric', 'movix_app_visits_56_1_cnt': 'numeric', 'movix_app_visits_57_1_cnt': 'numeric', 'movix_app_visits_58_1_cnt': 'numeric', 'movix_app_visits_59_1_cnt': 'numeric', 'movix_app_visits_60_1_cnt': 'numeric', 'movix_app_visits_61_1_part': 'numeric', 'movix_app_visits_62_1_cnt': 'numeric', 'movix_app_visits_63_1_cnt': 'numeric', 'movix_app_visits_64_1_part': 'numeric', 'movix_app_visits_65_1_cnt': 'numeric', 'movix_app_visits_66_1_cnt': 'numeric', 'movix_app_visits_67_1_part': 'numeric', 'movix_app_visits_68_1_cnt': 'numeric', 'movix_app_visits_69_1_cnt': 'numeric', 'movix_app_visits_70_1_part': 'numeric', 'movix_app_visits_71_1_cnt': 'numeric', 'movix_app_visits_72_1_cnt': 'numeric', 'movix_app_visits_73_1_cnt': 'numeric', 'movix_app_visits_74_1_cnt': 'numeric', 'movix_app_visits_75_1_cnt': 'numeric', 'movix_app_visits_76_1_cnt': 'numeric', 'movix_app_visits_77_1_cnt': 'numeric', 'movix_app_visits_78_1_cnt': 'numeric', 'movix_app_visits_79_1_cnt': 'numeric', 'materials_details_18_1_dt': 'numeric', 'materials_details_19_1_dt': 'numeric', 'materials_details_20_1_flg': 'categorical_int', 'materials_details_21_1_num': 'numeric', 'materials_details_22_1_flg': 'categorical_int', 'materials_details_23_1_flg': 'categorical_int', 'communication_availability_58_1_flg': 'categorical_int', 'communication_availability_59_1_flg': 'categorical_int', 'user_devices_25_1_cnt': 'numeric', 'communication_availability_60_1_flg': 'categorical_int', 'user_devices_26_1_cnt': 'numeric', 'materials_details_24_1_cnt': 'numeric', 'spas_symptoms_agr_236_12_avg': 'numeric', 'spas_symptoms_agr_237_12_std': 'numeric', 'spas_symptoms_agr_238_12_sum': 'numeric', 'spas_symptoms_agr_239_1_avg': 'numeric', 'spas_symptoms_agr_240_1_std': 'numeric', 'spas_symptoms_agr_241_1_sum': 'numeric', 'spas_symptoms_agr_242_3_avg': 'numeric', 'spas_symptoms_agr_243_3_std': 'numeric', 'spas_symptoms_agr_244_3_sum': 'numeric', 'spas_symptoms_agr_245_6_avg': 'numeric', 'spas_symptoms_agr_246_6_std': 'numeric', 'spas_symptoms_agr_247_6_sum': 'numeric', 'spas_symptoms_agr_248_12_avg': 'numeric', 'spas_symptoms_agr_249_12_std': 'numeric', 'spas_symptoms_agr_250_12_sum': 'numeric', 'spas_symptoms_agr_251_1_avg': 'numeric', 'spas_symptoms_agr_252_1_std': 'numeric', 'spas_symptoms_agr_253_1_sum': 'numeric', 'spas_symptoms_agr_254_3_avg': 'numeric', 'spas_symptoms_agr_255_3_std': 'numeric', 'spas_symptoms_agr_256_3_sum': 'numeric', 'spas_symptoms_agr_257_6_avg': 'numeric', 'spas_symptoms_agr_258_6_std': 'numeric', 'spas_symptoms_agr_259_6_sum': 'numeric', 'spas_symptoms_agr_260_12_avg': 'numeric', 'spas_symptoms_agr_261_12_std': 'numeric', 'spas_symptoms_agr_262_12_sum': 'numeric', 'spas_symptoms_agr_263_1_avg': 'numeric', 'spas_symptoms_agr_264_1_std': 'numeric', 'spas_symptoms_agr_265_1_sum': 'numeric', 'spas_symptoms_agr_266_3_avg': 'numeric', 'spas_symptoms_agr_267_3_std': 'numeric', 'spas_symptoms_agr_268_3_sum': 'numeric', 'spas_symptoms_agr_269_6_avg': 'numeric', 'spas_symptoms_agr_270_6_std': 'numeric', 'spas_symptoms_agr_271_6_sum': 'numeric', 'spas_symptoms_agr_272_12_avg': 'numeric', 'spas_symptoms_agr_273_12_std': 'numeric', 'spas_symptoms_agr_274_12_sum': 'numeric', 'spas_symptoms_agr_275_1_avg': 'numeric', 'spas_symptoms_agr_276_1_std': 'numeric', 'spas_symptoms_agr_277_1_sum': 'numeric', 'spas_symptoms_agr_278_3_avg': 'numeric', 'spas_symptoms_agr_279_3_std': 'numeric', 'spas_symptoms_agr_280_3_sum': 'numeric', 'spas_symptoms_agr_281_6_avg': 'numeric', 'spas_symptoms_agr_282_6_std': 'numeric', 'spas_symptoms_agr_283_6_sum': 'numeric', 'spas_symptoms_agr_284_12_avg': 'numeric', 'spas_symptoms_agr_285_12_std': 'numeric', 'spas_symptoms_agr_286_12_sum': 'numeric', 'spas_symptoms_agr_287_1_avg': 'numeric', 'user_active_7_1_flg': 'categorical_int', 'user_active_8_1_flg': 'categorical_int', 'user_active_9_1_flg': 'categorical_int', 'user_active_10_1_flg': 'categorical_int', 'user_active_11_1_flg': 'categorical_int', 'user_active_12_1_flg': 'categorical_int', 'user_active_13_1_flg': 'categorical_int', 'user_active_14_1_flg': 'categorical_int', 'user_active_15_1_flg': 'categorical_int', 'user_active_16_1_flg': 'categorical_int', 'user_active_17_1_flg': 'categorical_int', 'user_active_18_1_flg': 'categorical_int', 'user_active_19_1_flg': 'categorical_int', 'user_active_20_1_flg': 'categorical_int', 'user_active_21_1_flg': 'categorical_int', 'user_active_22_0_dt': 'numeric', 'user_active_23_0_dt': 'numeric', 'user_active_24_0_dt': 'numeric', 'user_active_25_0_dt': 'numeric', 'user_active_27_0_dt': 'numeric', 'user_active_29_1_flg': 'categorical_int', 'user_active_30_1_flg': 'categorical_int', 'user_active_31_1_flg': 'categorical_int', 'user_active_32_1_flg': 'categorical_int', 'user_active_33_1_flg': 'categorical_int', 'user_active_34_1_flg': 'categorical_int', 'info_house_10_0_ctg': 'categorical_str', 'basic_info_0_0_avg': 'numeric', 'basic_info_1_0_max': 'numeric', 'basic_info_2_0_min': 'numeric', 'type_av_100_0_1_ctg': 'categorical_str', 'communication_availability_61_1_flg': 'categorical_int', 'agreement_type_0_0_ctg': 'categorical_str', 'communication_availability_62_1_flg': 'categorical_int', 'communication_availability_63_1_flg': 'categorical_int', 'communication_availability_64_1_flg': 'categorical_int', 'user_devices_27_1_cnt': 'numeric', 'communication_availability_65_1_flg': 'categorical_int', 'communication_availability_66_1_flg': 'categorical_int', 'autopay_0_0_ctg': 'categorical_str', 'autopay_1_1_flg': 'categorical_int', 'autopay_2_0_cnt': 'numeric', 'autopay_3_1_flg': 'categorical_int', 'autopay_4_0_dt': 'numeric', 'autopay_5_0_dt': 'numeric', 'autopay_6_0_dt': 'numeric', 'autopay_7_0_dt': 'numeric', 'autopay_8_0_ctg': 'categorical_str', 'autopay_9_0_ctg': 'categorical_str', 'communication_availability_67_1_flg': 'categorical_int', 'materials_details_25_1_cnt': 'numeric', 'campaigns_0_1_cnt': 'numeric', 'campaigns_1_3_cnt': 'numeric', 'campaigns_2_6_cnt': 'numeric', 'campaigns_3_1_sum': 'numeric', 'campaigns_4_1_part': 'numeric', 'campaigns_5_1_sum': 'numeric', 'campaigns_6_3_part': 'numeric', 'campaigns_7_6_part': 'numeric', 'campaigns_8_1_part': 'numeric', 'campaigns_9_1_sum': 'numeric', 'campaigns_10_3_part': 'numeric', 'campaigns_11_6_part': 'numeric', 'campaigns_12_1_part': 'numeric', 'campaigns_13_1_sum': 'numeric', 'campaigns_14_3_part': 'numeric', 'campaigns_15_6_part': 'numeric', 'campaigns_16_1_sum': 'numeric', 'campaigns_17_1_part': 'numeric', 'campaigns_18_1_sum': 'numeric', 'campaigns_19_3_part': 'numeric', 'campaigns_20_6_part': 'numeric', 'campaigns_21_1_part': 'numeric', 'campaigns_22_1_sum': 'numeric', 'campaigns_23_3_part': 'numeric', 'campaigns_24_6_part': 'numeric', 'campaigns_25_1_part': 'numeric', 'campaigns_26_1_sum': 'numeric', 'campaigns_27_3_part': 'numeric', 'campaigns_28_6_part': 'numeric', 'campaigns_29_1_sum': 'numeric', 'campaigns_30_1_part': 'numeric', 'campaigns_31_1_sum': 'numeric', 'campaigns_32_3_part': 'numeric', 'campaigns_33_6_part': 'numeric', 'campaigns_34_1_part': 'numeric', 'campaigns_35_1_sum': 'numeric', 'campaigns_36_3_part': 'numeric', 'campaigns_37_6_part': 'numeric', 'campaigns_38_1_part': 'numeric', 'campaigns_39_1_sum': 'numeric', 'campaigns_40_3_part': 'numeric', 'campaigns_41_6_part': 'numeric', 'campaigns_42_1_sum': 'numeric', 'campaigns_43_1_part': 'numeric', 'campaigns_44_1_sum': 'numeric', 'campaigns_45_3_part': 'numeric', 'campaigns_46_6_part': 'numeric', 'campaigns_47_1_sum': 'numeric', 'campaigns_48_1_part': 'numeric', 'campaigns_49_1_sum': 'numeric', 'campaigns_50_3_part': 'numeric', 'campaigns_51_6_part': 'numeric', 'campaigns_52_1_part': 'numeric', 'campaigns_53_1_sum': 'numeric', 'campaigns_54_3_part': 'numeric', 'campaigns_55_6_part': 'numeric', 'campaigns_56_1_part': 'numeric', 'campaigns_57_1_sum': 'numeric', 'campaigns_58_3_part': 'numeric', 'campaigns_59_6_part': 'numeric', 'campaigns_60_1_part': 'numeric', 'campaigns_61_1_sum': 'numeric', 'campaigns_62_3_part': 'numeric', 'campaigns_63_6_part': 'numeric', 'campaigns_64_1_part': 'numeric', 'campaigns_65_1_sum': 'numeric', 'campaigns_66_3_part': 'numeric', 'campaigns_67_6_part': 'numeric', 'campaigns_68_1_sum': 'numeric', 'campaigns_69_1_part': 'numeric', 'campaigns_70_1_sum': 'numeric', 'campaigns_71_3_part': 'numeric', 'campaigns_72_6_part': 'numeric', 'campaigns_73_1_part': 'numeric', 'campaigns_74_1_sum': 'numeric', 'campaigns_75_3_part': 'numeric', 'campaigns_76_6_part': 'numeric', 'campaigns_77_1_part': 'numeric', 'campaigns_78_1_sum': 'numeric', 'campaigns_79_3_part': 'numeric', 'campaigns_80_6_part': 'numeric', 'campaigns_81_1_sum': 'numeric', 'campaigns_82_1_part': 'numeric', 'campaigns_83_1_sum': 'numeric', 'campaigns_84_3_part': 'numeric', 'campaigns_85_6_part': 'numeric', 'campaigns_86_1_part': 'numeric', 'campaigns_87_1_sum': 'numeric', 'campaigns_88_3_part': 'numeric', 'campaigns_89_6_part': 'numeric', 'campaigns_90_1_part': 'numeric', 'campaigns_91_1_sum': 'numeric', 'campaigns_92_3_part': 'numeric', 'campaigns_93_6_part': 'numeric', 'campaigns_94_1_sum': 'numeric', 'campaigns_95_1_part': 'numeric', 'campaigns_96_1_sum': 'numeric', 'campaigns_97_3_part': 'numeric', 'campaigns_98_6_part': 'numeric', 'campaigns_99_1_part': 'numeric', 'campaigns_100_1_sum': 'numeric', 'campaigns_101_3_part': 'numeric', 'campaigns_102_6_part': 'numeric', 'campaigns_103_1_part': 'numeric', 'campaigns_104_1_sum': 'numeric', 'campaigns_105_3_part': 'numeric', 'campaigns_106_6_part': 'numeric', 'campaigns_107_1_sum': 'numeric', 'campaigns_108_1_part': 'numeric', 'campaigns_109_1_sum': 'numeric', 'campaigns_110_3_part': 'numeric', 'campaigns_111_6_part': 'numeric', 'campaigns_112_1_part': 'numeric', 'campaigns_113_1_sum': 'numeric', 'campaigns_114_3_part': 'numeric', 'campaigns_115_6_part': 'numeric', 'campaigns_116_1_part': 'numeric', 'campaigns_117_1_sum': 'numeric', 'campaigns_118_3_part': 'numeric', 'campaigns_119_6_part': 'numeric', 'campaigns_120_1_sum': 'numeric', 'campaigns_121_1_part': 'numeric', 'campaigns_122_1_sum': 'numeric', 'campaigns_123_3_part': 'numeric', 'campaigns_124_6_part': 'numeric', 'campaigns_125_1_part': 'numeric', 'campaigns_126_1_sum': 'numeric', 'campaigns_127_3_part': 'numeric', 'campaigns_128_6_part': 'numeric', 'campaigns_129_1_part': 'numeric', 'campaigns_130_1_sum': 'numeric', 'campaigns_131_3_part': 'numeric', 'campaigns_132_6_part': 'numeric', 'campaigns_133_1_sum': 'numeric', 'campaigns_134_1_part': 'numeric', 'campaigns_135_1_sum': 'numeric', 'campaigns_136_3_part': 'numeric', 'campaigns_137_6_part': 'numeric', 'campaigns_138_1_part': 'numeric', 'campaigns_139_1_sum': 'numeric', 'campaigns_140_3_part': 'numeric', 'campaigns_141_6_part': 'numeric', 'campaigns_142_1_part': 'numeric', 'campaigns_143_1_sum': 'numeric', 'campaigns_144_3_part': 'numeric', 'campaigns_145_6_part': 'numeric', 'campaigns_146_1_sum': 'numeric', 'campaigns_147_1_part': 'numeric', 'campaigns_148_1_sum': 'numeric', 'campaigns_149_3_part': 'numeric', 'campaigns_150_6_part': 'numeric', 'campaigns_151_1_part': 'numeric', 'campaigns_152_1_sum': 'numeric', 'campaigns_153_3_part': 'numeric', 'campaigns_154_6_part': 'numeric', 'campaigns_155_1_part': 'numeric', 'campaigns_156_1_sum': 'numeric', 'campaigns_157_3_part': 'numeric', 'campaigns_158_6_part': 'numeric', 'campaigns_159_1_sum': 'numeric', 'campaigns_160_1_part': 'numeric', 'campaigns_161_1_sum': 'numeric', 'campaigns_162_3_part': 'numeric', 'campaigns_163_6_part': 'numeric', 'campaigns_164_1_part': 'numeric', 'campaigns_165_1_sum': 'numeric', 'campaigns_166_3_part': 'numeric', 'campaigns_167_6_part': 'numeric', 'campaigns_168_1_part': 'numeric', 'campaigns_169_1_sum': 'numeric', 'campaigns_170_3_part': 'numeric', 'campaigns_171_6_part': 'numeric', 'campaigns_172_1_sum': 'numeric', 'campaigns_173_1_part': 'numeric', 'campaigns_174_1_sum': 'numeric', 'campaigns_175_3_part': 'numeric', 'campaigns_176_6_part': 'numeric', 'campaigns_177_1_part': 'numeric', 'campaigns_178_1_sum': 'numeric', 'campaigns_179_3_part': 'numeric', 'campaigns_180_6_part': 'numeric', 'campaigns_181_1_part': 'numeric', 'campaigns_182_1_sum': 'numeric', 'campaigns_183_3_part': 'numeric', 'campaigns_184_6_part': 'numeric', 'campaigns_185_1_sum': 'numeric', 'campaigns_186_1_part': 'numeric', 'campaigns_187_1_sum': 'numeric', 'campaigns_188_3_part': 'numeric', 'campaigns_189_6_part': 'numeric', 'campaigns_190_1_part': 'numeric', 'campaigns_191_1_sum': 'numeric', 'campaigns_192_3_part': 'numeric', 'campaigns_193_6_part': 'numeric', 'campaigns_194_1_part': 'numeric', 'campaigns_195_1_sum': 'numeric', 'campaigns_196_3_part': 'numeric', 'campaigns_197_6_part': 'numeric', 'campaigns_198_1_sum': 'numeric', 'campaigns_199_1_part': 'numeric', 'campaigns_200_1_sum': 'numeric', 'campaigns_201_3_part': 'numeric', 'campaigns_202_6_part': 'numeric', 'campaigns_203_1_part': 'numeric', 'campaigns_204_1_sum': 'numeric', 'campaigns_205_3_part': 'numeric', 'campaigns_206_6_part': 'numeric', 'campaigns_207_1_part': 'numeric', 'campaigns_208_1_sum': 'numeric', 'campaigns_209_3_part': 'numeric', 'campaigns_210_6_part': 'numeric', 'campaigns_211_1_sum': 'numeric', 'campaigns_212_1_part': 'numeric', 'campaigns_213_1_sum': 'numeric', 'campaigns_214_3_part': 'numeric', 'campaigns_215_6_part': 'numeric', 'campaigns_216_1_part': 'numeric', 'campaigns_217_1_sum': 'numeric', 'campaigns_218_3_part': 'numeric', 'campaigns_219_6_part': 'numeric', 'campaigns_220_1_part': 'numeric', 'campaigns_221_1_sum': 'numeric', 'campaigns_222_3_part': 'numeric', 'campaigns_223_6_part': 'numeric', 'campaigns_224_1_sum': 'numeric', 'campaigns_225_1_part': 'numeric', 'campaigns_226_1_sum': 'numeric', 'campaigns_227_3_part': 'numeric', 'campaigns_228_6_part': 'numeric', 'campaigns_229_1_part': 'numeric', 'campaigns_230_1_sum': 'numeric', 'campaigns_231_3_part': 'numeric', 'campaigns_232_6_part': 'numeric', 'campaigns_233_1_part': 'numeric', 'campaigns_234_1_sum': 'numeric', 'campaigns_235_3_part': 'numeric', 'campaigns_236_6_part': 'numeric', 'campaigns_237_1_sum': 'numeric', 'campaigns_238_1_part': 'numeric', 'campaigns_239_1_sum': 'numeric', 'campaigns_240_3_part': 'numeric', 'campaigns_241_6_part': 'numeric', 'campaigns_242_1_part': 'numeric', 'campaigns_243_1_sum': 'numeric', 'campaigns_244_3_part': 'numeric', 'campaigns_245_6_part': 'numeric', 'campaigns_246_1_part': 'numeric', 'campaigns_247_1_sum': 'numeric', 'campaigns_248_3_part': 'numeric', 'campaigns_249_6_part': 'numeric', 'campaigns_250_1_sum': 'numeric', 'campaigns_251_1_part': 'numeric', 'campaigns_252_1_sum': 'numeric', 'campaigns_253_3_part': 'numeric', 'campaigns_254_6_part': 'numeric', 'campaigns_255_1_part': 'numeric', 'campaigns_256_1_sum': 'numeric', 'campaigns_257_3_part': 'numeric', 'campaigns_258_6_part': 'numeric', 'campaigns_259_1_part': 'numeric', 'campaigns_260_1_sum': 'numeric', 'campaigns_261_3_part': 'numeric', 'campaigns_262_6_part': 'numeric', 'campaigns_263_1_sum': 'numeric', 'campaigns_264_1_part': 'numeric', 'campaigns_265_1_sum': 'numeric', 'campaigns_266_3_part': 'numeric', 'campaigns_267_6_part': 'numeric', 'campaigns_268_1_part': 'numeric', 'campaigns_269_1_sum': 'numeric', 'campaigns_270_3_part': 'numeric', 'campaigns_271_6_part': 'numeric', 'campaigns_272_1_part': 'numeric', 'campaigns_273_1_sum': 'numeric', 'campaigns_274_3_part': 'numeric', 'campaigns_275_6_part': 'numeric', 'campaigns_276_1_sum': 'numeric', 'campaigns_277_1_part': 'numeric', 'campaigns_278_1_sum': 'numeric', 'campaigns_279_3_part': 'numeric', 'campaigns_280_6_part': 'numeric', 'campaigns_281_1_part': 'numeric', 'campaigns_282_1_sum': 'numeric', 'campaigns_283_3_part': 'numeric', 'campaigns_284_6_part': 'numeric', 'campaigns_285_1_part': 'numeric', 'campaigns_286_1_sum': 'numeric', 'campaigns_287_3_part': 'numeric', 'campaigns_288_6_part': 'numeric', 'campaigns_289_1_sum': 'numeric', 'campaigns_290_1_part': 'numeric', 'campaigns_291_1_sum': 'numeric', 'campaigns_292_3_part': 'numeric', 'campaigns_293_6_part': 'numeric', 'campaigns_294_1_part': 'numeric', 'campaigns_295_1_sum': 'numeric', 'campaigns_296_3_part': 'numeric', 'campaigns_297_6_part': 'numeric', 'campaigns_298_1_part': 'numeric', 'campaigns_299_1_sum': 'numeric', 'campaigns_300_3_part': 'numeric', 'campaigns_301_6_part': 'numeric', 'campaigns_302_1_sum': 'numeric', 'campaigns_303_1_part': 'numeric', 'campaigns_304_1_sum': 'numeric', 'campaigns_305_3_part': 'numeric', 'campaigns_306_6_part': 'numeric', 'campaigns_307_1_part': 'numeric', 'campaigns_308_1_sum': 'numeric', 'campaigns_309_3_part': 'numeric', 'campaigns_310_6_part': 'numeric', 'campaigns_311_1_part': 'numeric', 'campaigns_312_1_sum': 'numeric', 'campaigns_313_3_part': 'numeric', 'campaigns_314_6_part': 'numeric', 'campaigns_315_1_sum': 'numeric', 'campaigns_316_1_part': 'numeric', 'campaigns_317_1_sum': 'numeric', 'campaigns_318_3_part': 'numeric', 'campaigns_319_6_part': 'numeric', 'campaigns_320_1_part': 'numeric', 'campaigns_321_1_sum': 'numeric', 'campaigns_322_3_part': 'numeric', 'campaigns_323_6_part': 'numeric', 'campaigns_324_1_part': 'numeric', 'campaigns_325_1_sum': 'numeric', 'campaigns_326_3_part': 'numeric', 'campaigns_327_6_part': 'numeric', 'campaigns_328_1_sum': 'numeric', 'campaigns_329_1_part': 'numeric', 'campaigns_330_1_sum': 'numeric', 'campaigns_331_3_part': 'numeric', 'campaigns_332_6_part': 'numeric', 'campaigns_333_1_part': 'numeric', 'campaigns_334_1_sum': 'numeric', 'campaigns_335_3_part': 'numeric', 'campaigns_336_6_part': 'numeric', 'campaigns_337_1_part': 'numeric', 'campaigns_338_1_sum': 'numeric', 'campaigns_339_3_part': 'numeric', 'campaigns_340_6_part': 'numeric', 'campaigns_341_1_part': 'numeric', 'campaigns_342_1_sum': 'numeric', 'campaigns_343_1d3_part': 'numeric', 'campaigns_344_1d6_part': 'numeric', 'campaigns_345_3_part': 'numeric', 'campaigns_346_3_sum': 'numeric', 'campaigns_347_3d6_part': 'numeric', 'campaigns_348_6_part': 'numeric', 'campaigns_349_6_sum': 'numeric', 'campaigns_350_1_sum': 'numeric', 'campaigns_351_1_sum': 'numeric', 'campaigns_352_1_sum': 'numeric', 'campaigns_353_1_sum': 'numeric', 'campaigns_354_1_sum': 'numeric', 'campaigns_355_1_sum': 'numeric', 'campaigns_356_1_sum': 'numeric', 'campaigns_357_1_sum': 'numeric', 'campaigns_358_1_sum': 'numeric', 'campaigns_359_1_sum': 'numeric', 'campaigns_360_1_sum': 'numeric', 'campaigns_361_1_cnt': 'numeric', 'campaigns_362_1_part': 'numeric', 'campaigns_363_1d3_part': 'numeric', 'campaigns_364_1d6_part': 'numeric', 'campaigns_365_3_cnt': 'numeric', 'campaigns_366_3_part': 'numeric', 'campaigns_367_3d6_part': 'numeric', 'campaigns_368_6_cnt': 'numeric', 'campaigns_369_6_part': 'numeric', 'campaigns_370_1_part': 'numeric', 'campaigns_371_1d3_part': 'numeric', 'campaigns_372_1d6_part': 'numeric', 'campaigns_373_3_part': 'numeric', 'campaigns_374_3d6_part': 'numeric', 'campaigns_375_6_part': 'numeric', 'campaigns_376_1_cnt': 'numeric', 'campaigns_377_3_cnt': 'numeric', 'campaigns_378_6_cnt': 'numeric', 'campaigns_379_1_cnt': 'numeric', 'campaigns_380_1_part': 'numeric', 'campaigns_381_1d3_part': 'numeric', 'campaigns_382_1d6_part': 'numeric', 'campaigns_383_3_cnt': 'numeric', 'campaigns_384_3_part': 'numeric', 'campaigns_385_3d6_part': 'numeric', 'campaigns_386_6_cnt': 'numeric', 'campaigns_387_6_part': 'numeric', 'campaigns_388_1_part': 'numeric', 'campaigns_389_1_sum': 'numeric', 'campaigns_390_1d3_part': 'numeric', 'campaigns_391_1d6_part': 'numeric', 'campaigns_392_3_part': 'numeric', 'campaigns_393_3_sum': 'numeric', 'campaigns_394_3d6_part': 'numeric', 'campaigns_395_6_part': 'numeric', 'campaigns_396_6_sum': 'numeric', 'campaigns_397_1_part': 'numeric', 'campaigns_398_1_sum': 'numeric', 'campaigns_399_1d3_part': 'numeric', 'campaigns_400_1d6_part': 'numeric', 'campaigns_401_3_part': 'numeric', 'campaigns_402_3_sum': 'numeric', 'campaigns_403_3d6_part': 'numeric', 'campaigns_404_6_part': 'numeric', 'campaigns_405_6_sum': 'numeric', 'user_devices_28_1_cnt': 'numeric', 'area_1_0_ctg': 'categorical_str', 'social_dem_1_0_flg': 'categorical_int', 'social_dem_2_0_flg': 'categorical_int', 'social_dem_3_0_flg': 'categorical_int', 'social_dem_4_0_flg': 'categorical_int', 'cities_2_0_ctg': 'categorical_str', 'user_devices_29_1_cnt': 'numeric', 'overdue_payments_0_1_cnt': 'numeric', 'user_devices_30_1_cnt': 'numeric', 'user_active_35_1_flg': 'categorical_int', 'communication_availability_68_1_ctg': 'categorical_str', 'tariff_plans_25_1_ctg': 'categorical_str', 'tariff_plans_26_src_id': 'categorical_int', 'domru_site_158_1_cnt': 'numeric', 'domru_site_205_1_cnt': 'numeric', 'domru_site_215_1_cnt': 'numeric', 'communication_availability_69_1_flg': 'categorical_int', 'markers_806_1_cnt': 'numeric', 'markers_807_1_cnt': 'numeric', 'markers_808_1_cnt': 'numeric', 'markers_809_1_cnt': 'numeric', 'markers_810_1_cnt': 'numeric', 'markers_811_1_cnt': 'numeric', 'markers_812_1_cnt': 'numeric', 'markers_813_1_cnt': 'numeric', 'markers_814_1_cnt': 'numeric', 'markers_815_1_cnt': 'numeric', 'markers_816_1_cnt': 'numeric', 'markers_817_1_cnt': 'numeric', 'markers_818_1_cnt': 'numeric', 'markers_819_1_cnt': 'numeric', 'markers_820_1_cnt': 'numeric', 'markers_821_1_cnt': 'numeric', 'markers_822_1_cnt': 'numeric', 'markers_823_1_cnt': 'numeric', 'markers_824_1_cnt': 'numeric', 'markers_825_1_cnt': 'numeric', 'markers_826_1_cnt': 'numeric', 'markers_827_1_cnt': 'numeric', 'markers_828_1_cnt': 'numeric', 'markers_829_1_cnt': 'numeric', 'markers_830_1_cnt': 'numeric', 'markers_831_1_cnt': 'numeric', 'markers_832_1_cnt': 'numeric', 'markers_833_1_cnt': 'numeric', 'markers_834_1_cnt': 'numeric', 'markers_835_1_cnt': 'numeric', 'markers_836_1_cnt': 'numeric', 'markers_837_1_cnt': 'numeric', 'markers_838_1_cnt': 'numeric', 'markers_839_1_cnt': 'numeric', 'markers_840_1_cnt': 'numeric', 'markers_841_1_cnt': 'numeric', 'markers_842_1_cnt': 'numeric', 'markers_843_1_cnt': 'numeric', 'markers_844_1_cnt': 'numeric', 'markers_845_1_cnt': 'numeric', 'markers_846_1_cnt': 'numeric', 'markers_847_1_cnt': 'numeric', 'markers_848_1_cnt': 'numeric', 'markers_849_1_cnt': 'numeric', 'markers_850_1_cnt': 'numeric', 'markers_851_1_cnt': 'numeric', 'markers_852_1_cnt': 'numeric', 'markers_853_1_cnt': 'numeric', 'markers_854_1_cnt': 'numeric', 'markers_855_1_cnt': 'numeric', 'markers_856_1_cnt': 'numeric', 'markers_857_1_cnt': 'numeric', 'markers_858_1_cnt': 'numeric', 'markers_859_1_cnt': 'numeric', 'markers_860_1_cnt': 'numeric', 'markers_861_1_cnt': 'numeric', 'markers_862_1_cnt': 'numeric', 'markers_863_1_cnt': 'numeric', 'markers_864_1_cnt': 'numeric', 'markers_865_1_cnt': 'numeric', 'markers_866_1_cnt': 'numeric', 'markers_867_1_cnt': 'numeric', 'markers_868_1_cnt': 'numeric', 'markers_869_1_cnt': 'numeric', 'markers_870_1_cnt': 'numeric', 'markers_871_1_cnt': 'numeric', 'markers_872_1_cnt': 'numeric', 'markers_873_1_cnt': 'numeric', 'markers_874_1_cnt': 'numeric', 'markers_875_1_cnt': 'numeric', 'markers_876_1_cnt': 'numeric', 'markers_877_1_cnt': 'numeric', 'markers_878_1_cnt': 'numeric', 'markers_879_1_cnt': 'numeric', 'markers_880_1_cnt': 'numeric', 'markers_881_1_cnt': 'numeric', 'markers_882_1_cnt': 'numeric', 'markers_883_1_cnt': 'numeric', 'markers_884_1_cnt': 'numeric', 'markers_885_1_cnt': 'numeric', 'markers_886_1_cnt': 'numeric', 'markers_887_1_cnt': 'numeric', 'markers_888_1_cnt': 'numeric', 'markers_889_1_cnt': 'numeric', 'markers_890_1_cnt': 'numeric', 'markers_891_1_cnt': 'numeric', 'markers_892_1_cnt': 'numeric', 'markers_893_1_cnt': 'numeric', 'markers_894_1_cnt': 'numeric', 'markers_895_1_cnt': 'numeric', 'markers_896_1_cnt': 'numeric', 'markers_897_1_cnt': 'numeric', 'markers_898_1_cnt': 'numeric', 'markers_899_1_cnt': 'numeric', 'markers_900_1_cnt': 'numeric', 'markers_901_1_cnt': 'numeric', 'markers_902_1_cnt': 'numeric', 'markers_903_1_cnt': 'numeric', 'markers_904_1_cnt': 'numeric', 'markers_905_1_cnt': 'numeric', 'markers_906_1_cnt': 'numeric', 'markers_907_1_cnt': 'numeric', 'markers_908_1_cnt': 'numeric', 'markers_909_1_cnt': 'numeric', 'markers_910_1_cnt': 'numeric', 'markers_911_1_cnt': 'numeric', 'markers_912_1_cnt': 'numeric', 'markers_913_1_cnt': 'numeric', 'markers_914_1_cnt': 'numeric', 'markers_915_1_cnt': 'numeric', 'markers_916_1_cnt': 'numeric', 'markers_917_1_cnt': 'numeric', 'markers_918_1_cnt': 'numeric', 'markers_919_1_cnt': 'numeric', 'markers_920_1_cnt': 'numeric', 'markers_921_1_cnt': 'numeric', 'markers_922_1_cnt': 'numeric', 'markers_923_1_cnt': 'numeric', 'markers_924_1_cnt': 'numeric', 'markers_925_1_cnt': 'numeric', 'markers_926_1_cnt': 'numeric', 'markers_927_1_cnt': 'numeric', 'markers_928_1_cnt': 'numeric', 'markers_929_1_cnt': 'numeric', 'markers_930_1_cnt': 'numeric', 'markers_931_1_cnt': 'numeric', 'markers_932_1_cnt': 'numeric', 'markers_933_1_cnt': 'numeric', 'markers_934_1_cnt': 'numeric', 'markers_935_1_cnt': 'numeric', 'markers_936_1_cnt': 'numeric', 'markers_937_1_cnt': 'numeric', 'markers_938_1_cnt': 'numeric', 'markers_939_1_cnt': 'numeric', 'markers_940_1_cnt': 'numeric', 'markers_941_1_cnt': 'numeric', 'markers_942_1_cnt': 'numeric', 'markers_943_1_cnt': 'numeric', 'markers_944_1_cnt': 'numeric', 'markers_945_1_cnt': 'numeric'}\n"
     ]
    }
   ],
   "source": [
    "#import json\n",
    "with open('features_types.json') as f:\n",
    "    data = json.load(f)\n",
    "print(data)"
   ]
  },
  {
   "cell_type": "code",
   "execution_count": 8,
   "metadata": {
    "execution": {
     "iopub.execute_input": "2023-10-08T18:08:34.430450Z",
     "iopub.status.busy": "2023-10-08T18:08:34.430030Z",
     "iopub.status.idle": "2023-10-08T18:08:34.444550Z",
     "shell.execute_reply": "2023-10-08T18:08:34.443052Z",
     "shell.execute_reply.started": "2023-10-08T18:08:34.430420Z"
    }
   },
   "outputs": [
    {
     "name": "stdout",
     "output_type": "stream",
     "text": [
      "                         0\n",
      "markers_0_1_cnt    numeric\n",
      "markers_1_1_cnt    numeric\n",
      "markers_2_1_cnt    numeric\n",
      "markers_3_1_cnt    numeric\n",
      "markers_4_1_cnt    numeric\n",
      "...                    ...\n",
      "markers_941_1_cnt  numeric\n",
      "markers_942_1_cnt  numeric\n",
      "markers_943_1_cnt  numeric\n",
      "markers_944_1_cnt  numeric\n",
      "markers_945_1_cnt  numeric\n",
      "\n",
      "[2776 rows x 1 columns]\n"
     ]
    }
   ],
   "source": [
    "# Table with name of fields\n",
    "df1=pd.DataFrame.from_dict(data,orient='index')\n",
    "df = df1.index\n",
    "print(df1)"
   ]
  },
  {
   "cell_type": "code",
   "execution_count": 9,
   "metadata": {},
   "outputs": [],
   "source": [
    "# Сформируем списко признаков\n",
    "b = df[900:1800].tolist()\n",
    "c = ['tariff_plans_4_1_num',\n",
    " 'charges_details_12_1_sum',\n",
    " 'payments_details_35_6_sum',\n",
    " 'spas_symptoms_agr_7_6_sum',\n",
    " 'markers_706_1_cnt',\n",
    " 'payments_details_28_3_sumpct',\n",
    " 'payments_details_27_1_sumpct',\n",
    " 'payments_details_29_6_sumpct',\n",
    " 'balance_details_0_1_num',\n",
    " 'payments_details_49_6_avg',\n",
    " 'payments_details_48_3_sum',\n",
    " 'markers_346_1_cnt',\n",
    " 'spas_symptoms_agr_18_6_std',\n",
    " 'arpu_2_6_avg',\n",
    " 'markers_349_1_cnt',\n",
    " 'markers_323_1_cnt',\n",
    " 'markers_476_1_cnt',\n",
    " 'payments_details_23_3d6_avg',\n",
    " 'markers_40_1_cnt',\n",
    " 'markers_310_1_cnt',\n",
    " 'markers_60_1_cnt',\n",
    " 'markers_330_1_cnt',\n",
    " 'markers_333_1_cnt',\n",
    " 'payments_details_33_1_sum',\n",
    " 'markers_334_1_cnt',\n",
    " 'markers_772_1_cnt',\n",
    " 'markers_59_1_cnt',\n",
    " 'markers_242_1_cnt',\n",
    " 'markers_387_1_cnt',\n",
    " 'tariff_plans_5_1_num']\n",
    "a = ['channel_name', 'target',\n",
    " 'materials_details_16_1_ctg',\n",
    " 'basic_info_2_0_min',\n",
    " 'basic_info_0_0_avg',\n",
    " 'user_devices_30_1_cnt',\n",
    " 'basic_info_1_0_max',\n",
    " 'cities_2_0_ctg',\n",
    " 'user_active_9_1_flg',\n",
    " 'user_devices_24_1_cnt',\n",
    " 'type_av_100_0_1_ctg',\n",
    " 'info_house_10_0_ctg',\n",
    " 'communication_availability_51_1_flg',\n",
    " 'materials_details_15_1_ctg',\n",
    " 'markers_904_1_cnt',\n",
    " 'movix_app_visits_17_1_cnt',\n",
    " 'campaigns_369_6_part',\n",
    " 'markers_933_1_cnt',\n",
    " 'user_active_23_0_dt',\n",
    " 'campaigns_357_1_sum',\n",
    " 'migrant_0_1_flg',\n",
    " 'markers_925_1_cnt',\n",
    " 'campaigns_41_6_part',\n",
    " 'materials_details_21_1_num',\n",
    " 'campaigns_315_1_sum',\n",
    " 'agreement_type_0_0_ctg',\n",
    " 'save_team_answers_21_1_cnt',\n",
    " 'campaigns_359_1_sum',\n",
    " 'campaigns_328_1_sum',\n",
    " 'campaigns_281_1_part',\n",
    " 'communication_availability_53_1_flg',\n",
    " 'cities_1_0_ctg',\n",
    " 'issues_11_6_sum',\n",
    " 'markers_905_1_cnt',\n",
    " 'materials_details_22_1_flg',\n",
    " 'markers_895_1_cnt',\n",
    " 'user_active_29_1_flg',\n",
    " 'markers_807_1_cnt',\n",
    " 'movix_app_visits_62_1_cnt',\n",
    " 'social_dem_2_0_flg',\n",
    " 'markers_858_1_cnt',\n",
    " 'campaigns_40_3_part',\n",
    " 'campaigns_364_1d6_part',\n",
    " 'movix_app_visits_24_1_cnt',\n",
    " 'campaigns_403_3d6_part',\n",
    " 'user_active_27_0_dt',\n",
    " 'spas_symptoms_agr_286_12_sum',\n",
    " 'user_active_10_1_flg',\n",
    " 'campaigns_324_1_part',\n",
    " 'user_active_24_0_dt',\n",
    " 'materials_details_19_1_dt']\n",
    "features_all = [a + b+ c][0]"
   ]
  },
  {
   "cell_type": "code",
   "execution_count": 10,
   "metadata": {},
   "outputs": [],
   "source": [
    "features_best = ['id','target','channel_name',\n",
    " 'basic_info_2_0_min',\n",
    "  'markers_706_1_cnt',\n",
    " 'tariff_plans_22_1_min',\n",
    " 'spas_symptoms_agr_105_12_std',\n",
    " 'arpu_2_6_avg',\n",
    " 'user_devices_30_1_cnt',\n",
    " 'materials_details_15_1_ctg',\n",
    " 'spas_symptoms_agr_114_6_std',\n",
    " 'info_house_10_0_ctg',\n",
    " 'user_active_24_0_dt',\n",
    " 'user_lifetime_3_0_dt',\n",
    " 'markers_772_1_cnt',\n",
    " 'type_av_100_0_1_ctg',\n",
    " 'traffic_details_43_1_std',\n",
    " 'markers_476_1_cnt']"
   ]
  },
  {
   "cell_type": "code",
   "execution_count": 11,
   "metadata": {
    "execution": {
     "iopub.execute_input": "2023-10-08T18:08:39.681360Z",
     "iopub.status.busy": "2023-10-08T18:08:39.680465Z",
     "iopub.status.idle": "2023-10-08T18:08:39.688264Z",
     "shell.execute_reply": "2023-10-08T18:08:39.687234Z",
     "shell.execute_reply.started": "2023-10-08T18:08:39.681303Z"
    }
   },
   "outputs": [],
   "source": [
    "features_all  = ['channel_name','target'] + df[1800:].tolist()"
   ]
  },
  {
   "cell_type": "code",
   "execution_count": 12,
   "metadata": {
    "execution": {
     "iopub.execute_input": "2023-10-08T18:08:40.463464Z",
     "iopub.status.busy": "2023-10-08T18:08:40.462725Z",
     "iopub.status.idle": "2023-10-08T18:08:40.476181Z",
     "shell.execute_reply": "2023-10-08T18:08:40.474339Z",
     "shell.execute_reply.started": "2023-10-08T18:08:40.463416Z"
    }
   },
   "outputs": [
    {
     "data": {
      "text/plain": [
       "978"
      ]
     },
     "execution_count": 12,
     "metadata": {},
     "output_type": "execute_result"
    }
   ],
   "source": [
    "len(features_all)"
   ]
  },
  {
   "cell_type": "code",
   "execution_count": 13,
   "metadata": {
    "execution": {
     "iopub.execute_input": "2023-10-08T18:08:40.994093Z",
     "iopub.status.busy": "2023-10-08T18:08:40.993677Z",
     "iopub.status.idle": "2023-10-08T18:08:51.937816Z",
     "shell.execute_reply": "2023-10-08T18:08:51.936333Z",
     "shell.execute_reply.started": "2023-10-08T18:08:40.994064Z"
    }
   },
   "outputs": [],
   "source": [
    "# Загрузим признаки\n",
    "data_all = pd.read_parquet('dataset_train.parquet', engine='fastparquet', columns=features_all)"
   ]
  },
  {
   "cell_type": "code",
   "execution_count": 14,
   "metadata": {
    "execution": {
     "iopub.execute_input": "2023-10-08T18:08:51.941928Z",
     "iopub.status.busy": "2023-10-08T18:08:51.940214Z",
     "iopub.status.idle": "2023-10-08T18:08:51.988523Z",
     "shell.execute_reply": "2023-10-08T18:08:51.986328Z",
     "shell.execute_reply.started": "2023-10-08T18:08:51.941862Z"
    }
   },
   "outputs": [
    {
     "name": "stdout",
     "output_type": "stream",
     "text": [
      "<class 'pandas.core.frame.DataFrame'>\n",
      "RangeIndex: 702086 entries, 0 to 702085\n",
      "Columns: 978 entries, channel_name to markers_945_1_cnt\n",
      "dtypes: float64(897), int32(56), int64(18), int8(6), object(1)\n",
      "memory usage: 4.9+ GB\n"
     ]
    }
   ],
   "source": [
    "data_all.info()"
   ]
  },
  {
   "cell_type": "code",
   "execution_count": 15,
   "metadata": {
    "execution": {
     "iopub.execute_input": "2023-10-08T18:08:51.996574Z",
     "iopub.status.busy": "2023-10-08T18:08:51.995600Z",
     "iopub.status.idle": "2023-10-08T18:08:53.525760Z",
     "shell.execute_reply": "2023-10-08T18:08:53.524258Z",
     "shell.execute_reply.started": "2023-10-08T18:08:51.996535Z"
    }
   },
   "outputs": [],
   "source": [
    "# Marking cat_features\n",
    "cat = ['ctg', 'flg','channel_name','src_id']\n",
    "cat_features = cat_columns(data_all, cat)\n",
    "data_all[cat_features] = data_all[cat_features].astype('category')\n",
    "#data_all['materials_details_16_1_ctg'] = data_all['materials_details_16_1_ctg'].astype('float64')\n",
    "#data_all['tariff_plans_20_1_ctg'] = data_all['tariff_plans_20_1_ctg'].astype('float64')"
   ]
  },
  {
   "cell_type": "code",
   "execution_count": 16,
   "metadata": {
    "execution": {
     "iopub.execute_input": "2023-10-08T18:08:53.528636Z",
     "iopub.status.busy": "2023-10-08T18:08:53.528132Z",
     "iopub.status.idle": "2023-10-08T18:09:01.492766Z",
     "shell.execute_reply": "2023-10-08T18:09:01.491551Z",
     "shell.execute_reply.started": "2023-10-08T18:08:53.528600Z"
    }
   },
   "outputs": [],
   "source": [
    "# Make downsampling\n",
    "features = data_all.drop(['target'], axis=1)\n",
    "target = data_all['target']\n",
    "features_downsampled, target_downsampled = downsample(features, target, 0.2)"
   ]
  },
  {
   "cell_type": "code",
   "execution_count": 17,
   "metadata": {
    "execution": {
     "iopub.execute_input": "2023-10-08T18:09:01.494638Z",
     "iopub.status.busy": "2023-10-08T18:09:01.494288Z",
     "iopub.status.idle": "2023-10-08T18:09:02.561085Z",
     "shell.execute_reply": "2023-10-08T18:09:02.559917Z",
     "shell.execute_reply.started": "2023-10-08T18:09:01.494611Z"
    }
   },
   "outputs": [],
   "source": [
    "# Make train and test samples\n",
    "features_downsampled_train, features_downsampled_test, target_downsampled_train,target_downsampled_test = train_test_split(features_downsampled, target_downsampled, test_size=0.25, random_state=RANDOM_STATE)"
   ]
  },
  {
   "cell_type": "code",
   "execution_count": 18,
   "metadata": {
    "execution": {
     "iopub.execute_input": "2023-10-08T18:09:02.562672Z",
     "iopub.status.busy": "2023-10-08T18:09:02.562344Z",
     "iopub.status.idle": "2023-10-08T18:09:02.568255Z",
     "shell.execute_reply": "2023-10-08T18:09:02.567536Z",
     "shell.execute_reply.started": "2023-10-08T18:09:02.562646Z"
    }
   },
   "outputs": [
    {
     "name": "stdout",
     "output_type": "stream",
     "text": [
      "(108594, 977)\n",
      "(108594,)\n",
      "(36198, 977)\n",
      "(36198,)\n"
     ]
    }
   ],
   "source": [
    "print(features_downsampled_train.shape)\n",
    "print(target_downsampled_train.shape)\n",
    "print(features_downsampled_test.shape)\n",
    "print(target_downsampled_test.shape)"
   ]
  },
  {
   "cell_type": "code",
   "execution_count": 13,
   "metadata": {
    "execution": {
     "iopub.execute_input": "2023-10-08T18:09:02.570736Z",
     "iopub.status.busy": "2023-10-08T18:09:02.569767Z",
     "iopub.status.idle": "2023-10-08T18:09:02.585462Z",
     "shell.execute_reply": "2023-10-08T18:09:02.584574Z",
     "shell.execute_reply.started": "2023-10-08T18:09:02.570707Z"
    }
   },
   "outputs": [],
   "source": [
    "def check_corr_kendall(data: pd.DataFrame):\n",
    "    \"\"\"\n",
    "    Функция для расчета корреляции Пирсона всех признаков с целевой переменной.\n",
    "    ---\n",
    "    Принимает на вход pd.DataFrame.\n",
    "    Возвращает pd.Series с значением коэффициента корреляции для каждого признака.\n",
    "    \"\"\"\n",
    "    # чекаем корреляцию с таргетом\n",
    "    correlation = data.iloc[:, :-1].corrwith(data['target'], method='kendall')\n",
    "    \n",
    "    # сортируем\n",
    "    correlation = correlation.sort_values(ascending=False)\n",
    "    \n",
    "    return correlation"
   ]
  },
  {
   "cell_type": "code",
   "execution_count": null,
   "metadata": {},
   "outputs": [],
   "source": [
    "# Сброс ограничений на количество выводимых рядов\n",
    "pd.set_option('display.max_rows', 1000)\n",
    " \n",
    "# Сброс ограничений на число столбцов\n",
    "pd.set_option('display.max_columns', 1000)\n",
    " \n",
    "# Сброс ограничений на количество символов в записи\n",
    "pd.set_option('display.max_colwidth', 1000)"
   ]
  },
  {
   "cell_type": "code",
   "execution_count": null,
   "metadata": {},
   "outputs": [],
   "source": [
    "check_corr_kendall(data_all)"
   ]
  },
  {
   "cell_type": "code",
   "execution_count": 19,
   "metadata": {
    "execution": {
     "iopub.execute_input": "2023-10-08T18:09:02.587197Z",
     "iopub.status.busy": "2023-10-08T18:09:02.586889Z",
     "iopub.status.idle": "2023-10-08T18:09:28.173467Z",
     "shell.execute_reply": "2023-10-08T18:09:28.172572Z",
     "shell.execute_reply.started": "2023-10-08T18:09:02.587172Z"
    }
   },
   "outputs": [
    {
     "name": "stderr",
     "output_type": "stream",
     "text": [
      "C:\\Users\\ipd08\\anaconda3\\lib\\site-packages\\joblib\\externals\\loky\\backend\\context.py:150: UserWarning: Could not find the number of physical cores for the following reason:\n",
      "found 0 physical cores < 1\n",
      "Returning the number of logical cores instead. You can silence this warning by setting LOKY_MAX_CPU_COUNT to the number of cores you want to use.\n",
      "  warnings.warn(\n",
      "  File \"C:\\Users\\ipd08\\anaconda3\\lib\\site-packages\\joblib\\externals\\loky\\backend\\context.py\", line 245, in _count_physical_cores\n",
      "    raise ValueError(\n"
     ]
    },
    {
     "name": "stdout",
     "output_type": "stream",
     "text": [
      "[LightGBM] [Warning] Categorical features with more bins than the configured maximum bin number found.\n",
      "[LightGBM] [Warning] For categorical features, max_bin and max_bin_by_feature may be ignored with a large number of categories.\n",
      "[LightGBM] [Info] Number of positive: 4125, number of negative: 104469\n",
      "[LightGBM] [Info] Auto-choosing row-wise multi-threading, the overhead of testing was 0.074612 seconds.\n",
      "You can set `force_row_wise=true` to remove the overhead.\n",
      "And if memory is not enough, you can set `force_col_wise=true`.\n",
      "[LightGBM] [Info] Total Bins 30694\n",
      "[LightGBM] [Info] Number of data points in the train set: 108594, number of used features: 962\n",
      "[LightGBM] [Info] [binary:BoostFromScore]: pavg=0.037986 -> initscore=-3.231824\n",
      "[LightGBM] [Info] Start training from score -3.231824\n"
     ]
    },
    {
     "data": {
      "text/html": [
       "<style>#sk-container-id-1 {color: black;background-color: white;}#sk-container-id-1 pre{padding: 0;}#sk-container-id-1 div.sk-toggleable {background-color: white;}#sk-container-id-1 label.sk-toggleable__label {cursor: pointer;display: block;width: 100%;margin-bottom: 0;padding: 0.3em;box-sizing: border-box;text-align: center;}#sk-container-id-1 label.sk-toggleable__label-arrow:before {content: \"▸\";float: left;margin-right: 0.25em;color: #696969;}#sk-container-id-1 label.sk-toggleable__label-arrow:hover:before {color: black;}#sk-container-id-1 div.sk-estimator:hover label.sk-toggleable__label-arrow:before {color: black;}#sk-container-id-1 div.sk-toggleable__content {max-height: 0;max-width: 0;overflow: hidden;text-align: left;background-color: #f0f8ff;}#sk-container-id-1 div.sk-toggleable__content pre {margin: 0.2em;color: black;border-radius: 0.25em;background-color: #f0f8ff;}#sk-container-id-1 input.sk-toggleable__control:checked~div.sk-toggleable__content {max-height: 200px;max-width: 100%;overflow: auto;}#sk-container-id-1 input.sk-toggleable__control:checked~label.sk-toggleable__label-arrow:before {content: \"▾\";}#sk-container-id-1 div.sk-estimator input.sk-toggleable__control:checked~label.sk-toggleable__label {background-color: #d4ebff;}#sk-container-id-1 div.sk-label input.sk-toggleable__control:checked~label.sk-toggleable__label {background-color: #d4ebff;}#sk-container-id-1 input.sk-hidden--visually {border: 0;clip: rect(1px 1px 1px 1px);clip: rect(1px, 1px, 1px, 1px);height: 1px;margin: -1px;overflow: hidden;padding: 0;position: absolute;width: 1px;}#sk-container-id-1 div.sk-estimator {font-family: monospace;background-color: #f0f8ff;border: 1px dotted black;border-radius: 0.25em;box-sizing: border-box;margin-bottom: 0.5em;}#sk-container-id-1 div.sk-estimator:hover {background-color: #d4ebff;}#sk-container-id-1 div.sk-parallel-item::after {content: \"\";width: 100%;border-bottom: 1px solid gray;flex-grow: 1;}#sk-container-id-1 div.sk-label:hover label.sk-toggleable__label {background-color: #d4ebff;}#sk-container-id-1 div.sk-serial::before {content: \"\";position: absolute;border-left: 1px solid gray;box-sizing: border-box;top: 0;bottom: 0;left: 50%;z-index: 0;}#sk-container-id-1 div.sk-serial {display: flex;flex-direction: column;align-items: center;background-color: white;padding-right: 0.2em;padding-left: 0.2em;position: relative;}#sk-container-id-1 div.sk-item {position: relative;z-index: 1;}#sk-container-id-1 div.sk-parallel {display: flex;align-items: stretch;justify-content: center;background-color: white;position: relative;}#sk-container-id-1 div.sk-item::before, #sk-container-id-1 div.sk-parallel-item::before {content: \"\";position: absolute;border-left: 1px solid gray;box-sizing: border-box;top: 0;bottom: 0;left: 50%;z-index: -1;}#sk-container-id-1 div.sk-parallel-item {display: flex;flex-direction: column;z-index: 1;position: relative;background-color: white;}#sk-container-id-1 div.sk-parallel-item:first-child::after {align-self: flex-end;width: 50%;}#sk-container-id-1 div.sk-parallel-item:last-child::after {align-self: flex-start;width: 50%;}#sk-container-id-1 div.sk-parallel-item:only-child::after {width: 0;}#sk-container-id-1 div.sk-dashed-wrapped {border: 1px dashed gray;margin: 0 0.4em 0.5em 0.4em;box-sizing: border-box;padding-bottom: 0.4em;background-color: white;}#sk-container-id-1 div.sk-label label {font-family: monospace;font-weight: bold;display: inline-block;line-height: 1.2em;}#sk-container-id-1 div.sk-label-container {text-align: center;}#sk-container-id-1 div.sk-container {/* jupyter's `normalize.less` sets `[hidden] { display: none; }` but bootstrap.min.css set `[hidden] { display: none !important; }` so we also need the `!important` here to be able to override the default hidden behavior on the sphinx rendered scikit-learn.org. See: https://github.com/scikit-learn/scikit-learn/issues/21755 */display: inline-block !important;position: relative;}#sk-container-id-1 div.sk-text-repr-fallback {display: none;}</style><div id=\"sk-container-id-1\" class=\"sk-top-container\"><div class=\"sk-text-repr-fallback\"><pre>LGBMClassifier(is_unbalance=True, learning_rate=0.05)</pre><b>In a Jupyter environment, please rerun this cell to show the HTML representation or trust the notebook. <br />On GitHub, the HTML representation is unable to render, please try loading this page with nbviewer.org.</b></div><div class=\"sk-container\" hidden><div class=\"sk-item\"><div class=\"sk-estimator sk-toggleable\"><input class=\"sk-toggleable__control sk-hidden--visually\" id=\"sk-estimator-id-1\" type=\"checkbox\" checked><label for=\"sk-estimator-id-1\" class=\"sk-toggleable__label sk-toggleable__label-arrow\">LGBMClassifier</label><div class=\"sk-toggleable__content\"><pre>LGBMClassifier(is_unbalance=True, learning_rate=0.05)</pre></div></div></div></div></div>"
      ],
      "text/plain": [
       "LGBMClassifier(is_unbalance=True, learning_rate=0.05)"
      ]
     },
     "execution_count": 19,
     "metadata": {},
     "output_type": "execute_result"
    }
   ],
   "source": [
    "from lightgbm import LGBMClassifier\n",
    "cat_features = features_downsampled_train.select_dtypes(include='category').columns.to_list()\n",
    "lgb = LGBMClassifier(learning_rate=0.05, n_estimators=100, num_leaves=31, is_unbalance=True)\n",
    "lgb.fit(features_downsampled_train, \n",
    "        target_downsampled_train,\n",
    "        categorical_feature=cat_features)\n"
   ]
  },
  {
   "cell_type": "code",
   "execution_count": 25,
   "metadata": {},
   "outputs": [
    {
     "name": "stdout",
     "output_type": "stream",
     "text": [
      "Метрика ROC_AUC на тестовой выборке: 0.7227352893157033\n"
     ]
    }
   ],
   "source": [
    "probabilities_cat = lgb.predict_proba(features_downsampled_test)[:,1]\n",
    "auc_roc = roc_auc_score(target_downsampled_test, probabilities_cat)\n",
    "\n",
    "print('Метрика ROC_AUC на тестовой выборке:', auc_roc)"
   ]
  },
  {
   "cell_type": "code",
   "execution_count": 26,
   "metadata": {},
   "outputs": [
    {
     "name": "stdout",
     "output_type": "stream",
     "text": [
      "Метрика ROC_AUC на тестовой выборке: 0.6652507475059227\n"
     ]
    }
   ],
   "source": [
    "probabilities_cat = lgb.predict(features_downsampled_test)\n",
    "auc_roc = roc_auc_score(target_downsampled_test, probabilities_cat)\n",
    "\n",
    "print('Метрика ROC_AUC на тестовой выборке:', auc_roc)"
   ]
  },
  {
   "cell_type": "code",
   "execution_count": 16,
   "metadata": {
    "execution": {
     "iopub.execute_input": "2023-10-08T18:09:44.580158Z",
     "iopub.status.busy": "2023-10-08T18:09:44.579706Z",
     "iopub.status.idle": "2023-10-08T18:09:54.910964Z",
     "shell.execute_reply": "2023-10-08T18:09:54.909455Z",
     "shell.execute_reply.started": "2023-10-08T18:09:44.580126Z"
    }
   },
   "outputs": [
    {
     "name": "stdout",
     "output_type": "stream",
     "text": [
      "Collecting shap\n",
      "  Downloading shap-0.42.1-cp310-cp310-win_amd64.whl (462 kB)\n",
      "     -------------------------------------- 462.3/462.3 kB 2.1 MB/s eta 0:00:00\n",
      "Requirement already satisfied: numpy in c:\\users\\ipd08\\anaconda3\\lib\\site-packages (from shap) (1.23.5)\n",
      "Requirement already satisfied: numba in c:\\users\\ipd08\\anaconda3\\lib\\site-packages (from shap) (0.56.4)\n",
      "Requirement already satisfied: packaging>20.9 in c:\\users\\ipd08\\anaconda3\\lib\\site-packages (from shap) (22.0)\n",
      "Collecting slicer==0.0.7\n",
      "  Downloading slicer-0.0.7-py3-none-any.whl (14 kB)\n",
      "Requirement already satisfied: tqdm>=4.27.0 in c:\\users\\ipd08\\anaconda3\\lib\\site-packages (from shap) (4.64.1)\n",
      "Requirement already satisfied: cloudpickle in c:\\users\\ipd08\\anaconda3\\lib\\site-packages (from shap) (2.0.0)\n",
      "Requirement already satisfied: scikit-learn in c:\\users\\ipd08\\anaconda3\\lib\\site-packages (from shap) (1.2.1)\n",
      "Requirement already satisfied: pandas in c:\\users\\ipd08\\anaconda3\\lib\\site-packages (from shap) (1.5.3)\n",
      "Requirement already satisfied: scipy in c:\\users\\ipd08\\anaconda3\\lib\\site-packages (from shap) (1.10.0)\n",
      "Requirement already satisfied: colorama in c:\\users\\ipd08\\anaconda3\\lib\\site-packages (from tqdm>=4.27.0->shap) (0.4.6)\n",
      "Requirement already satisfied: setuptools in c:\\users\\ipd08\\anaconda3\\lib\\site-packages (from numba->shap) (65.6.3)\n",
      "Requirement already satisfied: llvmlite<0.40,>=0.39.0dev0 in c:\\users\\ipd08\\anaconda3\\lib\\site-packages (from numba->shap) (0.39.1)\n",
      "Requirement already satisfied: python-dateutil>=2.8.1 in c:\\users\\ipd08\\anaconda3\\lib\\site-packages (from pandas->shap) (2.8.2)\n",
      "Requirement already satisfied: pytz>=2020.1 in c:\\users\\ipd08\\anaconda3\\lib\\site-packages (from pandas->shap) (2022.7)\n",
      "Requirement already satisfied: threadpoolctl>=2.0.0 in c:\\users\\ipd08\\anaconda3\\lib\\site-packages (from scikit-learn->shap) (2.2.0)\n",
      "Requirement already satisfied: joblib>=1.1.1 in c:\\users\\ipd08\\anaconda3\\lib\\site-packages (from scikit-learn->shap) (1.1.1)\n",
      "Requirement already satisfied: six>=1.5 in c:\\users\\ipd08\\anaconda3\\lib\\site-packages (from python-dateutil>=2.8.1->pandas->shap) (1.16.0)\n",
      "Installing collected packages: slicer, shap\n",
      "Successfully installed shap-0.42.1 slicer-0.0.7\n",
      "Note: you may need to restart the kernel to use updated packages.\n"
     ]
    }
   ],
   "source": [
    "pip install shap"
   ]
  },
  {
   "cell_type": "code",
   "execution_count": 22,
   "metadata": {
    "execution": {
     "iopub.execute_input": "2023-10-08T18:17:16.025668Z",
     "iopub.status.busy": "2023-10-08T18:17:16.024648Z",
     "iopub.status.idle": "2023-10-08T18:17:16.183224Z",
     "shell.execute_reply": "2023-10-08T18:17:16.181576Z",
     "shell.execute_reply.started": "2023-10-08T18:17:16.025630Z"
    },
    "scrolled": false
   },
   "outputs": [
    {
     "name": "stderr",
     "output_type": "stream",
     "text": [
      "LightGBM binary classifier with TreeExplainer shap values output has changed to a list of ndarray\n",
      "auto_size_plot=False is deprecated and is now ignored! Use plot_size=None instead.\n"
     ]
    },
    {
     "data": {
      "image/png": "[encoded data removed]",
      "text/plain": [
       "<Figure size 800x1350 with 1 Axes>"
      ]
     },
     "metadata": {},
     "output_type": "display_data"
    }
   ],
   "source": [
    "# Отобразим гистограмму важности признаков\n",
    "import shap\n",
    "shap_test = shap.TreeExplainer(lgb).shap_values(features_downsampled_train)\n",
    "shap.summary_plot(shap_test, features_downsampled_train,\n",
    "                      max_display=30, auto_size_plot=True)"
   ]
  },
  {
   "cell_type": "code",
   "execution_count": 27,
   "metadata": {},
   "outputs": [
    {
     "name": "stderr",
     "output_type": "stream",
     "text": [
      "LightGBM binary classifier with TreeExplainer shap values output has changed to a list of ndarray\n"
     ]
    },
    {
     "data": {
      "text/html": [
       "<div>\n",
       "<style scoped>\n",
       "    .dataframe tbody tr th:only-of-type {\n",
       "        vertical-align: middle;\n",
       "    }\n",
       "\n",
       "    .dataframe tbody tr th {\n",
       "        vertical-align: top;\n",
       "    }\n",
       "\n",
       "    .dataframe thead th {\n",
       "        text-align: right;\n",
       "    }\n",
       "</style>\n",
       "<table border=\"1\" class=\"dataframe\">\n",
       "  <thead>\n",
       "    <tr style=\"text-align: right;\">\n",
       "      <th></th>\n",
       "      <th>col_name</th>\n",
       "      <th>feature_importance_vals</th>\n",
       "    </tr>\n",
       "  </thead>\n",
       "  <tbody>\n",
       "    <tr>\n",
       "      <th>0</th>\n",
       "      <td>channel_name</td>\n",
       "      <td>68142.005342</td>\n",
       "    </tr>\n",
       "    <tr>\n",
       "      <th>176</th>\n",
       "      <td>tariff_plans_24_src_id</td>\n",
       "      <td>28638.269050</td>\n",
       "    </tr>\n",
       "    <tr>\n",
       "      <th>389</th>\n",
       "      <td>basic_info_0_0_avg</td>\n",
       "      <td>26760.669225</td>\n",
       "    </tr>\n",
       "    <tr>\n",
       "      <th>825</th>\n",
       "      <td>cities_2_0_ctg</td>\n",
       "      <td>24623.990375</td>\n",
       "    </tr>\n",
       "    <tr>\n",
       "      <th>378</th>\n",
       "      <td>user_active_23_0_dt</td>\n",
       "      <td>16282.866713</td>\n",
       "    </tr>\n",
       "    <tr>\n",
       "      <th>828</th>\n",
       "      <td>user_devices_30_1_cnt</td>\n",
       "      <td>11428.593326</td>\n",
       "    </tr>\n",
       "    <tr>\n",
       "      <th>207</th>\n",
       "      <td>materials_details_15_1_ctg</td>\n",
       "      <td>11222.488685</td>\n",
       "    </tr>\n",
       "    <tr>\n",
       "      <th>392</th>\n",
       "      <td>type_av_100_0_1_ctg</td>\n",
       "      <td>10553.110803</td>\n",
       "    </tr>\n",
       "    <tr>\n",
       "      <th>175</th>\n",
       "      <td>tariff_plans_23_1_ctg</td>\n",
       "      <td>9412.815029</td>\n",
       "    </tr>\n",
       "    <tr>\n",
       "      <th>694</th>\n",
       "      <td>campaigns_281_1_part</td>\n",
       "      <td>5959.829071</td>\n",
       "    </tr>\n",
       "    <tr>\n",
       "      <th>770</th>\n",
       "      <td>campaigns_357_1_sum</td>\n",
       "      <td>5700.912348</td>\n",
       "    </tr>\n",
       "    <tr>\n",
       "      <th>935</th>\n",
       "      <td>markers_904_1_cnt</td>\n",
       "      <td>5603.475938</td>\n",
       "    </tr>\n",
       "    <tr>\n",
       "      <th>208</th>\n",
       "      <td>materials_details_16_1_ctg</td>\n",
       "      <td>5146.751245</td>\n",
       "    </tr>\n",
       "    <tr>\n",
       "      <th>206</th>\n",
       "      <td>materials_details_14_1_ctg</td>\n",
       "      <td>4661.554991</td>\n",
       "    </tr>\n",
       "    <tr>\n",
       "      <th>964</th>\n",
       "      <td>markers_933_1_cnt</td>\n",
       "      <td>4521.627893</td>\n",
       "    </tr>\n",
       "    <tr>\n",
       "      <th>212</th>\n",
       "      <td>communication_availability_55_1_flg</td>\n",
       "      <td>3846.759349</td>\n",
       "    </tr>\n",
       "    <tr>\n",
       "      <th>943</th>\n",
       "      <td>markers_912_1_cnt</td>\n",
       "      <td>3413.516733</td>\n",
       "    </tr>\n",
       "    <tr>\n",
       "      <th>365</th>\n",
       "      <td>user_active_10_1_flg</td>\n",
       "      <td>3285.797724</td>\n",
       "    </tr>\n",
       "    <tr>\n",
       "      <th>836</th>\n",
       "      <td>communication_availability_69_1_flg</td>\n",
       "      <td>3235.138202</td>\n",
       "    </tr>\n",
       "    <tr>\n",
       "      <th>379</th>\n",
       "      <td>user_active_24_0_dt</td>\n",
       "      <td>2949.712548</td>\n",
       "    </tr>\n",
       "    <tr>\n",
       "      <th>214</th>\n",
       "      <td>user_devices_24_1_cnt</td>\n",
       "      <td>2589.089133</td>\n",
       "    </tr>\n",
       "    <tr>\n",
       "      <th>816</th>\n",
       "      <td>campaigns_403_3d6_part</td>\n",
       "      <td>2489.668447</td>\n",
       "    </tr>\n",
       "    <tr>\n",
       "      <th>773</th>\n",
       "      <td>campaigns_360_1_sum</td>\n",
       "      <td>2174.660997</td>\n",
       "    </tr>\n",
       "    <tr>\n",
       "      <th>824</th>\n",
       "      <td>social_dem_4_0_flg</td>\n",
       "      <td>1910.699593</td>\n",
       "    </tr>\n",
       "    <tr>\n",
       "      <th>299</th>\n",
       "      <td>materials_details_19_1_dt</td>\n",
       "      <td>1760.865117</td>\n",
       "    </tr>\n",
       "    <tr>\n",
       "      <th>181</th>\n",
       "      <td>cities_1_0_ctg</td>\n",
       "      <td>1703.995549</td>\n",
       "    </tr>\n",
       "    <tr>\n",
       "      <th>381</th>\n",
       "      <td>user_active_27_0_dt</td>\n",
       "      <td>1667.967753</td>\n",
       "    </tr>\n",
       "    <tr>\n",
       "      <th>803</th>\n",
       "      <td>campaigns_390_1d3_part</td>\n",
       "      <td>1628.236119</td>\n",
       "    </tr>\n",
       "    <tr>\n",
       "      <th>813</th>\n",
       "      <td>campaigns_400_1d6_part</td>\n",
       "      <td>1524.049275</td>\n",
       "    </tr>\n",
       "    <tr>\n",
       "      <th>936</th>\n",
       "      <td>markers_905_1_cnt</td>\n",
       "      <td>1523.733040</td>\n",
       "    </tr>\n",
       "  </tbody>\n",
       "</table>\n",
       "</div>"
      ],
      "text/plain": [
       "                                col_name  feature_importance_vals\n",
       "0                           channel_name             68142.005342\n",
       "176               tariff_plans_24_src_id             28638.269050\n",
       "389                   basic_info_0_0_avg             26760.669225\n",
       "825                       cities_2_0_ctg             24623.990375\n",
       "378                  user_active_23_0_dt             16282.866713\n",
       "828                user_devices_30_1_cnt             11428.593326\n",
       "207           materials_details_15_1_ctg             11222.488685\n",
       "392                  type_av_100_0_1_ctg             10553.110803\n",
       "175                tariff_plans_23_1_ctg              9412.815029\n",
       "694                 campaigns_281_1_part              5959.829071\n",
       "770                  campaigns_357_1_sum              5700.912348\n",
       "935                    markers_904_1_cnt              5603.475938\n",
       "208           materials_details_16_1_ctg              5146.751245\n",
       "206           materials_details_14_1_ctg              4661.554991\n",
       "964                    markers_933_1_cnt              4521.627893\n",
       "212  communication_availability_55_1_flg              3846.759349\n",
       "943                    markers_912_1_cnt              3413.516733\n",
       "365                 user_active_10_1_flg              3285.797724\n",
       "836  communication_availability_69_1_flg              3235.138202\n",
       "379                  user_active_24_0_dt              2949.712548\n",
       "214                user_devices_24_1_cnt              2589.089133\n",
       "816               campaigns_403_3d6_part              2489.668447\n",
       "773                  campaigns_360_1_sum              2174.660997\n",
       "824                   social_dem_4_0_flg              1910.699593\n",
       "299            materials_details_19_1_dt              1760.865117\n",
       "181                       cities_1_0_ctg              1703.995549\n",
       "381                  user_active_27_0_dt              1667.967753\n",
       "803               campaigns_390_1d3_part              1628.236119\n",
       "813               campaigns_400_1d6_part              1524.049275\n",
       "936                    markers_905_1_cnt              1523.733040"
      ]
     },
     "execution_count": 27,
     "metadata": {},
     "output_type": "execute_result"
    }
   ],
   "source": [
    "# Сделам таблицу признаков\n",
    "features = features_downsampled_train\n",
    "X_importance = features_downsampled_train\n",
    "\n",
    "# Explain model predictions using shap library:\n",
    "explainer = shap.TreeExplainer(lgb)\n",
    "shap_values = explainer.shap_values(X_importance)\n",
    "\n",
    "vals= np.abs(shap_values).mean(0)\n",
    "\n",
    "feature_importance = pd.DataFrame(list(zip(features.columns, sum(vals))), columns=['col_name','feature_importance_vals'])\n",
    "feature_importance.sort_values(by=['feature_importance_vals'], ascending=False,inplace=True)\n",
    "feature_importance.head(30)"
   ]
  },
  {
   "cell_type": "code",
   "execution_count": 31,
   "metadata": {
    "scrolled": true
   },
   "outputs": [
    {
     "data": {
      "text/plain": [
       "['channel_name',\n",
       " 'tariff_plans_24_src_id',\n",
       " 'basic_info_0_0_avg',\n",
       " 'cities_2_0_ctg',\n",
       " 'user_active_23_0_dt',\n",
       " 'user_devices_30_1_cnt',\n",
       " 'materials_details_15_1_ctg',\n",
       " 'type_av_100_0_1_ctg',\n",
       " 'tariff_plans_23_1_ctg',\n",
       " 'campaigns_281_1_part',\n",
       " 'campaigns_357_1_sum',\n",
       " 'markers_904_1_cnt',\n",
       " 'materials_details_16_1_ctg',\n",
       " 'materials_details_14_1_ctg',\n",
       " 'markers_933_1_cnt',\n",
       " 'communication_availability_55_1_flg',\n",
       " 'markers_912_1_cnt',\n",
       " 'user_active_10_1_flg',\n",
       " 'communication_availability_69_1_flg',\n",
       " 'user_active_24_0_dt',\n",
       " 'user_devices_24_1_cnt',\n",
       " 'campaigns_403_3d6_part',\n",
       " 'campaigns_360_1_sum',\n",
       " 'social_dem_4_0_flg',\n",
       " 'materials_details_19_1_dt',\n",
       " 'cities_1_0_ctg',\n",
       " 'user_active_27_0_dt',\n",
       " 'campaigns_390_1d3_part',\n",
       " 'campaigns_400_1d6_part',\n",
       " 'markers_905_1_cnt']"
      ]
     },
     "execution_count": 31,
     "metadata": {},
     "output_type": "execute_result"
    }
   ],
   "source": [
    "best_feature = feature_importance.head(30)\n",
    "best_feature = best_feature['col_name'].tolist()\n",
    "best_feature"
   ]
  },
  {
   "cell_type": "code",
   "execution_count": 29,
   "metadata": {
    "execution": {
     "iopub.execute_input": "2023-10-08T18:08:39.681360Z",
     "iopub.status.busy": "2023-10-08T18:08:39.680465Z",
     "iopub.status.idle": "2023-10-08T18:08:39.688264Z",
     "shell.execute_reply": "2023-10-08T18:08:39.687234Z",
     "shell.execute_reply.started": "2023-10-08T18:08:39.681303Z"
    }
   },
   "outputs": [],
   "source": [
    "features_all  = best_feature + ['channel_name','target'] + df[900:1800].tolist()"
   ]
  },
  {
   "cell_type": "code",
   "execution_count": 30,
   "metadata": {
    "execution": {
     "iopub.execute_input": "2023-10-08T18:08:40.463464Z",
     "iopub.status.busy": "2023-10-08T18:08:40.462725Z",
     "iopub.status.idle": "2023-10-08T18:08:40.476181Z",
     "shell.execute_reply": "2023-10-08T18:08:40.474339Z",
     "shell.execute_reply.started": "2023-10-08T18:08:40.463416Z"
    }
   },
   "outputs": [
    {
     "data": {
      "text/plain": [
       "932"
      ]
     },
     "execution_count": 30,
     "metadata": {},
     "output_type": "execute_result"
    }
   ],
   "source": [
    "len(features_all)"
   ]
  },
  {
   "cell_type": "code",
   "execution_count": 32,
   "metadata": {
    "execution": {
     "iopub.execute_input": "2023-10-08T18:08:40.994093Z",
     "iopub.status.busy": "2023-10-08T18:08:40.993677Z",
     "iopub.status.idle": "2023-10-08T18:08:51.937816Z",
     "shell.execute_reply": "2023-10-08T18:08:51.936333Z",
     "shell.execute_reply.started": "2023-10-08T18:08:40.994064Z"
    }
   },
   "outputs": [],
   "source": [
    "# Загрузим признаки\n",
    "data_all = pd.read_parquet('dataset_train.parquet', engine='fastparquet', columns=features_all)"
   ]
  },
  {
   "cell_type": "code",
   "execution_count": 33,
   "metadata": {
    "execution": {
     "iopub.execute_input": "2023-10-08T18:08:51.941928Z",
     "iopub.status.busy": "2023-10-08T18:08:51.940214Z",
     "iopub.status.idle": "2023-10-08T18:08:51.988523Z",
     "shell.execute_reply": "2023-10-08T18:08:51.986328Z",
     "shell.execute_reply.started": "2023-10-08T18:08:51.941862Z"
    }
   },
   "outputs": [
    {
     "name": "stdout",
     "output_type": "stream",
     "text": [
      "<class 'pandas.core.frame.DataFrame'>\n",
      "RangeIndex: 702086 entries, 0 to 702085\n",
      "Columns: 931 entries, channel_name to spas_symptoms_agr_232_3_sum\n",
      "dtypes: float64(839), int32(65), int64(16), int8(10), object(1)\n",
      "memory usage: 4.7+ GB\n"
     ]
    }
   ],
   "source": [
    "data_all.info()"
   ]
  },
  {
   "cell_type": "code",
   "execution_count": 34,
   "metadata": {
    "execution": {
     "iopub.execute_input": "2023-10-08T18:08:51.996574Z",
     "iopub.status.busy": "2023-10-08T18:08:51.995600Z",
     "iopub.status.idle": "2023-10-08T18:08:53.525760Z",
     "shell.execute_reply": "2023-10-08T18:08:53.524258Z",
     "shell.execute_reply.started": "2023-10-08T18:08:51.996535Z"
    }
   },
   "outputs": [],
   "source": [
    "# Marking cat_features\n",
    "cat = ['ctg', 'flg','channel_name','src_id']\n",
    "cat_features = cat_columns(data_all, cat)\n",
    "data_all[cat_features] = data_all[cat_features].astype('category')\n",
    "#data_all['materials_details_16_1_ctg'] = data_all['materials_details_16_1_ctg'].astype('float64')\n",
    "#data_all['tariff_plans_20_1_ctg'] = data_all['tariff_plans_20_1_ctg'].astype('float64')"
   ]
  },
  {
   "cell_type": "code",
   "execution_count": 35,
   "metadata": {
    "execution": {
     "iopub.execute_input": "2023-10-08T18:08:53.528636Z",
     "iopub.status.busy": "2023-10-08T18:08:53.528132Z",
     "iopub.status.idle": "2023-10-08T18:09:01.492766Z",
     "shell.execute_reply": "2023-10-08T18:09:01.491551Z",
     "shell.execute_reply.started": "2023-10-08T18:08:53.528600Z"
    }
   },
   "outputs": [],
   "source": [
    "# Make downsampling\n",
    "features = data_all.drop(['target'], axis=1)\n",
    "target = data_all['target']\n",
    "features_downsampled, target_downsampled = downsample(features, target, 0.2)"
   ]
  },
  {
   "cell_type": "code",
   "execution_count": 36,
   "metadata": {
    "execution": {
     "iopub.execute_input": "2023-10-08T18:09:01.494638Z",
     "iopub.status.busy": "2023-10-08T18:09:01.494288Z",
     "iopub.status.idle": "2023-10-08T18:09:02.561085Z",
     "shell.execute_reply": "2023-10-08T18:09:02.559917Z",
     "shell.execute_reply.started": "2023-10-08T18:09:01.494611Z"
    }
   },
   "outputs": [],
   "source": [
    "# Make train and test samples\n",
    "features_downsampled_train, features_downsampled_test, target_downsampled_train,target_downsampled_test = train_test_split(features_downsampled, target_downsampled, test_size=0.25, random_state=RANDOM_STATE)"
   ]
  },
  {
   "cell_type": "code",
   "execution_count": 37,
   "metadata": {
    "execution": {
     "iopub.execute_input": "2023-10-08T18:09:02.562672Z",
     "iopub.status.busy": "2023-10-08T18:09:02.562344Z",
     "iopub.status.idle": "2023-10-08T18:09:02.568255Z",
     "shell.execute_reply": "2023-10-08T18:09:02.567536Z",
     "shell.execute_reply.started": "2023-10-08T18:09:02.562646Z"
    }
   },
   "outputs": [
    {
     "name": "stdout",
     "output_type": "stream",
     "text": [
      "(108594, 930)\n",
      "(108594,)\n",
      "(36198, 930)\n",
      "(36198,)\n"
     ]
    }
   ],
   "source": [
    "print(features_downsampled_train.shape)\n",
    "print(target_downsampled_train.shape)\n",
    "print(features_downsampled_test.shape)\n",
    "print(target_downsampled_test.shape)"
   ]
  },
  {
   "cell_type": "code",
   "execution_count": 38,
   "metadata": {
    "execution": {
     "iopub.execute_input": "2023-10-08T18:09:02.587197Z",
     "iopub.status.busy": "2023-10-08T18:09:02.586889Z",
     "iopub.status.idle": "2023-10-08T18:09:28.173467Z",
     "shell.execute_reply": "2023-10-08T18:09:28.172572Z",
     "shell.execute_reply.started": "2023-10-08T18:09:02.587172Z"
    }
   },
   "outputs": [
    {
     "name": "stdout",
     "output_type": "stream",
     "text": [
      "[LightGBM] [Warning] Categorical features with more bins than the configured maximum bin number found.\n",
      "[LightGBM] [Warning] For categorical features, max_bin and max_bin_by_feature may be ignored with a large number of categories.\n",
      "[LightGBM] [Info] Number of positive: 4125, number of negative: 104469\n",
      "[LightGBM] [Info] Auto-choosing col-wise multi-threading, the overhead of testing was 0.194442 seconds.\n",
      "You can set `force_col_wise=true` to remove the overhead.\n",
      "[LightGBM] [Info] Total Bins 94192\n",
      "[LightGBM] [Info] Number of data points in the train set: 108594, number of used features: 923\n",
      "[LightGBM] [Info] [binary:BoostFromScore]: pavg=0.037986 -> initscore=-3.231824\n",
      "[LightGBM] [Info] Start training from score -3.231824\n"
     ]
    },
    {
     "data": {
      "text/html": [
       "<style>#sk-container-id-2 {color: black;background-color: white;}#sk-container-id-2 pre{padding: 0;}#sk-container-id-2 div.sk-toggleable {background-color: white;}#sk-container-id-2 label.sk-toggleable__label {cursor: pointer;display: block;width: 100%;margin-bottom: 0;padding: 0.3em;box-sizing: border-box;text-align: center;}#sk-container-id-2 label.sk-toggleable__label-arrow:before {content: \"▸\";float: left;margin-right: 0.25em;color: #696969;}#sk-container-id-2 label.sk-toggleable__label-arrow:hover:before {color: black;}#sk-container-id-2 div.sk-estimator:hover label.sk-toggleable__label-arrow:before {color: black;}#sk-container-id-2 div.sk-toggleable__content {max-height: 0;max-width: 0;overflow: hidden;text-align: left;background-color: #f0f8ff;}#sk-container-id-2 div.sk-toggleable__content pre {margin: 0.2em;color: black;border-radius: 0.25em;background-color: #f0f8ff;}#sk-container-id-2 input.sk-toggleable__control:checked~div.sk-toggleable__content {max-height: 200px;max-width: 100%;overflow: auto;}#sk-container-id-2 input.sk-toggleable__control:checked~label.sk-toggleable__label-arrow:before {content: \"▾\";}#sk-container-id-2 div.sk-estimator input.sk-toggleable__control:checked~label.sk-toggleable__label {background-color: #d4ebff;}#sk-container-id-2 div.sk-label input.sk-toggleable__control:checked~label.sk-toggleable__label {background-color: #d4ebff;}#sk-container-id-2 input.sk-hidden--visually {border: 0;clip: rect(1px 1px 1px 1px);clip: rect(1px, 1px, 1px, 1px);height: 1px;margin: -1px;overflow: hidden;padding: 0;position: absolute;width: 1px;}#sk-container-id-2 div.sk-estimator {font-family: monospace;background-color: #f0f8ff;border: 1px dotted black;border-radius: 0.25em;box-sizing: border-box;margin-bottom: 0.5em;}#sk-container-id-2 div.sk-estimator:hover {background-color: #d4ebff;}#sk-container-id-2 div.sk-parallel-item::after {content: \"\";width: 100%;border-bottom: 1px solid gray;flex-grow: 1;}#sk-container-id-2 div.sk-label:hover label.sk-toggleable__label {background-color: #d4ebff;}#sk-container-id-2 div.sk-serial::before {content: \"\";position: absolute;border-left: 1px solid gray;box-sizing: border-box;top: 0;bottom: 0;left: 50%;z-index: 0;}#sk-container-id-2 div.sk-serial {display: flex;flex-direction: column;align-items: center;background-color: white;padding-right: 0.2em;padding-left: 0.2em;position: relative;}#sk-container-id-2 div.sk-item {position: relative;z-index: 1;}#sk-container-id-2 div.sk-parallel {display: flex;align-items: stretch;justify-content: center;background-color: white;position: relative;}#sk-container-id-2 div.sk-item::before, #sk-container-id-2 div.sk-parallel-item::before {content: \"\";position: absolute;border-left: 1px solid gray;box-sizing: border-box;top: 0;bottom: 0;left: 50%;z-index: -1;}#sk-container-id-2 div.sk-parallel-item {display: flex;flex-direction: column;z-index: 1;position: relative;background-color: white;}#sk-container-id-2 div.sk-parallel-item:first-child::after {align-self: flex-end;width: 50%;}#sk-container-id-2 div.sk-parallel-item:last-child::after {align-self: flex-start;width: 50%;}#sk-container-id-2 div.sk-parallel-item:only-child::after {width: 0;}#sk-container-id-2 div.sk-dashed-wrapped {border: 1px dashed gray;margin: 0 0.4em 0.5em 0.4em;box-sizing: border-box;padding-bottom: 0.4em;background-color: white;}#sk-container-id-2 div.sk-label label {font-family: monospace;font-weight: bold;display: inline-block;line-height: 1.2em;}#sk-container-id-2 div.sk-label-container {text-align: center;}#sk-container-id-2 div.sk-container {/* jupyter's `normalize.less` sets `[hidden] { display: none; }` but bootstrap.min.css set `[hidden] { display: none !important; }` so we also need the `!important` here to be able to override the default hidden behavior on the sphinx rendered scikit-learn.org. See: https://github.com/scikit-learn/scikit-learn/issues/21755 */display: inline-block !important;position: relative;}#sk-container-id-2 div.sk-text-repr-fallback {display: none;}</style><div id=\"sk-container-id-2\" class=\"sk-top-container\"><div class=\"sk-text-repr-fallback\"><pre>LGBMClassifier(is_unbalance=True, learning_rate=0.05)</pre><b>In a Jupyter environment, please rerun this cell to show the HTML representation or trust the notebook. <br />On GitHub, the HTML representation is unable to render, please try loading this page with nbviewer.org.</b></div><div class=\"sk-container\" hidden><div class=\"sk-item\"><div class=\"sk-estimator sk-toggleable\"><input class=\"sk-toggleable__control sk-hidden--visually\" id=\"sk-estimator-id-2\" type=\"checkbox\" checked><label for=\"sk-estimator-id-2\" class=\"sk-toggleable__label sk-toggleable__label-arrow\">LGBMClassifier</label><div class=\"sk-toggleable__content\"><pre>LGBMClassifier(is_unbalance=True, learning_rate=0.05)</pre></div></div></div></div></div>"
      ],
      "text/plain": [
       "LGBMClassifier(is_unbalance=True, learning_rate=0.05)"
      ]
     },
     "execution_count": 38,
     "metadata": {},
     "output_type": "execute_result"
    }
   ],
   "source": [
    "from lightgbm import LGBMClassifier\n",
    "cat_features = features_downsampled_train.select_dtypes(include='category').columns.to_list()\n",
    "lgb = LGBMClassifier(learning_rate=0.05, n_estimators=100, num_leaves=31, is_unbalance=True)\n",
    "lgb.fit(features_downsampled_train, \n",
    "        target_downsampled_train,\n",
    "        categorical_feature=cat_features)\n"
   ]
  },
  {
   "cell_type": "code",
   "execution_count": 39,
   "metadata": {},
   "outputs": [
    {
     "name": "stdout",
     "output_type": "stream",
     "text": [
      "Метрика ROC_AUC на тестовой выборке: 0.6939537709342646\n"
     ]
    }
   ],
   "source": [
    "probabilities_cat = lgb.predict_proba(features_downsampled_test)[:,1]\n",
    "auc_roc = roc_auc_score(target_downsampled_test, probabilities_cat)\n",
    "\n",
    "print('Метрика ROC_AUC на тестовой выборке:', auc_roc)"
   ]
  },
  {
   "cell_type": "code",
   "execution_count": 40,
   "metadata": {},
   "outputs": [
    {
     "name": "stdout",
     "output_type": "stream",
     "text": [
      "Метрика ROC_AUC на тестовой выборке: 0.6113087681061408\n"
     ]
    }
   ],
   "source": [
    "probabilities_cat = lgb.predict(features_downsampled_test)\n",
    "auc_roc = roc_auc_score(target_downsampled_test, probabilities_cat)\n",
    "\n",
    "print('Метрика ROC_AUC на тестовой выборке:', auc_roc)"
   ]
  },
  {
   "cell_type": "code",
   "execution_count": 43,
   "metadata": {},
   "outputs": [
    {
     "name": "stderr",
     "output_type": "stream",
     "text": [
      "LightGBM binary classifier with TreeExplainer shap values output has changed to a list of ndarray\n"
     ]
    },
    {
     "data": {
      "text/html": [
       "<div>\n",
       "<style scoped>\n",
       "    .dataframe tbody tr th:only-of-type {\n",
       "        vertical-align: middle;\n",
       "    }\n",
       "\n",
       "    .dataframe tbody tr th {\n",
       "        vertical-align: top;\n",
       "    }\n",
       "\n",
       "    .dataframe thead th {\n",
       "        text-align: right;\n",
       "    }\n",
       "</style>\n",
       "<table border=\"1\" class=\"dataframe\">\n",
       "  <thead>\n",
       "    <tr style=\"text-align: right;\">\n",
       "      <th></th>\n",
       "      <th>col_name</th>\n",
       "      <th>feature_importance_vals</th>\n",
       "    </tr>\n",
       "  </thead>\n",
       "  <tbody>\n",
       "    <tr>\n",
       "      <th>0</th>\n",
       "      <td>channel_name</td>\n",
       "      <td>78956.664908</td>\n",
       "    </tr>\n",
       "    <tr>\n",
       "      <th>779</th>\n",
       "      <td>tariff_plans_19_src_id</td>\n",
       "      <td>44884.513709</td>\n",
       "    </tr>\n",
       "    <tr>\n",
       "      <th>778</th>\n",
       "      <td>tariff_plans_18_1_ctg</td>\n",
       "      <td>30050.183733</td>\n",
       "    </tr>\n",
       "    <tr>\n",
       "      <th>2</th>\n",
       "      <td>basic_info_0_0_avg</td>\n",
       "      <td>23189.482522</td>\n",
       "    </tr>\n",
       "    <tr>\n",
       "      <th>524</th>\n",
       "      <td>communication_availability_30_1_flg</td>\n",
       "      <td>21788.024191</td>\n",
       "    </tr>\n",
       "    <tr>\n",
       "      <th>771</th>\n",
       "      <td>tariff_plans_17_src_id</td>\n",
       "      <td>16425.337023</td>\n",
       "    </tr>\n",
       "    <tr>\n",
       "      <th>6</th>\n",
       "      <td>materials_details_15_1_ctg</td>\n",
       "      <td>12956.930060</td>\n",
       "    </tr>\n",
       "    <tr>\n",
       "      <th>796</th>\n",
       "      <td>spas_symptoms_agr_104_12_avg</td>\n",
       "      <td>11676.672987</td>\n",
       "    </tr>\n",
       "    <tr>\n",
       "      <th>1</th>\n",
       "      <td>tariff_plans_24_src_id</td>\n",
       "      <td>10738.210328</td>\n",
       "    </tr>\n",
       "    <tr>\n",
       "      <th>23</th>\n",
       "      <td>social_dem_4_0_flg</td>\n",
       "      <td>7308.749555</td>\n",
       "    </tr>\n",
       "    <tr>\n",
       "      <th>3</th>\n",
       "      <td>cities_2_0_ctg</td>\n",
       "      <td>6435.336259</td>\n",
       "    </tr>\n",
       "    <tr>\n",
       "      <th>516</th>\n",
       "      <td>traffic_details_62_1_sum</td>\n",
       "      <td>6384.140038</td>\n",
       "    </tr>\n",
       "    <tr>\n",
       "      <th>5</th>\n",
       "      <td>user_devices_30_1_cnt</td>\n",
       "      <td>5149.417552</td>\n",
       "    </tr>\n",
       "    <tr>\n",
       "      <th>497</th>\n",
       "      <td>traffic_details_43_1_std</td>\n",
       "      <td>5022.872784</td>\n",
       "    </tr>\n",
       "    <tr>\n",
       "      <th>805</th>\n",
       "      <td>spas_symptoms_agr_113_6_avg</td>\n",
       "      <td>4335.355468</td>\n",
       "    </tr>\n",
       "    <tr>\n",
       "      <th>8</th>\n",
       "      <td>tariff_plans_23_1_ctg</td>\n",
       "      <td>4330.288183</td>\n",
       "    </tr>\n",
       "    <tr>\n",
       "      <th>12</th>\n",
       "      <td>materials_details_16_1_ctg</td>\n",
       "      <td>4264.802629</td>\n",
       "    </tr>\n",
       "    <tr>\n",
       "      <th>770</th>\n",
       "      <td>tariff_plans_16_1_ctg</td>\n",
       "      <td>4046.532853</td>\n",
       "    </tr>\n",
       "    <tr>\n",
       "      <th>7</th>\n",
       "      <td>type_av_100_0_1_ctg</td>\n",
       "      <td>3807.601432</td>\n",
       "    </tr>\n",
       "    <tr>\n",
       "      <th>11</th>\n",
       "      <td>markers_904_1_cnt</td>\n",
       "      <td>3727.422275</td>\n",
       "    </tr>\n",
       "    <tr>\n",
       "      <th>551</th>\n",
       "      <td>communication_availability_34_1_flg</td>\n",
       "      <td>3528.595092</td>\n",
       "    </tr>\n",
       "    <tr>\n",
       "      <th>44</th>\n",
       "      <td>payments_details_50_6_sum</td>\n",
       "      <td>3493.022607</td>\n",
       "    </tr>\n",
       "    <tr>\n",
       "      <th>9</th>\n",
       "      <td>campaigns_281_1_part</td>\n",
       "      <td>3412.576149</td>\n",
       "    </tr>\n",
       "    <tr>\n",
       "      <th>817</th>\n",
       "      <td>spas_symptoms_agr_125_6_avg</td>\n",
       "      <td>3409.424729</td>\n",
       "    </tr>\n",
       "    <tr>\n",
       "      <th>4</th>\n",
       "      <td>user_active_23_0_dt</td>\n",
       "      <td>2959.185417</td>\n",
       "    </tr>\n",
       "    <tr>\n",
       "      <th>14</th>\n",
       "      <td>markers_933_1_cnt</td>\n",
       "      <td>2907.191794</td>\n",
       "    </tr>\n",
       "    <tr>\n",
       "      <th>84</th>\n",
       "      <td>vas_details_25_3_meanpct</td>\n",
       "      <td>2362.174488</td>\n",
       "    </tr>\n",
       "    <tr>\n",
       "      <th>64</th>\n",
       "      <td>vas_details_5_6_sum</td>\n",
       "      <td>2166.217239</td>\n",
       "    </tr>\n",
       "    <tr>\n",
       "      <th>18</th>\n",
       "      <td>communication_availability_69_1_flg</td>\n",
       "      <td>2084.211995</td>\n",
       "    </tr>\n",
       "    <tr>\n",
       "      <th>42</th>\n",
       "      <td>payments_details_48_3_sum</td>\n",
       "      <td>1926.059583</td>\n",
       "    </tr>\n",
       "    <tr>\n",
       "      <th>773</th>\n",
       "      <td>communication_availability_45_1_flg</td>\n",
       "      <td>1778.798074</td>\n",
       "    </tr>\n",
       "    <tr>\n",
       "      <th>504</th>\n",
       "      <td>traffic_details_50_6_sum</td>\n",
       "      <td>1669.012160</td>\n",
       "    </tr>\n",
       "    <tr>\n",
       "      <th>502</th>\n",
       "      <td>traffic_details_48_6_avg</td>\n",
       "      <td>1656.549783</td>\n",
       "    </tr>\n",
       "    <tr>\n",
       "      <th>438</th>\n",
       "      <td>communication_availability_17_1_flg</td>\n",
       "      <td>1370.120476</td>\n",
       "    </tr>\n",
       "    <tr>\n",
       "      <th>802</th>\n",
       "      <td>spas_symptoms_agr_110_3_avg</td>\n",
       "      <td>1314.760708</td>\n",
       "    </tr>\n",
       "    <tr>\n",
       "      <th>453</th>\n",
       "      <td>tariff_plans_13_src_id</td>\n",
       "      <td>1291.468916</td>\n",
       "    </tr>\n",
       "    <tr>\n",
       "      <th>496</th>\n",
       "      <td>traffic_details_42_1_avg</td>\n",
       "      <td>1220.318911</td>\n",
       "    </tr>\n",
       "    <tr>\n",
       "      <th>206</th>\n",
       "      <td>spas_symptoms_int_93_1_cnt</td>\n",
       "      <td>1132.719280</td>\n",
       "    </tr>\n",
       "    <tr>\n",
       "      <th>527</th>\n",
       "      <td>communication_availability_32_1_ctg</td>\n",
       "      <td>1047.998086</td>\n",
       "    </tr>\n",
       "    <tr>\n",
       "      <th>522</th>\n",
       "      <td>traffic_details_68_6_sum</td>\n",
       "      <td>981.596014</td>\n",
       "    </tr>\n",
       "    <tr>\n",
       "      <th>807</th>\n",
       "      <td>spas_symptoms_agr_115_6_sum</td>\n",
       "      <td>971.346361</td>\n",
       "    </tr>\n",
       "    <tr>\n",
       "      <th>43</th>\n",
       "      <td>payments_details_49_6_avg</td>\n",
       "      <td>962.135080</td>\n",
       "    </tr>\n",
       "    <tr>\n",
       "      <th>20</th>\n",
       "      <td>user_devices_24_1_cnt</td>\n",
       "      <td>870.963296</td>\n",
       "    </tr>\n",
       "    <tr>\n",
       "      <th>797</th>\n",
       "      <td>spas_symptoms_agr_105_12_std</td>\n",
       "      <td>812.849762</td>\n",
       "    </tr>\n",
       "    <tr>\n",
       "      <th>514</th>\n",
       "      <td>traffic_details_60_1_avg</td>\n",
       "      <td>723.907391</td>\n",
       "    </tr>\n",
       "    <tr>\n",
       "      <th>40</th>\n",
       "      <td>payments_details_46_1_sum</td>\n",
       "      <td>696.623446</td>\n",
       "    </tr>\n",
       "    <tr>\n",
       "      <th>766</th>\n",
       "      <td>user_active_3_1_flg</td>\n",
       "      <td>685.027025</td>\n",
       "    </tr>\n",
       "    <tr>\n",
       "      <th>498</th>\n",
       "      <td>traffic_details_44_1_sum</td>\n",
       "      <td>668.738631</td>\n",
       "    </tr>\n",
       "    <tr>\n",
       "      <th>844</th>\n",
       "      <td>spas_symptoms_agr_152_12_avg</td>\n",
       "      <td>668.618716</td>\n",
       "    </tr>\n",
       "    <tr>\n",
       "      <th>139</th>\n",
       "      <td>spas_symptoms_int_20_1_cnt</td>\n",
       "      <td>667.217052</td>\n",
       "    </tr>\n",
       "  </tbody>\n",
       "</table>\n",
       "</div>"
      ],
      "text/plain": [
       "                                col_name  feature_importance_vals\n",
       "0                           channel_name             78956.664908\n",
       "779               tariff_plans_19_src_id             44884.513709\n",
       "778                tariff_plans_18_1_ctg             30050.183733\n",
       "2                     basic_info_0_0_avg             23189.482522\n",
       "524  communication_availability_30_1_flg             21788.024191\n",
       "771               tariff_plans_17_src_id             16425.337023\n",
       "6             materials_details_15_1_ctg             12956.930060\n",
       "796         spas_symptoms_agr_104_12_avg             11676.672987\n",
       "1                 tariff_plans_24_src_id             10738.210328\n",
       "23                    social_dem_4_0_flg              7308.749555\n",
       "3                         cities_2_0_ctg              6435.336259\n",
       "516             traffic_details_62_1_sum              6384.140038\n",
       "5                  user_devices_30_1_cnt              5149.417552\n",
       "497             traffic_details_43_1_std              5022.872784\n",
       "805          spas_symptoms_agr_113_6_avg              4335.355468\n",
       "8                  tariff_plans_23_1_ctg              4330.288183\n",
       "12            materials_details_16_1_ctg              4264.802629\n",
       "770                tariff_plans_16_1_ctg              4046.532853\n",
       "7                    type_av_100_0_1_ctg              3807.601432\n",
       "11                     markers_904_1_cnt              3727.422275\n",
       "551  communication_availability_34_1_flg              3528.595092\n",
       "44             payments_details_50_6_sum              3493.022607\n",
       "9                   campaigns_281_1_part              3412.576149\n",
       "817          spas_symptoms_agr_125_6_avg              3409.424729\n",
       "4                    user_active_23_0_dt              2959.185417\n",
       "14                     markers_933_1_cnt              2907.191794\n",
       "84              vas_details_25_3_meanpct              2362.174488\n",
       "64                   vas_details_5_6_sum              2166.217239\n",
       "18   communication_availability_69_1_flg              2084.211995\n",
       "42             payments_details_48_3_sum              1926.059583\n",
       "773  communication_availability_45_1_flg              1778.798074\n",
       "504             traffic_details_50_6_sum              1669.012160\n",
       "502             traffic_details_48_6_avg              1656.549783\n",
       "438  communication_availability_17_1_flg              1370.120476\n",
       "802          spas_symptoms_agr_110_3_avg              1314.760708\n",
       "453               tariff_plans_13_src_id              1291.468916\n",
       "496             traffic_details_42_1_avg              1220.318911\n",
       "206           spas_symptoms_int_93_1_cnt              1132.719280\n",
       "527  communication_availability_32_1_ctg              1047.998086\n",
       "522             traffic_details_68_6_sum               981.596014\n",
       "807          spas_symptoms_agr_115_6_sum               971.346361\n",
       "43             payments_details_49_6_avg               962.135080\n",
       "20                 user_devices_24_1_cnt               870.963296\n",
       "797         spas_symptoms_agr_105_12_std               812.849762\n",
       "514             traffic_details_60_1_avg               723.907391\n",
       "40             payments_details_46_1_sum               696.623446\n",
       "766                  user_active_3_1_flg               685.027025\n",
       "498             traffic_details_44_1_sum               668.738631\n",
       "844         spas_symptoms_agr_152_12_avg               668.618716\n",
       "139           spas_symptoms_int_20_1_cnt               667.217052"
      ]
     },
     "execution_count": 43,
     "metadata": {},
     "output_type": "execute_result"
    }
   ],
   "source": [
    "# Сделам таблицу признаков\n",
    "features = features_downsampled_train\n",
    "X_importance = features_downsampled_train\n",
    "\n",
    "# Explain model predictions using shap library:\n",
    "explainer = shap.TreeExplainer(lgb)\n",
    "shap_values = explainer.shap_values(X_importance)\n",
    "\n",
    "vals= np.abs(shap_values).mean(0)\n",
    "\n",
    "feature_importance = pd.DataFrame(list(zip(features.columns, sum(vals))), columns=['col_name','feature_importance_vals'])\n",
    "feature_importance.sort_values(by=['feature_importance_vals'], ascending=False,inplace=True)\n",
    "feature_importance.head(50)"
   ]
  },
  {
   "cell_type": "code",
   "execution_count": 45,
   "metadata": {
    "scrolled": true
   },
   "outputs": [
    {
     "data": {
      "text/plain": [
       "['channel_name',\n",
       " 'tariff_plans_19_src_id',\n",
       " 'tariff_plans_18_1_ctg',\n",
       " 'basic_info_0_0_avg',\n",
       " 'communication_availability_30_1_flg',\n",
       " 'tariff_plans_17_src_id',\n",
       " 'materials_details_15_1_ctg',\n",
       " 'spas_symptoms_agr_104_12_avg',\n",
       " 'tariff_plans_24_src_id',\n",
       " 'social_dem_4_0_flg',\n",
       " 'cities_2_0_ctg',\n",
       " 'traffic_details_62_1_sum',\n",
       " 'user_devices_30_1_cnt',\n",
       " 'traffic_details_43_1_std',\n",
       " 'spas_symptoms_agr_113_6_avg',\n",
       " 'tariff_plans_23_1_ctg',\n",
       " 'materials_details_16_1_ctg',\n",
       " 'tariff_plans_16_1_ctg',\n",
       " 'type_av_100_0_1_ctg',\n",
       " 'markers_904_1_cnt',\n",
       " 'communication_availability_34_1_flg',\n",
       " 'payments_details_50_6_sum',\n",
       " 'campaigns_281_1_part',\n",
       " 'spas_symptoms_agr_125_6_avg',\n",
       " 'user_active_23_0_dt',\n",
       " 'markers_933_1_cnt',\n",
       " 'vas_details_25_3_meanpct',\n",
       " 'vas_details_5_6_sum',\n",
       " 'communication_availability_69_1_flg',\n",
       " 'payments_details_48_3_sum',\n",
       " 'communication_availability_45_1_flg',\n",
       " 'traffic_details_50_6_sum',\n",
       " 'traffic_details_48_6_avg',\n",
       " 'communication_availability_17_1_flg',\n",
       " 'spas_symptoms_agr_110_3_avg',\n",
       " 'tariff_plans_13_src_id',\n",
       " 'traffic_details_42_1_avg',\n",
       " 'spas_symptoms_int_93_1_cnt',\n",
       " 'communication_availability_32_1_ctg',\n",
       " 'traffic_details_68_6_sum',\n",
       " 'spas_symptoms_agr_115_6_sum',\n",
       " 'payments_details_49_6_avg',\n",
       " 'user_devices_24_1_cnt',\n",
       " 'spas_symptoms_agr_105_12_std',\n",
       " 'traffic_details_60_1_avg',\n",
       " 'payments_details_46_1_sum',\n",
       " 'user_active_3_1_flg',\n",
       " 'traffic_details_44_1_sum',\n",
       " 'spas_symptoms_agr_152_12_avg',\n",
       " 'spas_symptoms_int_20_1_cnt']"
      ]
     },
     "execution_count": 45,
     "metadata": {},
     "output_type": "execute_result"
    }
   ],
   "source": [
    "best_feature_2 = feature_importance.head(50)\n",
    "best_feature_2 = best_feature_2['col_name'].tolist()\n",
    "best_feature_2"
   ]
  },
  {
   "cell_type": "code",
   "execution_count": 49,
   "metadata": {},
   "outputs": [
    {
     "data": {
      "text/plain": [
       "materials_details_16_1_ctg             99440\n",
       "tariff_plans_20_1_ctg                    707\n",
       "channel_name                               0\n",
       "tariff_plans_15_src_id                     0\n",
       "deact_react_0_1_ctg                        0\n",
       "                                       ...  \n",
       "communication_availability_19_1_flg        0\n",
       "communication_availability_18_1_flg        0\n",
       "communication_availability_17_1_flg        0\n",
       "communication_availability_16_1_flg        0\n",
       "deact_react_10_1_ctg                       0\n",
       "Length: 93, dtype: int64"
      ]
     },
     "execution_count": 49,
     "metadata": {},
     "output_type": "execute_result"
    }
   ],
   "source": [
    "features_downsampled_train[cat_features].isnull().sum().sort_values(ascending=False)"
   ]
  },
  {
   "cell_type": "code",
   "execution_count": 58,
   "metadata": {},
   "outputs": [],
   "source": [
    "features_downsampled_train['materials_details_16_1_ctg'] = features_downsampled_train['materials_details_16_1_ctg'].astype('float64')\n",
    "features_downsampled_train['tariff_plans_20_1_ctg'] = features_downsampled_train['tariff_plans_20_1_ctg'].astype('float64')\n",
    "features_downsampled_test['materials_details_16_1_ctg'] = features_downsampled_test['materials_details_16_1_ctg'].astype('float64')\n",
    "features_downsampled_test['tariff_plans_20_1_ctg'] = features_downsampled_test['tariff_plans_20_1_ctg'].astype('float64')"
   ]
  },
  {
   "cell_type": "code",
   "execution_count": 74,
   "metadata": {},
   "outputs": [
    {
     "name": "stdout",
     "output_type": "stream",
     "text": [
      "CPU times: total: 0 ns\n",
      "Wall time: 0 ns\n"
     ]
    },
    {
     "data": {
      "application/vnd.jupyter.widget-view+json": {
       "model_id": "953de13197354ca393458f3cd8fe5e74",
       "version_major": 2,
       "version_minor": 0
      },
      "text/plain": [
       "MetricVisualizer(layout=Layout(align_self='stretch', height='500px'))"
      ]
     },
     "metadata": {},
     "output_type": "display_data"
    },
    {
     "name": "stdout",
     "output_type": "stream",
     "text": [
      "0:\tlearn: 0.7160172\ttest: 0.7161862\tbest: 0.7161862 (0)\ttotal: 241ms\tremaining: 35.9s\n",
      "10:\tlearn: 0.7408925\ttest: 0.7390066\tbest: 0.7390066 (10)\ttotal: 2.82s\tremaining: 35.7s\n",
      "20:\tlearn: 0.7499857\ttest: 0.7459693\tbest: 0.7459693 (20)\ttotal: 5.56s\tremaining: 34.1s\n",
      "30:\tlearn: 0.7585071\ttest: 0.7499511\tbest: 0.7499511 (30)\ttotal: 8.35s\tremaining: 32.1s\n",
      "40:\tlearn: 0.7636734\ttest: 0.7534585\tbest: 0.7534786 (39)\ttotal: 11s\tremaining: 29.3s\n",
      "50:\tlearn: 0.7675636\ttest: 0.7555108\tbest: 0.7555108 (50)\ttotal: 13.7s\tremaining: 26.7s\n",
      "60:\tlearn: 0.7714941\ttest: 0.7574105\tbest: 0.7574105 (60)\ttotal: 16.6s\tremaining: 24.2s\n",
      "70:\tlearn: 0.7748766\ttest: 0.7585596\tbest: 0.7585643 (68)\ttotal: 19.3s\tremaining: 21.4s\n",
      "80:\tlearn: 0.7778328\ttest: 0.7591896\tbest: 0.7593143 (78)\ttotal: 22s\tremaining: 18.7s\n",
      "90:\tlearn: 0.7796252\ttest: 0.7596146\tbest: 0.7596762 (89)\ttotal: 24.6s\tremaining: 15.9s\n",
      "100:\tlearn: 0.7816632\ttest: 0.7598925\tbest: 0.7598925 (100)\ttotal: 27.1s\tremaining: 13.1s\n",
      "110:\tlearn: 0.7846493\ttest: 0.7605135\tbest: 0.7605481 (107)\ttotal: 29.8s\tremaining: 10.5s\n",
      "120:\tlearn: 0.7870779\ttest: 0.7611342\tbest: 0.7611342 (120)\ttotal: 32.6s\tremaining: 7.81s\n",
      "130:\tlearn: 0.7891596\ttest: 0.7617229\tbest: 0.7617229 (130)\ttotal: 35.2s\tremaining: 5.11s\n",
      "140:\tlearn: 0.7911591\ttest: 0.7623232\tbest: 0.7623680 (137)\ttotal: 37.8s\tremaining: 2.42s\n",
      "149:\tlearn: 0.7927562\ttest: 0.7623831\tbest: 0.7624587 (148)\ttotal: 40.1s\tremaining: 0us\n",
      "\n",
      "bestTest = 0.7624587136\n",
      "bestIteration = 148\n",
      "\n",
      "0:\tloss: 0.7624587\tbest: 0.7624587 (0)\ttotal: 40.7s\tremaining: 2m 2s\n",
      "0:\tlearn: 0.7160172\ttest: 0.7161862\tbest: 0.7161862 (0)\ttotal: 309ms\tremaining: 46.1s\n",
      "10:\tlearn: 0.7499453\ttest: 0.7435518\tbest: 0.7435518 (10)\ttotal: 2.9s\tremaining: 36.6s\n",
      "20:\tlearn: 0.7620163\ttest: 0.7515699\tbest: 0.7515699 (20)\ttotal: 5.51s\tremaining: 33.9s\n",
      "30:\tlearn: 0.7696243\ttest: 0.7538381\tbest: 0.7538381 (30)\ttotal: 8.14s\tremaining: 31.3s\n",
      "40:\tlearn: 0.7755221\ttest: 0.7567678\tbest: 0.7567930 (39)\ttotal: 10.8s\tremaining: 28.7s\n",
      "50:\tlearn: 0.7803436\ttest: 0.7568589\tbest: 0.7571135 (42)\ttotal: 13.5s\tremaining: 26.2s\n",
      "60:\tlearn: 0.7854112\ttest: 0.7580532\tbest: 0.7580532 (60)\ttotal: 16.1s\tremaining: 23.5s\n",
      "70:\tlearn: 0.7884734\ttest: 0.7595197\tbest: 0.7595197 (70)\ttotal: 18.7s\tremaining: 20.9s\n",
      "80:\tlearn: 0.7930587\ttest: 0.7597768\tbest: 0.7602144 (75)\ttotal: 21.5s\tremaining: 18.4s\n",
      "90:\tlearn: 0.7981642\ttest: 0.7594923\tbest: 0.7602144 (75)\ttotal: 24.4s\tremaining: 15.8s\n",
      "100:\tlearn: 0.8025167\ttest: 0.7603233\tbest: 0.7603233 (100)\ttotal: 27.1s\tremaining: 13.1s\n",
      "110:\tlearn: 0.8066678\ttest: 0.7600336\tbest: 0.7603745 (101)\ttotal: 29.7s\tremaining: 10.4s\n",
      "120:\tlearn: 0.8138905\ttest: 0.7606930\tbest: 0.7607216 (119)\ttotal: 32.3s\tremaining: 7.74s\n",
      "130:\tlearn: 0.8227485\ttest: 0.7619781\tbest: 0.7622669 (127)\ttotal: 35s\tremaining: 5.07s\n",
      "140:\tlearn: 0.8309822\ttest: 0.7632038\tbest: 0.7632038 (140)\ttotal: 37.6s\tremaining: 2.4s\n",
      "149:\tlearn: 0.8385295\ttest: 0.7630835\tbest: 0.7635391 (142)\ttotal: 40.1s\tremaining: 0us\n",
      "\n",
      "bestTest = 0.7635390814\n",
      "bestIteration = 142\n",
      "\n",
      "1:\tloss: 0.7635391\tbest: 0.7635391 (1)\ttotal: 1m 20s\tremaining: 1m 20s\n",
      "0:\tlearn: 0.7159915\ttest: 0.7161666\tbest: 0.7161666 (0)\ttotal: 258ms\tremaining: 38.4s\n",
      "10:\tlearn: 0.7391057\ttest: 0.7404223\tbest: 0.7404223 (10)\ttotal: 2.84s\tremaining: 35.9s\n",
      "20:\tlearn: 0.7485670\ttest: 0.7450592\tbest: 0.7450592 (20)\ttotal: 5.63s\tremaining: 34.6s\n",
      "30:\tlearn: 0.7558368\ttest: 0.7502239\tbest: 0.7502239 (30)\ttotal: 8.38s\tremaining: 32.2s\n",
      "40:\tlearn: 0.7609510\ttest: 0.7529201\tbest: 0.7529201 (40)\ttotal: 11.2s\tremaining: 29.7s\n",
      "50:\tlearn: 0.7655734\ttest: 0.7548523\tbest: 0.7548523 (50)\ttotal: 14s\tremaining: 27.2s\n",
      "60:\tlearn: 0.7696956\ttest: 0.7563212\tbest: 0.7564270 (59)\ttotal: 16.8s\tremaining: 24.5s\n",
      "70:\tlearn: 0.7725926\ttest: 0.7577301\tbest: 0.7577301 (70)\ttotal: 19.5s\tremaining: 21.7s\n",
      "80:\tlearn: 0.7758410\ttest: 0.7590393\tbest: 0.7590393 (80)\ttotal: 22.3s\tremaining: 19s\n",
      "90:\tlearn: 0.7790323\ttest: 0.7604194\tbest: 0.7604194 (90)\ttotal: 24.9s\tremaining: 16.1s\n",
      "100:\tlearn: 0.7816414\ttest: 0.7606126\tbest: 0.7606126 (100)\ttotal: 27.5s\tremaining: 13.3s\n",
      "110:\tlearn: 0.7835812\ttest: 0.7612669\tbest: 0.7612669 (110)\ttotal: 30.1s\tremaining: 10.6s\n",
      "120:\tlearn: 0.7855669\ttest: 0.7615713\tbest: 0.7616741 (118)\ttotal: 32.7s\tremaining: 7.83s\n",
      "130:\tlearn: 0.7872694\ttest: 0.7616136\tbest: 0.7616741 (118)\ttotal: 35.1s\tremaining: 5.1s\n",
      "140:\tlearn: 0.7896576\ttest: 0.7621330\tbest: 0.7621330 (140)\ttotal: 37.7s\tremaining: 2.41s\n",
      "149:\tlearn: 0.7914504\ttest: 0.7623240\tbest: 0.7623746 (146)\ttotal: 40s\tremaining: 0us\n",
      "\n",
      "bestTest = 0.7623746079\n",
      "bestIteration = 146\n",
      "\n",
      "2:\tloss: 0.7623746\tbest: 0.7635391 (1)\ttotal: 2m 1s\tremaining: 40.3s\n",
      "0:\tlearn: 0.7159915\ttest: 0.7161666\tbest: 0.7161666 (0)\ttotal: 254ms\tremaining: 37.8s\n",
      "10:\tlearn: 0.7481607\ttest: 0.7439958\tbest: 0.7439958 (10)\ttotal: 2.73s\tremaining: 34.5s\n",
      "20:\tlearn: 0.7595547\ttest: 0.7512188\tbest: 0.7512188 (20)\ttotal: 5.29s\tremaining: 32.5s\n",
      "30:\tlearn: 0.7646811\ttest: 0.7550322\tbest: 0.7550322 (30)\ttotal: 7.61s\tremaining: 29.2s\n",
      "40:\tlearn: 0.7705391\ttest: 0.7573244\tbest: 0.7573244 (40)\ttotal: 10.2s\tremaining: 27.2s\n",
      "50:\tlearn: 0.7762647\ttest: 0.7596250\tbest: 0.7596250 (50)\ttotal: 12.7s\tremaining: 24.7s\n",
      "60:\tlearn: 0.7804435\ttest: 0.7616212\tbest: 0.7616212 (60)\ttotal: 15.3s\tremaining: 22.3s\n",
      "70:\tlearn: 0.7853882\ttest: 0.7636078\tbest: 0.7636078 (70)\ttotal: 17.8s\tremaining: 19.8s\n",
      "80:\tlearn: 0.7890495\ttest: 0.7638520\tbest: 0.7638738 (78)\ttotal: 20.4s\tremaining: 17.4s\n",
      "90:\tlearn: 0.7926415\ttest: 0.7641213\tbest: 0.7644716 (87)\ttotal: 22.9s\tremaining: 14.8s\n",
      "100:\tlearn: 0.7970578\ttest: 0.7646584\tbest: 0.7649474 (94)\ttotal: 25.4s\tremaining: 12.3s\n",
      "110:\tlearn: 0.8013396\ttest: 0.7654211\tbest: 0.7654211 (110)\ttotal: 27.9s\tremaining: 9.8s\n",
      "120:\tlearn: 0.8085740\ttest: 0.7662868\tbest: 0.7662868 (120)\ttotal: 30.6s\tremaining: 7.34s\n",
      "130:\tlearn: 0.8166564\ttest: 0.7668859\tbest: 0.7668859 (130)\ttotal: 33.3s\tremaining: 4.83s\n",
      "140:\tlearn: 0.8251483\ttest: 0.7657526\tbest: 0.7668859 (130)\ttotal: 36s\tremaining: 2.3s\n",
      "149:\tlearn: 0.8314429\ttest: 0.7647668\tbest: 0.7668859 (130)\ttotal: 38.5s\tremaining: 0us\n",
      "\n",
      "bestTest = 0.7668858771\n",
      "bestIteration = 130\n",
      "\n",
      "3:\tloss: 0.7668859\tbest: 0.7668859 (3)\ttotal: 2m 39s\tremaining: 0us\n",
      "Estimating final quality...\n",
      "Training on fold [0/5]\n",
      "0:\tlearn: 0.7165128\ttest: 0.7124811\tbest: 0.7124811 (0)\ttotal: 271ms\tremaining: 40.4s\n",
      "10:\tlearn: 0.7486795\ttest: 0.7414241\tbest: 0.7414241 (10)\ttotal: 2.69s\tremaining: 34s\n",
      "20:\tlearn: 0.7629116\ttest: 0.7503992\tbest: 0.7507639 (19)\ttotal: 5.11s\tremaining: 31.4s\n",
      "30:\tlearn: 0.7711196\ttest: 0.7540738\tbest: 0.7540738 (30)\ttotal: 7.52s\tremaining: 28.9s\n",
      "40:\tlearn: 0.7769213\ttest: 0.7564795\tbest: 0.7564795 (40)\ttotal: 9.87s\tremaining: 26.2s\n",
      "50:\tlearn: 0.7801815\ttest: 0.7580665\tbest: 0.7580927 (49)\ttotal: 12.2s\tremaining: 23.7s\n",
      "60:\tlearn: 0.7846683\ttest: 0.7585619\tbest: 0.7585619 (60)\ttotal: 14.6s\tremaining: 21.3s\n",
      "70:\tlearn: 0.7879809\ttest: 0.7595172\tbest: 0.7597904 (68)\ttotal: 17s\tremaining: 18.9s\n",
      "80:\tlearn: 0.7916411\ttest: 0.7607148\tbest: 0.7608116 (78)\ttotal: 19.4s\tremaining: 16.5s\n",
      "90:\tlearn: 0.7956263\ttest: 0.7603123\tbest: 0.7608116 (78)\ttotal: 21.7s\tremaining: 14.1s\n",
      "100:\tlearn: 0.8007240\ttest: 0.7608975\tbest: 0.7608975 (100)\ttotal: 24s\tremaining: 11.6s\n",
      "110:\tlearn: 0.8054668\ttest: 0.7618557\tbest: 0.7621566 (108)\ttotal: 26.4s\tremaining: 9.28s\n",
      "120:\tlearn: 0.8116825\ttest: 0.7637480\tbest: 0.7637480 (120)\ttotal: 28.8s\tremaining: 6.91s\n",
      "130:\tlearn: 0.8191116\ttest: 0.7639787\tbest: 0.7640764 (125)\ttotal: 31.2s\tremaining: 4.53s\n",
      "140:\tlearn: 0.8263817\ttest: 0.7636610\tbest: 0.7645792 (135)\ttotal: 33.5s\tremaining: 2.14s\n",
      "149:\tlearn: 0.8338576\ttest: 0.7632976\tbest: 0.7645792 (135)\ttotal: 35.6s\tremaining: 0us\n",
      "\n",
      "bestTest = 0.7645792471\n",
      "bestIteration = 135\n",
      "\n",
      "Training on fold [1/5]\n",
      "0:\tlearn: 0.7263856\ttest: 0.7120711\tbest: 0.7120711 (0)\ttotal: 193ms\tremaining: 28.7s\n",
      "10:\tlearn: 0.7481122\ttest: 0.7393519\tbest: 0.7393519 (10)\ttotal: 2.56s\tremaining: 32.3s\n",
      "20:\tlearn: 0.7610295\ttest: 0.7484574\tbest: 0.7484574 (20)\ttotal: 4.94s\tremaining: 30.3s\n",
      "30:\tlearn: 0.7676907\ttest: 0.7512404\tbest: 0.7512404 (30)\ttotal: 7.12s\tremaining: 27.3s\n",
      "40:\tlearn: 0.7744859\ttest: 0.7537123\tbest: 0.7538378 (39)\ttotal: 9.47s\tremaining: 25.2s\n",
      "50:\tlearn: 0.7790472\ttest: 0.7537893\tbest: 0.7543891 (48)\ttotal: 11.7s\tremaining: 22.7s\n",
      "60:\tlearn: 0.7848131\ttest: 0.7546015\tbest: 0.7547331 (59)\ttotal: 14s\tremaining: 20.4s\n",
      "70:\tlearn: 0.7886207\ttest: 0.7556053\tbest: 0.7556053 (70)\ttotal: 16.3s\tremaining: 18.1s\n",
      "80:\tlearn: 0.7929309\ttest: 0.7569124\tbest: 0.7569124 (80)\ttotal: 18.5s\tremaining: 15.8s\n",
      "90:\tlearn: 0.7945961\ttest: 0.7575213\tbest: 0.7575213 (90)\ttotal: 20.7s\tremaining: 13.4s\n",
      "100:\tlearn: 0.7993215\ttest: 0.7584026\tbest: 0.7584026 (100)\ttotal: 23.2s\tremaining: 11.2s\n",
      "110:\tlearn: 0.8041386\ttest: 0.7586738\tbest: 0.7587054 (107)\ttotal: 25.3s\tremaining: 8.9s\n",
      "120:\tlearn: 0.8097734\ttest: 0.7591242\tbest: 0.7591242 (120)\ttotal: 27.6s\tremaining: 6.62s\n",
      "130:\tlearn: 0.8164080\ttest: 0.7594943\tbest: 0.7595183 (122)\ttotal: 29.9s\tremaining: 4.34s\n",
      "140:\tlearn: 0.8247009\ttest: 0.7593408\tbest: 0.7598293 (139)\ttotal: 32.1s\tremaining: 2.05s\n",
      "149:\tlearn: 0.8335399\ttest: 0.7593154\tbest: 0.7598293 (139)\ttotal: 34.1s\tremaining: 0us\n",
      "\n",
      "bestTest = 0.7598292681\n",
      "bestIteration = 139\n",
      "\n",
      "Training on fold [2/5]\n",
      "0:\tlearn: 0.7197522\ttest: 0.7225719\tbest: 0.7225719 (0)\ttotal: 283ms\tremaining: 42.2s\n",
      "10:\tlearn: 0.7448200\ttest: 0.7477315\tbest: 0.7477315 (10)\ttotal: 2.9s\tremaining: 36.7s\n",
      "20:\tlearn: 0.7620761\ttest: 0.7599856\tbest: 0.7599856 (20)\ttotal: 5.66s\tremaining: 34.8s\n",
      "30:\tlearn: 0.7687677\ttest: 0.7620085\tbest: 0.7620085 (30)\ttotal: 8.38s\tremaining: 32.2s\n",
      "40:\tlearn: 0.7741699\ttest: 0.7644908\tbest: 0.7644908 (40)\ttotal: 11.1s\tremaining: 29.5s\n",
      "50:\tlearn: 0.7786878\ttest: 0.7658068\tbest: 0.7658068 (50)\ttotal: 13.3s\tremaining: 25.8s\n",
      "60:\tlearn: 0.7826261\ttest: 0.7668684\tbest: 0.7668684 (60)\ttotal: 15.7s\tremaining: 22.9s\n",
      "70:\tlearn: 0.7868308\ttest: 0.7683622\tbest: 0.7683622 (70)\ttotal: 17.9s\tremaining: 20s\n",
      "80:\tlearn: 0.7913032\ttest: 0.7690046\tbest: 0.7690046 (80)\ttotal: 20.1s\tremaining: 17.1s\n",
      "90:\tlearn: 0.7963983\ttest: 0.7696240\tbest: 0.7697798 (87)\ttotal: 22.4s\tremaining: 14.5s\n",
      "100:\tlearn: 0.7995683\ttest: 0.7695430\tbest: 0.7697798 (87)\ttotal: 24.5s\tremaining: 11.9s\n",
      "110:\tlearn: 0.8046788\ttest: 0.7693404\tbest: 0.7699064 (103)\ttotal: 26.9s\tremaining: 9.44s\n",
      "120:\tlearn: 0.8104994\ttest: 0.7691394\tbest: 0.7699064 (103)\ttotal: 29.4s\tremaining: 7.05s\n",
      "130:\tlearn: 0.8177928\ttest: 0.7677233\tbest: 0.7699064 (103)\ttotal: 31.9s\tremaining: 4.63s\n",
      "140:\tlearn: 0.8268416\ttest: 0.7681460\tbest: 0.7699064 (103)\ttotal: 34.3s\tremaining: 2.19s\n",
      "149:\tlearn: 0.8336209\ttest: 0.7675511\tbest: 0.7699064 (103)\ttotal: 36.4s\tremaining: 0us\n",
      "\n",
      "bestTest = 0.7699063962\n",
      "bestIteration = 103\n",
      "\n",
      "Training on fold [3/5]\n",
      "0:\tlearn: 0.7147348\ttest: 0.7058508\tbest: 0.7058508 (0)\ttotal: 210ms\tremaining: 31.3s\n",
      "10:\tlearn: 0.7488267\ttest: 0.7355455\tbest: 0.7364770 (8)\ttotal: 2.64s\tremaining: 33.4s\n",
      "20:\tlearn: 0.7615707\ttest: 0.7475639\tbest: 0.7475639 (20)\ttotal: 5.07s\tremaining: 31.2s\n",
      "30:\tlearn: 0.7676877\ttest: 0.7503152\tbest: 0.7503252 (29)\ttotal: 7.24s\tremaining: 27.8s\n",
      "40:\tlearn: 0.7731267\ttest: 0.7516867\tbest: 0.7519381 (37)\ttotal: 9.59s\tremaining: 25.5s\n",
      "50:\tlearn: 0.7786198\ttest: 0.7537663\tbest: 0.7537926 (49)\ttotal: 12.1s\tremaining: 23.4s\n",
      "60:\tlearn: 0.7842270\ttest: 0.7553144\tbest: 0.7553144 (60)\ttotal: 14.4s\tremaining: 21s\n",
      "70:\tlearn: 0.7889389\ttest: 0.7567126\tbest: 0.7567126 (70)\ttotal: 16.6s\tremaining: 18.5s\n",
      "80:\tlearn: 0.7920991\ttest: 0.7563842\tbest: 0.7568178 (72)\ttotal: 18.9s\tremaining: 16.1s\n",
      "90:\tlearn: 0.7958789\ttest: 0.7571650\tbest: 0.7573146 (88)\ttotal: 21.1s\tremaining: 13.7s\n",
      "100:\tlearn: 0.7997355\ttest: 0.7575625\tbest: 0.7581027 (94)\ttotal: 23.4s\tremaining: 11.4s\n",
      "110:\tlearn: 0.8033987\ttest: 0.7574597\tbest: 0.7581027 (94)\ttotal: 25.7s\tremaining: 9.02s\n",
      "120:\tlearn: 0.8087941\ttest: 0.7573691\tbest: 0.7583601 (117)\ttotal: 28s\tremaining: 6.72s\n",
      "130:\tlearn: 0.8172692\ttest: 0.7576058\tbest: 0.7585925 (129)\ttotal: 30.3s\tremaining: 4.4s\n",
      "140:\tlearn: 0.8251947\ttest: 0.7574365\tbest: 0.7585925 (129)\ttotal: 32.7s\tremaining: 2.09s\n",
      "149:\tlearn: 0.8323817\ttest: 0.7579433\tbest: 0.7585925 (129)\ttotal: 34.9s\tremaining: 0us\n",
      "\n",
      "bestTest = 0.7585925494\n",
      "bestIteration = 129\n",
      "\n",
      "Training on fold [4/5]\n",
      "0:\tlearn: 0.7245902\ttest: 0.7240686\tbest: 0.7240686 (0)\ttotal: 194ms\tremaining: 29s\n",
      "10:\tlearn: 0.7496076\ttest: 0.7450725\tbest: 0.7450725 (10)\ttotal: 2.53s\tremaining: 32s\n",
      "20:\tlearn: 0.7617134\ttest: 0.7532786\tbest: 0.7532786 (20)\ttotal: 4.87s\tremaining: 29.9s\n",
      "30:\tlearn: 0.7684050\ttest: 0.7555793\tbest: 0.7556763 (29)\ttotal: 7.18s\tremaining: 27.6s\n",
      "40:\tlearn: 0.7744763\ttest: 0.7574183\tbest: 0.7574183 (40)\ttotal: 9.5s\tremaining: 25.3s\n",
      "50:\tlearn: 0.7809119\ttest: 0.7594213\tbest: 0.7594213 (50)\ttotal: 11.8s\tremaining: 23s\n",
      "60:\tlearn: 0.7867190\ttest: 0.7611540\tbest: 0.7613894 (59)\ttotal: 14.3s\tremaining: 20.9s\n",
      "70:\tlearn: 0.7898979\ttest: 0.7618081\tbest: 0.7618499 (69)\ttotal: 16.6s\tremaining: 18.5s\n",
      "80:\tlearn: 0.7924077\ttest: 0.7631186\tbest: 0.7631186 (80)\ttotal: 18.8s\tremaining: 16s\n",
      "90:\tlearn: 0.7958630\ttest: 0.7637971\tbest: 0.7638180 (89)\ttotal: 21.2s\tremaining: 13.7s\n",
      "100:\tlearn: 0.7996256\ttest: 0.7641105\tbest: 0.7642604 (99)\ttotal: 23.6s\tremaining: 11.4s\n",
      "110:\tlearn: 0.8039798\ttest: 0.7641318\tbest: 0.7644288 (107)\ttotal: 25.9s\tremaining: 9.1s\n",
      "120:\tlearn: 0.8105928\ttest: 0.7647909\tbest: 0.7649222 (119)\ttotal: 28.3s\tremaining: 6.78s\n",
      "130:\tlearn: 0.8181482\ttest: 0.7659623\tbest: 0.7659623 (130)\ttotal: 30.4s\tremaining: 4.41s\n",
      "140:\tlearn: 0.8267730\ttest: 0.7639097\tbest: 0.7659623 (130)\ttotal: 32.6s\tremaining: 2.08s\n",
      "149:\tlearn: 0.8331066\ttest: 0.7648705\tbest: 0.7659623 (130)\ttotal: 34.6s\tremaining: 0us\n",
      "\n",
      "bestTest = 0.7659623275\n",
      "bestIteration = 130\n",
      "\n"
     ]
    }
   ],
   "source": [
    "%time\n",
    "cat_features = features_downsampled_train.select_dtypes(include='category').columns.to_list()\n",
    "# Построим модель CatBoostClassifier\n",
    "\n",
    "model_cat_down5 = CatBoostClassifier(loss_function=\"Logloss\", verbose=10,\\\n",
    "                               \n",
    "                               eval_metric='AUC:hints=skip_train~false',\\\n",
    "                                      cat_features=cat_features,\\\n",
    "                               random_state=RANDOM_STATE, auto_class_weights=\"Balanced\") \n",
    "\n",
    "grid = {'learning_rate': [0.05, 0.1],\n",
    "        'depth': [6],\n",
    "        'l2_leaf_reg': [3, 8],\n",
    "        'iterations': [150] }\n",
    "grid_search_result = model_cat_down5.grid_search(grid,\n",
    "                                       X=features_downsampled_train, \n",
    "                                       y=target_downsampled_train,\n",
    "                                       plot=True, cv=5)"
   ]
  },
  {
   "cell_type": "code",
   "execution_count": 75,
   "metadata": {},
   "outputs": [
    {
     "name": "stdout",
     "output_type": "stream",
     "text": [
      "Метрика ROC_AUC на тестовой выборке: 0.746635817744496\n"
     ]
    }
   ],
   "source": [
    "probabilities_cat = model_cat_down5.predict_proba(features_downsampled_test)[:,1]\n",
    "auc_roc = roc_auc_score(target_downsampled_test, probabilities_cat)\n",
    "\n",
    "print('Метрика ROC_AUC на тестовой выборке:', auc_roc)"
   ]
  },
  {
   "cell_type": "code",
   "execution_count": 76,
   "metadata": {},
   "outputs": [
    {
     "name": "stdout",
     "output_type": "stream",
     "text": [
      "Метрика ROC_AUC на тестовой выборке: 0.6765786131331513\n"
     ]
    }
   ],
   "source": [
    "probabilities_cat = model_cat_down5.predict(features_downsampled_test)\n",
    "auc_roc = roc_auc_score(target_downsampled_test, probabilities_cat)\n",
    "\n",
    "print('Метрика ROC_AUC на тестовой выборке:', auc_roc)"
   ]
  },
  {
   "cell_type": "code",
   "execution_count": 80,
   "metadata": {},
   "outputs": [
    {
     "name": "stderr",
     "output_type": "stream",
     "text": [
      "auto_size_plot=False is deprecated and is now ignored! Use plot_size=None instead.\n",
      "No data for colormapping provided via 'c'. Parameters 'vmin', 'vmax' will be ignored\n"
     ]
    },
    {
     "data": {
      "image/png": "[encoded data removed]",
      "text/plain": [
       "<Figure size 800x1350 with 2 Axes>"
      ]
     },
     "metadata": {},
     "output_type": "display_data"
    }
   ],
   "source": [
    "# Отобразим гистограмму важности признаков\n",
    "import shap\n",
    "shap_test = shap.TreeExplainer(model_cat_down5).shap_values(features_downsampled_train)\n",
    "shap.summary_plot(shap_test, features_downsampled_train,\n",
    "                      max_display=30, auto_size_plot=True)"
   ]
  },
  {
   "cell_type": "code",
   "execution_count": 81,
   "metadata": {},
   "outputs": [
    {
     "ename": "TypeError",
     "evalue": "'numpy.float64' object is not iterable",
     "output_type": "error",
     "traceback": [
      "\u001b[1;31m---------------------------------------------------------------------------\u001b[0m",
      "\u001b[1;31mTypeError\u001b[0m                                 Traceback (most recent call last)",
      "Cell \u001b[1;32mIn[81], line 11\u001b[0m\n\u001b[0;32m      7\u001b[0m shap_values \u001b[38;5;241m=\u001b[39m explainer\u001b[38;5;241m.\u001b[39mshap_values(X_importance)\n\u001b[0;32m      9\u001b[0m vals\u001b[38;5;241m=\u001b[39m np\u001b[38;5;241m.\u001b[39mabs(shap_values)\u001b[38;5;241m.\u001b[39mmean(\u001b[38;5;241m0\u001b[39m)\n\u001b[1;32m---> 11\u001b[0m feature_importance \u001b[38;5;241m=\u001b[39m pd\u001b[38;5;241m.\u001b[39mDataFrame(\u001b[38;5;28mlist\u001b[39m(\u001b[38;5;28;43mzip\u001b[39;49m\u001b[43m(\u001b[49m\u001b[43mfeatures\u001b[49m\u001b[38;5;241;43m.\u001b[39;49m\u001b[43mcolumns\u001b[49m\u001b[43m,\u001b[49m\u001b[43m \u001b[49m\u001b[38;5;28;43msum\u001b[39;49m\u001b[43m(\u001b[49m\u001b[43mvals\u001b[49m\u001b[43m)\u001b[49m\u001b[43m)\u001b[49m), columns\u001b[38;5;241m=\u001b[39m[\u001b[38;5;124m'\u001b[39m\u001b[38;5;124mcol_name\u001b[39m\u001b[38;5;124m'\u001b[39m,\u001b[38;5;124m'\u001b[39m\u001b[38;5;124mfeature_importance_vals\u001b[39m\u001b[38;5;124m'\u001b[39m])\n\u001b[0;32m     12\u001b[0m feature_importance\u001b[38;5;241m.\u001b[39msort_values(by\u001b[38;5;241m=\u001b[39m[\u001b[38;5;124m'\u001b[39m\u001b[38;5;124mfeature_importance_vals\u001b[39m\u001b[38;5;124m'\u001b[39m], ascending\u001b[38;5;241m=\u001b[39m\u001b[38;5;28;01mFalse\u001b[39;00m,inplace\u001b[38;5;241m=\u001b[39m\u001b[38;5;28;01mTrue\u001b[39;00m)\n\u001b[0;32m     13\u001b[0m feature_importance\u001b[38;5;241m.\u001b[39mhead(\u001b[38;5;241m90\u001b[39m)\n",
      "\u001b[1;31mTypeError\u001b[0m: 'numpy.float64' object is not iterable"
     ]
    }
   ],
   "source": [
    "# Сделам таблицу признаков\n",
    "features = features_downsampled_train\n",
    "X_importance = features_downsampled_train\n",
    "\n",
    "# Explain model predictions using shap library:\n",
    "explainer = shap.TreeExplainer(model_cat_down5)\n",
    "shap_values = explainer.shap_values(X_importance)\n",
    "\n",
    "vals= np.abs(shap_values).mean(0)\n",
    "\n",
    "feature_importance = pd.DataFrame(list(zip(features.columns, sum(vals))), columns=['col_name','feature_importance_vals'])\n",
    "feature_importance.sort_values(by=['feature_importance_vals'], ascending=False,inplace=True)\n",
    "feature_importance.head(90)"
   ]
  },
  {
   "cell_type": "code",
   "execution_count": 83,
   "metadata": {},
   "outputs": [
    {
     "data": {
      "text/html": [
       "<div>\n",
       "<style scoped>\n",
       "    .dataframe tbody tr th:only-of-type {\n",
       "        vertical-align: middle;\n",
       "    }\n",
       "\n",
       "    .dataframe tbody tr th {\n",
       "        vertical-align: top;\n",
       "    }\n",
       "\n",
       "    .dataframe thead th {\n",
       "        text-align: right;\n",
       "    }\n",
       "</style>\n",
       "<table border=\"1\" class=\"dataframe\">\n",
       "  <thead>\n",
       "    <tr style=\"text-align: right;\">\n",
       "      <th></th>\n",
       "      <th>index</th>\n",
       "      <th>feature</th>\n",
       "      <th>importance</th>\n",
       "    </tr>\n",
       "  </thead>\n",
       "  <tbody>\n",
       "    <tr>\n",
       "      <th>0</th>\n",
       "      <td>0</td>\n",
       "      <td>channel_name</td>\n",
       "      <td>14.507262</td>\n",
       "    </tr>\n",
       "    <tr>\n",
       "      <th>1</th>\n",
       "      <td>2</td>\n",
       "      <td>basic_info_0_0_avg</td>\n",
       "      <td>11.084682</td>\n",
       "    </tr>\n",
       "    <tr>\n",
       "      <th>2</th>\n",
       "      <td>12</td>\n",
       "      <td>materials_details_16_1_ctg</td>\n",
       "      <td>5.887887</td>\n",
       "    </tr>\n",
       "    <tr>\n",
       "      <th>3</th>\n",
       "      <td>524</td>\n",
       "      <td>communication_availability_30_1_flg</td>\n",
       "      <td>3.373614</td>\n",
       "    </tr>\n",
       "    <tr>\n",
       "      <th>4</th>\n",
       "      <td>781</td>\n",
       "      <td>tariff_plans_21_1_max</td>\n",
       "      <td>1.683888</td>\n",
       "    </tr>\n",
       "    <tr>\n",
       "      <th>...</th>\n",
       "      <td>...</td>\n",
       "      <td>...</td>\n",
       "      <td>...</td>\n",
       "    </tr>\n",
       "    <tr>\n",
       "      <th>95</th>\n",
       "      <td>536</td>\n",
       "      <td>user_lifetime_2_1_num</td>\n",
       "      <td>0.222416</td>\n",
       "    </tr>\n",
       "    <tr>\n",
       "      <th>96</th>\n",
       "      <td>498</td>\n",
       "      <td>traffic_details_44_1_sum</td>\n",
       "      <td>0.218193</td>\n",
       "    </tr>\n",
       "    <tr>\n",
       "      <th>97</th>\n",
       "      <td>18</td>\n",
       "      <td>communication_availability_69_1_flg</td>\n",
       "      <td>0.217357</td>\n",
       "    </tr>\n",
       "    <tr>\n",
       "      <th>98</th>\n",
       "      <td>817</td>\n",
       "      <td>spas_symptoms_agr_125_6_avg</td>\n",
       "      <td>0.215081</td>\n",
       "    </tr>\n",
       "    <tr>\n",
       "      <th>99</th>\n",
       "      <td>495</td>\n",
       "      <td>traffic_details_41_6_std</td>\n",
       "      <td>0.214767</td>\n",
       "    </tr>\n",
       "  </tbody>\n",
       "</table>\n",
       "<p>100 rows × 3 columns</p>\n",
       "</div>"
      ],
      "text/plain": [
       "    index                              feature  importance\n",
       "0       0                         channel_name   14.507262\n",
       "1       2                   basic_info_0_0_avg   11.084682\n",
       "2      12           materials_details_16_1_ctg    5.887887\n",
       "3     524  communication_availability_30_1_flg    3.373614\n",
       "4     781                tariff_plans_21_1_max    1.683888\n",
       "..    ...                                  ...         ...\n",
       "95    536                user_lifetime_2_1_num    0.222416\n",
       "96    498             traffic_details_44_1_sum    0.218193\n",
       "97     18  communication_availability_69_1_flg    0.217357\n",
       "98    817          spas_symptoms_agr_125_6_avg    0.215081\n",
       "99    495             traffic_details_41_6_std    0.214767\n",
       "\n",
       "[100 rows x 3 columns]"
      ]
     },
     "execution_count": 83,
     "metadata": {},
     "output_type": "execute_result"
    }
   ],
   "source": [
    "# Получите важности признаков\n",
    "feature_importance = model_cat_down5.get_feature_importance()\n",
    "\n",
    "# Создайте DataFrame с названиями признаков и их важностями\n",
    "importance_df = pd.DataFrame({'feature': features_downsampled_train.columns, 'importance': feature_importance})\n",
    "\n",
    "# Отсортируйте по убыванию важности\n",
    "importance_df = importance_df.sort_values('importance', ascending=False)\n",
    "\n",
    "# Выведите результаты\n",
    "importance_df = importance_df.head(100).reset_index()\n",
    "importance_df\n"
   ]
  },
  {
   "cell_type": "code",
   "execution_count": 84,
   "metadata": {},
   "outputs": [
    {
     "data": {
      "text/plain": [
       "['channel_name',\n",
       " 'basic_info_0_0_avg',\n",
       " 'materials_details_16_1_ctg',\n",
       " 'communication_availability_30_1_flg',\n",
       " 'tariff_plans_21_1_max',\n",
       " 'payments_details_49_6_avg',\n",
       " 'user_active_24_0_dt',\n",
       " 'info_house_5_0_num',\n",
       " 'user_devices_30_1_cnt',\n",
       " 'tariff_plans_19_src_id',\n",
       " 'campaigns_281_1_part',\n",
       " 'user_lifetime_3_0_dt',\n",
       " 'markers_912_1_cnt',\n",
       " 'markers_905_1_cnt',\n",
       " 'payments_details_45_1_avg',\n",
       " 'payments_details_46_1_sum',\n",
       " 'type_av_100_0_1_ctg',\n",
       " 'tariff_plans_20_1_ctg',\n",
       " 'traffic_details_34_1d6_avg',\n",
       " 'traffic_details_60_1_avg',\n",
       " 'campaigns_357_1_sum',\n",
       " 'traffic_details_59_6_sum',\n",
       " 'info_house_6_0_num',\n",
       " 'plan_costs_0_1_sum',\n",
       " 'markers_904_1_cnt',\n",
       " 'traffic_details_50_6_sum',\n",
       " 'exist_tariff_0_1_flg',\n",
       " 'communication_availability_17_1_flg',\n",
       " 'cities_2_0_ctg',\n",
       " 'campaigns_403_3d6_part',\n",
       " 'traffic_details_35_1d6_std',\n",
       " 'markers_933_1_cnt',\n",
       " 'traffic_details_62_1_sum',\n",
       " 'traffic_details_9_3d6_part',\n",
       " 'traffic_details_33_1d3_std',\n",
       " 'communication_availability_40_1_ctg',\n",
       " 'scheme_types_2_1_flg',\n",
       " 'tariff_plans_22_1_min',\n",
       " 'user_active_3_1_flg',\n",
       " 'spas_symptoms_agr_127_6_sum',\n",
       " 'traffic_details_49_6_std',\n",
       " 'payments_details_48_3_sum',\n",
       " 'spas_symptoms_agr_106_12_sum',\n",
       " 'plan_costs_5_6_avg',\n",
       " 'user_active_23_0_dt',\n",
       " 'payments_details_47_3_avg',\n",
       " 'traffic_details_47_3_sum',\n",
       " 'spas_symptoms_agr_115_6_sum',\n",
       " 'payments_details_50_6_sum',\n",
       " 'traffic_details_40_6_avg',\n",
       " 'vas_details_50_6_cnt',\n",
       " 'traffic_details_29_6_sum',\n",
       " 'spas_symptoms_agr_105_12_std',\n",
       " 'communication_availability_44_1_flg',\n",
       " 'spas_symptoms_agr_104_12_avg',\n",
       " 'plan_costs_3_1_sum',\n",
       " 'traffic_details_25_3d6_std',\n",
       " 'spas_symptoms_int_45_1_cnt',\n",
       " 'campaigns_400_1d6_part',\n",
       " 'traffic_details_38_3d6_avg',\n",
       " 'communication_availability_33_1_flg',\n",
       " 'traffic_details_43_1_std',\n",
       " 'campaigns_390_1d3_part',\n",
       " 'traffic_details_23_3_sum',\n",
       " 'traffic_details_39_3d6_std',\n",
       " 'spas_symptoms_agr_163_6_sum',\n",
       " 'spas_symptoms_agr_146_3_avg',\n",
       " 'user_devices_24_1_cnt',\n",
       " 'spas_symptoms_int_85_1_cnt',\n",
       " 'spas_symptoms_agr_155_1_avg',\n",
       " 'cities_1_0_ctg',\n",
       " 'social_dem_4_0_flg',\n",
       " 'traffic_details_21_3_avg',\n",
       " 'user_active_10_1_flg',\n",
       " 'materials_details_19_1_dt',\n",
       " 'spas_symptoms_agr_120_1_std',\n",
       " 'spas_symptoms_agr_159_3_std',\n",
       " 'traffic_details_61_1_std',\n",
       " 'plan_costs_1_3_avg',\n",
       " 'spas_symptoms_agr_156_1_std',\n",
       " 'spas_symptoms_agr_158_3_avg',\n",
       " 'traffic_details_24_3d6_avg',\n",
       " 'traffic_details_16_1d3_std',\n",
       " 'spas_symptoms_agr_113_6_avg',\n",
       " 'charges_details_32_6_avg',\n",
       " 'communication_availability_34_1_flg',\n",
       " 'vas_details_4_3_sum',\n",
       " 'spas_symptoms_int_130_1_cnt',\n",
       " 'scheme_types_0_1_flg',\n",
       " 'traffic_details_14_1_sum',\n",
       " 'spas_symptoms_agr_93_12_std',\n",
       " 'traffic_details_64_3_std',\n",
       " 'spas_symptoms_int_91_1_cnt',\n",
       " 'spas_symptoms_agr_162_6_std',\n",
       " 'area_0_0_num',\n",
       " 'user_lifetime_2_1_num',\n",
       " 'traffic_details_44_1_sum',\n",
       " 'communication_availability_69_1_flg',\n",
       " 'spas_symptoms_agr_125_6_avg',\n",
       " 'traffic_details_41_6_std']"
      ]
     },
     "execution_count": 84,
     "metadata": {},
     "output_type": "execute_result"
    }
   ],
   "source": [
    "importance_df = importance_df.head(100)\n",
    "feature_list = importance_df['feature'].to_list()\n",
    "feature_list"
   ]
  },
  {
   "cell_type": "code",
   "execution_count": 86,
   "metadata": {},
   "outputs": [],
   "source": [
    "nick = ['tariff_plans_4_1_num',\n",
    " 'charges_details_12_1_sum',\n",
    " 'payments_details_35_6_sum',\n",
    " 'spas_symptoms_agr_7_6_sum',\n",
    " 'markers_706_1_cnt',\n",
    " 'payments_details_28_3_sumpct',\n",
    " 'payments_details_27_1_sumpct',\n",
    " 'payments_details_29_6_sumpct',\n",
    " 'balance_details_0_1_num',\n",
    " 'payments_details_49_6_avg',\n",
    " 'payments_details_48_3_sum',\n",
    " 'markers_346_1_cnt',\n",
    " 'spas_symptoms_agr_18_6_std',\n",
    " 'arpu_2_6_avg',\n",
    " 'markers_349_1_cnt',\n",
    " 'markers_323_1_cnt',\n",
    " 'markers_476_1_cnt',\n",
    " 'payments_details_23_3d6_avg',\n",
    " 'markers_40_1_cnt',\n",
    " 'markers_310_1_cnt',\n",
    " 'markers_60_1_cnt',\n",
    " 'markers_330_1_cnt',\n",
    " 'markers_333_1_cnt',\n",
    " 'payments_details_33_1_sum',\n",
    " 'markers_334_1_cnt',\n",
    " 'markers_772_1_cnt',\n",
    " 'markers_59_1_cnt',\n",
    " 'markers_242_1_cnt',\n",
    " 'markers_387_1_cnt',\n",
    " 'tariff_plans_5_1_num']"
   ]
  },
  {
   "cell_type": "code",
   "execution_count": 87,
   "metadata": {
    "execution": {
     "iopub.execute_input": "2023-10-08T18:08:39.681360Z",
     "iopub.status.busy": "2023-10-08T18:08:39.680465Z",
     "iopub.status.idle": "2023-10-08T18:08:39.688264Z",
     "shell.execute_reply": "2023-10-08T18:08:39.687234Z",
     "shell.execute_reply.started": "2023-10-08T18:08:39.681303Z"
    }
   },
   "outputs": [],
   "source": [
    "features_all  = feature_list + ['channel_name','target'] + nick"
   ]
  },
  {
   "cell_type": "code",
   "execution_count": 88,
   "metadata": {
    "execution": {
     "iopub.execute_input": "2023-10-08T18:08:40.463464Z",
     "iopub.status.busy": "2023-10-08T18:08:40.462725Z",
     "iopub.status.idle": "2023-10-08T18:08:40.476181Z",
     "shell.execute_reply": "2023-10-08T18:08:40.474339Z",
     "shell.execute_reply.started": "2023-10-08T18:08:40.463416Z"
    }
   },
   "outputs": [
    {
     "data": {
      "text/plain": [
       "132"
      ]
     },
     "execution_count": 88,
     "metadata": {},
     "output_type": "execute_result"
    }
   ],
   "source": [
    "len(features_all)"
   ]
  },
  {
   "cell_type": "code",
   "execution_count": 89,
   "metadata": {
    "execution": {
     "iopub.execute_input": "2023-10-08T18:08:40.994093Z",
     "iopub.status.busy": "2023-10-08T18:08:40.993677Z",
     "iopub.status.idle": "2023-10-08T18:08:51.937816Z",
     "shell.execute_reply": "2023-10-08T18:08:51.936333Z",
     "shell.execute_reply.started": "2023-10-08T18:08:40.994064Z"
    }
   },
   "outputs": [],
   "source": [
    "# Загрузим признаки\n",
    "data_all = pd.read_parquet('dataset_train.parquet', engine='fastparquet', columns=features_all)"
   ]
  },
  {
   "cell_type": "code",
   "execution_count": 90,
   "metadata": {
    "execution": {
     "iopub.execute_input": "2023-10-08T18:08:51.941928Z",
     "iopub.status.busy": "2023-10-08T18:08:51.940214Z",
     "iopub.status.idle": "2023-10-08T18:08:51.988523Z",
     "shell.execute_reply": "2023-10-08T18:08:51.986328Z",
     "shell.execute_reply.started": "2023-10-08T18:08:51.941862Z"
    }
   },
   "outputs": [
    {
     "name": "stdout",
     "output_type": "stream",
     "text": [
      "<class 'pandas.core.frame.DataFrame'>\n",
      "RangeIndex: 702086 entries, 0 to 702085\n",
      "Columns: 129 entries, channel_name to tariff_plans_5_1_num\n",
      "dtypes: float64(110), int32(14), int64(3), int8(1), object(1)\n",
      "memory usage: 648.8+ MB\n"
     ]
    }
   ],
   "source": [
    "data_all.info()"
   ]
  },
  {
   "cell_type": "code",
   "execution_count": 91,
   "metadata": {
    "execution": {
     "iopub.execute_input": "2023-10-08T18:08:51.996574Z",
     "iopub.status.busy": "2023-10-08T18:08:51.995600Z",
     "iopub.status.idle": "2023-10-08T18:08:53.525760Z",
     "shell.execute_reply": "2023-10-08T18:08:53.524258Z",
     "shell.execute_reply.started": "2023-10-08T18:08:51.996535Z"
    }
   },
   "outputs": [],
   "source": [
    "# Marking cat_features\n",
    "cat = ['ctg', 'flg','channel_name','src_id']\n",
    "cat_features = cat_columns(data_all, cat)\n",
    "data_all[cat_features] = data_all[cat_features].astype('category')\n",
    "data_all['materials_details_16_1_ctg'] = data_all['materials_details_16_1_ctg'].astype('float64')\n",
    "data_all['tariff_plans_20_1_ctg'] = data_all['tariff_plans_20_1_ctg'].astype('float64')"
   ]
  },
  {
   "cell_type": "code",
   "execution_count": 95,
   "metadata": {
    "execution": {
     "iopub.execute_input": "2023-10-08T18:08:53.528636Z",
     "iopub.status.busy": "2023-10-08T18:08:53.528132Z",
     "iopub.status.idle": "2023-10-08T18:09:01.492766Z",
     "shell.execute_reply": "2023-10-08T18:09:01.491551Z",
     "shell.execute_reply.started": "2023-10-08T18:08:53.528600Z"
    }
   },
   "outputs": [],
   "source": [
    "# Выделим выборку\n",
    "features = data_all.drop(['target'], axis=1)\n",
    "target = data_all['target']\n"
   ]
  },
  {
   "cell_type": "code",
   "execution_count": 96,
   "metadata": {},
   "outputs": [],
   "source": [
    "# Make downsampling\n",
    "features_downsampled, target_downsampled = downsample(features, target, 0.2)\n"
   ]
  },
  {
   "cell_type": "code",
   "execution_count": 97,
   "metadata": {},
   "outputs": [],
   "source": [
    "features_upsampled, target_upsampled = upsample(features_downsampled, target_downsampled, 4)"
   ]
  },
  {
   "cell_type": "code",
   "execution_count": 104,
   "metadata": {},
   "outputs": [
    {
     "data": {
      "text/plain": [
       "0    139323\n",
       "1     21876\n",
       "Name: target, dtype: int64"
      ]
     },
     "execution_count": 104,
     "metadata": {},
     "output_type": "execute_result"
    }
   ],
   "source": [
    "target_upsampled.value_counts()"
   ]
  },
  {
   "cell_type": "code",
   "execution_count": 105,
   "metadata": {
    "execution": {
     "iopub.execute_input": "2023-10-08T18:09:01.494638Z",
     "iopub.status.busy": "2023-10-08T18:09:01.494288Z",
     "iopub.status.idle": "2023-10-08T18:09:02.561085Z",
     "shell.execute_reply": "2023-10-08T18:09:02.559917Z",
     "shell.execute_reply.started": "2023-10-08T18:09:01.494611Z"
    }
   },
   "outputs": [],
   "source": [
    "# Make train and test samples\n",
    "features_downsampled_train, features_downsampled_test, target_downsampled_train,target_downsampled_test = train_test_split(features_downsampled, target_downsampled, test_size=0.25, random_state=RANDOM_STATE)"
   ]
  },
  {
   "cell_type": "code",
   "execution_count": 106,
   "metadata": {
    "execution": {
     "iopub.execute_input": "2023-10-08T18:09:02.562672Z",
     "iopub.status.busy": "2023-10-08T18:09:02.562344Z",
     "iopub.status.idle": "2023-10-08T18:09:02.568255Z",
     "shell.execute_reply": "2023-10-08T18:09:02.567536Z",
     "shell.execute_reply.started": "2023-10-08T18:09:02.562646Z"
    }
   },
   "outputs": [
    {
     "name": "stdout",
     "output_type": "stream",
     "text": [
      "(108594, 128)\n",
      "(108594,)\n",
      "(36198, 128)\n",
      "(36198,)\n"
     ]
    }
   ],
   "source": [
    "print(features_downsampled_train.shape)\n",
    "print(target_downsampled_train.shape)\n",
    "print(features_downsampled_test.shape)\n",
    "print(target_downsampled_test.shape)"
   ]
  },
  {
   "cell_type": "code",
   "execution_count": 107,
   "metadata": {},
   "outputs": [],
   "source": [
    "features_downsampled_train['materials_details_16_1_ctg'] = features_downsampled_train['materials_details_16_1_ctg'].astype('float64')\n",
    "features_downsampled_train['tariff_plans_20_1_ctg'] = features_downsampled_train['tariff_plans_20_1_ctg'].astype('float64')\n",
    "features_downsampled_test['materials_details_16_1_ctg'] = features_downsampled_test['materials_details_16_1_ctg'].astype('float64')\n",
    "features_downsampled_test['tariff_plans_20_1_ctg'] = features_downsampled_test['tariff_plans_20_1_ctg'].astype('float64')"
   ]
  },
  {
   "cell_type": "code",
   "execution_count": 113,
   "metadata": {},
   "outputs": [
    {
     "name": "stdout",
     "output_type": "stream",
     "text": [
      "CPU times: total: 0 ns\n",
      "Wall time: 0 ns\n"
     ]
    },
    {
     "data": {
      "application/vnd.jupyter.widget-view+json": {
       "model_id": "1e5bf9813145406a84f8ae1d39bc3427",
       "version_major": 2,
       "version_minor": 0
      },
      "text/plain": [
       "MetricVisualizer(layout=Layout(align_self='stretch', height='500px'))"
      ]
     },
     "metadata": {},
     "output_type": "display_data"
    },
    {
     "name": "stdout",
     "output_type": "stream",
     "text": [
      "0:\tlearn: 0.6793472\ttest: 0.6805506\tbest: 0.6805506 (0)\ttotal: 106ms\tremaining: 21.1s\n",
      "10:\tlearn: 0.7218366\ttest: 0.7256433\tbest: 0.7268191 (7)\ttotal: 1.43s\tremaining: 24.6s\n",
      "20:\tlearn: 0.7349648\ttest: 0.7366654\tbest: 0.7366654 (20)\ttotal: 2.64s\tremaining: 22.5s\n",
      "30:\tlearn: 0.7387661\ttest: 0.7402589\tbest: 0.7402589 (30)\ttotal: 4.15s\tremaining: 22.6s\n",
      "40:\tlearn: 0.7425544\ttest: 0.7438318\tbest: 0.7438318 (40)\ttotal: 5.88s\tremaining: 22.8s\n",
      "50:\tlearn: 0.7463612\ttest: 0.7465146\tbest: 0.7465146 (50)\ttotal: 7.62s\tremaining: 22.3s\n",
      "60:\tlearn: 0.7491998\ttest: 0.7495946\tbest: 0.7495946 (60)\ttotal: 9.11s\tremaining: 20.8s\n",
      "70:\tlearn: 0.7515527\ttest: 0.7514636\tbest: 0.7514636 (70)\ttotal: 10.7s\tremaining: 19.5s\n",
      "80:\tlearn: 0.7531209\ttest: 0.7528056\tbest: 0.7528056 (80)\ttotal: 12.4s\tremaining: 18.2s\n",
      "90:\tlearn: 0.7547090\ttest: 0.7542282\tbest: 0.7542282 (90)\ttotal: 14s\tremaining: 16.8s\n",
      "100:\tlearn: 0.7557197\ttest: 0.7550781\tbest: 0.7550781 (100)\ttotal: 15.7s\tremaining: 15.4s\n",
      "110:\tlearn: 0.7571278\ttest: 0.7563224\tbest: 0.7563224 (110)\ttotal: 17.4s\tremaining: 14s\n",
      "120:\tlearn: 0.7582546\ttest: 0.7574809\tbest: 0.7574826 (119)\ttotal: 19s\tremaining: 12.4s\n",
      "130:\tlearn: 0.7592923\ttest: 0.7584357\tbest: 0.7584357 (130)\ttotal: 20.6s\tremaining: 10.9s\n",
      "140:\tlearn: 0.7602750\ttest: 0.7593063\tbest: 0.7593246 (138)\ttotal: 22.3s\tremaining: 9.33s\n",
      "150:\tlearn: 0.7609909\ttest: 0.7600208\tbest: 0.7600208 (150)\ttotal: 23.9s\tremaining: 7.75s\n",
      "160:\tlearn: 0.7620334\ttest: 0.7610723\tbest: 0.7610723 (160)\ttotal: 25.6s\tremaining: 6.21s\n",
      "170:\tlearn: 0.7627099\ttest: 0.7616167\tbest: 0.7616167 (170)\ttotal: 27.2s\tremaining: 4.62s\n",
      "180:\tlearn: 0.7634013\ttest: 0.7622774\tbest: 0.7622774 (180)\ttotal: 28.9s\tremaining: 3.03s\n",
      "190:\tlearn: 0.7643403\ttest: 0.7628408\tbest: 0.7628408 (190)\ttotal: 30.5s\tremaining: 1.44s\n",
      "199:\tlearn: 0.7650148\ttest: 0.7633238\tbest: 0.7633333 (197)\ttotal: 31.9s\tremaining: 0us\n",
      "\n",
      "bestTest = 0.7633333257\n",
      "bestIteration = 197\n",
      "\n",
      "0:\tloss: 0.7633333\tbest: 0.7633333 (0)\ttotal: 32.1s\tremaining: 9m 4s\n",
      "0:\tlearn: 0.6793472\ttest: 0.6805506\tbest: 0.6805506 (0)\ttotal: 131ms\tremaining: 26.1s\n",
      "10:\tlearn: 0.7319713\ttest: 0.7341650\tbest: 0.7341650 (10)\ttotal: 1.48s\tremaining: 25.4s\n",
      "20:\tlearn: 0.7433160\ttest: 0.7429806\tbest: 0.7429806 (20)\ttotal: 3.05s\tremaining: 26s\n",
      "30:\tlearn: 0.7498117\ttest: 0.7487928\tbest: 0.7487928 (30)\ttotal: 4.68s\tremaining: 25.5s\n",
      "40:\tlearn: 0.7535758\ttest: 0.7526943\tbest: 0.7526943 (40)\ttotal: 6.29s\tremaining: 24.4s\n",
      "50:\tlearn: 0.7568015\ttest: 0.7556927\tbest: 0.7556927 (50)\ttotal: 7.86s\tremaining: 23s\n",
      "60:\tlearn: 0.7590189\ttest: 0.7579204\tbest: 0.7579204 (60)\ttotal: 9.52s\tremaining: 21.7s\n",
      "70:\tlearn: 0.7606604\ttest: 0.7590094\tbest: 0.7590094 (70)\ttotal: 11.1s\tremaining: 20.1s\n",
      "80:\tlearn: 0.7619641\ttest: 0.7600176\tbest: 0.7600176 (80)\ttotal: 12.7s\tremaining: 18.7s\n",
      "90:\tlearn: 0.7634378\ttest: 0.7611541\tbest: 0.7611541 (90)\ttotal: 14.2s\tremaining: 17.1s\n",
      "100:\tlearn: 0.7649347\ttest: 0.7626173\tbest: 0.7626173 (100)\ttotal: 15.7s\tremaining: 15.4s\n",
      "110:\tlearn: 0.7663085\ttest: 0.7637890\tbest: 0.7637890 (110)\ttotal: 17.1s\tremaining: 13.7s\n",
      "120:\tlearn: 0.7679564\ttest: 0.7652551\tbest: 0.7652551 (120)\ttotal: 18.6s\tremaining: 12.2s\n",
      "130:\tlearn: 0.7701531\ttest: 0.7664486\tbest: 0.7664486 (130)\ttotal: 20.1s\tremaining: 10.6s\n",
      "140:\tlearn: 0.7720070\ttest: 0.7671213\tbest: 0.7671213 (140)\ttotal: 21.6s\tremaining: 9.04s\n",
      "150:\tlearn: 0.7744073\ttest: 0.7680413\tbest: 0.7680413 (150)\ttotal: 23.2s\tremaining: 7.52s\n",
      "160:\tlearn: 0.7762574\ttest: 0.7687476\tbest: 0.7687476 (160)\ttotal: 24.7s\tremaining: 5.99s\n",
      "170:\tlearn: 0.7781608\ttest: 0.7690678\tbest: 0.7692608 (164)\ttotal: 26.3s\tremaining: 4.46s\n",
      "180:\tlearn: 0.7797804\ttest: 0.7695678\tbest: 0.7695678 (180)\ttotal: 27.6s\tremaining: 2.9s\n",
      "190:\tlearn: 0.7813035\ttest: 0.7700168\tbest: 0.7700168 (190)\ttotal: 29.1s\tremaining: 1.37s\n",
      "199:\tlearn: 0.7824862\ttest: 0.7703597\tbest: 0.7703597 (199)\ttotal: 30.5s\tremaining: 0us\n",
      "\n",
      "bestTest = 0.7703596512\n",
      "bestIteration = 199\n",
      "\n",
      "1:\tloss: 0.7703597\tbest: 0.7703597 (1)\ttotal: 1m 2s\tremaining: 8m 20s\n",
      "0:\tlearn: 0.6793472\ttest: 0.6805506\tbest: 0.6805506 (0)\ttotal: 143ms\tremaining: 28.6s\n",
      "10:\tlearn: 0.7490663\ttest: 0.7487249\tbest: 0.7487249 (10)\ttotal: 1.77s\tremaining: 30.5s\n",
      "20:\tlearn: 0.7578144\ttest: 0.7571128\tbest: 0.7571128 (20)\ttotal: 3.48s\tremaining: 29.7s\n",
      "30:\tlearn: 0.7640072\ttest: 0.7631204\tbest: 0.7631204 (30)\ttotal: 5.17s\tremaining: 28.2s\n",
      "40:\tlearn: 0.7696681\ttest: 0.7668789\tbest: 0.7669634 (39)\ttotal: 6.74s\tremaining: 26.1s\n",
      "50:\tlearn: 0.7749283\ttest: 0.7680976\tbest: 0.7682749 (46)\ttotal: 8.28s\tremaining: 24.2s\n",
      "60:\tlearn: 0.7801634\ttest: 0.7697047\tbest: 0.7697047 (60)\ttotal: 9.87s\tremaining: 22.5s\n",
      "70:\tlearn: 0.7842471\ttest: 0.7698789\tbest: 0.7700863 (69)\ttotal: 11.5s\tremaining: 20.9s\n",
      "80:\tlearn: 0.7883144\ttest: 0.7714579\tbest: 0.7714579 (80)\ttotal: 13s\tremaining: 19.1s\n",
      "90:\tlearn: 0.7923819\ttest: 0.7706575\tbest: 0.7714579 (80)\ttotal: 14.7s\tremaining: 17.6s\n",
      "100:\tlearn: 0.7957874\ttest: 0.7719969\tbest: 0.7723154 (97)\ttotal: 16.5s\tremaining: 16.1s\n",
      "110:\tlearn: 0.7986703\ttest: 0.7728978\tbest: 0.7732010 (106)\ttotal: 18s\tremaining: 14.4s\n",
      "120:\tlearn: 0.8016056\ttest: 0.7728475\tbest: 0.7740913 (112)\ttotal: 19.6s\tremaining: 12.8s\n",
      "130:\tlearn: 0.8046711\ttest: 0.7741588\tbest: 0.7741815 (128)\ttotal: 21.1s\tremaining: 11.1s\n",
      "140:\tlearn: 0.8076140\ttest: 0.7717733\tbest: 0.7743276 (131)\ttotal: 22.7s\tremaining: 9.48s\n",
      "150:\tlearn: 0.8104453\ttest: 0.7712841\tbest: 0.7743276 (131)\ttotal: 24.1s\tremaining: 7.81s\n",
      "160:\tlearn: 0.8129371\ttest: 0.7706997\tbest: 0.7743276 (131)\ttotal: 25.6s\tremaining: 6.21s\n",
      "170:\tlearn: 0.8148451\ttest: 0.7705100\tbest: 0.7743276 (131)\ttotal: 27.1s\tremaining: 4.6s\n",
      "180:\tlearn: 0.8170033\ttest: 0.7700407\tbest: 0.7743276 (131)\ttotal: 28.7s\tremaining: 3.01s\n",
      "190:\tlearn: 0.8196800\ttest: 0.7700006\tbest: 0.7743276 (131)\ttotal: 30.3s\tremaining: 1.43s\n",
      "199:\tlearn: 0.8215404\ttest: 0.7692642\tbest: 0.7743276 (131)\ttotal: 31.6s\tremaining: 0us\n",
      "\n",
      "bestTest = 0.7743276215\n",
      "bestIteration = 131\n",
      "\n",
      "2:\tloss: 0.7743276\tbest: 0.7743276 (2)\ttotal: 1m 34s\tremaining: 7m 51s\n",
      "0:\tlearn: 0.6793472\ttest: 0.6805506\tbest: 0.6805506 (0)\ttotal: 144ms\tremaining: 28.7s\n",
      "10:\tlearn: 0.7288385\ttest: 0.7324237\tbest: 0.7324237 (10)\ttotal: 1.76s\tremaining: 30.3s\n",
      "20:\tlearn: 0.7325895\ttest: 0.7361691\tbest: 0.7361691 (20)\ttotal: 3.2s\tremaining: 27.3s\n",
      "30:\tlearn: 0.7387477\ttest: 0.7401386\tbest: 0.7401386 (30)\ttotal: 4.74s\tremaining: 25.8s\n",
      "40:\tlearn: 0.7440756\ttest: 0.7437363\tbest: 0.7437363 (40)\ttotal: 6.32s\tremaining: 24.5s\n",
      "50:\tlearn: 0.7468231\ttest: 0.7464741\tbest: 0.7464741 (50)\ttotal: 7.85s\tremaining: 22.9s\n",
      "60:\tlearn: 0.7495611\ttest: 0.7487005\tbest: 0.7487005 (60)\ttotal: 9.34s\tremaining: 21.3s\n",
      "70:\tlearn: 0.7520002\ttest: 0.7515557\tbest: 0.7515557 (70)\ttotal: 10.8s\tremaining: 19.7s\n",
      "80:\tlearn: 0.7539248\ttest: 0.7535455\tbest: 0.7535455 (80)\ttotal: 12.5s\tremaining: 18.3s\n",
      "90:\tlearn: 0.7557243\ttest: 0.7550015\tbest: 0.7550015 (90)\ttotal: 14.2s\tremaining: 17s\n",
      "100:\tlearn: 0.7572287\ttest: 0.7563957\tbest: 0.7563957 (100)\ttotal: 15.9s\tremaining: 15.6s\n",
      "110:\tlearn: 0.7585458\ttest: 0.7577469\tbest: 0.7577469 (110)\ttotal: 17.4s\tremaining: 13.9s\n",
      "120:\tlearn: 0.7593727\ttest: 0.7583752\tbest: 0.7583752 (120)\ttotal: 19s\tremaining: 12.4s\n",
      "130:\tlearn: 0.7603976\ttest: 0.7592729\tbest: 0.7592729 (130)\ttotal: 20.8s\tremaining: 10.9s\n",
      "140:\tlearn: 0.7614282\ttest: 0.7603266\tbest: 0.7603266 (140)\ttotal: 22.5s\tremaining: 9.44s\n",
      "150:\tlearn: 0.7622417\ttest: 0.7612486\tbest: 0.7612486 (150)\ttotal: 23.9s\tremaining: 7.76s\n",
      "160:\tlearn: 0.7629466\ttest: 0.7616094\tbest: 0.7616263 (158)\ttotal: 25.6s\tremaining: 6.2s\n",
      "170:\tlearn: 0.7637923\ttest: 0.7624047\tbest: 0.7624047 (170)\ttotal: 27.3s\tremaining: 4.63s\n",
      "180:\tlearn: 0.7645752\ttest: 0.7628589\tbest: 0.7628589 (180)\ttotal: 28.9s\tremaining: 3.03s\n",
      "190:\tlearn: 0.7653189\ttest: 0.7633467\tbest: 0.7633467 (190)\ttotal: 30.6s\tremaining: 1.44s\n",
      "199:\tlearn: 0.7663128\ttest: 0.7637337\tbest: 0.7637885 (198)\ttotal: 32s\tremaining: 0us\n",
      "\n",
      "bestTest = 0.7637884748\n",
      "bestIteration = 198\n",
      "\n",
      "3:\tloss: 0.7637885\tbest: 0.7743276 (2)\ttotal: 2m 6s\tremaining: 7m 22s\n",
      "0:\tlearn: 0.6793472\ttest: 0.6805506\tbest: 0.6805506 (0)\ttotal: 128ms\tremaining: 25.5s\n",
      "10:\tlearn: 0.7283489\ttest: 0.7317882\tbest: 0.7321913 (9)\ttotal: 1.38s\tremaining: 23.7s\n",
      "20:\tlearn: 0.7442316\ttest: 0.7455221\tbest: 0.7455221 (20)\ttotal: 2.84s\tremaining: 24.2s\n",
      "30:\tlearn: 0.7515228\ttest: 0.7521139\tbest: 0.7521139 (30)\ttotal: 4.32s\tremaining: 23.5s\n",
      "40:\tlearn: 0.7550523\ttest: 0.7546668\tbest: 0.7546668 (40)\ttotal: 5.78s\tremaining: 22.4s\n",
      "50:\tlearn: 0.7573847\ttest: 0.7574461\tbest: 0.7574461 (50)\ttotal: 7.25s\tremaining: 21.2s\n",
      "60:\tlearn: 0.7596484\ttest: 0.7596672\tbest: 0.7596672 (60)\ttotal: 8.77s\tremaining: 20s\n",
      "70:\tlearn: 0.7618352\ttest: 0.7618984\tbest: 0.7618984 (70)\ttotal: 10.4s\tremaining: 18.9s\n",
      "80:\tlearn: 0.7632957\ttest: 0.7632459\tbest: 0.7632882 (79)\ttotal: 12.1s\tremaining: 17.7s\n",
      "90:\tlearn: 0.7648117\ttest: 0.7641175\tbest: 0.7641175 (90)\ttotal: 13.7s\tremaining: 16.4s\n",
      "100:\tlearn: 0.7660039\ttest: 0.7648142\tbest: 0.7648189 (99)\ttotal: 15.3s\tremaining: 15s\n",
      "110:\tlearn: 0.7673363\ttest: 0.7656162\tbest: 0.7656162 (110)\ttotal: 16.9s\tremaining: 13.5s\n",
      "120:\tlearn: 0.7689405\ttest: 0.7666815\tbest: 0.7666815 (120)\ttotal: 18.6s\tremaining: 12.1s\n",
      "130:\tlearn: 0.7711675\ttest: 0.7678097\tbest: 0.7678097 (130)\ttotal: 20.3s\tremaining: 10.7s\n",
      "140:\tlearn: 0.7734542\ttest: 0.7688764\tbest: 0.7688764 (140)\ttotal: 21.9s\tremaining: 9.17s\n",
      "150:\tlearn: 0.7755638\ttest: 0.7696003\tbest: 0.7696003 (150)\ttotal: 23.5s\tremaining: 7.64s\n",
      "160:\tlearn: 0.7774363\ttest: 0.7705002\tbest: 0.7705002 (160)\ttotal: 25.2s\tremaining: 6.09s\n",
      "170:\tlearn: 0.7791926\ttest: 0.7714393\tbest: 0.7714393 (170)\ttotal: 26.6s\tremaining: 4.5s\n",
      "180:\tlearn: 0.7809693\ttest: 0.7715019\tbest: 0.7716814 (175)\ttotal: 28.2s\tremaining: 2.96s\n",
      "190:\tlearn: 0.7823544\ttest: 0.7718175\tbest: 0.7719418 (189)\ttotal: 29.6s\tremaining: 1.39s\n",
      "199:\tlearn: 0.7836170\ttest: 0.7719523\tbest: 0.7720008 (197)\ttotal: 30.9s\tremaining: 0us\n",
      "\n",
      "bestTest = 0.7720008058\n",
      "bestIteration = 197\n",
      "\n",
      "4:\tloss: 0.7720008\tbest: 0.7743276 (2)\ttotal: 2m 37s\tremaining: 6m 48s\n",
      "0:\tlearn: 0.6793472\ttest: 0.6805506\tbest: 0.6805506 (0)\ttotal: 177ms\tremaining: 35.2s\n",
      "10:\tlearn: 0.7489243\ttest: 0.7501754\tbest: 0.7501754 (10)\ttotal: 1.83s\tremaining: 31.4s\n",
      "20:\tlearn: 0.7564333\ttest: 0.7567637\tbest: 0.7567637 (20)\ttotal: 3.37s\tremaining: 28.7s\n",
      "30:\tlearn: 0.7618227\ttest: 0.7617915\tbest: 0.7624184 (29)\ttotal: 4.83s\tremaining: 26.3s\n",
      "40:\tlearn: 0.7672494\ttest: 0.7663311\tbest: 0.7663311 (40)\ttotal: 6.27s\tremaining: 24.3s\n",
      "50:\tlearn: 0.7722849\ttest: 0.7678782\tbest: 0.7678782 (50)\ttotal: 7.76s\tremaining: 22.7s\n",
      "60:\tlearn: 0.7776258\ttest: 0.7680300\tbest: 0.7696254 (57)\ttotal: 9.2s\tremaining: 21s\n",
      "70:\tlearn: 0.7820962\ttest: 0.7685519\tbest: 0.7696254 (57)\ttotal: 10.8s\tremaining: 19.6s\n",
      "80:\tlearn: 0.7858852\ttest: 0.7699816\tbest: 0.7701916 (77)\ttotal: 12.4s\tremaining: 18.2s\n",
      "90:\tlearn: 0.7895995\ttest: 0.7701314\tbest: 0.7705023 (89)\ttotal: 14.1s\tremaining: 16.8s\n",
      "100:\tlearn: 0.7931765\ttest: 0.7685230\tbest: 0.7705023 (89)\ttotal: 15.9s\tremaining: 15.6s\n",
      "110:\tlearn: 0.7963061\ttest: 0.7671667\tbest: 0.7705023 (89)\ttotal: 17.7s\tremaining: 14.2s\n",
      "120:\tlearn: 0.7993462\ttest: 0.7687379\tbest: 0.7705023 (89)\ttotal: 19.3s\tremaining: 12.6s\n",
      "130:\tlearn: 0.8020605\ttest: 0.7703494\tbest: 0.7705023 (89)\ttotal: 20.8s\tremaining: 11s\n",
      "140:\tlearn: 0.8054926\ttest: 0.7694757\tbest: 0.7706486 (134)\ttotal: 22.3s\tremaining: 9.33s\n",
      "150:\tlearn: 0.8082287\ttest: 0.7690132\tbest: 0.7706486 (134)\ttotal: 23.7s\tremaining: 7.68s\n",
      "160:\tlearn: 0.8110440\ttest: 0.7666811\tbest: 0.7706486 (134)\ttotal: 25.3s\tremaining: 6.13s\n",
      "170:\tlearn: 0.8133166\ttest: 0.7673115\tbest: 0.7706486 (134)\ttotal: 26.8s\tremaining: 4.55s\n",
      "180:\tlearn: 0.8158641\ttest: 0.7680674\tbest: 0.7706486 (134)\ttotal: 28.3s\tremaining: 2.97s\n",
      "190:\tlearn: 0.8183911\ttest: 0.7676988\tbest: 0.7706486 (134)\ttotal: 29.7s\tremaining: 1.4s\n",
      "199:\tlearn: 0.8202539\ttest: 0.7675093\tbest: 0.7706486 (134)\ttotal: 30.9s\tremaining: 0us\n",
      "\n",
      "bestTest = 0.7706485836\n",
      "bestIteration = 134\n",
      "\n",
      "5:\tloss: 0.7706486\tbest: 0.7743276 (2)\ttotal: 3m 8s\tremaining: 6m 16s\n",
      "0:\tlearn: 0.7171775\ttest: 0.7245479\tbest: 0.7245479 (0)\ttotal: 190ms\tremaining: 37.8s\n",
      "10:\tlearn: 0.7414760\ttest: 0.7397114\tbest: 0.7400189 (9)\ttotal: 2.07s\tremaining: 35.7s\n",
      "20:\tlearn: 0.7510449\ttest: 0.7466665\tbest: 0.7468860 (19)\ttotal: 3.98s\tremaining: 34s\n",
      "30:\tlearn: 0.7584737\ttest: 0.7517916\tbest: 0.7517916 (30)\ttotal: 6.12s\tremaining: 33.4s\n",
      "40:\tlearn: 0.7652229\ttest: 0.7569078\tbest: 0.7569078 (40)\ttotal: 8.21s\tremaining: 31.8s\n",
      "50:\tlearn: 0.7697809\ttest: 0.7587876\tbest: 0.7587876 (50)\ttotal: 10.4s\tremaining: 30.5s\n",
      "60:\tlearn: 0.7732964\ttest: 0.7606504\tbest: 0.7606504 (60)\ttotal: 12.5s\tremaining: 28.4s\n",
      "70:\tlearn: 0.7773087\ttest: 0.7618947\tbest: 0.7620203 (66)\ttotal: 14.4s\tremaining: 26.2s\n",
      "80:\tlearn: 0.7802195\ttest: 0.7629671\tbest: 0.7629671 (80)\ttotal: 16.3s\tremaining: 24s\n",
      "90:\tlearn: 0.7835281\ttest: 0.7635939\tbest: 0.7636898 (88)\ttotal: 18.3s\tremaining: 21.9s\n",
      "100:\tlearn: 0.7856392\ttest: 0.7644553\tbest: 0.7645937 (99)\ttotal: 20.2s\tremaining: 19.8s\n",
      "110:\tlearn: 0.7886925\ttest: 0.7652047\tbest: 0.7653056 (109)\ttotal: 22.4s\tremaining: 17.9s\n",
      "120:\tlearn: 0.7920303\ttest: 0.7659832\tbest: 0.7659832 (120)\ttotal: 24.4s\tremaining: 16s\n",
      "130:\tlearn: 0.7954312\ttest: 0.7658783\tbest: 0.7661320 (123)\ttotal: 26.5s\tremaining: 13.9s\n",
      "140:\tlearn: 0.7974756\ttest: 0.7664631\tbest: 0.7664631 (140)\ttotal: 28.3s\tremaining: 11.9s\n",
      "150:\tlearn: 0.7997819\ttest: 0.7664247\tbest: 0.7665705 (141)\ttotal: 30.3s\tremaining: 9.82s\n",
      "160:\tlearn: 0.8019136\ttest: 0.7665163\tbest: 0.7666927 (156)\ttotal: 32.4s\tremaining: 7.84s\n",
      "170:\tlearn: 0.8047974\ttest: 0.7670564\tbest: 0.7670564 (170)\ttotal: 34.5s\tremaining: 5.85s\n",
      "180:\tlearn: 0.8075662\ttest: 0.7672163\tbest: 0.7672211 (174)\ttotal: 36.6s\tremaining: 3.84s\n",
      "190:\tlearn: 0.8103203\ttest: 0.7676663\tbest: 0.7676663 (190)\ttotal: 38.8s\tremaining: 1.83s\n",
      "199:\tlearn: 0.8118981\ttest: 0.7678377\tbest: 0.7678891 (193)\ttotal: 40.5s\tremaining: 0us\n",
      "\n",
      "bestTest = 0.7678891343\n",
      "bestIteration = 193\n",
      "\n",
      "6:\tloss: 0.7678891\tbest: 0.7743276 (2)\ttotal: 3m 48s\tremaining: 5m 59s\n",
      "0:\tlearn: 0.7171775\ttest: 0.7245479\tbest: 0.7245479 (0)\ttotal: 179ms\tremaining: 35.7s\n",
      "10:\tlearn: 0.7504290\ttest: 0.7478535\tbest: 0.7478535 (10)\ttotal: 2.02s\tremaining: 34.7s\n",
      "20:\tlearn: 0.7619630\ttest: 0.7533796\tbest: 0.7534146 (18)\ttotal: 4.01s\tremaining: 34.2s\n",
      "30:\tlearn: 0.7717637\ttest: 0.7577376\tbest: 0.7577376 (30)\ttotal: 6.18s\tremaining: 33.7s\n",
      "40:\tlearn: 0.7787366\ttest: 0.7604202\tbest: 0.7604202 (40)\ttotal: 8.43s\tremaining: 32.7s\n",
      "50:\tlearn: 0.7854083\ttest: 0.7618293\tbest: 0.7618293 (50)\ttotal: 10.4s\tremaining: 30.5s\n",
      "60:\tlearn: 0.7904916\ttest: 0.7645293\tbest: 0.7645293 (60)\ttotal: 12.5s\tremaining: 28.5s\n",
      "70:\tlearn: 0.7955796\ttest: 0.7651053\tbest: 0.7651236 (69)\ttotal: 14.6s\tremaining: 26.6s\n",
      "80:\tlearn: 0.8001814\ttest: 0.7669075\tbest: 0.7669075 (80)\ttotal: 16.7s\tremaining: 24.6s\n",
      "90:\tlearn: 0.8052085\ttest: 0.7672599\tbest: 0.7672599 (90)\ttotal: 18.7s\tremaining: 22.4s\n",
      "100:\tlearn: 0.8093738\ttest: 0.7684061\tbest: 0.7684061 (100)\ttotal: 20.6s\tremaining: 20.2s\n",
      "110:\tlearn: 0.8145336\ttest: 0.7687071\tbest: 0.7687071 (110)\ttotal: 22.6s\tremaining: 18.2s\n",
      "120:\tlearn: 0.8219004\ttest: 0.7682183\tbest: 0.7691544 (112)\ttotal: 24.8s\tremaining: 16.2s\n",
      "130:\tlearn: 0.8297876\ttest: 0.7681774\tbest: 0.7691544 (112)\ttotal: 27.1s\tremaining: 14.3s\n",
      "140:\tlearn: 0.8387853\ttest: 0.7676164\tbest: 0.7691544 (112)\ttotal: 29.2s\tremaining: 12.2s\n",
      "150:\tlearn: 0.8487235\ttest: 0.7672200\tbest: 0.7691544 (112)\ttotal: 31.2s\tremaining: 10.1s\n",
      "160:\tlearn: 0.8572544\ttest: 0.7664699\tbest: 0.7691544 (112)\ttotal: 33.3s\tremaining: 8.07s\n",
      "170:\tlearn: 0.8647665\ttest: 0.7649035\tbest: 0.7691544 (112)\ttotal: 35.4s\tremaining: 6.01s\n",
      "180:\tlearn: 0.8715633\ttest: 0.7639595\tbest: 0.7691544 (112)\ttotal: 37.6s\tremaining: 3.94s\n",
      "190:\tlearn: 0.8785354\ttest: 0.7636258\tbest: 0.7691544 (112)\ttotal: 39.7s\tremaining: 1.87s\n",
      "199:\tlearn: 0.8845876\ttest: 0.7637229\tbest: 0.7691544 (112)\ttotal: 41.5s\tremaining: 0us\n",
      "\n",
      "bestTest = 0.7691544364\n",
      "bestIteration = 112\n",
      "\n",
      "7:\tloss: 0.7691544\tbest: 0.7743276 (2)\ttotal: 4m 30s\tremaining: 5m 38s\n",
      "0:\tlearn: 0.7171775\ttest: 0.7245479\tbest: 0.7245479 (0)\ttotal: 202ms\tremaining: 40.2s\n",
      "10:\tlearn: 0.7722119\ttest: 0.7580765\tbest: 0.7580765 (10)\ttotal: 2.4s\tremaining: 41.3s\n",
      "20:\tlearn: 0.7839169\ttest: 0.7606790\tbest: 0.7606790 (20)\ttotal: 4.5s\tremaining: 38.4s\n",
      "30:\tlearn: 0.7951204\ttest: 0.7608861\tbest: 0.7617032 (28)\ttotal: 6.82s\tremaining: 37.2s\n",
      "40:\tlearn: 0.8106313\ttest: 0.7581048\tbest: 0.7617032 (28)\ttotal: 8.99s\tremaining: 34.9s\n",
      "50:\tlearn: 0.8361771\ttest: 0.7513488\tbest: 0.7617032 (28)\ttotal: 11s\tremaining: 32.2s\n",
      "60:\tlearn: 0.8574355\ttest: 0.7478504\tbest: 0.7617032 (28)\ttotal: 13.2s\tremaining: 30.1s\n",
      "70:\tlearn: 0.8754558\ttest: 0.7446753\tbest: 0.7617032 (28)\ttotal: 15.4s\tremaining: 28s\n",
      "80:\tlearn: 0.8911657\ttest: 0.7400669\tbest: 0.7617032 (28)\ttotal: 17.6s\tremaining: 25.8s\n",
      "90:\tlearn: 0.9038835\ttest: 0.7345106\tbest: 0.7617032 (28)\ttotal: 19.8s\tremaining: 23.7s\n",
      "100:\tlearn: 0.9161299\ttest: 0.7299324\tbest: 0.7617032 (28)\ttotal: 21.8s\tremaining: 21.4s\n",
      "110:\tlearn: 0.9249984\ttest: 0.7284525\tbest: 0.7617032 (28)\ttotal: 24.2s\tremaining: 19.4s\n",
      "120:\tlearn: 0.9340644\ttest: 0.7266265\tbest: 0.7617032 (28)\ttotal: 26.5s\tremaining: 17.3s\n",
      "130:\tlearn: 0.9413904\ttest: 0.7269557\tbest: 0.7617032 (28)\ttotal: 28.6s\tremaining: 15.1s\n",
      "140:\tlearn: 0.9481963\ttest: 0.7267971\tbest: 0.7617032 (28)\ttotal: 30.8s\tremaining: 12.9s\n",
      "150:\tlearn: 0.9542126\ttest: 0.7228845\tbest: 0.7617032 (28)\ttotal: 32.9s\tremaining: 10.7s\n",
      "160:\tlearn: 0.9596921\ttest: 0.7218552\tbest: 0.7617032 (28)\ttotal: 35.1s\tremaining: 8.51s\n",
      "170:\tlearn: 0.9643015\ttest: 0.7191401\tbest: 0.7617032 (28)\ttotal: 37.3s\tremaining: 6.32s\n",
      "180:\tlearn: 0.9681344\ttest: 0.7165438\tbest: 0.7617032 (28)\ttotal: 39.3s\tremaining: 4.12s\n",
      "190:\tlearn: 0.9720843\ttest: 0.7131218\tbest: 0.7617032 (28)\ttotal: 41.2s\tremaining: 1.94s\n",
      "199:\tlearn: 0.9754450\ttest: 0.7109693\tbest: 0.7617032 (28)\ttotal: 43.1s\tremaining: 0us\n",
      "\n",
      "bestTest = 0.7617032376\n",
      "bestIteration = 28\n",
      "\n",
      "8:\tloss: 0.7617032\tbest: 0.7743276 (2)\ttotal: 5m 13s\tremaining: 5m 13s\n",
      "0:\tlearn: 0.7171166\ttest: 0.7245479\tbest: 0.7245479 (0)\ttotal: 209ms\tremaining: 41.6s\n",
      "10:\tlearn: 0.7409111\ttest: 0.7389560\tbest: 0.7389560 (10)\ttotal: 2.22s\tremaining: 38.1s\n",
      "20:\tlearn: 0.7470946\ttest: 0.7461389\tbest: 0.7461389 (20)\ttotal: 4.38s\tremaining: 37.3s\n",
      "30:\tlearn: 0.7557778\ttest: 0.7508391\tbest: 0.7508391 (30)\ttotal: 6.62s\tremaining: 36.1s\n",
      "40:\tlearn: 0.7625381\ttest: 0.7551633\tbest: 0.7552035 (39)\ttotal: 8.8s\tremaining: 34.1s\n",
      "50:\tlearn: 0.7670074\ttest: 0.7579882\tbest: 0.7579900 (49)\ttotal: 11s\tremaining: 32.2s\n",
      "60:\tlearn: 0.7710298\ttest: 0.7598859\tbest: 0.7598859 (60)\ttotal: 13.4s\tremaining: 30.6s\n",
      "70:\tlearn: 0.7745134\ttest: 0.7611864\tbest: 0.7612006 (69)\ttotal: 15.6s\tremaining: 28.3s\n",
      "80:\tlearn: 0.7772040\ttest: 0.7625875\tbest: 0.7625875 (80)\ttotal: 17.6s\tremaining: 25.9s\n",
      "90:\tlearn: 0.7802307\ttest: 0.7643749\tbest: 0.7643749 (90)\ttotal: 19.6s\tremaining: 23.5s\n",
      "100:\tlearn: 0.7831454\ttest: 0.7653984\tbest: 0.7655038 (98)\ttotal: 21.8s\tremaining: 21.3s\n",
      "110:\tlearn: 0.7862392\ttest: 0.7664540\tbest: 0.7664540 (110)\ttotal: 23.7s\tremaining: 19s\n",
      "120:\tlearn: 0.7891598\ttest: 0.7664647\tbest: 0.7668207 (116)\ttotal: 25.8s\tremaining: 16.8s\n",
      "130:\tlearn: 0.7919325\ttest: 0.7666654\tbest: 0.7668207 (116)\ttotal: 27.9s\tremaining: 14.7s\n",
      "140:\tlearn: 0.7939997\ttest: 0.7673396\tbest: 0.7674933 (139)\ttotal: 29.8s\tremaining: 12.5s\n",
      "150:\tlearn: 0.7959685\ttest: 0.7678406\tbest: 0.7678406 (150)\ttotal: 32s\tremaining: 10.4s\n",
      "160:\tlearn: 0.7988154\ttest: 0.7683823\tbest: 0.7683823 (160)\ttotal: 34.1s\tremaining: 8.26s\n",
      "170:\tlearn: 0.8007449\ttest: 0.7687483\tbest: 0.7687483 (170)\ttotal: 36.3s\tremaining: 6.16s\n",
      "180:\tlearn: 0.8035995\ttest: 0.7692058\tbest: 0.7693698 (178)\ttotal: 38.6s\tremaining: 4.05s\n",
      "190:\tlearn: 0.8059303\ttest: 0.7693449\tbest: 0.7693698 (178)\ttotal: 40.7s\tremaining: 1.92s\n",
      "199:\tlearn: 0.8078624\ttest: 0.7696085\tbest: 0.7697514 (197)\ttotal: 42.6s\tremaining: 0us\n",
      "\n",
      "bestTest = 0.7697513739\n",
      "bestIteration = 197\n",
      "\n",
      "9:\tloss: 0.7697514\tbest: 0.7743276 (2)\ttotal: 5m 56s\tremaining: 4m 44s\n",
      "0:\tlearn: 0.7171166\ttest: 0.7245479\tbest: 0.7245479 (0)\ttotal: 191ms\tremaining: 37.9s\n",
      "10:\tlearn: 0.7506697\ttest: 0.7469114\tbest: 0.7469114 (10)\ttotal: 2.09s\tremaining: 36s\n",
      "20:\tlearn: 0.7632339\ttest: 0.7556510\tbest: 0.7556510 (20)\ttotal: 4.07s\tremaining: 34.7s\n",
      "30:\tlearn: 0.7725111\ttest: 0.7610277\tbest: 0.7610277 (30)\ttotal: 6.25s\tremaining: 34s\n",
      "40:\tlearn: 0.7787871\ttest: 0.7642901\tbest: 0.7642901 (40)\ttotal: 8.48s\tremaining: 32.9s\n",
      "50:\tlearn: 0.7840768\ttest: 0.7650970\tbest: 0.7651388 (49)\ttotal: 10.7s\tremaining: 31.4s\n",
      "60:\tlearn: 0.7884628\ttest: 0.7660518\tbest: 0.7660518 (60)\ttotal: 12.7s\tremaining: 29s\n",
      "70:\tlearn: 0.7932053\ttest: 0.7670041\tbest: 0.7670041 (70)\ttotal: 14.8s\tremaining: 26.9s\n",
      "80:\tlearn: 0.7983325\ttest: 0.7680820\tbest: 0.7680820 (80)\ttotal: 17s\tremaining: 25s\n",
      "90:\tlearn: 0.8018266\ttest: 0.7686447\tbest: 0.7686447 (90)\ttotal: 19.1s\tremaining: 22.9s\n",
      "100:\tlearn: 0.8073382\ttest: 0.7696178\tbest: 0.7696178 (100)\ttotal: 21.4s\tremaining: 20.9s\n",
      "110:\tlearn: 0.8130416\ttest: 0.7709051\tbest: 0.7709051 (110)\ttotal: 23.5s\tremaining: 18.8s\n",
      "120:\tlearn: 0.8189471\ttest: 0.7715498\tbest: 0.7715498 (120)\ttotal: 25.7s\tremaining: 16.8s\n",
      "130:\tlearn: 0.8266001\ttest: 0.7711378\tbest: 0.7720447 (124)\ttotal: 27.7s\tremaining: 14.6s\n",
      "140:\tlearn: 0.8348443\ttest: 0.7719538\tbest: 0.7720447 (124)\ttotal: 29.8s\tremaining: 12.5s\n",
      "150:\tlearn: 0.8435360\ttest: 0.7716655\tbest: 0.7722600 (145)\ttotal: 32s\tremaining: 10.4s\n",
      "160:\tlearn: 0.8520126\ttest: 0.7703497\tbest: 0.7722600 (145)\ttotal: 34.3s\tremaining: 8.3s\n",
      "170:\tlearn: 0.8596362\ttest: 0.7693228\tbest: 0.7722600 (145)\ttotal: 36.4s\tremaining: 6.18s\n",
      "180:\tlearn: 0.8667033\ttest: 0.7695752\tbest: 0.7722600 (145)\ttotal: 38.5s\tremaining: 4.04s\n",
      "190:\tlearn: 0.8734576\ttest: 0.7690204\tbest: 0.7722600 (145)\ttotal: 40.6s\tremaining: 1.91s\n",
      "199:\tlearn: 0.8796973\ttest: 0.7695053\tbest: 0.7722600 (145)\ttotal: 42.6s\tremaining: 0us\n",
      "\n",
      "bestTest = 0.7722600088\n",
      "bestIteration = 145\n",
      "\n",
      "10:\tloss: 0.7722600\tbest: 0.7743276 (2)\ttotal: 6m 38s\tremaining: 4m 13s\n",
      "0:\tlearn: 0.7171166\ttest: 0.7245479\tbest: 0.7245479 (0)\ttotal: 210ms\tremaining: 41.9s\n",
      "10:\tlearn: 0.7716876\ttest: 0.7587102\tbest: 0.7587102 (10)\ttotal: 2.39s\tremaining: 41s\n",
      "20:\tlearn: 0.7891713\ttest: 0.7632864\tbest: 0.7632864 (20)\ttotal: 4.53s\tremaining: 38.6s\n",
      "30:\tlearn: 0.8021088\ttest: 0.7644291\tbest: 0.7644291 (30)\ttotal: 6.72s\tremaining: 36.6s\n",
      "40:\tlearn: 0.8185217\ttest: 0.7638752\tbest: 0.7649331 (32)\ttotal: 9.03s\tremaining: 35s\n",
      "50:\tlearn: 0.8397515\ttest: 0.7618516\tbest: 0.7649331 (32)\ttotal: 11.3s\tremaining: 33s\n",
      "60:\tlearn: 0.8582083\ttest: 0.7584689\tbest: 0.7649331 (32)\ttotal: 13.6s\tremaining: 31s\n",
      "70:\tlearn: 0.8744740\ttest: 0.7543348\tbest: 0.7649331 (32)\ttotal: 15.8s\tremaining: 28.8s\n",
      "80:\tlearn: 0.8903373\ttest: 0.7522542\tbest: 0.7649331 (32)\ttotal: 18s\tremaining: 26.5s\n",
      "90:\tlearn: 0.9035248\ttest: 0.7480001\tbest: 0.7649331 (32)\ttotal: 20.3s\tremaining: 24.3s\n",
      "100:\tlearn: 0.9137638\ttest: 0.7425656\tbest: 0.7649331 (32)\ttotal: 22.6s\tremaining: 22.2s\n",
      "110:\tlearn: 0.9232126\ttest: 0.7430436\tbest: 0.7649331 (32)\ttotal: 25s\tremaining: 20s\n",
      "120:\tlearn: 0.9313356\ttest: 0.7399853\tbest: 0.7649331 (32)\ttotal: 27.4s\tremaining: 17.9s\n",
      "130:\tlearn: 0.9381261\ttest: 0.7389009\tbest: 0.7649331 (32)\ttotal: 29.8s\tremaining: 15.7s\n",
      "140:\tlearn: 0.9453896\ttest: 0.7362450\tbest: 0.7649331 (32)\ttotal: 32.1s\tremaining: 13.4s\n",
      "150:\tlearn: 0.9514996\ttest: 0.7345247\tbest: 0.7649331 (32)\ttotal: 34.3s\tremaining: 11.1s\n",
      "160:\tlearn: 0.9570393\ttest: 0.7301588\tbest: 0.7649331 (32)\ttotal: 36.6s\tremaining: 8.88s\n",
      "170:\tlearn: 0.9620258\ttest: 0.7267183\tbest: 0.7649331 (32)\ttotal: 39.1s\tremaining: 6.63s\n",
      "180:\tlearn: 0.9660113\ttest: 0.7256831\tbest: 0.7649331 (32)\ttotal: 41.5s\tremaining: 4.36s\n",
      "190:\tlearn: 0.9700228\ttest: 0.7239669\tbest: 0.7649331 (32)\ttotal: 43.8s\tremaining: 2.06s\n",
      "199:\tlearn: 0.9732068\ttest: 0.7239039\tbest: 0.7649331 (32)\ttotal: 45.9s\tremaining: 0us\n",
      "\n",
      "bestTest = 0.7649330559\n",
      "bestIteration = 32\n",
      "\n",
      "11:\tloss: 0.7649331\tbest: 0.7743276 (2)\ttotal: 7m 24s\tremaining: 3m 42s\n",
      "0:\tlearn: 0.7281468\ttest: 0.7351512\tbest: 0.7351512 (0)\ttotal: 239ms\tremaining: 47.6s\n",
      "10:\tlearn: 0.7542635\ttest: 0.7438992\tbest: 0.7438992 (10)\ttotal: 2.54s\tremaining: 43.6s\n",
      "20:\tlearn: 0.7631018\ttest: 0.7494449\tbest: 0.7494449 (20)\ttotal: 4.98s\tremaining: 42.4s\n",
      "30:\tlearn: 0.7787462\ttest: 0.7541477\tbest: 0.7541477 (30)\ttotal: 7.6s\tremaining: 41.5s\n",
      "40:\tlearn: 0.7869820\ttest: 0.7571335\tbest: 0.7571335 (40)\ttotal: 10.3s\tremaining: 39.9s\n",
      "50:\tlearn: 0.7943195\ttest: 0.7579554\tbest: 0.7581836 (49)\ttotal: 13s\tremaining: 38s\n",
      "60:\tlearn: 0.8023701\ttest: 0.7586918\tbest: 0.7591470 (57)\ttotal: 15.5s\tremaining: 35.2s\n",
      "70:\tlearn: 0.8067716\ttest: 0.7597680\tbest: 0.7597680 (70)\ttotal: 17.9s\tremaining: 32.5s\n",
      "80:\tlearn: 0.8133368\ttest: 0.7609637\tbest: 0.7609637 (80)\ttotal: 20.5s\tremaining: 30.1s\n",
      "90:\tlearn: 0.8180749\ttest: 0.7607434\tbest: 0.7609637 (80)\ttotal: 23s\tremaining: 27.6s\n",
      "100:\tlearn: 0.8234556\ttest: 0.7614787\tbest: 0.7616222 (99)\ttotal: 25.7s\tremaining: 25.1s\n",
      "110:\tlearn: 0.8286082\ttest: 0.7625346\tbest: 0.7626286 (109)\ttotal: 28.3s\tremaining: 22.7s\n",
      "120:\tlearn: 0.8350539\ttest: 0.7628792\tbest: 0.7628792 (120)\ttotal: 30.9s\tremaining: 20.2s\n",
      "130:\tlearn: 0.8391964\ttest: 0.7637422\tbest: 0.7637422 (130)\ttotal: 33.6s\tremaining: 17.7s\n",
      "140:\tlearn: 0.8440872\ttest: 0.7639639\tbest: 0.7640627 (137)\ttotal: 36.3s\tremaining: 15.2s\n",
      "150:\tlearn: 0.8498356\ttest: 0.7643166\tbest: 0.7643166 (150)\ttotal: 39s\tremaining: 12.6s\n",
      "160:\tlearn: 0.8523123\ttest: 0.7643055\tbest: 0.7645775 (155)\ttotal: 41.6s\tremaining: 10.1s\n",
      "170:\tlearn: 0.8568329\ttest: 0.7641467\tbest: 0.7645775 (155)\ttotal: 44.3s\tremaining: 7.5s\n",
      "180:\tlearn: 0.8590360\ttest: 0.7642293\tbest: 0.7645775 (155)\ttotal: 46.7s\tremaining: 4.91s\n",
      "190:\tlearn: 0.8637304\ttest: 0.7650941\tbest: 0.7650941 (190)\ttotal: 49.1s\tremaining: 2.31s\n",
      "199:\tlearn: 0.8680061\ttest: 0.7654318\tbest: 0.7655937 (198)\ttotal: 51.4s\tremaining: 0us\n",
      "\n",
      "bestTest = 0.7655937421\n",
      "bestIteration = 198\n",
      "\n",
      "12:\tloss: 0.7655937\tbest: 0.7743276 (2)\ttotal: 8m 16s\tremaining: 3m 10s\n",
      "0:\tlearn: 0.7281468\ttest: 0.7351512\tbest: 0.7351512 (0)\ttotal: 297ms\tremaining: 59.2s\n",
      "10:\tlearn: 0.7639247\ttest: 0.7489340\tbest: 0.7489340 (10)\ttotal: 2.88s\tremaining: 49.5s\n",
      "20:\tlearn: 0.7882275\ttest: 0.7563023\tbest: 0.7565172 (19)\ttotal: 5.48s\tremaining: 46.7s\n",
      "30:\tlearn: 0.8002171\ttest: 0.7573967\tbest: 0.7578275 (29)\ttotal: 7.98s\tremaining: 43.5s\n",
      "40:\tlearn: 0.8146657\ttest: 0.7579085\tbest: 0.7579085 (40)\ttotal: 10.5s\tremaining: 40.7s\n",
      "50:\tlearn: 0.8271549\ttest: 0.7596937\tbest: 0.7596937 (50)\ttotal: 13.1s\tremaining: 38.3s\n",
      "60:\tlearn: 0.8377605\ttest: 0.7578378\tbest: 0.7596937 (50)\ttotal: 15.7s\tremaining: 35.9s\n",
      "70:\tlearn: 0.8471257\ttest: 0.7574801\tbest: 0.7596937 (50)\ttotal: 18.1s\tremaining: 32.9s\n",
      "80:\tlearn: 0.8569708\ttest: 0.7577618\tbest: 0.7596937 (50)\ttotal: 20.6s\tremaining: 30.2s\n",
      "90:\tlearn: 0.8676984\ttest: 0.7584969\tbest: 0.7596937 (50)\ttotal: 23.1s\tremaining: 27.7s\n",
      "100:\tlearn: 0.8728969\ttest: 0.7594209\tbest: 0.7596937 (50)\ttotal: 25.6s\tremaining: 25.1s\n",
      "110:\tlearn: 0.8813463\ttest: 0.7578020\tbest: 0.7596937 (50)\ttotal: 28.1s\tremaining: 22.6s\n",
      "120:\tlearn: 0.8921391\ttest: 0.7567204\tbest: 0.7596937 (50)\ttotal: 30.8s\tremaining: 20.1s\n",
      "130:\tlearn: 0.9039420\ttest: 0.7572424\tbest: 0.7596937 (50)\ttotal: 33.6s\tremaining: 17.7s\n",
      "140:\tlearn: 0.9155715\ttest: 0.7561130\tbest: 0.7596937 (50)\ttotal: 36.4s\tremaining: 15.2s\n",
      "150:\tlearn: 0.9281507\ttest: 0.7563334\tbest: 0.7596937 (50)\ttotal: 39.1s\tremaining: 12.7s\n",
      "160:\tlearn: 0.9384386\ttest: 0.7545194\tbest: 0.7596937 (50)\ttotal: 41.9s\tremaining: 10.2s\n",
      "170:\tlearn: 0.9476317\ttest: 0.7529143\tbest: 0.7596937 (50)\ttotal: 44.6s\tremaining: 7.56s\n",
      "180:\tlearn: 0.9550058\ttest: 0.7500505\tbest: 0.7596937 (50)\ttotal: 47.2s\tremaining: 4.96s\n",
      "190:\tlearn: 0.9611871\ttest: 0.7486297\tbest: 0.7596937 (50)\ttotal: 50s\tremaining: 2.36s\n",
      "199:\tlearn: 0.9670129\ttest: 0.7476845\tbest: 0.7596937 (50)\ttotal: 52.6s\tremaining: 0us\n",
      "\n",
      "bestTest = 0.7596936628\n",
      "bestIteration = 50\n",
      "\n",
      "13:\tloss: 0.7596937\tbest: 0.7743276 (2)\ttotal: 9m 8s\tremaining: 2m 36s\n",
      "0:\tlearn: 0.7281468\ttest: 0.7351512\tbest: 0.7351512 (0)\ttotal: 229ms\tremaining: 45.5s\n",
      "10:\tlearn: 0.7944976\ttest: 0.7515282\tbest: 0.7527996 (9)\ttotal: 2.68s\tremaining: 46s\n",
      "20:\tlearn: 0.8344020\ttest: 0.7453448\tbest: 0.7527996 (9)\ttotal: 5.29s\tremaining: 45.1s\n",
      "30:\tlearn: 0.8510922\ttest: 0.7426428\tbest: 0.7527996 (9)\ttotal: 7.6s\tremaining: 41.4s\n",
      "40:\tlearn: 0.8811190\ttest: 0.7368043\tbest: 0.7527996 (9)\ttotal: 10.1s\tremaining: 39.3s\n",
      "50:\tlearn: 0.9110109\ttest: 0.7264504\tbest: 0.7527996 (9)\ttotal: 12.9s\tremaining: 37.8s\n",
      "60:\tlearn: 0.9372288\ttest: 0.7171932\tbest: 0.7527996 (9)\ttotal: 15.6s\tremaining: 35.5s\n",
      "70:\tlearn: 0.9561162\ttest: 0.7177235\tbest: 0.7527996 (9)\ttotal: 18.2s\tremaining: 33.1s\n",
      "80:\tlearn: 0.9701939\ttest: 0.7140246\tbest: 0.7527996 (9)\ttotal: 21s\tremaining: 30.9s\n",
      "90:\tlearn: 0.9797317\ttest: 0.7107760\tbest: 0.7527996 (9)\ttotal: 23.6s\tremaining: 28.3s\n",
      "100:\tlearn: 0.9852030\ttest: 0.7086519\tbest: 0.7527996 (9)\ttotal: 26.2s\tremaining: 25.7s\n",
      "110:\tlearn: 0.9889110\ttest: 0.7012487\tbest: 0.7527996 (9)\ttotal: 29s\tremaining: 23.3s\n",
      "120:\tlearn: 0.9924675\ttest: 0.6988972\tbest: 0.7527996 (9)\ttotal: 31.9s\tremaining: 20.8s\n",
      "130:\tlearn: 0.9946442\ttest: 0.6969728\tbest: 0.7527996 (9)\ttotal: 34.5s\tremaining: 18.2s\n",
      "140:\tlearn: 0.9962135\ttest: 0.6931216\tbest: 0.7527996 (9)\ttotal: 37.1s\tremaining: 15.5s\n",
      "150:\tlearn: 0.9973188\ttest: 0.6932556\tbest: 0.7527996 (9)\ttotal: 39.7s\tremaining: 12.9s\n",
      "160:\tlearn: 0.9982121\ttest: 0.6906817\tbest: 0.7527996 (9)\ttotal: 42.3s\tremaining: 10.2s\n",
      "170:\tlearn: 0.9987334\ttest: 0.6894725\tbest: 0.7527996 (9)\ttotal: 44.9s\tremaining: 7.61s\n",
      "180:\tlearn: 0.9991273\ttest: 0.6904659\tbest: 0.7527996 (9)\ttotal: 47.7s\tremaining: 5.01s\n",
      "190:\tlearn: 0.9994032\ttest: 0.6906355\tbest: 0.7527996 (9)\ttotal: 50.3s\tremaining: 2.37s\n",
      "199:\tlearn: 0.9995555\ttest: 0.6878976\tbest: 0.7527996 (9)\ttotal: 52.5s\tremaining: 0us\n",
      "\n",
      "bestTest = 0.7527995893\n",
      "bestIteration = 9\n",
      "\n",
      "14:\tloss: 0.7527996\tbest: 0.7743276 (2)\ttotal: 10m 1s\tremaining: 2m\n",
      "0:\tlearn: 0.7281031\ttest: 0.7351481\tbest: 0.7351481 (0)\ttotal: 235ms\tremaining: 46.7s\n",
      "10:\tlearn: 0.7497322\ttest: 0.7417144\tbest: 0.7417996 (8)\ttotal: 2.24s\tremaining: 38.6s\n",
      "20:\tlearn: 0.7604177\ttest: 0.7475833\tbest: 0.7475833 (20)\ttotal: 4.76s\tremaining: 40.6s\n",
      "30:\tlearn: 0.7679729\ttest: 0.7522715\tbest: 0.7522715 (30)\ttotal: 7.3s\tremaining: 39.8s\n",
      "40:\tlearn: 0.7792260\ttest: 0.7542298\tbest: 0.7542298 (40)\ttotal: 10.1s\tremaining: 39.3s\n",
      "50:\tlearn: 0.7871730\ttest: 0.7567026\tbest: 0.7567026 (50)\ttotal: 12.8s\tremaining: 37.5s\n",
      "60:\tlearn: 0.7942797\ttest: 0.7588953\tbest: 0.7588953 (60)\ttotal: 15.6s\tremaining: 35.5s\n",
      "70:\tlearn: 0.8002725\ttest: 0.7603266\tbest: 0.7603266 (70)\ttotal: 18.1s\tremaining: 32.8s\n",
      "80:\tlearn: 0.8068959\ttest: 0.7616975\tbest: 0.7618986 (79)\ttotal: 20.9s\tremaining: 30.7s\n",
      "90:\tlearn: 0.8130307\ttest: 0.7622506\tbest: 0.7622506 (90)\ttotal: 23.5s\tremaining: 28.2s\n",
      "100:\tlearn: 0.8168160\ttest: 0.7629247\tbest: 0.7629247 (100)\ttotal: 26s\tremaining: 25.4s\n",
      "110:\tlearn: 0.8219431\ttest: 0.7637599\tbest: 0.7637599 (110)\ttotal: 28.6s\tremaining: 23s\n",
      "120:\tlearn: 0.8263679\ttest: 0.7646724\tbest: 0.7646724 (120)\ttotal: 31.1s\tremaining: 20.3s\n",
      "130:\tlearn: 0.8309176\ttest: 0.7653213\tbest: 0.7656241 (128)\ttotal: 33.5s\tremaining: 17.6s\n",
      "140:\tlearn: 0.8347461\ttest: 0.7657414\tbest: 0.7657414 (140)\ttotal: 36s\tremaining: 15.1s\n",
      "150:\tlearn: 0.8384479\ttest: 0.7661920\tbest: 0.7661972 (149)\ttotal: 38.4s\tremaining: 12.5s\n",
      "160:\tlearn: 0.8438461\ttest: 0.7661643\tbest: 0.7662793 (159)\ttotal: 41.1s\tremaining: 9.96s\n",
      "170:\tlearn: 0.8485522\ttest: 0.7667598\tbest: 0.7667598 (170)\ttotal: 43.7s\tremaining: 7.41s\n",
      "180:\tlearn: 0.8519502\ttest: 0.7666484\tbest: 0.7669877 (176)\ttotal: 46.2s\tremaining: 4.84s\n",
      "190:\tlearn: 0.8565400\ttest: 0.7658880\tbest: 0.7669877 (176)\ttotal: 48.6s\tremaining: 2.29s\n",
      "199:\tlearn: 0.8618007\ttest: 0.7650583\tbest: 0.7669877 (176)\ttotal: 50.9s\tremaining: 0us\n",
      "\n",
      "bestTest = 0.766987744\n",
      "bestIteration = 176\n",
      "\n",
      "15:\tloss: 0.7669877\tbest: 0.7743276 (2)\ttotal: 10m 52s\tremaining: 1m 21s\n",
      "0:\tlearn: 0.7281031\ttest: 0.7351481\tbest: 0.7351481 (0)\ttotal: 238ms\tremaining: 47.4s\n",
      "10:\tlearn: 0.7553773\ttest: 0.7467716\tbest: 0.7467716 (10)\ttotal: 2.37s\tremaining: 40.7s\n",
      "20:\tlearn: 0.7785633\ttest: 0.7530863\tbest: 0.7530863 (20)\ttotal: 4.99s\tremaining: 42.6s\n",
      "30:\tlearn: 0.7910753\ttest: 0.7558083\tbest: 0.7558083 (30)\ttotal: 7.45s\tremaining: 40.6s\n",
      "40:\tlearn: 0.8026602\ttest: 0.7607304\tbest: 0.7607304 (40)\ttotal: 10.1s\tremaining: 39.2s\n",
      "50:\tlearn: 0.8121453\ttest: 0.7611373\tbest: 0.7619349 (46)\ttotal: 12.7s\tremaining: 37.2s\n",
      "60:\tlearn: 0.8230779\ttest: 0.7628205\tbest: 0.7629314 (59)\ttotal: 15.4s\tremaining: 35.2s\n",
      "70:\tlearn: 0.8318364\ttest: 0.7634898\tbest: 0.7638583 (69)\ttotal: 17.9s\tremaining: 32.5s\n",
      "80:\tlearn: 0.8384894\ttest: 0.7621650\tbest: 0.7638583 (69)\ttotal: 20.2s\tremaining: 29.7s\n",
      "90:\tlearn: 0.8466580\ttest: 0.7621956\tbest: 0.7638583 (69)\ttotal: 22.9s\tremaining: 27.4s\n",
      "100:\tlearn: 0.8532959\ttest: 0.7636295\tbest: 0.7638583 (69)\ttotal: 25.4s\tremaining: 24.9s\n",
      "110:\tlearn: 0.8643029\ttest: 0.7631527\tbest: 0.7640607 (105)\ttotal: 28.1s\tremaining: 22.6s\n",
      "120:\tlearn: 0.8763365\ttest: 0.7640453\tbest: 0.7644328 (117)\ttotal: 30.9s\tremaining: 20.1s\n",
      "130:\tlearn: 0.8894060\ttest: 0.7621183\tbest: 0.7644328 (117)\ttotal: 33.6s\tremaining: 17.7s\n",
      "140:\tlearn: 0.9008479\ttest: 0.7600333\tbest: 0.7644328 (117)\ttotal: 36.2s\tremaining: 15.1s\n",
      "150:\tlearn: 0.9139770\ttest: 0.7586549\tbest: 0.7644328 (117)\ttotal: 38.7s\tremaining: 12.6s\n",
      "160:\tlearn: 0.9243842\ttest: 0.7572914\tbest: 0.7644328 (117)\ttotal: 41.3s\tremaining: 9.99s\n",
      "170:\tlearn: 0.9335397\ttest: 0.7571813\tbest: 0.7644328 (117)\ttotal: 44s\tremaining: 7.46s\n",
      "180:\tlearn: 0.9404841\ttest: 0.7559464\tbest: 0.7644328 (117)\ttotal: 46.5s\tremaining: 4.88s\n",
      "190:\tlearn: 0.9481797\ttest: 0.7541893\tbest: 0.7644328 (117)\ttotal: 49.2s\tremaining: 2.32s\n",
      "199:\tlearn: 0.9539955\ttest: 0.7546839\tbest: 0.7644328 (117)\ttotal: 51.5s\tremaining: 0us\n",
      "\n",
      "bestTest = 0.7644328208\n",
      "bestIteration = 117\n",
      "\n",
      "16:\tloss: 0.7644328\tbest: 0.7743276 (2)\ttotal: 11m 44s\tremaining: 41.4s\n",
      "0:\tlearn: 0.7281031\ttest: 0.7351481\tbest: 0.7351481 (0)\ttotal: 269ms\tremaining: 53.5s\n",
      "10:\tlearn: 0.7846266\ttest: 0.7533119\tbest: 0.7533119 (10)\ttotal: 2.8s\tremaining: 48.1s\n",
      "20:\tlearn: 0.8120305\ttest: 0.7544066\tbest: 0.7555834 (19)\ttotal: 5.1s\tremaining: 43.5s\n",
      "30:\tlearn: 0.8310317\ttest: 0.7557130\tbest: 0.7558127 (25)\ttotal: 7.39s\tremaining: 40.3s\n",
      "40:\tlearn: 0.8578599\ttest: 0.7518916\tbest: 0.7574712 (35)\ttotal: 9.95s\tremaining: 38.6s\n",
      "50:\tlearn: 0.8963278\ttest: 0.7481938\tbest: 0.7574712 (35)\ttotal: 12.5s\tremaining: 36.5s\n",
      "60:\tlearn: 0.9213231\ttest: 0.7403099\tbest: 0.7574712 (35)\ttotal: 15.1s\tremaining: 34.3s\n",
      "70:\tlearn: 0.9431616\ttest: 0.7338993\tbest: 0.7574712 (35)\ttotal: 17.6s\tremaining: 32s\n",
      "80:\tlearn: 0.9576985\ttest: 0.7292637\tbest: 0.7574712 (35)\ttotal: 20.3s\tremaining: 29.8s\n",
      "90:\tlearn: 0.9692716\ttest: 0.7238630\tbest: 0.7574712 (35)\ttotal: 23.1s\tremaining: 27.6s\n",
      "100:\tlearn: 0.9767711\ttest: 0.7185373\tbest: 0.7574712 (35)\ttotal: 25.9s\tremaining: 25.4s\n",
      "110:\tlearn: 0.9826664\ttest: 0.7136501\tbest: 0.7574712 (35)\ttotal: 28.3s\tremaining: 22.7s\n",
      "120:\tlearn: 0.9868323\ttest: 0.7119577\tbest: 0.7574712 (35)\ttotal: 30.7s\tremaining: 20.1s\n",
      "130:\tlearn: 0.9907692\ttest: 0.7106537\tbest: 0.7574712 (35)\ttotal: 33.3s\tremaining: 17.6s\n",
      "140:\tlearn: 0.9929997\ttest: 0.7095565\tbest: 0.7574712 (35)\ttotal: 36s\tremaining: 15.1s\n",
      "150:\tlearn: 0.9950010\ttest: 0.7054842\tbest: 0.7574712 (35)\ttotal: 38.7s\tremaining: 12.6s\n",
      "160:\tlearn: 0.9965224\ttest: 0.7024873\tbest: 0.7574712 (35)\ttotal: 41.3s\tremaining: 10s\n",
      "170:\tlearn: 0.9975385\ttest: 0.7021599\tbest: 0.7574712 (35)\ttotal: 44s\tremaining: 7.47s\n",
      "180:\tlearn: 0.9982466\ttest: 0.7015323\tbest: 0.7574712 (35)\ttotal: 46.6s\tremaining: 4.89s\n",
      "190:\tlearn: 0.9987399\ttest: 0.6996009\tbest: 0.7574712 (35)\ttotal: 49.3s\tremaining: 2.32s\n",
      "199:\tlearn: 0.9990642\ttest: 0.7003240\tbest: 0.7574712 (35)\ttotal: 51.8s\tremaining: 0us\n",
      "\n",
      "bestTest = 0.7574711732\n",
      "bestIteration = 35\n",
      "\n",
      "17:\tloss: 0.7574712\tbest: 0.7743276 (2)\ttotal: 12m 35s\tremaining: 0us\n",
      "Estimating final quality...\n",
      "Training on fold [0/5]\n",
      "0:\tlearn: 0.7001614\ttest: 0.7043484\tbest: 0.7043484 (0)\ttotal: 91.6ms\tremaining: 18.2s\n",
      "10:\tlearn: 0.7519016\ttest: 0.7476014\tbest: 0.7476014 (10)\ttotal: 1.48s\tremaining: 25.4s\n",
      "20:\tlearn: 0.7600302\ttest: 0.7551466\tbest: 0.7551466 (20)\ttotal: 2.81s\tremaining: 23.9s\n",
      "30:\tlearn: 0.7666215\ttest: 0.7599422\tbest: 0.7599422 (30)\ttotal: 4.1s\tremaining: 22.4s\n",
      "40:\tlearn: 0.7698869\ttest: 0.7603643\tbest: 0.7607781 (39)\ttotal: 5.48s\tremaining: 21.3s\n",
      "50:\tlearn: 0.7759858\ttest: 0.7624351\tbest: 0.7625079 (48)\ttotal: 6.93s\tremaining: 20.2s\n",
      "60:\tlearn: 0.7805507\ttest: 0.7637517\tbest: 0.7637517 (60)\ttotal: 8.54s\tremaining: 19.5s\n",
      "70:\tlearn: 0.7843265\ttest: 0.7638816\tbest: 0.7643569 (67)\ttotal: 9.91s\tremaining: 18s\n",
      "80:\tlearn: 0.7880203\ttest: 0.7634859\tbest: 0.7643569 (67)\ttotal: 11.4s\tremaining: 16.7s\n",
      "90:\tlearn: 0.7917626\ttest: 0.7653151\tbest: 0.7655149 (89)\ttotal: 12.8s\tremaining: 15.3s\n",
      "100:\tlearn: 0.7948969\ttest: 0.7642021\tbest: 0.7655449 (93)\ttotal: 14.2s\tremaining: 13.9s\n",
      "110:\tlearn: 0.7988090\ttest: 0.7651712\tbest: 0.7655449 (93)\ttotal: 15.4s\tremaining: 12.3s\n",
      "120:\tlearn: 0.8011725\ttest: 0.7655268\tbest: 0.7659141 (114)\ttotal: 16.6s\tremaining: 10.9s\n",
      "130:\tlearn: 0.8040713\ttest: 0.7657588\tbest: 0.7660762 (127)\ttotal: 17.9s\tremaining: 9.43s\n",
      "140:\tlearn: 0.8062851\ttest: 0.7654042\tbest: 0.7660762 (127)\ttotal: 19.1s\tremaining: 8s\n",
      "150:\tlearn: 0.8089970\ttest: 0.7661613\tbest: 0.7665574 (146)\ttotal: 20.3s\tremaining: 6.58s\n",
      "160:\tlearn: 0.8116657\ttest: 0.7649913\tbest: 0.7665574 (146)\ttotal: 21.5s\tremaining: 5.21s\n",
      "170:\tlearn: 0.8142544\ttest: 0.7648087\tbest: 0.7665574 (146)\ttotal: 22.8s\tremaining: 3.88s\n",
      "180:\tlearn: 0.8170354\ttest: 0.7630494\tbest: 0.7665574 (146)\ttotal: 24.3s\tremaining: 2.55s\n",
      "190:\tlearn: 0.8189958\ttest: 0.7629266\tbest: 0.7665574 (146)\ttotal: 25.6s\tremaining: 1.21s\n",
      "199:\tlearn: 0.8213503\ttest: 0.7627187\tbest: 0.7665574 (146)\ttotal: 26.7s\tremaining: 0us\n",
      "\n",
      "bestTest = 0.7665574284\n",
      "bestIteration = 146\n",
      "\n",
      "Training on fold [1/5]\n",
      "0:\tlearn: 0.7005932\ttest: 0.7026198\tbest: 0.7026198 (0)\ttotal: 96.3ms\tremaining: 19.2s\n",
      "10:\tlearn: 0.7501536\ttest: 0.7448285\tbest: 0.7448285 (10)\ttotal: 1.53s\tremaining: 26.2s\n",
      "20:\tlearn: 0.7580670\ttest: 0.7505315\tbest: 0.7505315 (20)\ttotal: 2.79s\tremaining: 23.8s\n",
      "30:\tlearn: 0.7629008\ttest: 0.7534863\tbest: 0.7534863 (30)\ttotal: 4.05s\tremaining: 22.1s\n",
      "40:\tlearn: 0.7688127\ttest: 0.7562582\tbest: 0.7562582 (40)\ttotal: 5.32s\tremaining: 20.6s\n",
      "50:\tlearn: 0.7750069\ttest: 0.7568163\tbest: 0.7576492 (46)\ttotal: 6.63s\tremaining: 19.4s\n",
      "60:\tlearn: 0.7804825\ttest: 0.7568774\tbest: 0.7576492 (46)\ttotal: 8.01s\tremaining: 18.2s\n",
      "70:\tlearn: 0.7856793\ttest: 0.7567915\tbest: 0.7576492 (46)\ttotal: 9.42s\tremaining: 17.1s\n",
      "80:\tlearn: 0.7899313\ttest: 0.7546075\tbest: 0.7576492 (46)\ttotal: 10.8s\tremaining: 15.8s\n",
      "90:\tlearn: 0.7936517\ttest: 0.7558708\tbest: 0.7576492 (46)\ttotal: 12.2s\tremaining: 14.6s\n",
      "100:\tlearn: 0.7966920\ttest: 0.7567639\tbest: 0.7576492 (46)\ttotal: 13.4s\tremaining: 13.2s\n",
      "110:\tlearn: 0.7997517\ttest: 0.7562308\tbest: 0.7576492 (46)\ttotal: 14.8s\tremaining: 11.9s\n",
      "120:\tlearn: 0.8023581\ttest: 0.7565740\tbest: 0.7576492 (46)\ttotal: 16.2s\tremaining: 10.6s\n",
      "130:\tlearn: 0.8055836\ttest: 0.7574415\tbest: 0.7576492 (46)\ttotal: 17.6s\tremaining: 9.29s\n",
      "140:\tlearn: 0.8079090\ttest: 0.7564164\tbest: 0.7576492 (46)\ttotal: 18.9s\tremaining: 7.92s\n",
      "150:\tlearn: 0.8108401\ttest: 0.7542961\tbest: 0.7576492 (46)\ttotal: 20.3s\tremaining: 6.58s\n",
      "160:\tlearn: 0.8135572\ttest: 0.7537806\tbest: 0.7576492 (46)\ttotal: 21.6s\tremaining: 5.24s\n",
      "170:\tlearn: 0.8157583\ttest: 0.7534530\tbest: 0.7576492 (46)\ttotal: 22.8s\tremaining: 3.87s\n",
      "180:\tlearn: 0.8177150\ttest: 0.7535824\tbest: 0.7576492 (46)\ttotal: 24.1s\tremaining: 2.53s\n",
      "190:\tlearn: 0.8202370\ttest: 0.7523229\tbest: 0.7576492 (46)\ttotal: 25.4s\tremaining: 1.2s\n",
      "199:\tlearn: 0.8227822\ttest: 0.7518421\tbest: 0.7576492 (46)\ttotal: 26.7s\tremaining: 0us\n",
      "\n",
      "bestTest = 0.7576492309\n",
      "bestIteration = 46\n",
      "\n",
      "Training on fold [2/5]\n",
      "0:\tlearn: 0.6985697\ttest: 0.7103260\tbest: 0.7103260 (0)\ttotal: 80.8ms\tremaining: 16.1s\n",
      "10:\tlearn: 0.7484175\ttest: 0.7565264\tbest: 0.7566694 (9)\ttotal: 1.3s\tremaining: 22.4s\n",
      "20:\tlearn: 0.7585133\ttest: 0.7620853\tbest: 0.7620853 (20)\ttotal: 2.7s\tremaining: 23s\n",
      "30:\tlearn: 0.7640241\ttest: 0.7649501\tbest: 0.7649501 (30)\ttotal: 4.1s\tremaining: 22.4s\n",
      "40:\tlearn: 0.7694828\ttest: 0.7677507\tbest: 0.7677507 (40)\ttotal: 5.29s\tremaining: 20.5s\n",
      "50:\tlearn: 0.7747513\ttest: 0.7693289\tbest: 0.7694949 (49)\ttotal: 6.54s\tremaining: 19.1s\n",
      "60:\tlearn: 0.7798086\ttest: 0.7678941\tbest: 0.7694949 (49)\ttotal: 7.91s\tremaining: 18s\n",
      "70:\tlearn: 0.7838297\ttest: 0.7694356\tbest: 0.7698007 (69)\ttotal: 9.06s\tremaining: 16.5s\n",
      "80:\tlearn: 0.7873538\ttest: 0.7676985\tbest: 0.7698007 (69)\ttotal: 10.4s\tremaining: 15.2s\n",
      "90:\tlearn: 0.7915865\ttest: 0.7674155\tbest: 0.7698007 (69)\ttotal: 11.6s\tremaining: 13.9s\n",
      "100:\tlearn: 0.7946343\ttest: 0.7639768\tbest: 0.7698007 (69)\ttotal: 13s\tremaining: 12.7s\n",
      "110:\tlearn: 0.7979767\ttest: 0.7627089\tbest: 0.7698007 (69)\ttotal: 14.3s\tremaining: 11.5s\n",
      "120:\tlearn: 0.8013899\ttest: 0.7633877\tbest: 0.7698007 (69)\ttotal: 15.5s\tremaining: 10.1s\n",
      "130:\tlearn: 0.8041945\ttest: 0.7627875\tbest: 0.7698007 (69)\ttotal: 16.8s\tremaining: 8.86s\n",
      "140:\tlearn: 0.8072275\ttest: 0.7623775\tbest: 0.7698007 (69)\ttotal: 18.1s\tremaining: 7.57s\n",
      "150:\tlearn: 0.8098211\ttest: 0.7618329\tbest: 0.7698007 (69)\ttotal: 19.3s\tremaining: 6.28s\n",
      "160:\tlearn: 0.8125420\ttest: 0.7617147\tbest: 0.7698007 (69)\ttotal: 20.7s\tremaining: 5.02s\n",
      "170:\tlearn: 0.8151883\ttest: 0.7612777\tbest: 0.7698007 (69)\ttotal: 22s\tremaining: 3.73s\n",
      "180:\tlearn: 0.8170862\ttest: 0.7606973\tbest: 0.7698007 (69)\ttotal: 23.3s\tremaining: 2.44s\n",
      "190:\tlearn: 0.8195660\ttest: 0.7599350\tbest: 0.7698007 (69)\ttotal: 24.5s\tremaining: 1.16s\n",
      "199:\tlearn: 0.8213772\ttest: 0.7601475\tbest: 0.7698007 (69)\ttotal: 25.9s\tremaining: 0us\n",
      "\n",
      "bestTest = 0.7698006967\n",
      "bestIteration = 69\n",
      "\n",
      "Training on fold [3/5]\n",
      "0:\tlearn: 0.7037354\ttest: 0.6898904\tbest: 0.6898904 (0)\ttotal: 90.9ms\tremaining: 18.1s\n",
      "10:\tlearn: 0.7516186\ttest: 0.7408293\tbest: 0.7408293 (10)\ttotal: 1.44s\tremaining: 24.7s\n",
      "20:\tlearn: 0.7605552\ttest: 0.7492900\tbest: 0.7492900 (20)\ttotal: 2.75s\tremaining: 23.4s\n",
      "30:\tlearn: 0.7654029\ttest: 0.7530432\tbest: 0.7532789 (28)\ttotal: 4.02s\tremaining: 21.9s\n",
      "40:\tlearn: 0.7707466\ttest: 0.7559842\tbest: 0.7559842 (40)\ttotal: 5.24s\tremaining: 20.3s\n",
      "50:\tlearn: 0.7761335\ttest: 0.7581997\tbest: 0.7581997 (50)\ttotal: 6.68s\tremaining: 19.5s\n",
      "60:\tlearn: 0.7805258\ttest: 0.7579599\tbest: 0.7584939 (54)\ttotal: 7.98s\tremaining: 18.2s\n",
      "70:\tlearn: 0.7841903\ttest: 0.7595874\tbest: 0.7595874 (70)\ttotal: 9.36s\tremaining: 17s\n",
      "80:\tlearn: 0.7883987\ttest: 0.7610153\tbest: 0.7610153 (80)\ttotal: 10.7s\tremaining: 15.7s\n",
      "90:\tlearn: 0.7915195\ttest: 0.7615933\tbest: 0.7623386 (85)\ttotal: 12.2s\tremaining: 14.6s\n",
      "100:\tlearn: 0.7954027\ttest: 0.7620026\tbest: 0.7625770 (96)\ttotal: 13.5s\tremaining: 13.2s\n",
      "110:\tlearn: 0.7985147\ttest: 0.7613292\tbest: 0.7625770 (96)\ttotal: 14.9s\tremaining: 11.9s\n",
      "120:\tlearn: 0.8017246\ttest: 0.7604904\tbest: 0.7625770 (96)\ttotal: 16.3s\tremaining: 10.7s\n",
      "130:\tlearn: 0.8044145\ttest: 0.7598428\tbest: 0.7625770 (96)\ttotal: 17.7s\tremaining: 9.33s\n",
      "140:\tlearn: 0.8070000\ttest: 0.7583164\tbest: 0.7625770 (96)\ttotal: 19.1s\tremaining: 8s\n",
      "150:\tlearn: 0.8100236\ttest: 0.7579281\tbest: 0.7625770 (96)\ttotal: 20.6s\tremaining: 6.67s\n",
      "160:\tlearn: 0.8123933\ttest: 0.7571398\tbest: 0.7625770 (96)\ttotal: 22s\tremaining: 5.33s\n",
      "170:\tlearn: 0.8150199\ttest: 0.7580758\tbest: 0.7625770 (96)\ttotal: 23.3s\tremaining: 3.96s\n",
      "180:\tlearn: 0.8172766\ttest: 0.7583900\tbest: 0.7625770 (96)\ttotal: 24.7s\tremaining: 2.59s\n",
      "190:\tlearn: 0.8192061\ttest: 0.7581854\tbest: 0.7625770 (96)\ttotal: 26.1s\tremaining: 1.23s\n",
      "199:\tlearn: 0.8211655\ttest: 0.7592607\tbest: 0.7625770 (96)\ttotal: 27.4s\tremaining: 0us\n",
      "\n",
      "bestTest = 0.7625769903\n",
      "bestIteration = 96\n",
      "\n",
      "Training on fold [4/5]\n",
      "0:\tlearn: 0.7015284\ttest: 0.6986745\tbest: 0.6986745 (0)\ttotal: 93.1ms\tremaining: 18.5s\n",
      "10:\tlearn: 0.7504669\ttest: 0.7494063\tbest: 0.7494063 (10)\ttotal: 1.46s\tremaining: 25s\n",
      "20:\tlearn: 0.7593394\ttest: 0.7573460\tbest: 0.7578714 (19)\ttotal: 2.92s\tremaining: 24.9s\n",
      "30:\tlearn: 0.7632384\ttest: 0.7595910\tbest: 0.7597757 (28)\ttotal: 4.38s\tremaining: 23.9s\n",
      "40:\tlearn: 0.7681800\ttest: 0.7643099\tbest: 0.7643099 (40)\ttotal: 5.85s\tremaining: 22.7s\n",
      "50:\tlearn: 0.7730572\ttest: 0.7664429\tbest: 0.7664429 (50)\ttotal: 7.38s\tremaining: 21.5s\n",
      "60:\tlearn: 0.7784807\ttest: 0.7657770\tbest: 0.7673412 (53)\ttotal: 8.77s\tremaining: 20s\n",
      "70:\tlearn: 0.7830233\ttest: 0.7671709\tbest: 0.7673412 (53)\ttotal: 10.1s\tremaining: 18.4s\n",
      "80:\tlearn: 0.7877506\ttest: 0.7687584\tbest: 0.7692932 (79)\ttotal: 11.6s\tremaining: 17s\n",
      "90:\tlearn: 0.7912365\ttest: 0.7694063\tbest: 0.7696414 (89)\ttotal: 13s\tremaining: 15.6s\n",
      "100:\tlearn: 0.7939540\ttest: 0.7697022\tbest: 0.7699545 (97)\ttotal: 14.6s\tremaining: 14.3s\n",
      "110:\tlearn: 0.7975004\ttest: 0.7701745\tbest: 0.7701745 (110)\ttotal: 15.8s\tremaining: 12.7s\n",
      "120:\tlearn: 0.8006696\ttest: 0.7707614\tbest: 0.7709367 (117)\ttotal: 17.1s\tremaining: 11.2s\n",
      "130:\tlearn: 0.8032500\ttest: 0.7704289\tbest: 0.7709367 (117)\ttotal: 18.3s\tremaining: 9.62s\n",
      "140:\tlearn: 0.8065299\ttest: 0.7714024\tbest: 0.7714172 (131)\ttotal: 19.5s\tremaining: 8.14s\n",
      "150:\tlearn: 0.8091725\ttest: 0.7710762\tbest: 0.7714172 (131)\ttotal: 20.8s\tremaining: 6.75s\n",
      "160:\tlearn: 0.8125913\ttest: 0.7691741\tbest: 0.7714172 (131)\ttotal: 22.2s\tremaining: 5.38s\n",
      "170:\tlearn: 0.8149819\ttest: 0.7680096\tbest: 0.7714172 (131)\ttotal: 23.5s\tremaining: 3.98s\n",
      "180:\tlearn: 0.8178092\ttest: 0.7675736\tbest: 0.7714172 (131)\ttotal: 24.8s\tremaining: 2.61s\n",
      "190:\tlearn: 0.8195502\ttest: 0.7680620\tbest: 0.7714172 (131)\ttotal: 26.1s\tremaining: 1.23s\n",
      "199:\tlearn: 0.8214810\ttest: 0.7676329\tbest: 0.7714172 (131)\ttotal: 27.2s\tremaining: 0us\n",
      "\n",
      "bestTest = 0.7714171921\n",
      "bestIteration = 131\n",
      "\n"
     ]
    }
   ],
   "source": [
    "%time\n",
    "cat_features = features_downsampled_train.select_dtypes(include='category').columns.to_list()\n",
    "# Построим модель CatBoostClassifier\n",
    "\n",
    "model_cat_down5 = CatBoostClassifier(loss_function=\"Logloss\", verbose=10,\\\n",
    "                               \n",
    "                               eval_metric='AUC:hints=skip_train~false',\\\n",
    "                                      cat_features=cat_features,\\\n",
    "                               random_state=RANDOM_STATE, auto_class_weights=\"Balanced\") \n",
    "\n",
    "grid = {'learning_rate': [0.05, 0.1, 0.3],\n",
    "        'depth': [2, 6, 8],\n",
    "        'l2_leaf_reg': [3, 8],\n",
    "        'iterations': [200] }\n",
    "grid_search_result = model_cat_down5.grid_search(grid,\n",
    "                                       X=features_downsampled_train, \n",
    "                                       y=target_downsampled_train,\n",
    "                                       plot=True, cv=5)"
   ]
  },
  {
   "cell_type": "code",
   "execution_count": 114,
   "metadata": {},
   "outputs": [
    {
     "name": "stdout",
     "output_type": "stream",
     "text": [
      "Метрика ROC_AUC на тестовой выборке: 0.7479618423587374\n"
     ]
    }
   ],
   "source": [
    "probabilities_cat = model_cat_down5.predict_proba(features_downsampled_test)[:,1]\n",
    "auc_roc = roc_auc_score(target_downsampled_test, probabilities_cat)\n",
    "\n",
    "print('Метрика ROC_AUC на тестовой выборке:', auc_roc)"
   ]
  },
  {
   "cell_type": "code",
   "execution_count": 115,
   "metadata": {},
   "outputs": [
    {
     "name": "stdout",
     "output_type": "stream",
     "text": [
      "Метрика ROC_AUC на тестовой выборке: 0.6815899512456041\n"
     ]
    }
   ],
   "source": [
    "probabilities_cat = model_cat_down5.predict(features_downsampled_test)\n",
    "auc_roc = roc_auc_score(target_downsampled_test, probabilities_cat)\n",
    "\n",
    "print('Метрика ROC_AUC на тестовой выборке:', auc_roc)"
   ]
  },
  {
   "cell_type": "code",
   "execution_count": 111,
   "metadata": {},
   "outputs": [],
   "source": [
    "# Make downsampling\n",
    "features_, target_ = downsample(features, target, 0.2)\n",
    "features_, features_test, target_,target_test = train_test_split(features_, target_, test_size=0.25, random_state=RANDOM_STATE)"
   ]
  },
  {
   "cell_type": "code",
   "execution_count": 112,
   "metadata": {},
   "outputs": [
    {
     "name": "stdout",
     "output_type": "stream",
     "text": [
      "Метрика ROC_AUC на тестовой выборке: 0.6773550663379485\n"
     ]
    }
   ],
   "source": [
    "probabilities_cat = model_cat_down5.predict(features_test)\n",
    "auc_roc = roc_auc_score(target_test, probabilities_cat)\n",
    "\n",
    "print('Метрика ROC_AUC на тестовой выборке:', auc_roc)\n"
   ]
  },
  {
   "cell_type": "code",
   "execution_count": null,
   "metadata": {},
   "outputs": [],
   "source": []
  },
  {
   "cell_type": "code",
   "execution_count": null,
   "metadata": {},
   "outputs": [],
   "source": []
  },
  {
   "cell_type": "code",
   "execution_count": 116,
   "metadata": {},
   "outputs": [
    {
     "data": {
      "image/png": "[encoded data removed]",
      "text/plain": [
       "<Figure size 640x480 with 2 Axes>"
      ]
     },
     "metadata": {},
     "output_type": "display_data"
    }
   ],
   "source": [
    "# Матрица ошибок\n",
    "predicted_cat = model_cat_down5.predict(features_downsampled_test)\n",
    "\n",
    "cm = confusion_matrix(target_downsampled_test, predicted_cat, labels=model.classes_)\n",
    "disp = ConfusionMatrixDisplay(confusion_matrix=cm, display_labels=model.classes_)\n",
    "disp.plot()\n",
    "\n",
    "plt.show()"
   ]
  },
  {
   "cell_type": "code",
   "execution_count": null,
   "metadata": {},
   "outputs": [],
   "source": []
  },
  {
   "cell_type": "code",
   "execution_count": 139,
   "metadata": {},
   "outputs": [],
   "source": [
    "# Загрузим признаки\n",
    "features_all  = feature_list + ['channel_name', 'id'] + nick\n",
    "data_test = pd.read_parquet('features_oot.parquet', engine='fastparquet', columns=features_all)"
   ]
  },
  {
   "cell_type": "code",
   "execution_count": 141,
   "metadata": {},
   "outputs": [],
   "source": [
    "# Выделим фичи и таргет\n",
    "# Marking cat_features\n",
    "\n",
    "# Marking cat_features\n",
    "\n",
    "cat_features = cat_columns(data_test, cat)\n",
    "data_test[cat_features] = data_test[cat_features].astype('category')\n",
    "data_test['materials_details_16_1_ctg'] = data_test['materials_details_16_1_ctg'].astype('float64')\n",
    "data_test['tariff_plans_20_1_ctg'] = data_test['tariff_plans_20_1_ctg'].astype('float64')\n",
    "features = data_test.drop(['id'], axis=1)"
   ]
  },
  {
   "cell_type": "code",
   "execution_count": 142,
   "metadata": {},
   "outputs": [],
   "source": [
    "test_data = data_test['id']\n",
    "test_data = test_data.reset_index()"
   ]
  },
  {
   "cell_type": "code",
   "execution_count": 144,
   "metadata": {},
   "outputs": [],
   "source": [
    "probabilities_cat = model_cat_down5.predict_proba(features)"
   ]
  },
  {
   "cell_type": "code",
   "execution_count": 145,
   "metadata": {},
   "outputs": [],
   "source": [
    "target_test = probabilities_cat[:,1]\n",
    "target_test = pd.Series(target_test)"
   ]
  },
  {
   "cell_type": "code",
   "execution_count": 146,
   "metadata": {},
   "outputs": [],
   "source": [
    "test_data = pd.concat([test_data, target_test], axis=1)"
   ]
  },
  {
   "cell_type": "code",
   "execution_count": 147,
   "metadata": {},
   "outputs": [
    {
     "data": {
      "text/html": [
       "<div>\n",
       "<style scoped>\n",
       "    .dataframe tbody tr th:only-of-type {\n",
       "        vertical-align: middle;\n",
       "    }\n",
       "\n",
       "    .dataframe tbody tr th {\n",
       "        vertical-align: top;\n",
       "    }\n",
       "\n",
       "    .dataframe thead th {\n",
       "        text-align: right;\n",
       "    }\n",
       "</style>\n",
       "<table border=\"1\" class=\"dataframe\">\n",
       "  <thead>\n",
       "    <tr style=\"text-align: right;\">\n",
       "      <th></th>\n",
       "      <th>index</th>\n",
       "      <th>id</th>\n",
       "      <th>0</th>\n",
       "    </tr>\n",
       "  </thead>\n",
       "  <tbody>\n",
       "    <tr>\n",
       "      <th>0</th>\n",
       "      <td>0</td>\n",
       "      <td>1548227</td>\n",
       "      <td>0.655895</td>\n",
       "    </tr>\n",
       "    <tr>\n",
       "      <th>1</th>\n",
       "      <td>1</td>\n",
       "      <td>1173554</td>\n",
       "      <td>0.560972</td>\n",
       "    </tr>\n",
       "    <tr>\n",
       "      <th>2</th>\n",
       "      <td>2</td>\n",
       "      <td>1370450</td>\n",
       "      <td>0.439090</td>\n",
       "    </tr>\n",
       "    <tr>\n",
       "      <th>3</th>\n",
       "      <td>3</td>\n",
       "      <td>1254949</td>\n",
       "      <td>0.406561</td>\n",
       "    </tr>\n",
       "    <tr>\n",
       "      <th>4</th>\n",
       "      <td>4</td>\n",
       "      <td>1549365</td>\n",
       "      <td>0.685812</td>\n",
       "    </tr>\n",
       "    <tr>\n",
       "      <th>...</th>\n",
       "      <td>...</td>\n",
       "      <td>...</td>\n",
       "      <td>...</td>\n",
       "    </tr>\n",
       "    <tr>\n",
       "      <th>60656</th>\n",
       "      <td>60656</td>\n",
       "      <td>1510674</td>\n",
       "      <td>0.718302</td>\n",
       "    </tr>\n",
       "    <tr>\n",
       "      <th>60657</th>\n",
       "      <td>60657</td>\n",
       "      <td>1106063</td>\n",
       "      <td>0.726504</td>\n",
       "    </tr>\n",
       "    <tr>\n",
       "      <th>60658</th>\n",
       "      <td>60658</td>\n",
       "      <td>1396317</td>\n",
       "      <td>0.810502</td>\n",
       "    </tr>\n",
       "    <tr>\n",
       "      <th>60659</th>\n",
       "      <td>60659</td>\n",
       "      <td>1447072</td>\n",
       "      <td>0.902977</td>\n",
       "    </tr>\n",
       "    <tr>\n",
       "      <th>60660</th>\n",
       "      <td>60660</td>\n",
       "      <td>1480202</td>\n",
       "      <td>0.147964</td>\n",
       "    </tr>\n",
       "  </tbody>\n",
       "</table>\n",
       "<p>60661 rows × 3 columns</p>\n",
       "</div>"
      ],
      "text/plain": [
       "       index       id         0\n",
       "0          0  1548227  0.655895\n",
       "1          1  1173554  0.560972\n",
       "2          2  1370450  0.439090\n",
       "3          3  1254949  0.406561\n",
       "4          4  1549365  0.685812\n",
       "...      ...      ...       ...\n",
       "60656  60656  1510674  0.718302\n",
       "60657  60657  1106063  0.726504\n",
       "60658  60658  1396317  0.810502\n",
       "60659  60659  1447072  0.902977\n",
       "60660  60660  1480202  0.147964\n",
       "\n",
       "[60661 rows x 3 columns]"
      ]
     },
     "execution_count": 147,
     "metadata": {},
     "output_type": "execute_result"
    }
   ],
   "source": [
    "test_data"
   ]
  },
  {
   "cell_type": "code",
   "execution_count": 148,
   "metadata": {},
   "outputs": [
    {
     "data": {
      "text/html": [
       "<div>\n",
       "<style scoped>\n",
       "    .dataframe tbody tr th:only-of-type {\n",
       "        vertical-align: middle;\n",
       "    }\n",
       "\n",
       "    .dataframe tbody tr th {\n",
       "        vertical-align: top;\n",
       "    }\n",
       "\n",
       "    .dataframe thead th {\n",
       "        text-align: right;\n",
       "    }\n",
       "</style>\n",
       "<table border=\"1\" class=\"dataframe\">\n",
       "  <thead>\n",
       "    <tr style=\"text-align: right;\">\n",
       "      <th></th>\n",
       "      <th>id</th>\n",
       "      <th>target</th>\n",
       "    </tr>\n",
       "  </thead>\n",
       "  <tbody>\n",
       "    <tr>\n",
       "      <th>0</th>\n",
       "      <td>0</td>\n",
       "      <td>0.655895</td>\n",
       "    </tr>\n",
       "    <tr>\n",
       "      <th>1</th>\n",
       "      <td>1</td>\n",
       "      <td>0.560972</td>\n",
       "    </tr>\n",
       "    <tr>\n",
       "      <th>2</th>\n",
       "      <td>2</td>\n",
       "      <td>0.439090</td>\n",
       "    </tr>\n",
       "    <tr>\n",
       "      <th>3</th>\n",
       "      <td>3</td>\n",
       "      <td>0.406561</td>\n",
       "    </tr>\n",
       "    <tr>\n",
       "      <th>4</th>\n",
       "      <td>4</td>\n",
       "      <td>0.685812</td>\n",
       "    </tr>\n",
       "    <tr>\n",
       "      <th>...</th>\n",
       "      <td>...</td>\n",
       "      <td>...</td>\n",
       "    </tr>\n",
       "    <tr>\n",
       "      <th>60656</th>\n",
       "      <td>60656</td>\n",
       "      <td>0.718302</td>\n",
       "    </tr>\n",
       "    <tr>\n",
       "      <th>60657</th>\n",
       "      <td>60657</td>\n",
       "      <td>0.726504</td>\n",
       "    </tr>\n",
       "    <tr>\n",
       "      <th>60658</th>\n",
       "      <td>60658</td>\n",
       "      <td>0.810502</td>\n",
       "    </tr>\n",
       "    <tr>\n",
       "      <th>60659</th>\n",
       "      <td>60659</td>\n",
       "      <td>0.902977</td>\n",
       "    </tr>\n",
       "    <tr>\n",
       "      <th>60660</th>\n",
       "      <td>60660</td>\n",
       "      <td>0.147964</td>\n",
       "    </tr>\n",
       "  </tbody>\n",
       "</table>\n",
       "<p>60661 rows × 2 columns</p>\n",
       "</div>"
      ],
      "text/plain": [
       "          id    target\n",
       "0          0  0.655895\n",
       "1          1  0.560972\n",
       "2          2  0.439090\n",
       "3          3  0.406561\n",
       "4          4  0.685812\n",
       "...      ...       ...\n",
       "60656  60656  0.718302\n",
       "60657  60657  0.726504\n",
       "60658  60658  0.810502\n",
       "60659  60659  0.902977\n",
       "60660  60660  0.147964\n",
       "\n",
       "[60661 rows x 2 columns]"
      ]
     },
     "execution_count": 148,
     "metadata": {},
     "output_type": "execute_result"
    }
   ],
   "source": [
    "test_data = test_data.drop(['id'], axis=1)\n",
    "test_data.columns = ['id', 'target']\n",
    "test_data"
   ]
  },
  {
   "cell_type": "code",
   "execution_count": 149,
   "metadata": {},
   "outputs": [],
   "source": [
    "test_data.to_csv('test_data_13.csv', index=False)"
   ]
  },
  {
   "cell_type": "code",
   "execution_count": null,
   "metadata": {},
   "outputs": [],
   "source": []
  }
 ],
 "metadata": {
  "kernelspec": {
   "display_name": "Python 3 (ipykernel)",
   "language": "python",
   "name": "python3"
  },
  "language_info": {
   "codemirror_mode": {
    "name": "ipython",
    "version": 3
   },
   "file_extension": ".py",
   "mimetype": "text/x-python",
   "name": "python",
   "nbconvert_exporter": "python",
   "pygments_lexer": "ipython3",
   "version": "3.10.9"
  },
  "toc": {
   "base_numbering": 1,
   "nav_menu": {},
   "number_sections": true,
   "sideBar": true,
   "skip_h1_title": true,
   "title_cell": "Table of Contents",
   "title_sidebar": "Contents",
   "toc_cell": true,
   "toc_position": {},
   "toc_section_display": true,
   "toc_window_display": false
  }
 },
 "nbformat": 4,
 "nbformat_minor": 4
}
