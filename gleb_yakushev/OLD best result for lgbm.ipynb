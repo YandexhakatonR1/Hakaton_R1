{
 "cells": [
  {
   "cell_type": "markdown",
   "id": "11325494",
   "metadata": {},
   "source": [
    "## Подбор гиперпараметров для LightGBM"
   ]
  },
  {
   "cell_type": "code",
   "execution_count": 28,
   "id": "11e1152f",
   "metadata": {},
   "outputs": [],
   "source": [
    "import json\n",
    "import pandas as pd\n",
    "import numpy as np\n",
    "\n",
    "from phik import resources\n",
    "from phik.binning import bin_data\n",
    "from phik.report import plot_correlation_matrix\n",
    "from phik import report\n",
    "\n",
    "import catboost as cb\n",
    "import matplotlib.pyplot as plt\n",
    "from sklearn.model_selection import cross_val_score, GridSearchCV, train_test_split\n",
    "from catboost import CatBoostClassifier\n",
    "from sklearn.utils import shuffle\n",
    "\n",
    "from lightgbm import LGBMClassifier\n",
    "from sklearn.linear_model import LogisticRegression\n",
    "from sklearn.metrics import confusion_matrix, ConfusionMatrixDisplay, roc_auc_score\n",
    "from scipy.stats import pointbiserialr\n",
    "import shap\n",
    "\n",
    "import warnings\n",
    "warnings.filterwarnings(\"ignore\")\n",
    "\n",
    "RANDOM_STATE=42"
   ]
  },
  {
   "cell_type": "code",
   "execution_count": 29,
   "id": "0e717f17",
   "metadata": {},
   "outputs": [],
   "source": [
    "def downsample(features, target, fraction):\n",
    "    features_zeros = features[target == 0]\n",
    "    features_ones = features[target == 1]\n",
    "    target_zeros = target[target == 0]\n",
    "    target_ones = target[target == 1]\n",
    "\n",
    "    features_downsampled = pd.concat(\n",
    "        [features_zeros.sample(frac=fraction, random_state=RANDOM_STATE)] + [features_ones])\n",
    "    target_downsampled = pd.concat(\n",
    "        [target_zeros.sample(frac=fraction, random_state=RANDOM_STATE)] + [target_ones])\n",
    "    \n",
    "    features_downsampled, target_downsampled = shuffle(\n",
    "        features_downsampled, target_downsampled, random_state=RANDOM_STATE)\n",
    "    \n",
    "    return features_downsampled, target_downsampled\n",
    "\n",
    "\n",
    "cat = ['ctg', 'flg','channel_name','src_id']\n",
    "def cat_columns(columns, cat):\n",
    "    cat_columns = []\n",
    "    for col in columns:\n",
    "        for c in cat:\n",
    "            if c in col:\n",
    "                cat_columns.append(col)\n",
    "    return cat_columns"
   ]
  },
  {
   "cell_type": "code",
   "execution_count": 30,
   "id": "aa368cad",
   "metadata": {},
   "outputs": [],
   "source": [
    "a = ['channel_name',\n",
    " 'materials_details_16_1_ctg',\n",
    " 'basic_info_2_0_min',\n",
    " 'basic_info_0_0_avg',\n",
    " 'user_devices_30_1_cnt',\n",
    " 'basic_info_1_0_max',\n",
    " 'cities_2_0_ctg',\n",
    " 'user_active_9_1_flg',\n",
    " 'user_devices_24_1_cnt',\n",
    " 'type_av_100_0_1_ctg',\n",
    " 'info_house_10_0_ctg',\n",
    " 'communication_availability_51_1_flg',\n",
    " 'materials_details_15_1_ctg',\n",
    " 'markers_904_1_cnt',\n",
    " 'movix_app_visits_17_1_cnt',\n",
    " 'campaigns_369_6_part',\n",
    " 'markers_933_1_cnt',\n",
    " 'user_active_23_0_dt',\n",
    " 'campaigns_357_1_sum',\n",
    " 'migrant_0_1_flg',\n",
    " 'markers_925_1_cnt',\n",
    " 'campaigns_41_6_part',\n",
    " 'materials_details_21_1_num',\n",
    " 'campaigns_315_1_sum',\n",
    " 'agreement_type_0_0_ctg',\n",
    " 'save_team_answers_21_1_cnt',\n",
    " 'campaigns_359_1_sum',\n",
    " 'campaigns_328_1_sum',\n",
    " 'campaigns_281_1_part',\n",
    " 'communication_availability_53_1_flg',\n",
    " 'cities_1_0_ctg',\n",
    " 'issues_11_6_sum',\n",
    " 'markers_905_1_cnt',\n",
    " 'materials_details_22_1_flg',\n",
    " 'markers_895_1_cnt',\n",
    " 'user_active_29_1_flg',\n",
    " 'markers_807_1_cnt',\n",
    " 'movix_app_visits_62_1_cnt',\n",
    " 'social_dem_2_0_flg',\n",
    " 'markers_858_1_cnt',\n",
    " 'campaigns_40_3_part',\n",
    " 'campaigns_364_1d6_part',\n",
    " 'movix_app_visits_24_1_cnt',\n",
    " 'campaigns_403_3d6_part',\n",
    " 'user_active_27_0_dt',\n",
    " 'spas_symptoms_agr_286_12_sum',\n",
    " 'user_active_10_1_flg',\n",
    " 'campaigns_324_1_part',\n",
    " 'user_active_24_0_dt',\n",
    " 'materials_details_19_1_dt']\n",
    "\n",
    "nick = ['tariff_plans_4_1_num',\n",
    " 'charges_details_12_1_sum',\n",
    " 'payments_details_35_6_sum',\n",
    " 'spas_symptoms_agr_7_6_sum',\n",
    " 'markers_706_1_cnt',\n",
    " 'payments_details_28_3_sumpct',\n",
    " 'payments_details_27_1_sumpct',\n",
    " 'payments_details_29_6_sumpct',\n",
    " 'balance_details_0_1_num',\n",
    " 'payments_details_49_6_avg',\n",
    " 'payments_details_48_3_sum',\n",
    " 'markers_346_1_cnt',\n",
    " 'spas_symptoms_agr_18_6_std',\n",
    " 'arpu_2_6_avg',\n",
    " 'markers_349_1_cnt',\n",
    " 'markers_323_1_cnt',\n",
    " 'markers_476_1_cnt',\n",
    " 'payments_details_23_3d6_avg',\n",
    " 'markers_40_1_cnt',\n",
    " 'markers_310_1_cnt',\n",
    " 'markers_60_1_cnt',\n",
    " 'markers_330_1_cnt',\n",
    " 'markers_333_1_cnt',\n",
    " 'payments_details_33_1_sum',\n",
    " 'markers_334_1_cnt',\n",
    " 'markers_772_1_cnt',\n",
    " 'markers_59_1_cnt',\n",
    " 'markers_242_1_cnt',\n",
    " 'markers_387_1_cnt',\n",
    " 'tariff_plans_5_1_num']\n",
    "\n",
    "gleb = ['info_house_5_0_num',\n",
    " 'area_0_0_num',\n",
    " 'user_lifetime_3_0_dt',\n",
    " 'info_house_6_0_num',\n",
    " 'traffic_details_43_1_std',\n",
    " 'spas_symptoms_agr_154_12_sum',\n",
    " 'traffic_details_62_1_sum',\n",
    " 'traffic_details_39_3d6_std',\n",
    " 'traffic_details_47_3_sum',\n",
    " 'tariff_plans_22_1_min',\n",
    " 'traffic_details_68_6_sum',\n",
    " 'traffic_details_9_3d6_part',\n",
    " 'spas_symptoms_agr_105_12_std',\n",
    " 'traffic_details_37_3_std',\n",
    " 'traffic_details_44_1_sum',\n",
    " 'traffic_details_35_1d6_std',\n",
    " 'traffic_details_5_1d3_part',\n",
    " 'traffic_details_33_1d3_std',\n",
    " 'traffic_details_2_6_cnt',\n",
    " 'spas_symptoms_agr_150_6_std',\n",
    " 'traffic_details_31_1_std',\n",
    " 'traffic_details_53_1_sum',\n",
    " 'traffic_details_65_3_sum',\n",
    " 'traffic_details_38_3d6_avg',\n",
    " 'traffic_details_18_1d6_avg',\n",
    " 'traffic_details_56_3_sum',\n",
    " 'spas_symptoms_int_43_1_cnt',\n",
    " 'traffic_details_26_3d6_sum',\n",
    " 'traffic_details_15_1d3_avg',\n",
    " 'traffic_details_10_6_cnt',\n",
    " 'traffic_details_6_1d6_part',\n",
    " 'traffic_details_17_1d3_sum',\n",
    " 'spas_symptoms_agr_162_6_std',\n",
    " 'traffic_details_11_6_part',\n",
    " 'traffic_details_32_1d3_avg',\n",
    " 'traffic_details_24_3d6_avg',\n",
    " 'vas_details_24_1_meanpct',\n",
    " 'spas_symptoms_agr_79_6_sum',\n",
    " 'spas_symptoms_agr_161_6_avg',\n",
    " 'spas_symptoms_int_92_1_cnt',\n",
    " 'spas_symptoms_agr_214_12_sum',\n",
    " 'movix_channels_55_3d6_avg',\n",
    " 'spas_symptoms_agr_70_12_sum',\n",
    " 'traffic_details_34_1d6_avg',\n",
    " 'traffic_details_0_1_cnt',\n",
    " 'vas_details_5_6_sum',\n",
    " 'vas_details_26_6_meanpct',\n",
    " 'spas_symptoms_agr_151_6_sum',\n",
    " 'traffic_details_20_1d6_sum',\n",
    " 'spas_symptoms_agr_114_6_std']"
   ]
  },
  {
   "cell_type": "code",
   "execution_count": 49,
   "id": "3c56065d",
   "metadata": {},
   "outputs": [],
   "source": [
    "feature_s = a+nick+gleb+['target']"
   ]
  },
  {
   "cell_type": "code",
   "execution_count": 32,
   "id": "a26254f0",
   "metadata": {},
   "outputs": [],
   "source": [
    "dataset = pd.read_parquet('dataset_train.parquet', engine='pyarrow', columns=feature_s)"
   ]
  },
  {
   "cell_type": "code",
   "execution_count": 33,
   "id": "95059f3c",
   "metadata": {},
   "outputs": [],
   "source": [
    "dataset.drop_duplicates(inplace=True)"
   ]
  },
  {
   "cell_type": "code",
   "execution_count": 34,
   "id": "e37195ae",
   "metadata": {},
   "outputs": [
    {
     "name": "stdout",
     "output_type": "stream",
     "text": [
      "<class 'pandas.core.frame.DataFrame'>\n",
      "Int64Index: 702086 entries, 0 to 702085\n",
      "Columns: 131 entries, channel_name to target\n",
      "dtypes: float64(115), int32(7), int64(6), int8(2), object(1)\n",
      "memory usage: 678.9+ MB\n"
     ]
    }
   ],
   "source": [
    "dataset.info()"
   ]
  },
  {
   "cell_type": "markdown",
   "id": "4ea8781b",
   "metadata": {},
   "source": [
    "Выделим категориальные признаки:"
   ]
  },
  {
   "cell_type": "code",
   "execution_count": 35,
   "id": "5f870ff6",
   "metadata": {},
   "outputs": [
    {
     "data": {
      "text/plain": [
       "['channel_name',\n",
       " 'materials_details_16_1_ctg',\n",
       " 'cities_2_0_ctg',\n",
       " 'user_active_9_1_flg',\n",
       " 'type_av_100_0_1_ctg',\n",
       " 'info_house_10_0_ctg',\n",
       " 'communication_availability_51_1_flg',\n",
       " 'materials_details_15_1_ctg',\n",
       " 'migrant_0_1_flg',\n",
       " 'agreement_type_0_0_ctg',\n",
       " 'communication_availability_53_1_flg',\n",
       " 'cities_1_0_ctg',\n",
       " 'materials_details_22_1_flg',\n",
       " 'user_active_29_1_flg',\n",
       " 'social_dem_2_0_flg',\n",
       " 'user_active_10_1_flg']"
      ]
     },
     "execution_count": 35,
     "metadata": {},
     "output_type": "execute_result"
    }
   ],
   "source": [
    "cat_list = cat_columns(dataset, cat)\n",
    "cat_list"
   ]
  },
  {
   "cell_type": "code",
   "execution_count": 36,
   "id": "65caa359",
   "metadata": {},
   "outputs": [],
   "source": [
    "dataset[cat_list] = dataset[cat_list].astype('category')"
   ]
  },
  {
   "cell_type": "markdown",
   "id": "505f90c7",
   "metadata": {},
   "source": [
    "Выделим целевой признак и фичи."
   ]
  },
  {
   "cell_type": "code",
   "execution_count": 37,
   "id": "e09f12fa",
   "metadata": {},
   "outputs": [],
   "source": [
    "features = dataset.drop(['target'], axis=1)\n",
    "target = dataset['target']"
   ]
  },
  {
   "cell_type": "code",
   "execution_count": 38,
   "id": "ebd17b8d",
   "metadata": {},
   "outputs": [],
   "source": [
    "features_train, features_test, target_train, target_test = train_test_split(features, target, test_size=0.2, random_state=RANDOM_STATE)"
   ]
  },
  {
   "cell_type": "markdown",
   "id": "99bc3422",
   "metadata": {},
   "source": [
    "Проведем даунсемплинг"
   ]
  },
  {
   "cell_type": "code",
   "execution_count": 44,
   "id": "55df28ef",
   "metadata": {},
   "outputs": [],
   "source": [
    "features_downsampled, target_downsampled = downsample(features_train, target_train, 0.01)"
   ]
  },
  {
   "cell_type": "code",
   "execution_count": 45,
   "id": "145bf1e2",
   "metadata": {},
   "outputs": [
    {
     "data": {
      "text/plain": [
       "LGBMClassifier(categorical_feature='name:cat_list', random_state=42)"
      ]
     },
     "execution_count": 45,
     "metadata": {},
     "output_type": "execute_result"
    }
   ],
   "source": [
    "model_lgbm = LGBMClassifier(random_state=42, categorical_feature='name:cat_list')\n",
    "model_lgbm.fit(features_downsampled, target_downsampled)"
   ]
  },
  {
   "cell_type": "code",
   "execution_count": 46,
   "id": "921ebab9",
   "metadata": {},
   "outputs": [
    {
     "name": "stdout",
     "output_type": "stream",
     "text": [
      "Best parameters: {'learning_rate': 0.01, 'max_depth': 10, 'num_iterations': 500, 'num_leaves': 15}\n",
      "Best parameters: 0.7566735089559155\n",
      "Wall time: 8min 46s\n"
     ]
    }
   ],
   "source": [
    "%%time\n",
    "\n",
    "parameters = parameters = {\n",
    "     'num_iterations': [500, 700, 1000],\n",
    "     'learning_rate':[0.01, 0.05, 0.1],\n",
    "    'num_leaves':[7, 15, 31],\n",
    "    'max_depth' :[ 10,15,25]\n",
    "}\n",
    "\n",
    "grid_search = GridSearchCV(estimator=model_lgbm, param_grid=parameters, \n",
    "                           cv=5, scoring='roc_auc', n_jobs=-1)\n",
    "\n",
    "grid_search.fit(features_downsampled, target_downsampled)\n",
    "\n",
    "print('Best parameters:', grid_search.best_params_)\n",
    "print('Best parameters:', grid_search.best_score_)"
   ]
  },
  {
   "cell_type": "markdown",
   "id": "de2f76b0",
   "metadata": {},
   "source": [
    "Проверка на тестовых данных:"
   ]
  },
  {
   "cell_type": "code",
   "execution_count": 47,
   "id": "3fb4e8a6",
   "metadata": {},
   "outputs": [
    {
     "data": {
      "text/plain": [
       "0.6863300979105923"
      ]
     },
     "execution_count": 47,
     "metadata": {},
     "output_type": "execute_result"
    }
   ],
   "source": [
    "model_lgbm = LGBMClassifier(random_state=42, categorical_feature='name:cat_list', learning_rate= 0.01, max_depth= 10, num_iterations= 500, num_leaves= 15)\n",
    "model_lgbm.fit(features_downsampled, target_downsampled)\n",
    "predictions = model_lgbm.predict(features_test)\n",
    "roc_auc = roc_auc_score(target_test, predictions)\n",
    "roc_auc"
   ]
  },
  {
   "cell_type": "markdown",
   "id": "76549baa",
   "metadata": {},
   "source": [
    "## Работа с тестовыми данными"
   ]
  },
  {
   "cell_type": "code",
   "execution_count": 50,
   "id": "c2425b41",
   "metadata": {},
   "outputs": [],
   "source": [
    "feature_test = feature_s.remove('target')"
   ]
  },
  {
   "cell_type": "code",
   "execution_count": 51,
   "id": "80685851",
   "metadata": {},
   "outputs": [],
   "source": [
    "data_test = pd.read_parquet('features_oot.parquet', engine='pyarrow', columns=feature_s)"
   ]
  },
  {
   "cell_type": "code",
   "execution_count": 52,
   "id": "1fce0ca0",
   "metadata": {},
   "outputs": [],
   "source": [
    "cat_features = cat_columns(data_test, cat)\n",
    "data_test[cat_list] = data_test[cat_list].astype('category')"
   ]
  },
  {
   "cell_type": "code",
   "execution_count": 53,
   "id": "73a02f6e",
   "metadata": {},
   "outputs": [],
   "source": [
    "features = data_test"
   ]
  },
  {
   "cell_type": "code",
   "execution_count": 54,
   "id": "5087333c",
   "metadata": {},
   "outputs": [
    {
     "data": {
      "text/html": [
       "<div>\n",
       "<style scoped>\n",
       "    .dataframe tbody tr th:only-of-type {\n",
       "        vertical-align: middle;\n",
       "    }\n",
       "\n",
       "    .dataframe tbody tr th {\n",
       "        vertical-align: top;\n",
       "    }\n",
       "\n",
       "    .dataframe thead th {\n",
       "        text-align: right;\n",
       "    }\n",
       "</style>\n",
       "<table border=\"1\" class=\"dataframe\">\n",
       "  <thead>\n",
       "    <tr style=\"text-align: right;\">\n",
       "      <th></th>\n",
       "      <th>channel_name</th>\n",
       "      <th>materials_details_16_1_ctg</th>\n",
       "      <th>basic_info_2_0_min</th>\n",
       "      <th>basic_info_0_0_avg</th>\n",
       "      <th>user_devices_30_1_cnt</th>\n",
       "      <th>basic_info_1_0_max</th>\n",
       "      <th>cities_2_0_ctg</th>\n",
       "      <th>user_active_9_1_flg</th>\n",
       "      <th>user_devices_24_1_cnt</th>\n",
       "      <th>type_av_100_0_1_ctg</th>\n",
       "      <th>...</th>\n",
       "      <th>spas_symptoms_agr_214_12_sum</th>\n",
       "      <th>movix_channels_55_3d6_avg</th>\n",
       "      <th>spas_symptoms_agr_70_12_sum</th>\n",
       "      <th>traffic_details_34_1d6_avg</th>\n",
       "      <th>traffic_details_0_1_cnt</th>\n",
       "      <th>vas_details_5_6_sum</th>\n",
       "      <th>vas_details_26_6_meanpct</th>\n",
       "      <th>spas_symptoms_agr_151_6_sum</th>\n",
       "      <th>traffic_details_20_1d6_sum</th>\n",
       "      <th>spas_symptoms_agr_114_6_std</th>\n",
       "    </tr>\n",
       "  </thead>\n",
       "  <tbody>\n",
       "    <tr>\n",
       "      <th>0</th>\n",
       "      <td>3</td>\n",
       "      <td>NaN</td>\n",
       "      <td>-0.364331</td>\n",
       "      <td>-0.364331</td>\n",
       "      <td>-0.431207</td>\n",
       "      <td>-0.364331</td>\n",
       "      <td>52</td>\n",
       "      <td>0</td>\n",
       "      <td>-0.365287</td>\n",
       "      <td>2</td>\n",
       "      <td>...</td>\n",
       "      <td>0.312119</td>\n",
       "      <td>NaN</td>\n",
       "      <td>0.336747</td>\n",
       "      <td>-1.051275</td>\n",
       "      <td>0.456141</td>\n",
       "      <td>NaN</td>\n",
       "      <td>NaN</td>\n",
       "      <td>-1.359630</td>\n",
       "      <td>-1.178353</td>\n",
       "      <td>-0.518307</td>\n",
       "    </tr>\n",
       "    <tr>\n",
       "      <th>1</th>\n",
       "      <td>3</td>\n",
       "      <td>NaN</td>\n",
       "      <td>-0.813950</td>\n",
       "      <td>-0.813950</td>\n",
       "      <td>-0.431207</td>\n",
       "      <td>-0.813950</td>\n",
       "      <td>52</td>\n",
       "      <td>0</td>\n",
       "      <td>-0.365287</td>\n",
       "      <td>2</td>\n",
       "      <td>...</td>\n",
       "      <td>0.312119</td>\n",
       "      <td>NaN</td>\n",
       "      <td>0.336747</td>\n",
       "      <td>-1.061204</td>\n",
       "      <td>-0.188496</td>\n",
       "      <td>NaN</td>\n",
       "      <td>NaN</td>\n",
       "      <td>-1.525654</td>\n",
       "      <td>-1.013873</td>\n",
       "      <td>-0.518307</td>\n",
       "    </tr>\n",
       "    <tr>\n",
       "      <th>2</th>\n",
       "      <td>3</td>\n",
       "      <td>NaN</td>\n",
       "      <td>-0.591468</td>\n",
       "      <td>-0.591468</td>\n",
       "      <td>-0.431207</td>\n",
       "      <td>-0.591468</td>\n",
       "      <td>52</td>\n",
       "      <td>1</td>\n",
       "      <td>-0.365287</td>\n",
       "      <td>2</td>\n",
       "      <td>...</td>\n",
       "      <td>0.312119</td>\n",
       "      <td>-1.735214</td>\n",
       "      <td>0.336747</td>\n",
       "      <td>-1.650221</td>\n",
       "      <td>0.456141</td>\n",
       "      <td>-0.002649</td>\n",
       "      <td>-0.697986</td>\n",
       "      <td>-1.359630</td>\n",
       "      <td>-1.193335</td>\n",
       "      <td>-0.518307</td>\n",
       "    </tr>\n",
       "    <tr>\n",
       "      <th>3</th>\n",
       "      <td>3</td>\n",
       "      <td>NaN</td>\n",
       "      <td>-1.048375</td>\n",
       "      <td>-1.048375</td>\n",
       "      <td>-0.431207</td>\n",
       "      <td>-1.048375</td>\n",
       "      <td>52</td>\n",
       "      <td>1</td>\n",
       "      <td>-0.365287</td>\n",
       "      <td>2</td>\n",
       "      <td>...</td>\n",
       "      <td>0.312119</td>\n",
       "      <td>-1.970930</td>\n",
       "      <td>0.336747</td>\n",
       "      <td>-1.650221</td>\n",
       "      <td>0.456141</td>\n",
       "      <td>-0.457412</td>\n",
       "      <td>0.372421</td>\n",
       "      <td>-1.650172</td>\n",
       "      <td>-0.669648</td>\n",
       "      <td>-0.518307</td>\n",
       "    </tr>\n",
       "    <tr>\n",
       "      <th>4</th>\n",
       "      <td>3</td>\n",
       "      <td>NaN</td>\n",
       "      <td>-1.059711</td>\n",
       "      <td>-1.059711</td>\n",
       "      <td>-0.431207</td>\n",
       "      <td>-1.059711</td>\n",
       "      <td>52</td>\n",
       "      <td>1</td>\n",
       "      <td>-0.365287</td>\n",
       "      <td>2</td>\n",
       "      <td>...</td>\n",
       "      <td>-2.683313</td>\n",
       "      <td>-2.103611</td>\n",
       "      <td>-2.676221</td>\n",
       "      <td>-1.650221</td>\n",
       "      <td>0.456141</td>\n",
       "      <td>0.398102</td>\n",
       "      <td>0.390284</td>\n",
       "      <td>-1.650172</td>\n",
       "      <td>-0.195578</td>\n",
       "      <td>-0.518307</td>\n",
       "    </tr>\n",
       "  </tbody>\n",
       "</table>\n",
       "<p>5 rows × 130 columns</p>\n",
       "</div>"
      ],
      "text/plain": [
       "  channel_name materials_details_16_1_ctg  basic_info_2_0_min  \\\n",
       "0            3                        NaN           -0.364331   \n",
       "1            3                        NaN           -0.813950   \n",
       "2            3                        NaN           -0.591468   \n",
       "3            3                        NaN           -1.048375   \n",
       "4            3                        NaN           -1.059711   \n",
       "\n",
       "   basic_info_0_0_avg  user_devices_30_1_cnt  basic_info_1_0_max  \\\n",
       "0           -0.364331              -0.431207           -0.364331   \n",
       "1           -0.813950              -0.431207           -0.813950   \n",
       "2           -0.591468              -0.431207           -0.591468   \n",
       "3           -1.048375              -0.431207           -1.048375   \n",
       "4           -1.059711              -0.431207           -1.059711   \n",
       "\n",
       "  cities_2_0_ctg user_active_9_1_flg  user_devices_24_1_cnt  \\\n",
       "0             52                   0              -0.365287   \n",
       "1             52                   0              -0.365287   \n",
       "2             52                   1              -0.365287   \n",
       "3             52                   1              -0.365287   \n",
       "4             52                   1              -0.365287   \n",
       "\n",
       "  type_av_100_0_1_ctg  ... spas_symptoms_agr_214_12_sum  \\\n",
       "0                   2  ...                     0.312119   \n",
       "1                   2  ...                     0.312119   \n",
       "2                   2  ...                     0.312119   \n",
       "3                   2  ...                     0.312119   \n",
       "4                   2  ...                    -2.683313   \n",
       "\n",
       "  movix_channels_55_3d6_avg spas_symptoms_agr_70_12_sum  \\\n",
       "0                       NaN                    0.336747   \n",
       "1                       NaN                    0.336747   \n",
       "2                 -1.735214                    0.336747   \n",
       "3                 -1.970930                    0.336747   \n",
       "4                 -2.103611                   -2.676221   \n",
       "\n",
       "   traffic_details_34_1d6_avg  traffic_details_0_1_cnt  vas_details_5_6_sum  \\\n",
       "0                   -1.051275                 0.456141                  NaN   \n",
       "1                   -1.061204                -0.188496                  NaN   \n",
       "2                   -1.650221                 0.456141            -0.002649   \n",
       "3                   -1.650221                 0.456141            -0.457412   \n",
       "4                   -1.650221                 0.456141             0.398102   \n",
       "\n",
       "   vas_details_26_6_meanpct  spas_symptoms_agr_151_6_sum  \\\n",
       "0                       NaN                    -1.359630   \n",
       "1                       NaN                    -1.525654   \n",
       "2                 -0.697986                    -1.359630   \n",
       "3                  0.372421                    -1.650172   \n",
       "4                  0.390284                    -1.650172   \n",
       "\n",
       "   traffic_details_20_1d6_sum spas_symptoms_agr_114_6_std  \n",
       "0                   -1.178353                   -0.518307  \n",
       "1                   -1.013873                   -0.518307  \n",
       "2                   -1.193335                   -0.518307  \n",
       "3                   -0.669648                   -0.518307  \n",
       "4                   -0.195578                   -0.518307  \n",
       "\n",
       "[5 rows x 130 columns]"
      ]
     },
     "execution_count": 54,
     "metadata": {},
     "output_type": "execute_result"
    }
   ],
   "source": [
    "features.head()"
   ]
  },
  {
   "cell_type": "code",
   "execution_count": 55,
   "id": "ed9ba4de",
   "metadata": {},
   "outputs": [
    {
     "name": "stdout",
     "output_type": "stream",
     "text": [
      "<class 'pandas.core.frame.DataFrame'>\n",
      "RangeIndex: 60661 entries, 0 to 60660\n",
      "Columns: 130 entries, channel_name to spas_symptoms_agr_114_6_std\n",
      "dtypes: category(16), float64(114)\n",
      "memory usage: 56.4 MB\n"
     ]
    }
   ],
   "source": [
    "features.info()"
   ]
  },
  {
   "cell_type": "code",
   "execution_count": 68,
   "id": "8a9472f9",
   "metadata": {},
   "outputs": [],
   "source": [
    "target_test = model_lgbm.predict_proba(features)"
   ]
  },
  {
   "cell_type": "code",
   "execution_count": 69,
   "id": "efd5bd94",
   "metadata": {},
   "outputs": [],
   "source": [
    "target_test = target_test[:,1]\n",
    "target_test = pd.DataFrame(target_test)"
   ]
  },
  {
   "cell_type": "code",
   "execution_count": 70,
   "id": "fbf8cb05",
   "metadata": {},
   "outputs": [],
   "source": [
    "target_test.reset_index(inplace= True)"
   ]
  },
  {
   "cell_type": "code",
   "execution_count": 72,
   "id": "1aa81422",
   "metadata": {},
   "outputs": [],
   "source": [
    "target_test.columns = ['id', 'target']"
   ]
  },
  {
   "cell_type": "code",
   "execution_count": 73,
   "id": "6db5b45a",
   "metadata": {},
   "outputs": [
    {
     "data": {
      "text/html": [
       "<div>\n",
       "<style scoped>\n",
       "    .dataframe tbody tr th:only-of-type {\n",
       "        vertical-align: middle;\n",
       "    }\n",
       "\n",
       "    .dataframe tbody tr th {\n",
       "        vertical-align: top;\n",
       "    }\n",
       "\n",
       "    .dataframe thead th {\n",
       "        text-align: right;\n",
       "    }\n",
       "</style>\n",
       "<table border=\"1\" class=\"dataframe\">\n",
       "  <thead>\n",
       "    <tr style=\"text-align: right;\">\n",
       "      <th></th>\n",
       "      <th>id</th>\n",
       "      <th>target</th>\n",
       "    </tr>\n",
       "  </thead>\n",
       "  <tbody>\n",
       "    <tr>\n",
       "      <th>0</th>\n",
       "      <td>0</td>\n",
       "      <td>0.575670</td>\n",
       "    </tr>\n",
       "    <tr>\n",
       "      <th>1</th>\n",
       "      <td>1</td>\n",
       "      <td>0.555425</td>\n",
       "    </tr>\n",
       "    <tr>\n",
       "      <th>2</th>\n",
       "      <td>2</td>\n",
       "      <td>0.694349</td>\n",
       "    </tr>\n",
       "    <tr>\n",
       "      <th>3</th>\n",
       "      <td>3</td>\n",
       "      <td>0.521141</td>\n",
       "    </tr>\n",
       "    <tr>\n",
       "      <th>4</th>\n",
       "      <td>4</td>\n",
       "      <td>0.613165</td>\n",
       "    </tr>\n",
       "    <tr>\n",
       "      <th>...</th>\n",
       "      <td>...</td>\n",
       "      <td>...</td>\n",
       "    </tr>\n",
       "    <tr>\n",
       "      <th>60656</th>\n",
       "      <td>60656</td>\n",
       "      <td>0.612559</td>\n",
       "    </tr>\n",
       "    <tr>\n",
       "      <th>60657</th>\n",
       "      <td>60657</td>\n",
       "      <td>0.558238</td>\n",
       "    </tr>\n",
       "    <tr>\n",
       "      <th>60658</th>\n",
       "      <td>60658</td>\n",
       "      <td>0.672369</td>\n",
       "    </tr>\n",
       "    <tr>\n",
       "      <th>60659</th>\n",
       "      <td>60659</td>\n",
       "      <td>0.664261</td>\n",
       "    </tr>\n",
       "    <tr>\n",
       "      <th>60660</th>\n",
       "      <td>60660</td>\n",
       "      <td>0.110569</td>\n",
       "    </tr>\n",
       "  </tbody>\n",
       "</table>\n",
       "<p>60661 rows × 2 columns</p>\n",
       "</div>"
      ],
      "text/plain": [
       "          id    target\n",
       "0          0  0.575670\n",
       "1          1  0.555425\n",
       "2          2  0.694349\n",
       "3          3  0.521141\n",
       "4          4  0.613165\n",
       "...      ...       ...\n",
       "60656  60656  0.612559\n",
       "60657  60657  0.558238\n",
       "60658  60658  0.672369\n",
       "60659  60659  0.664261\n",
       "60660  60660  0.110569\n",
       "\n",
       "[60661 rows x 2 columns]"
      ]
     },
     "execution_count": 73,
     "metadata": {},
     "output_type": "execute_result"
    }
   ],
   "source": [
    "target_test"
   ]
  },
  {
   "cell_type": "code",
   "execution_count": 75,
   "id": "db8f5372",
   "metadata": {},
   "outputs": [],
   "source": [
    "target_test.to_csv('target_test.csv', index=False)"
   ]
  },
  {
   "cell_type": "code",
   "execution_count": null,
   "id": "0e94335b",
   "metadata": {},
   "outputs": [],
   "source": []
  },
  {
   "cell_type": "code",
   "execution_count": null,
   "id": "3ebe2d78",
   "metadata": {},
   "outputs": [],
   "source": []
  },
  {
   "cell_type": "code",
   "execution_count": null,
   "id": "c31ba7c3",
   "metadata": {},
   "outputs": [],
   "source": []
  },
  {
   "cell_type": "code",
   "execution_count": null,
   "id": "904cac40",
   "metadata": {},
   "outputs": [],
   "source": []
  },
  {
   "cell_type": "code",
   "execution_count": null,
   "id": "1f47318d",
   "metadata": {},
   "outputs": [],
   "source": []
  },
  {
   "cell_type": "code",
   "execution_count": null,
   "id": "76796e1f",
   "metadata": {},
   "outputs": [],
   "source": []
  }
 ],
 "metadata": {
  "kernelspec": {
   "display_name": "Python 3 (ipykernel)",
   "language": "python",
   "name": "python3"
  },
  "language_info": {
   "codemirror_mode": {
    "name": "ipython",
    "version": 3
   },
   "file_extension": ".py",
   "mimetype": "text/x-python",
   "name": "python",
   "nbconvert_exporter": "python",
   "pygments_lexer": "ipython3",
   "version": "3.9.13"
  },
  "toc": {
   "base_numbering": 1,
   "nav_menu": {},
   "number_sections": true,
   "sideBar": true,
   "skip_h1_title": false,
   "title_cell": "Table of Contents",
   "title_sidebar": "Contents",
   "toc_cell": false,
   "toc_position": {},
   "toc_section_display": true,
   "toc_window_display": false
  }
 },
 "nbformat": 4,
 "nbformat_minor": 5
}
