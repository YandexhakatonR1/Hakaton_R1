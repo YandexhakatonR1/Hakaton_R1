{
 "cells": [
  {
   "cell_type": "code",
   "execution_count": 1,
   "id": "37b64bb0",
   "metadata": {},
   "outputs": [],
   "source": [
    "import json\n",
    "import pandas as pd\n",
    "import numpy as np"
   ]
  },
  {
   "cell_type": "code",
   "execution_count": 2,
   "id": "59e9dedf",
   "metadata": {},
   "outputs": [],
   "source": [
    "f = open('features_types.json')\n",
    "features_types = json.load(f)"
   ]
  },
  {
   "cell_type": "code",
   "execution_count": 3,
   "id": "9dd905cb",
   "metadata": {},
   "outputs": [
    {
     "data": {
      "text/html": [
       "<div>\n",
       "<style scoped>\n",
       "    .dataframe tbody tr th:only-of-type {\n",
       "        vertical-align: middle;\n",
       "    }\n",
       "\n",
       "    .dataframe tbody tr th {\n",
       "        vertical-align: top;\n",
       "    }\n",
       "\n",
       "    .dataframe thead th {\n",
       "        text-align: right;\n",
       "    }\n",
       "</style>\n",
       "<table border=\"1\" class=\"dataframe\">\n",
       "  <thead>\n",
       "    <tr style=\"text-align: right;\">\n",
       "      <th></th>\n",
       "      <th>features</th>\n",
       "      <th>types</th>\n",
       "    </tr>\n",
       "  </thead>\n",
       "  <tbody>\n",
       "    <tr>\n",
       "      <th>0</th>\n",
       "      <td>markers_0_1_cnt</td>\n",
       "      <td>numeric</td>\n",
       "    </tr>\n",
       "    <tr>\n",
       "      <th>1</th>\n",
       "      <td>markers_1_1_cnt</td>\n",
       "      <td>numeric</td>\n",
       "    </tr>\n",
       "    <tr>\n",
       "      <th>2</th>\n",
       "      <td>markers_2_1_cnt</td>\n",
       "      <td>numeric</td>\n",
       "    </tr>\n",
       "    <tr>\n",
       "      <th>3</th>\n",
       "      <td>markers_3_1_cnt</td>\n",
       "      <td>numeric</td>\n",
       "    </tr>\n",
       "    <tr>\n",
       "      <th>4</th>\n",
       "      <td>markers_4_1_cnt</td>\n",
       "      <td>numeric</td>\n",
       "    </tr>\n",
       "  </tbody>\n",
       "</table>\n",
       "</div>"
      ],
      "text/plain": [
       "          features    types\n",
       "0  markers_0_1_cnt  numeric\n",
       "1  markers_1_1_cnt  numeric\n",
       "2  markers_2_1_cnt  numeric\n",
       "3  markers_3_1_cnt  numeric\n",
       "4  markers_4_1_cnt  numeric"
      ]
     },
     "execution_count": 3,
     "metadata": {},
     "output_type": "execute_result"
    }
   ],
   "source": [
    "data_features = pd.DataFrame(features_types.items(), columns=['features', 'types'])\n",
    "data_features.head()"
   ]
  },
  {
   "cell_type": "markdown",
   "id": "00396445",
   "metadata": {},
   "source": [
    "Создадим отдельно таргет."
   ]
  },
  {
   "cell_type": "code",
   "execution_count": 4,
   "id": "d4d1b937",
   "metadata": {},
   "outputs": [],
   "source": [
    "target=['target']"
   ]
  },
  {
   "cell_type": "code",
   "execution_count": 5,
   "id": "f275448c",
   "metadata": {},
   "outputs": [
    {
     "name": "stdout",
     "output_type": "stream",
     "text": [
      "<class 'pandas.core.frame.DataFrame'>\n",
      "RangeIndex: 702086 entries, 0 to 702085\n",
      "Data columns (total 1 columns):\n",
      " #   Column  Non-Null Count   Dtype\n",
      "---  ------  --------------   -----\n",
      " 0   target  702086 non-null  int32\n",
      "dtypes: int32(1)\n",
      "memory usage: 2.7 MB\n"
     ]
    }
   ],
   "source": [
    "target = pd.read_parquet('dataset_train.parquet', engine='pyarrow', columns=target)\n",
    "target.info()"
   ]
  },
  {
   "cell_type": "code",
   "execution_count": 6,
   "id": "60b2ddb6",
   "metadata": {},
   "outputs": [
    {
     "data": {
      "text/plain": [
       "target\n",
       "0         696617\n",
       "1           5469\n",
       "dtype: int64"
      ]
     },
     "execution_count": 6,
     "metadata": {},
     "output_type": "execute_result"
    }
   ],
   "source": [
    "target.value_counts()"
   ]
  },
  {
   "cell_type": "markdown",
   "id": "19eb95c5",
   "metadata": {},
   "source": [
    "Выбираю только свою часть признаков."
   ]
  },
  {
   "cell_type": "code",
   "execution_count": 7,
   "id": "806ef977",
   "metadata": {},
   "outputs": [],
   "source": [
    "my_data_features = data_features.iloc[930:1860]"
   ]
  },
  {
   "cell_type": "code",
   "execution_count": 8,
   "id": "79b707e8",
   "metadata": {},
   "outputs": [
    {
     "data": {
      "text/plain": [
       "numeric            851\n",
       "categorical_int     69\n",
       "categorical_str     10\n",
       "Name: types, dtype: int64"
      ]
     },
     "execution_count": 8,
     "metadata": {},
     "output_type": "execute_result"
    }
   ],
   "source": [
    "my_data_features.types.value_counts()"
   ]
  },
  {
   "cell_type": "code",
   "execution_count": 9,
   "id": "49605afb",
   "metadata": {},
   "outputs": [
    {
     "data": {
      "text/html": [
       "<div>\n",
       "<style scoped>\n",
       "    .dataframe tbody tr th:only-of-type {\n",
       "        vertical-align: middle;\n",
       "    }\n",
       "\n",
       "    .dataframe tbody tr th {\n",
       "        vertical-align: top;\n",
       "    }\n",
       "\n",
       "    .dataframe thead th {\n",
       "        text-align: right;\n",
       "    }\n",
       "</style>\n",
       "<table border=\"1\" class=\"dataframe\">\n",
       "  <thead>\n",
       "    <tr style=\"text-align: right;\">\n",
       "      <th></th>\n",
       "      <th>features</th>\n",
       "      <th>types</th>\n",
       "    </tr>\n",
       "  </thead>\n",
       "  <tbody>\n",
       "    <tr>\n",
       "      <th>930</th>\n",
       "      <td>vas_details_1_3_sum</td>\n",
       "      <td>numeric</td>\n",
       "    </tr>\n",
       "    <tr>\n",
       "      <th>931</th>\n",
       "      <td>vas_details_2_6_sum</td>\n",
       "      <td>numeric</td>\n",
       "    </tr>\n",
       "    <tr>\n",
       "      <th>932</th>\n",
       "      <td>vas_details_3_1_sum</td>\n",
       "      <td>numeric</td>\n",
       "    </tr>\n",
       "    <tr>\n",
       "      <th>933</th>\n",
       "      <td>vas_details_4_3_sum</td>\n",
       "      <td>numeric</td>\n",
       "    </tr>\n",
       "    <tr>\n",
       "      <th>934</th>\n",
       "      <td>vas_details_5_6_sum</td>\n",
       "      <td>numeric</td>\n",
       "    </tr>\n",
       "  </tbody>\n",
       "</table>\n",
       "</div>"
      ],
      "text/plain": [
       "                features    types\n",
       "930  vas_details_1_3_sum  numeric\n",
       "931  vas_details_2_6_sum  numeric\n",
       "932  vas_details_3_1_sum  numeric\n",
       "933  vas_details_4_3_sum  numeric\n",
       "934  vas_details_5_6_sum  numeric"
      ]
     },
     "execution_count": 9,
     "metadata": {},
     "output_type": "execute_result"
    }
   ],
   "source": [
    "my_data_features.head()"
   ]
  },
  {
   "cell_type": "code",
   "execution_count": 10,
   "id": "ccd25e85",
   "metadata": {},
   "outputs": [],
   "source": [
    "my_data_features_num = my_data_features[my_data_features['types'] == 'numeric']"
   ]
  },
  {
   "cell_type": "code",
   "execution_count": 11,
   "id": "f5a79874",
   "metadata": {},
   "outputs": [],
   "source": [
    "my_data_features_cat = my_data_features[my_data_features['types'] != 'numeric']"
   ]
  },
  {
   "cell_type": "code",
   "execution_count": 12,
   "id": "b75423f2",
   "metadata": {},
   "outputs": [
    {
     "name": "stdout",
     "output_type": "stream",
     "text": [
      "<class 'pandas.core.frame.DataFrame'>\n",
      "Int64Index: 851 entries, 930 to 1859\n",
      "Data columns (total 2 columns):\n",
      " #   Column    Non-Null Count  Dtype \n",
      "---  ------    --------------  ----- \n",
      " 0   features  851 non-null    object\n",
      " 1   types     851 non-null    object\n",
      "dtypes: object(2)\n",
      "memory usage: 19.9+ KB\n"
     ]
    }
   ],
   "source": [
    "my_data_features_num.info()"
   ]
  },
  {
   "cell_type": "markdown",
   "id": "1b53c79e",
   "metadata": {},
   "source": [
    "Возьмем первые 200 признаков:"
   ]
  },
  {
   "cell_type": "code",
   "execution_count": 13,
   "id": "8791debb",
   "metadata": {},
   "outputs": [],
   "source": [
    "columns_to_read_1 = my_data_features_num['features'][:200].to_list()\n",
    "columns_to_read_1.append('target')"
   ]
  },
  {
   "cell_type": "code",
   "execution_count": 14,
   "id": "3751142b",
   "metadata": {
    "scrolled": false
   },
   "outputs": [],
   "source": [
    "raw_data_1 = pd.read_parquet('dataset_train.parquet', engine='pyarrow', columns=columns_to_read_1)"
   ]
  },
  {
   "cell_type": "markdown",
   "id": "bff29172",
   "metadata": {},
   "source": [
    "Отбрасываю те признаки, где больше 1/3 пропусков."
   ]
  },
  {
   "cell_type": "code",
   "execution_count": 15,
   "id": "6e4d656c",
   "metadata": {},
   "outputs": [],
   "source": [
    "raw_data_1 = raw_data_1.dropna(thresh=(len(raw_data_1))/3, axis=1)"
   ]
  },
  {
   "cell_type": "markdown",
   "id": "9d594afd",
   "metadata": {},
   "source": [
    "Отбрасываю пропуски."
   ]
  },
  {
   "cell_type": "code",
   "execution_count": 16,
   "id": "4cf6d1e3",
   "metadata": {},
   "outputs": [],
   "source": [
    "raw_data_1 = raw_data_1.dropna()"
   ]
  },
  {
   "cell_type": "code",
   "execution_count": null,
   "id": "9cdad073",
   "metadata": {},
   "outputs": [],
   "source": []
  },
  {
   "cell_type": "markdown",
   "id": "c1c582e5",
   "metadata": {},
   "source": [
    "Посмотрим на корреляцию с целевым признаком, если она выше 0.95 - удаляем. Дальше делаем тоже самое, только смотрим на корреляцию всех признаков между собой."
   ]
  },
  {
   "cell_type": "code",
   "execution_count": 17,
   "id": "decf04be",
   "metadata": {},
   "outputs": [],
   "source": [
    "corr_matrix = raw_data_1.corr().abs()"
   ]
  },
  {
   "cell_type": "code",
   "execution_count": 18,
   "id": "a9db85b1",
   "metadata": {},
   "outputs": [],
   "source": [
    "corr_with_target = raw_data_1.corrwith(raw_data_1['target']).abs()"
   ]
  },
  {
   "cell_type": "code",
   "execution_count": 19,
   "id": "874db4bf",
   "metadata": {},
   "outputs": [
    {
     "data": {
      "text/plain": [
       "target                         1.000000\n",
       "spas_symptoms_int_130_1_cnt    0.018977\n",
       "spas_symptoms_int_93_1_cnt     0.018241\n",
       "spas_symptoms_int_134_1_cnt    0.012546\n",
       "spas_symptoms_int_92_1_cnt     0.009987\n",
       "                                 ...   \n",
       "spas_symptoms_int_60_1_cnt     0.000040\n",
       "spas_symptoms_int_1_1_cnt           NaN\n",
       "spas_symptoms_int_8_1_cnt           NaN\n",
       "spas_symptoms_int_125_1_cnt         NaN\n",
       "spas_symptoms_int_132_1_cnt         NaN\n",
       "Length: 154, dtype: float64"
      ]
     },
     "execution_count": 19,
     "metadata": {},
     "output_type": "execute_result"
    }
   ],
   "source": [
    "corr_with_target.sort_values(ascending=False)"
   ]
  },
  {
   "cell_type": "markdown",
   "id": "a664a0c4",
   "metadata": {},
   "source": [
    "Переходим к корреляции между признаками:"
   ]
  },
  {
   "cell_type": "code",
   "execution_count": 20,
   "id": "37af9f7f",
   "metadata": {},
   "outputs": [],
   "source": [
    "# выбираем верхний треугольник матрицы корреляции\n",
    "upper = corr_matrix.where(np.triu(np.ones(corr_matrix.shape), k=1).astype(np.bool_))"
   ]
  },
  {
   "cell_type": "code",
   "execution_count": 21,
   "id": "997b9e3c",
   "metadata": {},
   "outputs": [],
   "source": [
    "# находим индексы признаков с корреляцией больше 0.90\n",
    "to_drop = [column for column in upper.columns if any(upper[column] > 0.90)]"
   ]
  },
  {
   "cell_type": "code",
   "execution_count": 22,
   "id": "b2ff436a",
   "metadata": {},
   "outputs": [],
   "source": [
    "# удаляем эти признаки из датафрейма\n",
    "raw_data_1.drop(raw_data_1[to_drop], axis=1, inplace=True)"
   ]
  },
  {
   "cell_type": "code",
   "execution_count": 23,
   "id": "82cc568c",
   "metadata": {},
   "outputs": [
    {
     "name": "stdout",
     "output_type": "stream",
     "text": [
      "<class 'pandas.core.frame.DataFrame'>\n",
      "Int64Index: 692072 entries, 0 to 702085\n",
      "Data columns (total 75 columns):\n",
      " #   Column                       Non-Null Count   Dtype  \n",
      "---  ------                       --------------   -----  \n",
      " 0   user_devices_3_1_cnt         692072 non-null  float64\n",
      " 1   user_devices_4_1_cnt         692072 non-null  float64\n",
      " 2   user_devices_5_1_cnt         692072 non-null  float64\n",
      " 3   user_devices_6_1_cnt         692072 non-null  float64\n",
      " 4   user_devices_7_1_cnt         692072 non-null  float64\n",
      " 5   spas_symptoms_int_0_1_cnt    692072 non-null  float64\n",
      " 6   spas_symptoms_int_1_1_cnt    692072 non-null  float64\n",
      " 7   spas_symptoms_int_2_1_cnt    692072 non-null  float64\n",
      " 8   spas_symptoms_int_3_1_cnt    692072 non-null  float64\n",
      " 9   spas_symptoms_int_5_1_cnt    692072 non-null  float64\n",
      " 10  spas_symptoms_int_8_1_cnt    692072 non-null  float64\n",
      " 11  spas_symptoms_int_11_1_cnt   692072 non-null  float64\n",
      " 12  spas_symptoms_int_12_1_cnt   692072 non-null  float64\n",
      " 13  spas_symptoms_int_15_1_cnt   692072 non-null  float64\n",
      " 14  spas_symptoms_int_16_1_cnt   692072 non-null  float64\n",
      " 15  spas_symptoms_int_17_1_cnt   692072 non-null  float64\n",
      " 16  spas_symptoms_int_19_1_cnt   692072 non-null  float64\n",
      " 17  spas_symptoms_int_20_1_cnt   692072 non-null  float64\n",
      " 18  spas_symptoms_int_23_1_cnt   692072 non-null  float64\n",
      " 19  spas_symptoms_int_26_1_cnt   692072 non-null  float64\n",
      " 20  spas_symptoms_int_29_1_cnt   692072 non-null  float64\n",
      " 21  spas_symptoms_int_32_1_cnt   692072 non-null  float64\n",
      " 22  spas_symptoms_int_35_1_cnt   692072 non-null  float64\n",
      " 23  spas_symptoms_int_44_1_cnt   692072 non-null  float64\n",
      " 24  spas_symptoms_int_47_1_cnt   692072 non-null  float64\n",
      " 25  spas_symptoms_int_48_1_cnt   692072 non-null  float64\n",
      " 26  spas_symptoms_int_51_1_cnt   692072 non-null  float64\n",
      " 27  spas_symptoms_int_54_1_cnt   692072 non-null  float64\n",
      " 28  spas_symptoms_int_57_1_cnt   692072 non-null  float64\n",
      " 29  spas_symptoms_int_58_1_cnt   692072 non-null  float64\n",
      " 30  spas_symptoms_int_61_1_cnt   692072 non-null  float64\n",
      " 31  spas_symptoms_int_62_1_cnt   692072 non-null  float64\n",
      " 32  spas_symptoms_int_65_1_cnt   692072 non-null  float64\n",
      " 33  spas_symptoms_int_66_1_cnt   692072 non-null  float64\n",
      " 34  spas_symptoms_int_69_1_cnt   692072 non-null  float64\n",
      " 35  spas_symptoms_int_72_1_cnt   692072 non-null  float64\n",
      " 36  spas_symptoms_int_75_1_cnt   692072 non-null  float64\n",
      " 37  spas_symptoms_int_76_1_cnt   692072 non-null  float64\n",
      " 38  spas_symptoms_int_79_1_cnt   692072 non-null  float64\n",
      " 39  spas_symptoms_int_80_1_cnt   692072 non-null  float64\n",
      " 40  spas_symptoms_int_83_1_cnt   692072 non-null  float64\n",
      " 41  spas_symptoms_int_84_1_cnt   692072 non-null  float64\n",
      " 42  spas_symptoms_int_87_1_cnt   692072 non-null  float64\n",
      " 43  spas_symptoms_int_90_1_cnt   692072 non-null  float64\n",
      " 44  spas_symptoms_int_92_1_cnt   692072 non-null  float64\n",
      " 45  spas_symptoms_int_93_1_cnt   692072 non-null  float64\n",
      " 46  spas_symptoms_int_96_1_cnt   692072 non-null  float64\n",
      " 47  spas_symptoms_int_99_1_cnt   692072 non-null  float64\n",
      " 48  spas_symptoms_int_102_1_cnt  692072 non-null  float64\n",
      " 49  spas_symptoms_int_105_1_cnt  692072 non-null  float64\n",
      " 50  spas_symptoms_int_106_1_cnt  692072 non-null  float64\n",
      " 51  spas_symptoms_int_109_1_cnt  692072 non-null  float64\n",
      " 52  spas_symptoms_int_110_1_cnt  692072 non-null  float64\n",
      " 53  spas_symptoms_int_113_1_cnt  692072 non-null  float64\n",
      " 54  spas_symptoms_int_114_1_cnt  692072 non-null  float64\n",
      " 55  spas_symptoms_int_117_1_cnt  692072 non-null  float64\n",
      " 56  spas_symptoms_int_118_1_cnt  692072 non-null  float64\n",
      " 57  spas_symptoms_int_121_1_cnt  692072 non-null  float64\n",
      " 58  spas_symptoms_int_124_1_cnt  692072 non-null  float64\n",
      " 59  spas_symptoms_int_125_1_cnt  692072 non-null  float64\n",
      " 60  spas_symptoms_int_128_1_cnt  692072 non-null  float64\n",
      " 61  spas_symptoms_int_129_1_cnt  692072 non-null  float64\n",
      " 62  spas_symptoms_int_130_1_cnt  692072 non-null  float64\n",
      " 63  spas_symptoms_int_131_1_cnt  692072 non-null  float64\n",
      " 64  spas_symptoms_int_132_1_cnt  692072 non-null  float64\n",
      " 65  spas_symptoms_int_134_1_cnt  692072 non-null  float64\n",
      " 66  spas_symptoms_int_137_1_cnt  692072 non-null  float64\n",
      " 67  spas_symptoms_int_148_1_cnt  692072 non-null  float64\n",
      " 68  spas_symptoms_int_151_1_cnt  692072 non-null  float64\n",
      " 69  spas_symptoms_int_152_1_cnt  692072 non-null  float64\n",
      " 70  spas_symptoms_int_155_1_cnt  692072 non-null  float64\n",
      " 71  spas_symptoms_int_156_1_cnt  692072 non-null  float64\n",
      " 72  spas_symptoms_int_159_1_cnt  692072 non-null  float64\n",
      " 73  spas_symptoms_int_160_1_cnt  692072 non-null  float64\n",
      " 74  target                       692072 non-null  int32  \n",
      "dtypes: float64(74), int32(1)\n",
      "memory usage: 398.6 MB\n"
     ]
    }
   ],
   "source": [
    "raw_data_1.info()"
   ]
  },
  {
   "cell_type": "code",
   "execution_count": null,
   "id": "1df6c667",
   "metadata": {},
   "outputs": [],
   "source": []
  },
  {
   "cell_type": "code",
   "execution_count": null,
   "id": "69958c4f",
   "metadata": {},
   "outputs": [],
   "source": []
  },
  {
   "cell_type": "code",
   "execution_count": null,
   "id": "0cfed2d3",
   "metadata": {},
   "outputs": [],
   "source": []
  },
  {
   "cell_type": "code",
   "execution_count": null,
   "id": "f1b0c056",
   "metadata": {},
   "outputs": [],
   "source": []
  },
  {
   "cell_type": "code",
   "execution_count": null,
   "id": "80cc9878",
   "metadata": {},
   "outputs": [],
   "source": []
  },
  {
   "cell_type": "code",
   "execution_count": null,
   "id": "2008ae9a",
   "metadata": {},
   "outputs": [],
   "source": []
  },
  {
   "cell_type": "code",
   "execution_count": null,
   "id": "5bad0d95",
   "metadata": {},
   "outputs": [],
   "source": []
  },
  {
   "cell_type": "code",
   "execution_count": null,
   "id": "8d0b174b",
   "metadata": {},
   "outputs": [],
   "source": []
  },
  {
   "cell_type": "code",
   "execution_count": null,
   "id": "f8619da3",
   "metadata": {},
   "outputs": [],
   "source": []
  }
 ],
 "metadata": {
  "kernelspec": {
   "display_name": "Python 3 (ipykernel)",
   "language": "python",
   "name": "python3"
  },
  "language_info": {
   "codemirror_mode": {
    "name": "ipython",
    "version": 3
   },
   "file_extension": ".py",
   "mimetype": "text/x-python",
   "name": "python",
   "nbconvert_exporter": "python",
   "pygments_lexer": "ipython3",
   "version": "3.9.13"
  },
  "toc": {
   "base_numbering": 1,
   "nav_menu": {},
   "number_sections": true,
   "sideBar": true,
   "skip_h1_title": false,
   "title_cell": "Table of Contents",
   "title_sidebar": "Contents",
   "toc_cell": false,
   "toc_position": {},
   "toc_section_display": true,
   "toc_window_display": false
  }
 },
 "nbformat": 4,
 "nbformat_minor": 5
}
