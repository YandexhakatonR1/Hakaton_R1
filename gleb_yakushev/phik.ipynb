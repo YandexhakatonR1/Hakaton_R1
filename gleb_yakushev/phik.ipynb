{
 "cells": [
  {
   "cell_type": "markdown",
   "id": "728b965e",
   "metadata": {
    "toc": true
   },
   "source": [
    "<h1>Table of Contents<span class=\"tocSkip\"></span></h1>\n",
    "<div class=\"toc\"><ul class=\"toc-item\"></ul></div>"
   ]
  },
  {
   "cell_type": "code",
   "execution_count": null,
   "id": "f3d3e325",
   "metadata": {},
   "outputs": [],
   "source": [
    "!\"{sys.executable}\" -m pip install phik\n",
    "import phik\n",
    "\n",
    "from phik import resources\n",
    "from phik.binning import bin_data\n",
    "from phik.report import plot_correlation_matrix\n",
    "from phik import report"
   ]
  },
  {
   "cell_type": "code",
   "execution_count": null,
   "id": "e530ab69",
   "metadata": {},
   "outputs": [],
   "source": [
    "# Подготовим данные для построения корреляционной матрицы Фи\n",
    "interval_cols = ['monthly_charges', 'total_charges', 'day_with_client']\n",
    "phik_overview = df_full.drop(['customer_id', 'begin_date', 'end_date','gender','end_date_new'], axis=1)\\\n",
    ".phik_matrix(interval_cols=interval_cols)\n",
    "# df_full.phik_matrix(interval_cols=interval_cols)"
   ]
  },
  {
   "cell_type": "code",
   "execution_count": null,
   "id": "6f3d9561",
   "metadata": {},
   "outputs": [],
   "source": [
    "# Корреляционная матрица Фи без разделения по целевому признаку\n",
    "plot_correlation_matrix(phik_overview.values, x_labels=phik_overview.columns, y_labels=phik_overview.index, \n",
    "                        vmin=0, vmax=1, color_map='coolwarm_r', \\\n",
    "                        title=r'Корреляционная матрица $\\phi_K$ для всех признаков', fontsize_factor=1,\n",
    "                        figsize=(15,15))\n",
    "plt.tight_layout() "
   ]
  },
  {
   "cell_type": "code",
   "execution_count": null,
   "id": "dbafb23e",
   "metadata": {},
   "outputs": [],
   "source": []
  }
 ],
 "metadata": {
  "kernelspec": {
   "display_name": "Python 3 (ipykernel)",
   "language": "python",
   "name": "python3"
  },
  "language_info": {
   "codemirror_mode": {
    "name": "ipython",
    "version": 3
   },
   "file_extension": ".py",
   "mimetype": "text/x-python",
   "name": "python",
   "nbconvert_exporter": "python",
   "pygments_lexer": "ipython3",
   "version": "3.10.9"
  },
  "toc": {
   "base_numbering": 1,
   "nav_menu": {},
   "number_sections": true,
   "sideBar": true,
   "skip_h1_title": true,
   "title_cell": "Table of Contents",
   "title_sidebar": "Contents",
   "toc_cell": true,
   "toc_position": {},
   "toc_section_display": true,
   "toc_window_display": false
  }
 },
 "nbformat": 4,
 "nbformat_minor": 5
}
