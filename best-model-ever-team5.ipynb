{
 "cells": [
  {
   "attachments": {},
   "cell_type": "markdown",
   "id": "11325494",
   "metadata": {},
   "source": [
    "# Итоговая тетрадка с моделью"
   ]
  },
  {
   "attachments": {},
   "cell_type": "markdown",
   "id": "d593a308",
   "metadata": {},
   "source": [
    "Загрузка необходимых библиотек"
   ]
  },
  {
   "cell_type": "code",
   "execution_count": 1,
   "id": "11e1152f",
   "metadata": {},
   "outputs": [
    {
     "name": "stderr",
     "output_type": "stream",
     "text": [
      "Using `tqdm.autonotebook.tqdm` in notebook mode. Use `tqdm.tqdm` instead to force console mode (e.g. in jupyter console)\n"
     ]
    }
   ],
   "source": [
    "import json\n",
    "import pandas as pd\n",
    "import numpy as np\n",
    "\n",
    "from phik import resources\n",
    "from phik.binning import bin_data\n",
    "from phik.report import plot_correlation_matrix\n",
    "from phik import report\n",
    "\n",
    "import catboost as cb\n",
    "import matplotlib.pyplot as plt\n",
    "from sklearn.model_selection import (\n",
    "    cross_val_score,\n",
    "    GridSearchCV,\n",
    "    train_test_split,\n",
    ")\n",
    "from catboost import CatBoostClassifier\n",
    "from sklearn.utils import shuffle\n",
    "\n",
    "from lightgbm import LGBMClassifier\n",
    "from sklearn.linear_model import LogisticRegression\n",
    "from sklearn.metrics import (\n",
    "    confusion_matrix,\n",
    "    ConfusionMatrixDisplay,\n",
    "    roc_auc_score,\n",
    ")\n",
    "from scipy.stats import pointbiserialr\n",
    "import shap\n",
    "\n",
    "import warnings\n",
    "\n",
    "warnings.filterwarnings(\"ignore\")\n",
    "\n",
    "RANDOM_STATE = 42"
   ]
  },
  {
   "attachments": {},
   "cell_type": "markdown",
   "id": "85c2d29b",
   "metadata": {},
   "source": [
    "## Подготовка к обучению"
   ]
  },
  {
   "attachments": {},
   "cell_type": "markdown",
   "id": "86387c1c",
   "metadata": {},
   "source": [
    "Объявление функций"
   ]
  },
  {
   "cell_type": "code",
   "execution_count": 2,
   "id": "0e717f17",
   "metadata": {},
   "outputs": [],
   "source": [
    "# Функция для даунсемплинга данных\n",
    "def downsample(features, target, fraction):\n",
    "    features_zeros = features[target == 0]\n",
    "    features_ones = features[target == 1]\n",
    "    target_zeros = target[target == 0]\n",
    "    target_ones = target[target == 1]\n",
    "\n",
    "    features_downsampled = pd.concat(\n",
    "        [features_zeros.sample(frac=fraction, random_state=RANDOM_STATE)]\n",
    "        + [features_ones]\n",
    "    )\n",
    "    target_downsampled = pd.concat(\n",
    "        [target_zeros.sample(frac=fraction, random_state=RANDOM_STATE)]\n",
    "        + [target_ones]\n",
    "    )\n",
    "\n",
    "    features_downsampled, target_downsampled = shuffle(\n",
    "        features_downsampled, target_downsampled, random_state=RANDOM_STATE\n",
    "    )\n",
    "\n",
    "    return features_downsampled, target_downsampled\n",
    "\n",
    "\n",
    "# Функция для нахождения категориальных признаков\n",
    "cat = [\"ctg\", \"flg\", \"channel_name\", \"src_id\"]\n",
    "\n",
    "\n",
    "def cat_columns(columns, cat):\n",
    "    cat_columns = []\n",
    "    for col in columns:\n",
    "        for c in cat:\n",
    "            if c in col:\n",
    "                cat_columns.append(col)\n",
    "    return cat_columns\n",
    "\n",
    "\n",
    "# Поиск дубликатов в списках\n",
    "def dubl_list(seq):\n",
    "    seen = set()\n",
    "    seen_add = seen.add\n",
    "    return [x for x in seq if not (x in seen or seen_add(x))]"
   ]
  },
  {
   "attachments": {},
   "cell_type": "markdown",
   "id": "c6cf13bc",
   "metadata": {},
   "source": [
    "Ниже предоставлены 3 списка признаков, отобранных каждым участников по отдельности. Все 2700 признаков были поделены условно на 3 части, *Николай Каширский* обрабатывал признаки с 0 до 930, *Глеб Якушев* списки с 930 по 1860 и *Николай И.* списки с 1860 и до конца.  \n",
    "1. Список **a**: отобран *Николаем И*:\n",
    "- Изучение данных на предмет корреляции с таргетом, используя методы Спирмена и Кендала. \n",
    "- Вывод случайного списка из выборок с таргетом 1 и 0 и их изучение. \n",
    "- Выписывание странных столбцов. \n",
    "- Выделение категориальных признаков для модели Cat Boost. \n",
    "- Построение лучшей модели на всей выборке с использованием Grid Search CV. \n",
    "- Запрос у модели важных признак, их изучение и добавление понравившихся столбцов. \n",
    "- Выяснение причин успешности столбцов с большим количеством пропусков. \n",
    "- Тест фичей на новой модели. Выпуск итоговых фичей.\n",
    "\n",
    "2. Список **nick** отобран *Николаем Каширским*:\n",
    "- Признаки были разделены на категориальные и непрерывные числовые\n",
    "- Лишние категориальные признаки были отброшены после корреляционного анализа (Спирман)\n",
    "- Непрерывные признаки были проверены на наличие пропусков (удалялись если пропусков больше половины)\n",
    "- После этого непрерывные признаки были проверены на константность (проверил дисперсию)\n",
    "- И финальной обработкой стал корреляционный анализ (Пирсон). Я считал, если к. корр. между двумя признаками >=0.75 то один из них можно удалять.\n",
    "- На датасете из итоговых признаков я провел отбор значимых признаков встроенными в LGBM модель методами.\n",
    "- Было использовано два подхода: downsample и балансировка классов. 2й метод дал лучший результат.\n",
    "- Всю работу вы можете посмотреть в [тетрадке](https://github.com/YandexhakatonR1/Hakaton_R1/blob/main/nikolai_kashirskii/feature_selection/01-kashirskii-feature-selection.ipynb)\n",
    "\n",
    "3. Список **gleb** отобран *Глебом Якушевым*:\n",
    "- выделяем числовые и категориальных фичи, создаем 2 датасета (числовой и категориальный);\n",
    "- в числовом датасете сначала отбрасываем столбцы, где много пропусков (больше половины), удаляем фичи с константными значениями, удаляем коррелирующие признаки;\n",
    "- в категориальном датасете: отбрасываем фичи с большим разбросом значений, удаляем коррелирующие признаки, переводим их в 'category';\n",
    "- объединяем полученные датасеты, дропаем дубликаты, выдиляем список названий категориальных фичей;\n",
    "- выделяем целевой признак и фичи, обучаем модель LGBM при class_weight = 'balanced' и передавая список категориальных фичей в categorical_feature;\n",
    "- находим самые важные признаки нашей модели с помощью feature_importances_ , выбираем топ-50."
   ]
  },
  {
   "cell_type": "code",
   "execution_count": 3,
   "id": "aa368cad",
   "metadata": {},
   "outputs": [],
   "source": [
    "a = [\n",
    "    \"channel_name\",\n",
    "    \"materials_details_16_1_ctg\",\n",
    "    \"basic_info_2_0_min\",\n",
    "    \"basic_info_0_0_avg\",\n",
    "    \"user_devices_30_1_cnt\",\n",
    "    \"basic_info_1_0_max\",\n",
    "    \"cities_2_0_ctg\",\n",
    "    \"user_active_9_1_flg\",\n",
    "    \"user_devices_24_1_cnt\",\n",
    "    \"type_av_100_0_1_ctg\",\n",
    "    \"info_house_10_0_ctg\",\n",
    "    \"communication_availability_51_1_flg\",\n",
    "    \"materials_details_15_1_ctg\",\n",
    "    \"markers_904_1_cnt\",\n",
    "    \"movix_app_visits_17_1_cnt\",\n",
    "    \"campaigns_369_6_part\",\n",
    "    \"markers_933_1_cnt\",\n",
    "    \"user_active_23_0_dt\",\n",
    "    \"campaigns_357_1_sum\",\n",
    "    \"migrant_0_1_flg\",\n",
    "    \"markers_925_1_cnt\",\n",
    "    \"campaigns_41_6_part\",\n",
    "    \"materials_details_21_1_num\",\n",
    "    \"campaigns_315_1_sum\",\n",
    "    \"agreement_type_0_0_ctg\",\n",
    "    \"save_team_answers_21_1_cnt\",\n",
    "    \"campaigns_359_1_sum\",\n",
    "    \"campaigns_328_1_sum\",\n",
    "    \"campaigns_281_1_part\",\n",
    "    \"communication_availability_53_1_flg\",\n",
    "    \"cities_1_0_ctg\",\n",
    "    \"issues_11_6_sum\",\n",
    "    \"markers_905_1_cnt\",\n",
    "    \"materials_details_22_1_flg\",\n",
    "    \"markers_895_1_cnt\",\n",
    "    \"user_active_29_1_flg\",\n",
    "    \"markers_807_1_cnt\",\n",
    "    \"movix_app_visits_62_1_cnt\",\n",
    "    \"social_dem_2_0_flg\",\n",
    "    \"markers_858_1_cnt\",\n",
    "    \"campaigns_40_3_part\",\n",
    "    \"campaigns_364_1d6_part\",\n",
    "    \"movix_app_visits_24_1_cnt\",\n",
    "    \"campaigns_403_3d6_part\",\n",
    "    \"user_active_27_0_dt\",\n",
    "    \"spas_symptoms_agr_286_12_sum\",\n",
    "    \"user_active_10_1_flg\",\n",
    "    \"campaigns_324_1_part\",\n",
    "    \"user_active_24_0_dt\",\n",
    "    \"materials_details_19_1_dt\",\n",
    "]\n",
    "\n",
    "nick = [\n",
    "    \"tariff_plans_4_1_num\",\n",
    "    \"charges_details_12_1_sum\",\n",
    "    \"payments_details_35_6_sum\",\n",
    "    \"spas_symptoms_agr_7_6_sum\",\n",
    "    \"markers_706_1_cnt\",\n",
    "    \"payments_details_28_3_sumpct\",\n",
    "    \"payments_details_27_1_sumpct\",\n",
    "    \"payments_details_29_6_sumpct\",\n",
    "    \"balance_details_0_1_num\",\n",
    "    \"payments_details_49_6_avg\",\n",
    "    \"payments_details_48_3_sum\",\n",
    "    \"markers_346_1_cnt\",\n",
    "    \"spas_symptoms_agr_18_6_std\",\n",
    "    \"arpu_2_6_avg\",\n",
    "    \"markers_349_1_cnt\",\n",
    "    \"markers_323_1_cnt\",\n",
    "    \"markers_476_1_cnt\",\n",
    "    \"payments_details_23_3d6_avg\",\n",
    "    \"markers_40_1_cnt\",\n",
    "    \"markers_310_1_cnt\",\n",
    "    \"markers_60_1_cnt\",\n",
    "    \"markers_330_1_cnt\",\n",
    "    \"markers_333_1_cnt\",\n",
    "    \"payments_details_33_1_sum\",\n",
    "    \"markers_334_1_cnt\",\n",
    "    \"markers_772_1_cnt\",\n",
    "    \"markers_59_1_cnt\",\n",
    "    \"markers_242_1_cnt\",\n",
    "    \"markers_387_1_cnt\",\n",
    "    \"tariff_plans_5_1_num\",\n",
    "]\n",
    "\n",
    "gleb = [\n",
    "    \"user_lifetime_2_1_num\",\n",
    "    \"info_house_5_0_num\",\n",
    "    \"area_0_0_num\",\n",
    "    \"traffic_details_45_3_avg\",\n",
    "    \"traffic_details_15_1d3_avg\",\n",
    "    \"traffic_details_9_3d6_part\",\n",
    "    \"info_house_6_0_num\",\n",
    "    \"traffic_details_24_3d6_avg\",\n",
    "    \"traffic_details_42_1_avg\",\n",
    "    \"traffic_details_63_3_avg\",\n",
    "    \"traffic_details_60_1_avg\",\n",
    "    \"traffic_details_27_6_avg\",\n",
    "    \"traffic_details_5_1d3_part\",\n",
    "    \"communication_availability_40_1_ctg\",\n",
    "    \"traffic_details_21_3_avg\",\n",
    "    \"traffic_details_12_1_avg\",\n",
    "    \"spas_symptoms_agr_116_12_avg\",\n",
    "    \"tariff_plans_20_1_ctg\",\n",
    "    \"spas_symptoms_int_3_1_cnt\",\n",
    "    \"traffic_details_0_1_cnt\",\n",
    "    \"spas_symptoms_int_17_1_cnt\",\n",
    "    \"spas_symptoms_ott_7_1_cnt\",\n",
    "    \"spas_symptoms_agr_70_12_sum\",\n",
    "    \"user_devices_11_1_cnt\",\n",
    "    \"spas_symptoms_agr_214_12_sum\",\n",
    "    \"communication_availability_42_1_ctg\",\n",
    "    \"spas_symptoms_int_93_1_cnt\",\n",
    "    \"communication_availability_35_1_ctg\",\n",
    "    \"communication_availability_17_1_flg\",\n",
    "    \"spas_symptoms_tv_4_1_cnt\",\n",
    "    \"traffic_details_3_1_cnt\",\n",
    "    \"user_active_3_1_flg\",\n",
    "    \"communication_availability_7_1_ctg\",\n",
    "    \"spas_symptoms_agr_92_12_avg\",\n",
    "    \"communication_availability_30_1_flg\",\n",
    "    \"materials_details_9_1_flg\",\n",
    "    \"issues_7_3_sum\",\n",
    "    \"communication_availability_4_1_flg\",\n",
    "    \"spas_symptoms_int_20_1_cnt\",\n",
    "    \"communication_availability_31_1_flg\",\n",
    "    \"issues_13_3_sum\",\n",
    "    \"scheme_types_0_1_flg\",\n",
    "    \"communication_availability_18_1_flg\",\n",
    "    \"user_active_2_0_ctg\",\n",
    "    \"spas_symptoms_int_0_1_cnt\",\n",
    "    \"user_active_0_1_flg\",\n",
    "    \"spas_symptoms_int_72_1_cnt\",\n",
    "    \"info_house_9_0_flg\",\n",
    "    \"issues_6_1_sum\",\n",
    "    \"spas_symptoms_int_105_1_cnt\",\n",
    "]"
   ]
  },
  {
   "attachments": {},
   "cell_type": "markdown",
   "id": "6057b62a",
   "metadata": {},
   "source": [
    "Объединим 3 списка наших признаков и откроем тренировочный датасет"
   ]
  },
  {
   "cell_type": "code",
   "execution_count": 4,
   "id": "3c56065d",
   "metadata": {},
   "outputs": [],
   "source": [
    "feature_s = a + nick + gleb + [\"target\"]"
   ]
  },
  {
   "cell_type": "code",
   "execution_count": 5,
   "id": "7a3ad21f",
   "metadata": {},
   "outputs": [],
   "source": [
    "feature_s = dubl_list(feature_s)\n"
   ]
  },
  {
   "cell_type": "code",
   "execution_count": 6,
   "id": "a26254f0",
   "metadata": {},
   "outputs": [],
   "source": [
    "dataset = pd.read_parquet(\n",
    "    \"dataset_train.parquet\", engine=\"pyarrow\", columns=feature_s\n",
    ")"
   ]
  },
  {
   "attachments": {},
   "cell_type": "markdown",
   "id": "54633fed",
   "metadata": {},
   "source": [
    "Удалим дубликаты"
   ]
  },
  {
   "cell_type": "code",
   "execution_count": 7,
   "id": "95059f3c",
   "metadata": {},
   "outputs": [],
   "source": [
    "dataset.drop_duplicates(inplace=True)\n"
   ]
  },
  {
   "cell_type": "code",
   "execution_count": 8,
   "id": "e37195ae",
   "metadata": {},
   "outputs": [
    {
     "name": "stdout",
     "output_type": "stream",
     "text": [
      "<class 'pandas.core.frame.DataFrame'>\n",
      "Int64Index: 702086 entries, 0 to 702085\n",
      "Columns: 131 entries, channel_name to target\n",
      "dtypes: float64(100), int32(20), int64(7), int8(3), object(1)\n",
      "memory usage: 639.4+ MB\n"
     ]
    }
   ],
   "source": [
    "dataset.info()\n"
   ]
  },
  {
   "cell_type": "markdown",
   "id": "4ea8781b",
   "metadata": {},
   "source": [
    "Выделим категориальные признаки:"
   ]
  },
  {
   "cell_type": "code",
   "execution_count": 9,
   "id": "5f870ff6",
   "metadata": {},
   "outputs": [
    {
     "data": {
      "text/plain": [
       "['channel_name',\n",
       " 'materials_details_16_1_ctg',\n",
       " 'cities_2_0_ctg',\n",
       " 'user_active_9_1_flg',\n",
       " 'type_av_100_0_1_ctg',\n",
       " 'info_house_10_0_ctg',\n",
       " 'communication_availability_51_1_flg',\n",
       " 'materials_details_15_1_ctg',\n",
       " 'migrant_0_1_flg',\n",
       " 'agreement_type_0_0_ctg',\n",
       " 'communication_availability_53_1_flg',\n",
       " 'cities_1_0_ctg',\n",
       " 'materials_details_22_1_flg',\n",
       " 'user_active_29_1_flg',\n",
       " 'social_dem_2_0_flg',\n",
       " 'user_active_10_1_flg',\n",
       " 'communication_availability_40_1_ctg',\n",
       " 'tariff_plans_20_1_ctg',\n",
       " 'communication_availability_42_1_ctg',\n",
       " 'communication_availability_35_1_ctg',\n",
       " 'communication_availability_17_1_flg',\n",
       " 'user_active_3_1_flg',\n",
       " 'communication_availability_7_1_ctg',\n",
       " 'communication_availability_30_1_flg',\n",
       " 'materials_details_9_1_flg',\n",
       " 'communication_availability_4_1_flg',\n",
       " 'communication_availability_31_1_flg',\n",
       " 'scheme_types_0_1_flg',\n",
       " 'communication_availability_18_1_flg',\n",
       " 'user_active_2_0_ctg',\n",
       " 'user_active_0_1_flg',\n",
       " 'info_house_9_0_flg']"
      ]
     },
     "execution_count": 9,
     "metadata": {},
     "output_type": "execute_result"
    }
   ],
   "source": [
    "cat_list = cat_columns(dataset, cat)\n",
    "cat_list\n"
   ]
  },
  {
   "cell_type": "code",
   "execution_count": 10,
   "id": "65caa359",
   "metadata": {},
   "outputs": [],
   "source": [
    "dataset[cat_list] = dataset[cat_list].astype(\"category\")"
   ]
  },
  {
   "cell_type": "markdown",
   "id": "c3d604a5",
   "metadata": {},
   "source": [
    "## Подбор гиперпараметров для LightGBM"
   ]
  },
  {
   "cell_type": "markdown",
   "id": "505f90c7",
   "metadata": {},
   "source": [
    "Выделим целевой признак и фичи. выделим тестовый датасет размером 20% от исходной выборки."
   ]
  },
  {
   "cell_type": "code",
   "execution_count": 11,
   "id": "e09f12fa",
   "metadata": {},
   "outputs": [],
   "source": [
    "features = dataset.drop([\"target\"], axis=1)\n",
    "target = dataset[\"target\"]"
   ]
  },
  {
   "cell_type": "code",
   "execution_count": 12,
   "id": "ebd17b8d",
   "metadata": {},
   "outputs": [],
   "source": [
    "features_train, features_test, target_train, target_test = train_test_split(\n",
    "    features, target, test_size=0.2, random_state=RANDOM_STATE\n",
    ")"
   ]
  },
  {
   "attachments": {},
   "cell_type": "markdown",
   "id": "edeb5aed",
   "metadata": {},
   "source": [
    "Проведем даунсемплинг"
   ]
  },
  {
   "cell_type": "code",
   "execution_count": 13,
   "id": "0ef9c1a0",
   "metadata": {},
   "outputs": [],
   "source": [
    "features_downsampled, target_downsampled = downsample(\n",
    "    features_train, target_train, 0.01\n",
    ")"
   ]
  },
  {
   "cell_type": "code",
   "execution_count": 14,
   "id": "145bf1e2",
   "metadata": {},
   "outputs": [
    {
     "data": {
      "text/plain": [
       "LGBMClassifier(categorical_feature='name:cat_list', class_weight='balanced',\n",
       "               random_state=42)"
      ]
     },
     "execution_count": 14,
     "metadata": {},
     "output_type": "execute_result"
    }
   ],
   "source": [
    "model_lgbm = LGBMClassifier(\n",
    "    random_state=42,\n",
    "    categorical_feature=\"name:cat_list\",\n",
    "    class_weight=\"balanced\",\n",
    ")\n",
    "model_lgbm.fit(features_downsampled, target_downsampled)"
   ]
  },
  {
   "cell_type": "code",
   "execution_count": 15,
   "id": "921ebab9",
   "metadata": {},
   "outputs": [
    {
     "name": "stdout",
     "output_type": "stream",
     "text": [
      "Best parameters: {'learning_rate': 0.01, 'max_depth': 5, 'num_iterations': 1000, 'num_leaves': 7}\n",
      "Best parameters: 0.7586201670286432\n",
      "Wall time: 7min 58s\n"
     ]
    }
   ],
   "source": [
    "%%time\n",
    "\n",
    "parameters = parameters = {\n",
    "     'num_iterations': [500, 700, 1000],\n",
    "     'learning_rate':[0.01, 0.05, 0.1],\n",
    "    'num_leaves':[7, 15, 31],\n",
    "    'max_depth' :[5,10,15,25]\n",
    "}\n",
    "\n",
    "grid_search = GridSearchCV(estimator=model_lgbm, param_grid=parameters, \n",
    "                           cv=5, scoring='roc_auc', n_jobs=-1)\n",
    "\n",
    "grid_search.fit(features_downsampled, target_downsampled)\n",
    "\n",
    "print('Best parameters:', grid_search.best_params_)\n",
    "print('Best parameters:', grid_search.best_score_)"
   ]
  },
  {
   "attachments": {},
   "cell_type": "markdown",
   "id": "de2f76b0",
   "metadata": {},
   "source": [
    "Проверка на тестовых данных"
   ]
  },
  {
   "cell_type": "code",
   "execution_count": 16,
   "id": "3fb4e8a6",
   "metadata": {},
   "outputs": [
    {
     "data": {
      "text/plain": [
       "0.6893669376506595"
      ]
     },
     "execution_count": 16,
     "metadata": {},
     "output_type": "execute_result"
    }
   ],
   "source": [
    "model_lgbm = LGBMClassifier(\n",
    "    random_state=42,\n",
    "    categorical_feature=\"name:cat_list\",\n",
    "    class_weight=\"balanced\",\n",
    "    learning_rate=0.01,\n",
    "    max_depth=5,\n",
    "    num_iterations=1000,\n",
    "    num_leaves=7,\n",
    ")\n",
    "model_lgbm.fit(features_downsampled, target_downsampled)\n",
    "predictions = model_lgbm.predict(features_test)\n",
    "roc_auc = roc_auc_score(target_test, predictions)\n",
    "print(\"ROC AUC на тестовых данных:\", roc_auc)"
   ]
  },
  {
   "cell_type": "markdown",
   "id": "d9afa391",
   "metadata": {},
   "source": [
    "ROC AUC на тестовых данных: **0.6893**"
   ]
  },
  {
   "cell_type": "markdown",
   "id": "76549baa",
   "metadata": {},
   "source": [
    "## Работа с тестовым датасетом"
   ]
  },
  {
   "cell_type": "code",
   "execution_count": 17,
   "id": "c2425b41",
   "metadata": {},
   "outputs": [],
   "source": [
    "feature_test = feature_s.remove(\"target\")"
   ]
  },
  {
   "cell_type": "code",
   "execution_count": 18,
   "id": "80685851",
   "metadata": {},
   "outputs": [],
   "source": [
    "data_test = pd.read_parquet(\n",
    "    \"features_oot.parquet\", engine=\"pyarrow\", columns=feature_s\n",
    ")"
   ]
  },
  {
   "cell_type": "code",
   "execution_count": 19,
   "id": "1fce0ca0",
   "metadata": {},
   "outputs": [],
   "source": [
    "cat_features = cat_columns(data_test, cat)\n",
    "data_test[cat_list] = data_test[cat_list].astype(\"category\")"
   ]
  },
  {
   "cell_type": "code",
   "execution_count": 20,
   "id": "73a02f6e",
   "metadata": {},
   "outputs": [],
   "source": [
    "features = data_test\n"
   ]
  },
  {
   "cell_type": "code",
   "execution_count": 21,
   "id": "5087333c",
   "metadata": {},
   "outputs": [
    {
     "data": {
      "text/html": [
       "<div>\n",
       "<style scoped>\n",
       "    .dataframe tbody tr th:only-of-type {\n",
       "        vertical-align: middle;\n",
       "    }\n",
       "\n",
       "    .dataframe tbody tr th {\n",
       "        vertical-align: top;\n",
       "    }\n",
       "\n",
       "    .dataframe thead th {\n",
       "        text-align: right;\n",
       "    }\n",
       "</style>\n",
       "<table border=\"1\" class=\"dataframe\">\n",
       "  <thead>\n",
       "    <tr style=\"text-align: right;\">\n",
       "      <th></th>\n",
       "      <th>channel_name</th>\n",
       "      <th>materials_details_16_1_ctg</th>\n",
       "      <th>basic_info_2_0_min</th>\n",
       "      <th>basic_info_0_0_avg</th>\n",
       "      <th>user_devices_30_1_cnt</th>\n",
       "      <th>basic_info_1_0_max</th>\n",
       "      <th>cities_2_0_ctg</th>\n",
       "      <th>user_active_9_1_flg</th>\n",
       "      <th>user_devices_24_1_cnt</th>\n",
       "      <th>type_av_100_0_1_ctg</th>\n",
       "      <th>...</th>\n",
       "      <th>issues_13_3_sum</th>\n",
       "      <th>scheme_types_0_1_flg</th>\n",
       "      <th>communication_availability_18_1_flg</th>\n",
       "      <th>user_active_2_0_ctg</th>\n",
       "      <th>spas_symptoms_int_0_1_cnt</th>\n",
       "      <th>user_active_0_1_flg</th>\n",
       "      <th>spas_symptoms_int_72_1_cnt</th>\n",
       "      <th>info_house_9_0_flg</th>\n",
       "      <th>issues_6_1_sum</th>\n",
       "      <th>spas_symptoms_int_105_1_cnt</th>\n",
       "    </tr>\n",
       "  </thead>\n",
       "  <tbody>\n",
       "    <tr>\n",
       "      <th>0</th>\n",
       "      <td>3</td>\n",
       "      <td>NaN</td>\n",
       "      <td>-0.364331</td>\n",
       "      <td>-0.364331</td>\n",
       "      <td>-0.431207</td>\n",
       "      <td>-0.364331</td>\n",
       "      <td>52</td>\n",
       "      <td>0</td>\n",
       "      <td>-0.365287</td>\n",
       "      <td>2</td>\n",
       "      <td>...</td>\n",
       "      <td>NaN</td>\n",
       "      <td>0</td>\n",
       "      <td>1</td>\n",
       "      <td>1</td>\n",
       "      <td>0.349689</td>\n",
       "      <td>0</td>\n",
       "      <td>-0.092503</td>\n",
       "      <td>1</td>\n",
       "      <td>NaN</td>\n",
       "      <td>-0.162509</td>\n",
       "    </tr>\n",
       "    <tr>\n",
       "      <th>1</th>\n",
       "      <td>3</td>\n",
       "      <td>NaN</td>\n",
       "      <td>-0.813950</td>\n",
       "      <td>-0.813950</td>\n",
       "      <td>-0.431207</td>\n",
       "      <td>-0.813950</td>\n",
       "      <td>52</td>\n",
       "      <td>0</td>\n",
       "      <td>-0.365287</td>\n",
       "      <td>2</td>\n",
       "      <td>...</td>\n",
       "      <td>NaN</td>\n",
       "      <td>0</td>\n",
       "      <td>1</td>\n",
       "      <td>1</td>\n",
       "      <td>-1.435237</td>\n",
       "      <td>0</td>\n",
       "      <td>-0.092503</td>\n",
       "      <td>0</td>\n",
       "      <td>NaN</td>\n",
       "      <td>-0.162509</td>\n",
       "    </tr>\n",
       "    <tr>\n",
       "      <th>2</th>\n",
       "      <td>3</td>\n",
       "      <td>NaN</td>\n",
       "      <td>-0.591468</td>\n",
       "      <td>-0.591468</td>\n",
       "      <td>-0.431207</td>\n",
       "      <td>-0.591468</td>\n",
       "      <td>52</td>\n",
       "      <td>1</td>\n",
       "      <td>-0.365287</td>\n",
       "      <td>2</td>\n",
       "      <td>...</td>\n",
       "      <td>-0.219283</td>\n",
       "      <td>0</td>\n",
       "      <td>1</td>\n",
       "      <td>2</td>\n",
       "      <td>0.349689</td>\n",
       "      <td>0</td>\n",
       "      <td>-0.092503</td>\n",
       "      <td>1</td>\n",
       "      <td>-0.32564</td>\n",
       "      <td>-0.162509</td>\n",
       "    </tr>\n",
       "    <tr>\n",
       "      <th>3</th>\n",
       "      <td>3</td>\n",
       "      <td>NaN</td>\n",
       "      <td>-1.048375</td>\n",
       "      <td>-1.048375</td>\n",
       "      <td>-0.431207</td>\n",
       "      <td>-1.048375</td>\n",
       "      <td>52</td>\n",
       "      <td>1</td>\n",
       "      <td>-0.365287</td>\n",
       "      <td>2</td>\n",
       "      <td>...</td>\n",
       "      <td>NaN</td>\n",
       "      <td>0</td>\n",
       "      <td>1</td>\n",
       "      <td>2</td>\n",
       "      <td>0.349689</td>\n",
       "      <td>0</td>\n",
       "      <td>-0.092503</td>\n",
       "      <td>1</td>\n",
       "      <td>NaN</td>\n",
       "      <td>-0.162509</td>\n",
       "    </tr>\n",
       "    <tr>\n",
       "      <th>4</th>\n",
       "      <td>3</td>\n",
       "      <td>NaN</td>\n",
       "      <td>-1.059711</td>\n",
       "      <td>-1.059711</td>\n",
       "      <td>-0.431207</td>\n",
       "      <td>-1.059711</td>\n",
       "      <td>52</td>\n",
       "      <td>1</td>\n",
       "      <td>-0.365287</td>\n",
       "      <td>2</td>\n",
       "      <td>...</td>\n",
       "      <td>-0.219283</td>\n",
       "      <td>0</td>\n",
       "      <td>1</td>\n",
       "      <td>2</td>\n",
       "      <td>0.349689</td>\n",
       "      <td>0</td>\n",
       "      <td>-0.092503</td>\n",
       "      <td>0</td>\n",
       "      <td>-0.32564</td>\n",
       "      <td>-0.162509</td>\n",
       "    </tr>\n",
       "  </tbody>\n",
       "</table>\n",
       "<p>5 rows × 130 columns</p>\n",
       "</div>"
      ],
      "text/plain": [
       "  channel_name materials_details_16_1_ctg  basic_info_2_0_min  \\\n",
       "0            3                        NaN           -0.364331   \n",
       "1            3                        NaN           -0.813950   \n",
       "2            3                        NaN           -0.591468   \n",
       "3            3                        NaN           -1.048375   \n",
       "4            3                        NaN           -1.059711   \n",
       "\n",
       "   basic_info_0_0_avg  user_devices_30_1_cnt  basic_info_1_0_max  \\\n",
       "0           -0.364331              -0.431207           -0.364331   \n",
       "1           -0.813950              -0.431207           -0.813950   \n",
       "2           -0.591468              -0.431207           -0.591468   \n",
       "3           -1.048375              -0.431207           -1.048375   \n",
       "4           -1.059711              -0.431207           -1.059711   \n",
       "\n",
       "  cities_2_0_ctg user_active_9_1_flg  user_devices_24_1_cnt  \\\n",
       "0             52                   0              -0.365287   \n",
       "1             52                   0              -0.365287   \n",
       "2             52                   1              -0.365287   \n",
       "3             52                   1              -0.365287   \n",
       "4             52                   1              -0.365287   \n",
       "\n",
       "  type_av_100_0_1_ctg  ... issues_13_3_sum scheme_types_0_1_flg  \\\n",
       "0                   2  ...             NaN                    0   \n",
       "1                   2  ...             NaN                    0   \n",
       "2                   2  ...       -0.219283                    0   \n",
       "3                   2  ...             NaN                    0   \n",
       "4                   2  ...       -0.219283                    0   \n",
       "\n",
       "  communication_availability_18_1_flg  user_active_2_0_ctg  \\\n",
       "0                                   1                    1   \n",
       "1                                   1                    1   \n",
       "2                                   1                    2   \n",
       "3                                   1                    2   \n",
       "4                                   1                    2   \n",
       "\n",
       "   spas_symptoms_int_0_1_cnt  user_active_0_1_flg  spas_symptoms_int_72_1_cnt  \\\n",
       "0                   0.349689                    0                   -0.092503   \n",
       "1                  -1.435237                    0                   -0.092503   \n",
       "2                   0.349689                    0                   -0.092503   \n",
       "3                   0.349689                    0                   -0.092503   \n",
       "4                   0.349689                    0                   -0.092503   \n",
       "\n",
       "   info_house_9_0_flg  issues_6_1_sum spas_symptoms_int_105_1_cnt  \n",
       "0                   1             NaN                   -0.162509  \n",
       "1                   0             NaN                   -0.162509  \n",
       "2                   1        -0.32564                   -0.162509  \n",
       "3                   1             NaN                   -0.162509  \n",
       "4                   0        -0.32564                   -0.162509  \n",
       "\n",
       "[5 rows x 130 columns]"
      ]
     },
     "execution_count": 21,
     "metadata": {},
     "output_type": "execute_result"
    }
   ],
   "source": [
    "features.head()\n"
   ]
  },
  {
   "cell_type": "code",
   "execution_count": 22,
   "id": "ed9ba4de",
   "metadata": {},
   "outputs": [
    {
     "name": "stdout",
     "output_type": "stream",
     "text": [
      "<class 'pandas.core.frame.DataFrame'>\n",
      "RangeIndex: 60661 entries, 0 to 60660\n",
      "Columns: 130 entries, channel_name to spas_symptoms_int_105_1_cnt\n",
      "dtypes: category(32), float64(98)\n",
      "memory usage: 50.0 MB\n"
     ]
    }
   ],
   "source": [
    "features.info()\n"
   ]
  },
  {
   "cell_type": "code",
   "execution_count": 23,
   "id": "8a9472f9",
   "metadata": {},
   "outputs": [],
   "source": [
    "target_test = model_lgbm.predict_proba(features)\n"
   ]
  },
  {
   "cell_type": "code",
   "execution_count": 24,
   "id": "efd5bd94",
   "metadata": {},
   "outputs": [],
   "source": [
    "target_test = target_test[:, 1]\n",
    "target_test = pd.DataFrame(target_test)"
   ]
  },
  {
   "cell_type": "code",
   "execution_count": 25,
   "id": "fbf8cb05",
   "metadata": {},
   "outputs": [],
   "source": [
    "target_test.reset_index(inplace=True)"
   ]
  },
  {
   "cell_type": "code",
   "execution_count": 26,
   "id": "1aa81422",
   "metadata": {},
   "outputs": [],
   "source": [
    "target_test.columns = [\"id\", \"target\"]"
   ]
  },
  {
   "cell_type": "code",
   "execution_count": 27,
   "id": "6db5b45a",
   "metadata": {},
   "outputs": [
    {
     "data": {
      "text/html": [
       "<div>\n",
       "<style scoped>\n",
       "    .dataframe tbody tr th:only-of-type {\n",
       "        vertical-align: middle;\n",
       "    }\n",
       "\n",
       "    .dataframe tbody tr th {\n",
       "        vertical-align: top;\n",
       "    }\n",
       "\n",
       "    .dataframe thead th {\n",
       "        text-align: right;\n",
       "    }\n",
       "</style>\n",
       "<table border=\"1\" class=\"dataframe\">\n",
       "  <thead>\n",
       "    <tr style=\"text-align: right;\">\n",
       "      <th></th>\n",
       "      <th>id</th>\n",
       "      <th>target</th>\n",
       "    </tr>\n",
       "  </thead>\n",
       "  <tbody>\n",
       "    <tr>\n",
       "      <th>0</th>\n",
       "      <td>0</td>\n",
       "      <td>0.659200</td>\n",
       "    </tr>\n",
       "    <tr>\n",
       "      <th>1</th>\n",
       "      <td>1</td>\n",
       "      <td>0.632967</td>\n",
       "    </tr>\n",
       "    <tr>\n",
       "      <th>2</th>\n",
       "      <td>2</td>\n",
       "      <td>0.741170</td>\n",
       "    </tr>\n",
       "    <tr>\n",
       "      <th>3</th>\n",
       "      <td>3</td>\n",
       "      <td>0.619325</td>\n",
       "    </tr>\n",
       "    <tr>\n",
       "      <th>4</th>\n",
       "      <td>4</td>\n",
       "      <td>0.732824</td>\n",
       "    </tr>\n",
       "    <tr>\n",
       "      <th>...</th>\n",
       "      <td>...</td>\n",
       "      <td>...</td>\n",
       "    </tr>\n",
       "    <tr>\n",
       "      <th>60656</th>\n",
       "      <td>60656</td>\n",
       "      <td>0.651724</td>\n",
       "    </tr>\n",
       "    <tr>\n",
       "      <th>60657</th>\n",
       "      <td>60657</td>\n",
       "      <td>0.568692</td>\n",
       "    </tr>\n",
       "    <tr>\n",
       "      <th>60658</th>\n",
       "      <td>60658</td>\n",
       "      <td>0.732197</td>\n",
       "    </tr>\n",
       "    <tr>\n",
       "      <th>60659</th>\n",
       "      <td>60659</td>\n",
       "      <td>0.748419</td>\n",
       "    </tr>\n",
       "    <tr>\n",
       "      <th>60660</th>\n",
       "      <td>60660</td>\n",
       "      <td>0.183614</td>\n",
       "    </tr>\n",
       "  </tbody>\n",
       "</table>\n",
       "<p>60661 rows × 2 columns</p>\n",
       "</div>"
      ],
      "text/plain": [
       "          id    target\n",
       "0          0  0.659200\n",
       "1          1  0.632967\n",
       "2          2  0.741170\n",
       "3          3  0.619325\n",
       "4          4  0.732824\n",
       "...      ...       ...\n",
       "60656  60656  0.651724\n",
       "60657  60657  0.568692\n",
       "60658  60658  0.732197\n",
       "60659  60659  0.748419\n",
       "60660  60660  0.183614\n",
       "\n",
       "[60661 rows x 2 columns]"
      ]
     },
     "execution_count": 27,
     "metadata": {},
     "output_type": "execute_result"
    }
   ],
   "source": [
    "target_test\n"
   ]
  },
  {
   "cell_type": "code",
   "execution_count": 28,
   "id": "db8f5372",
   "metadata": {},
   "outputs": [],
   "source": [
    "target_test.to_csv(\"target_test.csv\", index=False)"
   ]
  },
  {
   "cell_type": "code",
   "execution_count": null,
   "id": "76796e1f",
   "metadata": {},
   "outputs": [],
   "source": []
  }
 ],
 "metadata": {
  "kernelspec": {
   "display_name": "Python 3 (ipykernel)",
   "language": "python",
   "name": "python3"
  },
  "language_info": {
   "codemirror_mode": {
    "name": "ipython",
    "version": 3
   },
   "file_extension": ".py",
   "mimetype": "text/x-python",
   "name": "python",
   "nbconvert_exporter": "python",
   "pygments_lexer": "ipython3",
   "version": "3.9.13"
  },
  "toc": {
   "base_numbering": 1,
   "nav_menu": {},
   "number_sections": true,
   "sideBar": true,
   "skip_h1_title": false,
   "title_cell": "Table of Contents",
   "title_sidebar": "Contents",
   "toc_cell": false,
   "toc_position": {},
   "toc_section_display": true,
   "toc_window_display": false
  }
 },
 "nbformat": 4,
 "nbformat_minor": 5
}
